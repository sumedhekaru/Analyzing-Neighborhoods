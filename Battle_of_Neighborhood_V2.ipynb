{
  "nbformat": 4,
  "nbformat_minor": 0,
  "metadata": {
    "kernelspec": {
      "display_name": "Python 3.6",
      "name": "python3",
      "language": "python"
    },
    "language_info": {
      "mimetype": "text/x-python",
      "nbconvert_exporter": "python",
      "version": "3.6.8",
      "name": "python",
      "pygments_lexer": "ipython3",
      "file_extension": ".py",
      "codemirror_mode": {
        "version": 3,
        "name": "ipython"
      }
    },
    "colab": {
      "name": "Battle-of-Neighborhood_V2.ipynb",
      "version": "0.3.2",
      "provenance": [],
      "collapsed_sections": [],
      "include_colab_link": true
    }
  },
  "cells": [
    {
      "cell_type": "markdown",
      "metadata": {
        "id": "view-in-github",
        "colab_type": "text"
      },
      "source": [
        "<a href=\"https://colab.research.google.com/github/sumedhekaru/Coursera_Capstone/blob/master/Battle_of_Neighborhood_V2.ipynb\" target=\"_parent\"><img src=\"https://colab.research.google.com/assets/colab-badge.svg\" alt=\"Open In Colab\"/></a>"
      ]
    },
    {
      "cell_type": "markdown",
      "metadata": {
        "collapsed": true,
        "id": "ufDAeXb3t4AG",
        "colab_type": "text"
      },
      "source": [
        "# Battle of Neighborhood\n",
        "Finding the best neigborhood to live in a far away city using data science. "
      ]
    },
    {
      "cell_type": "markdown",
      "metadata": {
        "id": "kLBGrxvZt4AI",
        "colab_type": "text"
      },
      "source": [
        "## Contents\n",
        "### 1. Introduction - Five Ws\n",
        "&emsp; 1.1 What is the problem? <br>\n",
        "&emsp; 1.2 Where is this? <br>\n",
        "&emsp; 1.3 When is this applicable? <br>\n",
        "&emsp; 1.4 Why do we do this? <br>\n",
        "&emsp; 1.5 Who cares? <br>\n",
        "\n",
        "### 2. Data\n",
        "&emsp; 2.1 Load the required libraries. <br>\n",
        "&emsp; 2.2 Get the neighborhood names <br>\n",
        "&emsp; 2.3 Obtain the latitude, longitude, address, and miles to work for each neighborhood <br>\n",
        "&emsp; 2.4 Obtain venues around each neighborhood <br>\n",
        "&emsp; 2.5 Analyze Each Neighborhood to find how many unique catogories are belongs to each neighborhood <br>\n",
        "\n",
        "### 3. Methodology - K-means Clustering\n",
        "&emsp; 3.1 Choosing the best cluster number using elbow method <br>\n",
        "&emsp; 3.2 Reanalize data with best K <br>\n",
        "&emsp; 3.3 Creating an interactive map to show the neigborhoods and their cluster numbers <br>\n",
        "\n",
        "### 4. Results\n",
        "&emsp; 4.1 Average cluster results <br>\n",
        "&emsp; 4.2 Graphical representation of best Neighborhoods <br>\n",
        "\n",
        "### 5. Discussion\n",
        "\n",
        "### 6. Conclusion\n",
        "\n",
        "### 7. Acknowladgement\n",
        "\n",
        "### 8. References"
      ]
    },
    {
      "cell_type": "markdown",
      "metadata": {
        "id": "ThF9ItR-t4AJ",
        "colab_type": "text"
      },
      "source": [
        "## 1. Introduction - Five Ws\n",
        "### &emsp; 1.1 What is the problem?\n",
        "I work in downtown Memphis, TN. In general, I live 30 mins away from work, when there is no traffic. However, since I am commuting when most of the people are commuting to there work, there is almost always traffic on the roads. So it is easily 45-60 mins one-way trip. Being optimistic, considering one-way is 45 mins, it is 90 mins for a round trip. For a week with 5 workdays,  it is 7.5 hours, for a month it is 30 hours, for a year it is 16 days. So for a given year, I am wasting full 16 days counting days and nights riding my car wasting my time.\n",
        "\n",
        "I am planning to move St. Louis, Missouri for a new job offer. While I have a friend already living there, I would like to do my analysis and find out where I can move. But driving time is something I strongly want to reduce. \n",
        "\n",
        "**So the problem is, where I should move to save some time from driving but still have good amenities such as restaurants, cafes, parks, shopping, etc within reachable distance.** \n",
        "\n",
        "Also, one of the jobs I was being interviewed is in St. Louis, Illinois. I want to do a similar analyze there to find out if I can find a good neigbhorhood to live.\n",
        "\n",
        "### &emsp; 1.2 Where is this?\n",
        "It is St. Louis, Missouri, where birds sing and elephants bath, just kidding. But it sure looks like a fantastic place to live. There are tons of things to do around there. The population was roughly 300 k and rising. The job market seams great too.\n",
        "\n",
        "### &emsp; 1.3 When is this applicable?\n",
        "I know this is a changing world! The time will change everything. The time of this analysis is August 2019. So don't blame me if you decided to move based on this data analysis in 2050. But the good thing is, I developed the program to pull the latest data. So if you re-run the program in 2050, you should be (may be...) fine? \n",
        "\n",
        "### &emsp; 1.4 Why do we do this?\n",
        "It is to primarily to save time when I move. I am currently spending so much time on the road, 16 full days per year! just to commute.  People say time is money. So it is to save me some money. I am sure if you are in the same boat, following this, you might able to save some money with this. Who doesn't like saving money for next cruise trip? Wait, is someone paying me when I save my own time? Ney.. I will use this saved time to play with my daughters. Not everything is money. I think I have bipolar disorder.\n",
        "\n",
        "### &emsp; 1.5 Who cares?\n",
        "Do you even here me? It is to save money (really the time) while finding the best neighborhood to live. If you are someone who cares about saving money (time), you should read. If you have plenty of those lying around that you don't know what to do, this is not for you. You should spend some money buying a boat and traveling the world instead of reading this. \n"
      ]
    },
    {
      "cell_type": "markdown",
      "metadata": {
        "id": "0pEUjnqAt4AK",
        "colab_type": "text"
      },
      "source": [
        "## 2. Data\n",
        "We need data to do our analysis. This section will gather all the required data and do the clean-up job so that the data are usable. I am hoping to gather neighborhood names from Wikipedia (use web scraping with BeautifulSoup package) and use FourSquare to obtain point of interest around the selected neighborhoods.\n",
        "\n",
        "1.  St. Louis Neighborhoods - The names of the St. Louis neighborhoods will be obtained from the Wikipedia page\n",
        "https://en.wikipedia.org/wiki/List_of_neighborhoods_of_St._Louis. This page has neighborhoods of the St. Louis along with some demographic data. This will be great for met to get started. All I really need is the names of the neighborhoos so that I can find the address, latitude, longitude, nearby point of interest details using FourSquare module.\n",
        "\n",
        "2. As mentioned before, I am going to use FourSquare to obtain point of interest data.\n"
      ]
    },
    {
      "cell_type": "markdown",
      "metadata": {
        "id": "oExbCB-5t4AK",
        "colab_type": "text"
      },
      "source": [
        "### 2.1 Load the required libraries.\n",
        "I will start by importing some libraries. These libraries are not necessary to use in this section. But to keep it clean, I always like to have all my libraries are loaded at the top of the program. That way I know which modules I have used in this project."
      ]
    },
    {
      "cell_type": "code",
      "metadata": {
        "id": "PAlH-H_6t4AL",
        "colab_type": "code",
        "outputId": "8c1f5366-6210-43be-d822-e45f55a2b0f8",
        "colab": {
          "base_uri": "https://localhost:8080/",
          "height": 35
        }
      },
      "source": [
        "# Install beautiul soup 4 (If not already installed!)\n",
        "# This package will be used for web scraping.\n",
        "try:\n",
        "    from bs4 import BeautifulSoup as bs\n",
        "    print('Beautiful Soup is ready for your service!')\n",
        "except:\n",
        "    !conda install -c anaconda beautifulsoup4 -y\n",
        "    from bs4 import BeautifulSoup as bs\n",
        "    print('Beautiful Soup is installed and ready for your service!')"
      ],
      "execution_count": 0,
      "outputs": [
        {
          "output_type": "stream",
          "text": [
            "Beautiful Soup is ready for your service!\n"
          ],
          "name": "stdout"
        }
      ]
    },
    {
      "cell_type": "code",
      "metadata": {
        "id": "038InusMt4AP",
        "colab_type": "code",
        "outputId": "69c1eeca-de02-47c6-9134-e12b13206987",
        "colab": {
          "base_uri": "https://localhost:8080/",
          "height": 35
        }
      },
      "source": [
        "# Install module to convert an address into latitude and longitude values\n",
        "try:\n",
        "    from geopy.geocoders import Nominatim \n",
        "    from geopy import distance\n",
        "    print('GeoCorder is ready for your service!')\n",
        "except:\n",
        "    !conda install -c conda-forge geopy --yes \n",
        "    from geopy.geocoders import Nominatim \n",
        "    from geopy import distance\n",
        "    print('Geocorder is installed and ready for your service!')\n",
        "    "
      ],
      "execution_count": 0,
      "outputs": [
        {
          "output_type": "stream",
          "text": [
            "GeoCorder is ready for your service!\n"
          ],
          "name": "stdout"
        }
      ]
    },
    {
      "cell_type": "code",
      "metadata": {
        "id": "o6JlmV9ot4AT",
        "colab_type": "code",
        "outputId": "cfe1ffd6-1690-4b99-98ca-06c4f916ed32",
        "colab": {
          "base_uri": "https://localhost:8080/",
          "height": 35
        }
      },
      "source": [
        "# Install Folium - the map rendering library\n",
        "try:\n",
        "    import folium\n",
        "    print('Folium is ready for your service!')\n",
        "except:\n",
        "    !conda install -c conda-forge folium=0.5.0\n",
        "    import folium\n",
        "    print('Foalium is installed and ready for your service!')"
      ],
      "execution_count": 0,
      "outputs": [
        {
          "output_type": "stream",
          "text": [
            "Folium is ready for your service!\n"
          ],
          "name": "stdout"
        }
      ]
    },
    {
      "cell_type": "code",
      "metadata": {
        "id": "3wkXh_Aft4AW",
        "colab_type": "code",
        "colab": {}
      },
      "source": [
        "# import other libraries\n",
        "import pandas as pd\n",
        "import requests as rs # to downolad web data\n",
        "import numpy as np \n",
        "\n",
        "import matplotlib.cm as cm\n",
        "import matplotlib.colors as colors\n",
        "import matplotlib.pyplot as plt\n",
        "\n",
        "import json # library to handle JSON files\n",
        "from pandas.io.json import json_normalize # tranform JSON file into a pandas dataframe\n",
        "\n",
        "# import k-means from clustering stage\n",
        "from sklearn.cluster import KMeans\n"
      ],
      "execution_count": 0,
      "outputs": []
    },
    {
      "cell_type": "markdown",
      "metadata": {
        "id": "IOee8sn0t4AY",
        "colab_type": "text"
      },
      "source": [
        "### 2.2 Get the neighborhood names\n",
        "We are going to analyze naighborhoods of St. Louis, Missouri. There could be multiple sources that I could get this information about St. Louis, but I decided to go with [this](https://en.wikipedia.org/wiki/List_of_neighborhoods_of_St._Louis) Wikipedia page. I am going to use Beautiful Soup to scrape the data out from this page. That way, if the neighborhood list is updated in the future, I can still run the scripts to find the latest data.\n",
        "\n",
        "Let's start by downloading the web page data using request and then use BeautifulSoup to create a 'soup'."
      ]
    },
    {
      "cell_type": "code",
      "metadata": {
        "id": "bLJuTQKSt4AZ",
        "colab_type": "code",
        "colab": {}
      },
      "source": [
        "# Following wikipedia page has all the neighborhood data. Let's use Beautiful Soup to get the required data.\n",
        "url = 'https://en.wikipedia.org/wiki/List_of_neighborhoods_of_St._Louis'\n",
        "source = rs.get(url)\n",
        "soup = bs(source.content,'lxml')\n",
        " # print(soup.prettify())"
      ],
      "execution_count": 0,
      "outputs": []
    },
    {
      "cell_type": "markdown",
      "metadata": {
        "id": "TlZp9JmJQ19m",
        "colab_type": "text"
      },
      "source": [
        "I found that the required data is in the body section of the webpage. There is a table of content at the top of the webpage that I can obtain the names of different burrows. Table of content can be scraped using 'toctext' inside a 'span' section."
      ]
    },
    {
      "cell_type": "code",
      "metadata": {
        "id": "vmwi7X6Xt4Ac",
        "colab_type": "code",
        "outputId": "2b49f900-bf59-4639-f014-e3253f23ed7b",
        "colab": {
          "base_uri": "https://localhost:8080/",
          "height": 251
        }
      },
      "source": [
        "contents = soup.body.findAll('table')\n",
        "\n",
        "#print(contents)\n",
        "\n",
        "# Variables to store data\n",
        "column_titles = []\n",
        "\n",
        "table_data = []\n",
        "# Table data\n",
        "for trtag in contents[1].findAll('tr'):\n",
        "    #print(trtag)\n",
        "    #print(trtag.text)\n",
        "    #column_titles.append(trtag.text.strip())'\n",
        "    #print('zzz')\n",
        "    data_row = trtag.text.strip()\n",
        "    data_row = data_row.split('\\n')\n",
        "    #data_row = data_row.replace(\"\\n\",\",\")\n",
        "    #print(data_row)\n",
        "    table_data.append(data_row)\n",
        "\n",
        "# First line is column titles\n",
        "column_titles = table_data[0]\n",
        "del(table_data[0]) # Remove firt line from the table data\n",
        "\n",
        "#print(column_titles)\n",
        "#print(table_data)\n",
        "\n",
        "st_louis_df = pd.DataFrame(table_data, columns = column_titles)\n",
        "# pd.DataFrame(neighborhood, columns=['Burrow','Neighborhood'])\n",
        "\n",
        "print(st_louis_df.shape)\n",
        "st_louis_df.head()\n"
      ],
      "execution_count": 0,
      "outputs": [
        {
          "output_type": "stream",
          "text": [
            "(79, 9)\n"
          ],
          "name": "stdout"
        },
        {
          "output_type": "execute_result",
          "data": {
            "text/html": [
              "<div>\n",
              "<style scoped>\n",
              "    .dataframe tbody tr th:only-of-type {\n",
              "        vertical-align: middle;\n",
              "    }\n",
              "\n",
              "    .dataframe tbody tr th {\n",
              "        vertical-align: top;\n",
              "    }\n",
              "\n",
              "    .dataframe thead th {\n",
              "        text-align: right;\n",
              "    }\n",
              "</style>\n",
              "<table border=\"1\" class=\"dataframe\">\n",
              "  <thead>\n",
              "    <tr style=\"text-align: right;\">\n",
              "      <th></th>\n",
              "      <th>Neighborhood</th>\n",
              "      <th>Population</th>\n",
              "      <th>White</th>\n",
              "      <th>Black</th>\n",
              "      <th>Hispanic/Latino2</th>\n",
              "      <th>AIAN1</th>\n",
              "      <th>Asian</th>\n",
              "      <th>Mixed Race</th>\n",
              "      <th>Corridor</th>\n",
              "    </tr>\n",
              "  </thead>\n",
              "  <tbody>\n",
              "    <tr>\n",
              "      <th>0</th>\n",
              "      <td>Academy</td>\n",
              "      <td>3,006</td>\n",
              "      <td>16.9</td>\n",
              "      <td>54.7</td>\n",
              "      <td>20.5</td>\n",
              "      <td>1.52</td>\n",
              "      <td>4.3</td>\n",
              "      <td>3.5</td>\n",
              "      <td>North</td>\n",
              "    </tr>\n",
              "    <tr>\n",
              "      <th>1</th>\n",
              "      <td>Baden</td>\n",
              "      <td>7,268</td>\n",
              "      <td>6.3</td>\n",
              "      <td>91.8</td>\n",
              "      <td>0.5</td>\n",
              "      <td>0.1</td>\n",
              "      <td>0</td>\n",
              "      <td>1.3</td>\n",
              "      <td>North</td>\n",
              "    </tr>\n",
              "    <tr>\n",
              "      <th>2</th>\n",
              "      <td>Benton Park</td>\n",
              "      <td>3,532</td>\n",
              "      <td>68.2</td>\n",
              "      <td>25.1</td>\n",
              "      <td>3.2</td>\n",
              "      <td>0.3</td>\n",
              "      <td>1.2</td>\n",
              "      <td>3.8</td>\n",
              "      <td>South</td>\n",
              "    </tr>\n",
              "    <tr>\n",
              "      <th>3</th>\n",
              "      <td>Benton Park West</td>\n",
              "      <td>4,404</td>\n",
              "      <td>28.0</td>\n",
              "      <td>59.6</td>\n",
              "      <td>10.5</td>\n",
              "      <td>0</td>\n",
              "      <td>1.9</td>\n",
              "      <td>5.1</td>\n",
              "      <td>South</td>\n",
              "    </tr>\n",
              "    <tr>\n",
              "      <th>4</th>\n",
              "      <td>Bevo Mill</td>\n",
              "      <td>12,654</td>\n",
              "      <td>74.2</td>\n",
              "      <td>13.8</td>\n",
              "      <td>7.5</td>\n",
              "      <td>0.4</td>\n",
              "      <td>4.6</td>\n",
              "      <td>3.9</td>\n",
              "      <td>South</td>\n",
              "    </tr>\n",
              "  </tbody>\n",
              "</table>\n",
              "</div>"
            ],
            "text/plain": [
              "       Neighborhood Population White Black  ... AIAN1 Asian Mixed Race Corridor\n",
              "0           Academy      3,006  16.9  54.7  ...  1.52   4.3        3.5    North\n",
              "1             Baden      7,268   6.3  91.8  ...   0.1     0        1.3    North\n",
              "2       Benton Park      3,532  68.2  25.1  ...   0.3   1.2        3.8    South\n",
              "3  Benton Park West      4,404  28.0  59.6  ...     0   1.9        5.1    South\n",
              "4         Bevo Mill     12,654  74.2  13.8  ...   0.4   4.6        3.9    South\n",
              "\n",
              "[5 rows x 9 columns]"
            ]
          },
          "metadata": {
            "tags": []
          },
          "execution_count": 6
        }
      ]
    },
    {
      "cell_type": "code",
      "metadata": {
        "id": "brqO3g9cpAUn",
        "colab_type": "code",
        "outputId": "6f990e20-0a77-4aa4-8426-2aa380b158d7",
        "colab": {
          "base_uri": "https://localhost:8080/",
          "height": 435
        }
      },
      "source": [
        "# Covert the numbers to numbers\n",
        "print(\"Before...\")\n",
        "print(st_louis_df.dtypes)\n",
        "st_louis_df.Population = st_louis_df.Population.str.replace(',', '')\n",
        "st_louis_df.Population = pd.to_numeric(st_louis_df.Population)\n",
        "st_louis_df.White = pd.to_numeric(st_louis_df.White)\n",
        "st_louis_df.Black = pd.to_numeric(st_louis_df.Black)\n",
        "st_louis_df[\"Hispanic/Latino2\"] = pd.to_numeric(st_louis_df[\"Hispanic/Latino2\"])\n",
        "st_louis_df.AIAN1 = pd.to_numeric(st_louis_df.AIAN1)\n",
        "st_louis_df.Asian = pd.to_numeric(st_louis_df.Asian)\n",
        "st_louis_df[\"Mixed Race\"] = pd.to_numeric(st_louis_df[\"Mixed Race\"])\n",
        "\n",
        "print(\"\\n Now...\")\n",
        "print(st_louis_df.dtypes)"
      ],
      "execution_count": 0,
      "outputs": [
        {
          "output_type": "stream",
          "text": [
            "Before...\n",
            "Neighborhood        object\n",
            "Population          object\n",
            "White               object\n",
            "Black               object\n",
            "Hispanic/Latino2    object\n",
            "AIAN1               object\n",
            "Asian               object\n",
            "Mixed Race          object\n",
            "Corridor            object\n",
            "dtype: object\n",
            "\n",
            " Now...\n",
            "Neighborhood         object\n",
            "Population            int64\n",
            "White               float64\n",
            "Black               float64\n",
            "Hispanic/Latino2    float64\n",
            "AIAN1               float64\n",
            "Asian               float64\n",
            "Mixed Race          float64\n",
            "Corridor             object\n",
            "dtype: object\n"
          ],
          "name": "stdout"
        }
      ]
    },
    {
      "cell_type": "markdown",
      "metadata": {
        "id": "vZD68ffdSoc-",
        "colab_type": "text"
      },
      "source": [
        "The neighborhood data are in a 'ul' section inside the body continents of the webpage. I used findAll with 'ul' tag to obtain the related lines and followed the same techniques with 'li' tag to find all the raws of the table."
      ]
    },
    {
      "cell_type": "code",
      "metadata": {
        "id": "SDybc3ARt4Af",
        "colab_type": "code",
        "outputId": "5ee2abcd-ba80-4519-ae32-012458faaefb",
        "colab": {
          "base_uri": "https://localhost:8080/",
          "height": 168
        }
      },
      "source": [
        "# Which region is popular for different ethnic groups?\n",
        "st_louis_mean_demogra = st_louis_df.groupby('Corridor').mean()\n",
        "st_louis_mean_demogra.drop(\"Population\", axis = 1, inplace = True)\n",
        "st_louis_mean_demogra"
      ],
      "execution_count": 0,
      "outputs": [
        {
          "output_type": "execute_result",
          "data": {
            "text/html": [
              "<div>\n",
              "<style scoped>\n",
              "    .dataframe tbody tr th:only-of-type {\n",
              "        vertical-align: middle;\n",
              "    }\n",
              "\n",
              "    .dataframe tbody tr th {\n",
              "        vertical-align: top;\n",
              "    }\n",
              "\n",
              "    .dataframe thead th {\n",
              "        text-align: right;\n",
              "    }\n",
              "</style>\n",
              "<table border=\"1\" class=\"dataframe\">\n",
              "  <thead>\n",
              "    <tr style=\"text-align: right;\">\n",
              "      <th></th>\n",
              "      <th>White</th>\n",
              "      <th>Black</th>\n",
              "      <th>Hispanic/Latino2</th>\n",
              "      <th>AIAN1</th>\n",
              "      <th>Asian</th>\n",
              "      <th>Mixed Race</th>\n",
              "    </tr>\n",
              "    <tr>\n",
              "      <th>Corridor</th>\n",
              "      <th></th>\n",
              "      <th></th>\n",
              "      <th></th>\n",
              "      <th></th>\n",
              "      <th></th>\n",
              "      <th></th>\n",
              "    </tr>\n",
              "  </thead>\n",
              "  <tbody>\n",
              "    <tr>\n",
              "      <th>Central</th>\n",
              "      <td>51.820000</td>\n",
              "      <td>40.145000</td>\n",
              "      <td>2.645000</td>\n",
              "      <td>0.210000</td>\n",
              "      <td>4.640000</td>\n",
              "      <td>2.500000</td>\n",
              "    </tr>\n",
              "    <tr>\n",
              "      <th>North</th>\n",
              "      <td>7.148387</td>\n",
              "      <td>88.912903</td>\n",
              "      <td>2.306452</td>\n",
              "      <td>0.239355</td>\n",
              "      <td>0.435484</td>\n",
              "      <td>1.470968</td>\n",
              "    </tr>\n",
              "    <tr>\n",
              "      <th>South</th>\n",
              "      <td>64.967857</td>\n",
              "      <td>27.175000</td>\n",
              "      <td>4.625000</td>\n",
              "      <td>0.292857</td>\n",
              "      <td>2.389286</td>\n",
              "      <td>3.403571</td>\n",
              "    </tr>\n",
              "  </tbody>\n",
              "</table>\n",
              "</div>"
            ],
            "text/plain": [
              "              White      Black  ...     Asian  Mixed Race\n",
              "Corridor                        ...                      \n",
              "Central   51.820000  40.145000  ...  4.640000    2.500000\n",
              "North      7.148387  88.912903  ...  0.435484    1.470968\n",
              "South     64.967857  27.175000  ...  2.389286    3.403571\n",
              "\n",
              "[3 rows x 6 columns]"
            ]
          },
          "metadata": {
            "tags": []
          },
          "execution_count": 8
        }
      ]
    },
    {
      "cell_type": "markdown",
      "metadata": {
        "id": "1eFlD2LgpMI9",
        "colab_type": "text"
      },
      "source": [
        "It looks like most white popole live in South side has more white people, north side is dominated by black people, Asian tends to go in the Central reagin. Let's try to see this graphically."
      ]
    },
    {
      "cell_type": "code",
      "metadata": {
        "id": "DMSwX4hRpQ1I",
        "colab_type": "code",
        "outputId": "339756df-abeb-48e3-f1f3-667b0954f1a4",
        "colab": {
          "base_uri": "https://localhost:8080/",
          "height": 309
        }
      },
      "source": [
        "ax = st_louis_mean_demogra.plot.bar()\n",
        "ax.set_ylabel('Population percentage')\n",
        "ax.legend(bbox_to_anchor=(1, 1.))\n",
        "ax.spines['right'].set_visible(False)\n",
        "ax.spines['top'].set_visible(False)"
      ],
      "execution_count": 0,
      "outputs": [
        {
          "output_type": "display_data",
          "data": {
            "image/png": "[encoded data removed]",
            "text/plain": [
              "<Figure size 432x288 with 1 Axes>"
            ]
          },
          "metadata": {
            "tags": []
          }
        }
      ]
    },
    {
      "cell_type": "markdown",
      "metadata": {
        "id": "zzXkp4PKYF_p",
        "colab_type": "text"
      },
      "source": [
        "### 2.3 Obtain the latitude, longitude, address, and miles to work for each neighborhood"
      ]
    },
    {
      "cell_type": "markdown",
      "metadata": {
        "id": "6JgvzeXLUZyR",
        "colab_type": "text"
      },
      "source": [
        "First, I like to create a function to obtain the following additional information for each neighborhood.\n",
        "1. Latitude\n",
        "1. Longitude\n",
        "1. Address\n",
        "1. Distance to the workplace.\n",
        " \n",
        "This function expects 5 inputs, a pandas data frame with a column named 'Neighborhood', city, state, workplace latitude, and workplace longitude. It will return the same pandas data frame with above four additional columns."
      ]
    },
    {
      "cell_type": "code",
      "metadata": {
        "id": "Qz23E5P_t4Aq",
        "colab_type": "code",
        "colab": {}
      },
      "source": [
        "def find_lat_lon_dist(df,town,state,lat0,lon0):\n",
        "# This is function to add additional location information to the data frame df.\n",
        "#\n",
        "# Input:\n",
        "#     df - input dataframe (must have a column named \"Neighborhood\")\n",
        "#     town, state - Town and the state of the neighborhoods\n",
        "#     lat0, lon0 - latitude and longitude of the work place where I commute everyday\n",
        "#\n",
        "# output: data frame df with additional 4 columns containing Latitude, Longitude, \n",
        "#         Address of the neighborhoods and miles_to_work.\n",
        "\n",
        "\n",
        "  # Create Nominatim object to obtain the address info\n",
        "  geolocator = Nominatim(user_agent=\"sum's_agent\", format_string=\"%s \" + town + ', ' + state )\n",
        "\n",
        "  # Temporary variable to save data\n",
        "  Lat = []\n",
        "  Lon =[]\n",
        "  address = []\n",
        "  distance_to_work = []\n",
        "  \n",
        "  # Looping trough every line of the dataframe\n",
        "  for i in range(df.shape[0]):\n",
        "      try:\n",
        "        # Get the data using the geocode\n",
        "        location = geolocator.geocode(df['Neighborhood'][i])\n",
        "        print('.', end = ' ')\n",
        "      except:\n",
        "        # print('Error: '+ df['Neighborhood'][i])\n",
        "        location = None\n",
        "    \n",
        "      # If we did find the location, just save those in the temporary variables\n",
        "      if location != None:\n",
        "          Lat.append(location.latitude)\n",
        "          Lon.append(location.longitude)\n",
        "          address.append(location.address)\n",
        "          distance_to_work.append(distance.distance((location.latitude,location.longitude),(lat0,lon0)).miles)\n",
        "      \n",
        "      # if we can't find the data (return None by the geocode, let's make those data points as nan)\n",
        "      else:\n",
        "          Lat.append('NaN')\n",
        "          Lon.append('NaN')\n",
        "          address.append('NaN')\n",
        "          distance_to_work.append('NaN')\n",
        "          # print('data not found:'+ df['Neighborhood'][i])\n",
        "  \n",
        "  # Add new column to the dataframe\n",
        "  df['Latitude'] = Lat\n",
        "  df['Longitude'] = Lon\n",
        "  df['Address'] = address\n",
        "  df['miles_to_work'] = distance_to_work\n",
        "  \n",
        "  # Return the new dataframe with added columns\n",
        "  return df"
      ],
      "execution_count": 0,
      "outputs": []
    },
    {
      "cell_type": "code",
      "metadata": {
        "id": "cuW6PbPat4At",
        "colab_type": "code",
        "outputId": "000187d0-9815-475a-e4e7-f14408c95a9f",
        "colab": {
          "base_uri": "https://localhost:8080/",
          "height": 634
        }
      },
      "source": [
        "town = 'St. Louis'\n",
        "state = 'IL'\n",
        "lat0 =  38.627003\n",
        "lon0 = -90.199402\n",
        "\n",
        "st_louis_df = find_lat_lon_dist(st_louis_df,town, state, lat0, lon0)\n",
        "\n",
        "print(st_louis_df.shape)\n",
        "st_louis_df.sample(n = 5) # let's see some random rows"
      ],
      "execution_count": 0,
      "outputs": [
        {
          "output_type": "stream",
          "text": [
            ". . . . . . . . . . . . . . . . . . . . . . . . . . . . . . . . . . . . . . . . . . . . . . . . . . . . . . . . . . . . . . . . . . . . . . . . . . . . . . . (79, 13)\n"
          ],
          "name": "stdout"
        },
        {
          "output_type": "execute_result",
          "data": {
            "text/html": [
              "<div>\n",
              "<style scoped>\n",
              "    .dataframe tbody tr th:only-of-type {\n",
              "        vertical-align: middle;\n",
              "    }\n",
              "\n",
              "    .dataframe tbody tr th {\n",
              "        vertical-align: top;\n",
              "    }\n",
              "\n",
              "    .dataframe thead th {\n",
              "        text-align: right;\n",
              "    }\n",
              "</style>\n",
              "<table border=\"1\" class=\"dataframe\">\n",
              "  <thead>\n",
              "    <tr style=\"text-align: right;\">\n",
              "      <th></th>\n",
              "      <th>Neighborhood</th>\n",
              "      <th>Population</th>\n",
              "      <th>White</th>\n",
              "      <th>Black</th>\n",
              "      <th>Hispanic/Latino2</th>\n",
              "      <th>AIAN1</th>\n",
              "      <th>Asian</th>\n",
              "      <th>Mixed Race</th>\n",
              "      <th>Corridor</th>\n",
              "      <th>Latitude</th>\n",
              "      <th>Longitude</th>\n",
              "      <th>Address</th>\n",
              "      <th>miles_to_work</th>\n",
              "    </tr>\n",
              "  </thead>\n",
              "  <tbody>\n",
              "    <tr>\n",
              "      <th>24</th>\n",
              "      <td>Fox Park</td>\n",
              "      <td>2632</td>\n",
              "      <td>32.3</td>\n",
              "      <td>61.2</td>\n",
              "      <td>4.7</td>\n",
              "      <td>0.4</td>\n",
              "      <td>1.2</td>\n",
              "      <td>2.5</td>\n",
              "      <td>South</td>\n",
              "      <td>38.6084</td>\n",
              "      <td>-90.2259</td>\n",
              "      <td>Fox Park, Saint Louis, City of Saint Louis, Mi...</td>\n",
              "      <td>1.92652</td>\n",
              "    </tr>\n",
              "    <tr>\n",
              "      <th>51</th>\n",
              "      <td>North Hampton</td>\n",
              "      <td>7892</td>\n",
              "      <td>75.8</td>\n",
              "      <td>15.2</td>\n",
              "      <td>4.1</td>\n",
              "      <td>0.3</td>\n",
              "      <td>4.8</td>\n",
              "      <td>2.5</td>\n",
              "      <td>South</td>\n",
              "      <td>38.5972</td>\n",
              "      <td>-90.281</td>\n",
              "      <td>North Hampton, Saint Louis, City of Saint Loui...</td>\n",
              "      <td>4.87109</td>\n",
              "    </tr>\n",
              "    <tr>\n",
              "      <th>21</th>\n",
              "      <td>Fairground</td>\n",
              "      <td>1793</td>\n",
              "      <td>1.7</td>\n",
              "      <td>97.1</td>\n",
              "      <td>0.5</td>\n",
              "      <td>0.1</td>\n",
              "      <td>0.0</td>\n",
              "      <td>1.0</td>\n",
              "      <td>North</td>\n",
              "      <td>38.6669</td>\n",
              "      <td>-90.213</td>\n",
              "      <td>Fairground, Saint Louis, City of Saint Louis, ...</td>\n",
              "      <td>2.85123</td>\n",
              "    </tr>\n",
              "    <tr>\n",
              "      <th>63</th>\n",
              "      <td>Soulard</td>\n",
              "      <td>3440</td>\n",
              "      <td>82.6</td>\n",
              "      <td>13.3</td>\n",
              "      <td>2.7</td>\n",
              "      <td>0.2</td>\n",
              "      <td>1.0</td>\n",
              "      <td>2.3</td>\n",
              "      <td>South</td>\n",
              "      <td>38.6045</td>\n",
              "      <td>-90.2093</td>\n",
              "      <td>Soulard, Saint Louis, City of Saint Louis, Mis...</td>\n",
              "      <td>1.64338</td>\n",
              "    </tr>\n",
              "    <tr>\n",
              "      <th>5</th>\n",
              "      <td>Botanical Heights</td>\n",
              "      <td>1037</td>\n",
              "      <td>20.3</td>\n",
              "      <td>74.4</td>\n",
              "      <td>2.1</td>\n",
              "      <td>0.2</td>\n",
              "      <td>1.7</td>\n",
              "      <td>2.6</td>\n",
              "      <td>Central</td>\n",
              "      <td>38.6211</td>\n",
              "      <td>-90.2501</td>\n",
              "      <td>Botanical Heights, Saint Louis, City of Saint ...</td>\n",
              "      <td>2.77056</td>\n",
              "    </tr>\n",
              "  </tbody>\n",
              "</table>\n",
              "</div>"
            ],
            "text/plain": [
              "         Neighborhood  ...  miles_to_work\n",
              "24           Fox Park  ...        1.92652\n",
              "51      North Hampton  ...        4.87109\n",
              "21         Fairground  ...        2.85123\n",
              "63            Soulard  ...        1.64338\n",
              "5   Botanical Heights  ...        2.77056\n",
              "\n",
              "[5 rows x 13 columns]"
            ]
          },
          "metadata": {
            "tags": []
          },
          "execution_count": 11
        }
      ]
    },
    {
      "cell_type": "markdown",
      "metadata": {
        "id": "AA15gS2BVo62",
        "colab_type": "text"
      },
      "source": [
        "I noticed that Nominatim doesn't always give a valid address for some neighbourhoods. This behaviour can be improved by including the city and the state with the search query. For the case of St. Louis, I got all the address. But incase incomplete data are there, I decided to drop those lines with incomplete data rather than trying to search for the address. Because the number of neighbourhoods without the addresses may not be many and additinal information may not not worth the time spend for this case."
      ]
    },
    {
      "cell_type": "code",
      "metadata": {
        "id": "40FvsWmEt4Aw",
        "colab_type": "code",
        "outputId": "04b946d6-20a0-489a-9505-209d49fe734e",
        "colab": {
          "base_uri": "https://localhost:8080/",
          "height": 35
        }
      },
      "source": [
        "# let's drop neighborhoods with incomplete info\n",
        "st_louis_df.replace([\"NaN\", 'NaT'], np.nan, inplace = True)\n",
        "st_louis_df = st_louis_df.dropna().reset_index(drop=True)\n",
        "print(st_louis_df.shape)"
      ],
      "execution_count": 0,
      "outputs": [
        {
          "output_type": "stream",
          "text": [
            "(77, 13)\n"
          ],
          "name": "stdout"
        }
      ]
    },
    {
      "cell_type": "markdown",
      "metadata": {
        "id": "o-Z0RfHOs7Qj",
        "colab_type": "text"
      },
      "source": [
        "I also noticed that some times there were several neighbourhoods was identified by the Nomitatim is not even belongs to the state I am searching. I am not sure the reason for these, but I think somehow nominatim is not registering the city and the state of the search query.  One way to take care of that find those and remove them individually. However, since I am not interested in any neighbourhood more than 30 miles, I can just get rid of those, which should automatically take care of out of the state neighbourhoods."
      ]
    },
    {
      "cell_type": "code",
      "metadata": {
        "id": "aOYhvtw8ux9F",
        "colab_type": "code",
        "outputId": "e05305f9-55c7-42d1-884f-ba884ecf6597",
        "colab": {
          "base_uri": "https://localhost:8080/",
          "height": 35
        }
      },
      "source": [
        "# Just keep any data less than 30 miles to the work\n",
        "st_louis_df = st_louis_df[st_louis_df[\"miles_to_work\"] < 30]\n",
        "st_louis_df.shape"
      ],
      "execution_count": 0,
      "outputs": [
        {
          "output_type": "execute_result",
          "data": {
            "text/plain": [
              "(77, 13)"
            ]
          },
          "metadata": {
            "tags": []
          },
          "execution_count": 13
        }
      ]
    },
    {
      "cell_type": "markdown",
      "metadata": {
        "id": "jbex6WjWlhce",
        "colab_type": "text"
      },
      "source": [
        "After both of the above commands, the number of neighborhoods stays 77. That means Nominatim actually did a wonderful job of searching the addresses of our neighborhoods. Let's see a sample of the data frame"
      ]
    },
    {
      "cell_type": "code",
      "metadata": {
        "id": "63hEuUe-lkHw",
        "colab_type": "code",
        "outputId": "75c9a2a1-1368-48c8-828a-314799fa37c9",
        "colab": {
          "base_uri": "https://localhost:8080/",
          "height": 598
        }
      },
      "source": [
        "st_louis_df.sample(n = 5)"
      ],
      "execution_count": 0,
      "outputs": [
        {
          "output_type": "execute_result",
          "data": {
            "text/html": [
              "<div>\n",
              "<style scoped>\n",
              "    .dataframe tbody tr th:only-of-type {\n",
              "        vertical-align: middle;\n",
              "    }\n",
              "\n",
              "    .dataframe tbody tr th {\n",
              "        vertical-align: top;\n",
              "    }\n",
              "\n",
              "    .dataframe thead th {\n",
              "        text-align: right;\n",
              "    }\n",
              "</style>\n",
              "<table border=\"1\" class=\"dataframe\">\n",
              "  <thead>\n",
              "    <tr style=\"text-align: right;\">\n",
              "      <th></th>\n",
              "      <th>Neighborhood</th>\n",
              "      <th>Population</th>\n",
              "      <th>White</th>\n",
              "      <th>Black</th>\n",
              "      <th>Hispanic/Latino2</th>\n",
              "      <th>AIAN1</th>\n",
              "      <th>Asian</th>\n",
              "      <th>Mixed Race</th>\n",
              "      <th>Corridor</th>\n",
              "      <th>Latitude</th>\n",
              "      <th>Longitude</th>\n",
              "      <th>Address</th>\n",
              "      <th>miles_to_work</th>\n",
              "    </tr>\n",
              "  </thead>\n",
              "  <tbody>\n",
              "    <tr>\n",
              "      <th>60</th>\n",
              "      <td>Shaw</td>\n",
              "      <td>6811</td>\n",
              "      <td>51.7</td>\n",
              "      <td>41.9</td>\n",
              "      <td>2.3</td>\n",
              "      <td>0.2</td>\n",
              "      <td>1.8</td>\n",
              "      <td>3.6</td>\n",
              "      <td>South</td>\n",
              "      <td>38.612823</td>\n",
              "      <td>-90.248510</td>\n",
              "      <td>Shaw, Saint Louis, City of Saint Louis, Missou...</td>\n",
              "      <td>2.831720</td>\n",
              "    </tr>\n",
              "    <tr>\n",
              "      <th>11</th>\n",
              "      <td>Clayton-Tamm</td>\n",
              "      <td>2251</td>\n",
              "      <td>89.0</td>\n",
              "      <td>6.0</td>\n",
              "      <td>2.6</td>\n",
              "      <td>0.2</td>\n",
              "      <td>2.0</td>\n",
              "      <td>2.1</td>\n",
              "      <td>Central</td>\n",
              "      <td>38.628147</td>\n",
              "      <td>-90.292964</td>\n",
              "      <td>Clayton-Tamm, Saint Louis, City of Saint Louis...</td>\n",
              "      <td>5.063063</td>\n",
              "    </tr>\n",
              "    <tr>\n",
              "      <th>6</th>\n",
              "      <td>Boulevard Heights</td>\n",
              "      <td>8708</td>\n",
              "      <td>89.5</td>\n",
              "      <td>3.6</td>\n",
              "      <td>3.5</td>\n",
              "      <td>0.3</td>\n",
              "      <td>3.6</td>\n",
              "      <td>2.0</td>\n",
              "      <td>South</td>\n",
              "      <td>38.560671</td>\n",
              "      <td>-90.278996</td>\n",
              "      <td>Boulevard Heights, Saint Louis, City of Saint ...</td>\n",
              "      <td>6.284808</td>\n",
              "    </tr>\n",
              "    <tr>\n",
              "      <th>63</th>\n",
              "      <td>Southwest Garden</td>\n",
              "      <td>4885</td>\n",
              "      <td>76.9</td>\n",
              "      <td>16.5</td>\n",
              "      <td>3.4</td>\n",
              "      <td>0.3</td>\n",
              "      <td>3.0</td>\n",
              "      <td>2.4</td>\n",
              "      <td>South</td>\n",
              "      <td>38.608397</td>\n",
              "      <td>-90.274086</td>\n",
              "      <td>Southwest Garden, Saint Louis, City of Saint L...</td>\n",
              "      <td>4.240440</td>\n",
              "    </tr>\n",
              "    <tr>\n",
              "      <th>74</th>\n",
              "      <td>Wells/Goodfellow</td>\n",
              "      <td>5859</td>\n",
              "      <td>0.7</td>\n",
              "      <td>97.5</td>\n",
              "      <td>0.6</td>\n",
              "      <td>0.2</td>\n",
              "      <td>0.2</td>\n",
              "      <td>1.4</td>\n",
              "      <td>North</td>\n",
              "      <td>38.676282</td>\n",
              "      <td>-90.268553</td>\n",
              "      <td>Wells Goodfellow, Saint Louis, City of Saint L...</td>\n",
              "      <td>5.054154</td>\n",
              "    </tr>\n",
              "  </tbody>\n",
              "</table>\n",
              "</div>"
            ],
            "text/plain": [
              "         Neighborhood  ...  miles_to_work\n",
              "60               Shaw  ...       2.831720\n",
              "11       Clayton-Tamm  ...       5.063063\n",
              "6   Boulevard Heights  ...       6.284808\n",
              "63   Southwest Garden  ...       4.240440\n",
              "74   Wells/Goodfellow  ...       5.054154\n",
              "\n",
              "[5 rows x 13 columns]"
            ]
          },
          "metadata": {
            "tags": []
          },
          "execution_count": 14
        }
      ]
    },
    {
      "cell_type": "markdown",
      "metadata": {
        "id": "ifEQtFS6XfJM",
        "colab_type": "text"
      },
      "source": [
        "### 2.4 Obtain venues around each neighborhood\n",
        "Now I would like to find good amenities around each neighbourhood. I am using Fooursquare api for that. I have a free account with them which allow me to make 100 k free requests per day. I definitely acknowladge their service."
      ]
    },
    {
      "cell_type": "code",
      "metadata": {
        "id": "vjyEfU2ot4Az",
        "colab_type": "code",
        "colab": {}
      },
      "source": [
        " # @hidden_cell\n",
        "CLIENT_ID = 'VAJHMQEGTYDIZAR4KG324AIXRQQKXDPHUP4YYR1XHD0CVFUJ' # your Foursquare ID\n",
        "CLIENT_SECRET = '4UYYMOIRZYHXP3XPWVFG1YNZX0KAKIGIZUPBDJKQ3VVI5IHH' # your Foursquare Secret\n",
        "VERSION = '20190806' # Foursquare API version"
      ],
      "execution_count": 0,
      "outputs": []
    },
    {
      "cell_type": "markdown",
      "metadata": {
        "id": "F9WfXmaaZurT",
        "colab_type": "text"
      },
      "source": [
        "Here is another important function. What this function does is produce a dataframe that contains the information nearby amenities, up  to a 100 of those."
      ]
    },
    {
      "cell_type": "code",
      "metadata": {
        "id": "IJwYlQLHt4BC",
        "colab_type": "code",
        "colab": {}
      },
      "source": [
        "def getNearbyVenues(names, latitudes, longitudes, VERSION, radius=500, LIMIT = 100):\n",
        "# This function will return a pandas dataframe called nearby_venues \n",
        "#\n",
        "# Inputs: names - names of the neigbourhoods\n",
        "#         latitudes, logitudes - for the neighborhoods\n",
        "#         VERSION - version date in yyyymmdd format\n",
        "#         radias - search radius in meters (optional, default - 500 m)\n",
        "#         LIMIT - max number of venues per given neighborhood (optional, defult - 100)\n",
        "#\n",
        "# Output: pandas data frame with the field 'Neighborhood', 'Neighborhood Latitude', \n",
        "# 'Neighborhood Longitude', 'Venue', 'Venue Latitude', 'Venue Longitude', 'Venue Category'\n",
        "    \n",
        "    venues_list=[]\n",
        "    for name, lat, lng in zip(names, latitudes, longitudes):\n",
        "        print('.', end = '')\n",
        "        # print(lat)\n",
        "        # create the API request URL\n",
        "        url = 'https://api.foursquare.com/v2/venues/explore?&client_id={}&client_secret={}&v={}&ll={},{}&radius={}&limit={}'.format(\n",
        "            CLIENT_ID, \n",
        "            CLIENT_SECRET, \n",
        "            VERSION, \n",
        "            lat, \n",
        "            lng, \n",
        "            radius, \n",
        "            LIMIT)\n",
        "            \n",
        "        # make the GET request\n",
        "        try:\n",
        "          #print(rs.get(url).json())\n",
        "            results = rs.get(url).json()[\"response\"]['groups'][0]['items']\n",
        "        except:\n",
        "            print('Error: ' + name, end = '')\n",
        "        \n",
        "        \n",
        "        # return only relevant information for each nearby venue\n",
        "        venues_list.append([(\n",
        "            name, \n",
        "            lat, \n",
        "            lng, \n",
        "            v['venue']['name'], \n",
        "            v['venue']['location']['lat'], \n",
        "            v['venue']['location']['lng'],  \n",
        "            v['venue']['categories'][0]['name']) for v in results])\n",
        "\n",
        "    nearby_venues = pd.DataFrame([item for venue_list in venues_list for item in venue_list])\n",
        "    nearby_venues.columns = ['Neighborhood', \n",
        "                  'Neighborhood Latitude', \n",
        "                  'Neighborhood Longitude', \n",
        "                  'Venue', \n",
        "                  'Venue Latitude', \n",
        "                  'Venue Longitude', \n",
        "                  'Venue Category']\n",
        "    \n",
        "    print(' done!')\n",
        "    return(nearby_venues)\n"
      ],
      "execution_count": 0,
      "outputs": []
    },
    {
      "cell_type": "markdown",
      "metadata": {
        "id": "LK5rCPagl3Vx",
        "colab_type": "text"
      },
      "source": [
        "Let's obtain all the venues nearby each neighbourhood by calling the function we just created."
      ]
    },
    {
      "cell_type": "code",
      "metadata": {
        "id": "PRSuXq-Nt4BJ",
        "colab_type": "code",
        "outputId": "89f51d5b-0987-4359-d580-234cd1954854",
        "colab": {
          "base_uri": "https://localhost:8080/",
          "height": 286
        }
      },
      "source": [
        "st_louis_venues = getNearbyVenues(names=st_louis_df['Neighborhood'],\n",
        "                                    latitudes = st_louis_df['Latitude'], \n",
        "                                    longitudes = st_louis_df['Longitude'],\n",
        "                                    VERSION = '20180908')\n",
        "print(st_louis_venues.shape)\n",
        "st_louis_venues.head()"
      ],
      "execution_count": 0,
      "outputs": [
        {
          "output_type": "stream",
          "text": [
            "............................................................................. done!\n",
            "(811, 7)\n"
          ],
          "name": "stdout"
        },
        {
          "output_type": "execute_result",
          "data": {
            "text/html": [
              "<div>\n",
              "<style scoped>\n",
              "    .dataframe tbody tr th:only-of-type {\n",
              "        vertical-align: middle;\n",
              "    }\n",
              "\n",
              "    .dataframe tbody tr th {\n",
              "        vertical-align: top;\n",
              "    }\n",
              "\n",
              "    .dataframe thead th {\n",
              "        text-align: right;\n",
              "    }\n",
              "</style>\n",
              "<table border=\"1\" class=\"dataframe\">\n",
              "  <thead>\n",
              "    <tr style=\"text-align: right;\">\n",
              "      <th></th>\n",
              "      <th>Neighborhood</th>\n",
              "      <th>Neighborhood Latitude</th>\n",
              "      <th>Neighborhood Longitude</th>\n",
              "      <th>Venue</th>\n",
              "      <th>Venue Latitude</th>\n",
              "      <th>Venue Longitude</th>\n",
              "      <th>Venue Category</th>\n",
              "    </tr>\n",
              "  </thead>\n",
              "  <tbody>\n",
              "    <tr>\n",
              "      <th>0</th>\n",
              "      <td>Academy</td>\n",
              "      <td>38.658421</td>\n",
              "      <td>-90.267226</td>\n",
              "      <td>Walgreens</td>\n",
              "      <td>38.660054</td>\n",
              "      <td>-90.272582</td>\n",
              "      <td>Pharmacy</td>\n",
              "    </tr>\n",
              "    <tr>\n",
              "      <th>1</th>\n",
              "      <td>Academy</td>\n",
              "      <td>38.658421</td>\n",
              "      <td>-90.267226</td>\n",
              "      <td>Redbox</td>\n",
              "      <td>38.660150</td>\n",
              "      <td>-90.272126</td>\n",
              "      <td>Video Store</td>\n",
              "    </tr>\n",
              "    <tr>\n",
              "      <th>2</th>\n",
              "      <td>Academy</td>\n",
              "      <td>38.658421</td>\n",
              "      <td>-90.267226</td>\n",
              "      <td>Union &amp; Page Ave</td>\n",
              "      <td>38.659903</td>\n",
              "      <td>-90.263602</td>\n",
              "      <td>Outdoors &amp; Recreation</td>\n",
              "    </tr>\n",
              "    <tr>\n",
              "      <th>3</th>\n",
              "      <td>Academy</td>\n",
              "      <td>38.658421</td>\n",
              "      <td>-90.267226</td>\n",
              "      <td>solls</td>\n",
              "      <td>38.657974</td>\n",
              "      <td>-90.262276</td>\n",
              "      <td>Grocery Store</td>\n",
              "    </tr>\n",
              "    <tr>\n",
              "      <th>4</th>\n",
              "      <td>Academy</td>\n",
              "      <td>38.658421</td>\n",
              "      <td>-90.267226</td>\n",
              "      <td>West End Market</td>\n",
              "      <td>38.658640</td>\n",
              "      <td>-90.272224</td>\n",
              "      <td>Convenience Store</td>\n",
              "    </tr>\n",
              "  </tbody>\n",
              "</table>\n",
              "</div>"
            ],
            "text/plain": [
              "  Neighborhood  Neighborhood Latitude  ...  Venue Longitude         Venue Category\n",
              "0      Academy              38.658421  ...       -90.272582               Pharmacy\n",
              "1      Academy              38.658421  ...       -90.272126            Video Store\n",
              "2      Academy              38.658421  ...       -90.263602  Outdoors & Recreation\n",
              "3      Academy              38.658421  ...       -90.262276          Grocery Store\n",
              "4      Academy              38.658421  ...       -90.272224      Convenience Store\n",
              "\n",
              "[5 rows x 7 columns]"
            ]
          },
          "metadata": {
            "tags": []
          },
          "execution_count": 17
        }
      ]
    },
    {
      "cell_type": "markdown",
      "metadata": {
        "id": "wJnbvTZjmKIM",
        "colab_type": "text"
      },
      "source": [
        "It looks like the function returned information about 811 venues. But how many venues for each neighbourhood. Let's try to visualize how many amenities around each neighbourhood. Since I also like to know the distance from each neighbourhood, let's add that information to a data frame first."
      ]
    },
    {
      "cell_type": "code",
      "metadata": {
        "id": "6NwCp7KAt4BR",
        "colab_type": "code",
        "outputId": "45d43bae-ceed-403b-c97d-8473ade51da4",
        "colab": {
          "base_uri": "https://localhost:8080/",
          "height": 198
        }
      },
      "source": [
        "st_louis_venue_numbers = st_louis_venues.groupby('Neighborhood')[\"Venue Category\"].count().reset_index()\n",
        "\n",
        "# Sort the data in decending order\n",
        "st_louis_venue_numbers.sort_values(by = ['Venue Category'], inplace = True, ascending = False)\n",
        "\n",
        "# Reset index\n",
        "st_louis_venue_numbers.reset_index(inplace = True, drop = True)\n",
        "\n",
        "# Let's include miles to work \n",
        "st_louis_venue_numbers = pd.merge(st_louis_venue_numbers,st_louis_df[['Neighborhood','miles_to_work']],on='Neighborhood', how='left')\n",
        "\n",
        "st_louis_venue_numbers.head()"
      ],
      "execution_count": 0,
      "outputs": [
        {
          "output_type": "execute_result",
          "data": {
            "text/html": [
              "<div>\n",
              "<style scoped>\n",
              "    .dataframe tbody tr th:only-of-type {\n",
              "        vertical-align: middle;\n",
              "    }\n",
              "\n",
              "    .dataframe tbody tr th {\n",
              "        vertical-align: top;\n",
              "    }\n",
              "\n",
              "    .dataframe thead th {\n",
              "        text-align: right;\n",
              "    }\n",
              "</style>\n",
              "<table border=\"1\" class=\"dataframe\">\n",
              "  <thead>\n",
              "    <tr style=\"text-align: right;\">\n",
              "      <th></th>\n",
              "      <th>Neighborhood</th>\n",
              "      <th>Venue Category</th>\n",
              "      <th>miles_to_work</th>\n",
              "    </tr>\n",
              "  </thead>\n",
              "  <tbody>\n",
              "    <tr>\n",
              "      <th>0</th>\n",
              "      <td>Central West End</td>\n",
              "      <td>72</td>\n",
              "      <td>3.343809</td>\n",
              "    </tr>\n",
              "    <tr>\n",
              "      <th>1</th>\n",
              "      <td>Downtown</td>\n",
              "      <td>55</td>\n",
              "      <td>0.505269</td>\n",
              "    </tr>\n",
              "    <tr>\n",
              "      <th>2</th>\n",
              "      <td>Downtown West</td>\n",
              "      <td>38</td>\n",
              "      <td>0.438926</td>\n",
              "    </tr>\n",
              "    <tr>\n",
              "      <th>3</th>\n",
              "      <td>The Hill</td>\n",
              "      <td>30</td>\n",
              "      <td>4.120770</td>\n",
              "    </tr>\n",
              "    <tr>\n",
              "      <th>4</th>\n",
              "      <td>Ellendale</td>\n",
              "      <td>30</td>\n",
              "      <td>6.186064</td>\n",
              "    </tr>\n",
              "  </tbody>\n",
              "</table>\n",
              "</div>"
            ],
            "text/plain": [
              "       Neighborhood  Venue Category  miles_to_work\n",
              "0  Central West End              72       3.343809\n",
              "1          Downtown              55       0.505269\n",
              "2     Downtown West              38       0.438926\n",
              "3          The Hill              30       4.120770\n",
              "4         Ellendale              30       6.186064"
            ]
          },
          "metadata": {
            "tags": []
          },
          "execution_count": 18
        }
      ]
    },
    {
      "cell_type": "markdown",
      "metadata": {
        "id": "a0ZG6uiYzNwI",
        "colab_type": "text"
      },
      "source": [
        "Let's plot and see how the results look like. I like to plot Neighborhood vs. Total number of Venues. Other than that, I like to display miles to work on top of each bar."
      ]
    },
    {
      "cell_type": "code",
      "metadata": {
        "id": "cUbr2xcNnKUn",
        "colab_type": "code",
        "outputId": "c12fefff-8e91-4133-9676-54431e32b4db",
        "colab": {
          "base_uri": "https://localhost:8080/",
          "height": 485
        }
      },
      "source": [
        "ax = st_louis_venue_numbers.plot.bar(x = 'Neighborhood', y = 'Venue Category', figsize=(13,5))\n",
        "\n",
        "# Cleanup a bit\n",
        "ax.set_ylabel('Total number of Venues')\n",
        "ax.legend(bbox_to_anchor=(1, 1.))\n",
        "ax.spines['right'].set_visible(False)\n",
        "ax.spines['top'].set_visible(False)\n",
        "ax.get_legend().remove()\n",
        "\n",
        "\n",
        "\n",
        "for i, v in enumerate(st_louis_venue_numbers['Venue Category']):\n",
        "    ax.text(i-0.25, v + 1, \n",
        "            str(round(st_louis_venue_numbers.miles_to_work[i],1)) + ' mi', \n",
        "            color='k',rotation = 90, verticalalignment = 'bottom')\n",
        "ax.title.set_text('Total number of venues for eath neighborhood \\nMiles to work also shown on bar tops')"
      ],
      "execution_count": 0,
      "outputs": [
        {
          "output_type": "display_data",
          "data": {
            "image/png": "[encoded data removed]",
            "text/plain": [
              "<Figure size 936x360 with 1 Axes>"
            ]
          },
          "metadata": {
            "tags": []
          }
        }
      ]
    },
    {
      "cell_type": "markdown",
      "metadata": {
        "id": "bFLGjsN_zafx",
        "colab_type": "text"
      },
      "source": [
        "According to the graph, it is clear that the top place for a lot of amenities is Central West End which is only 3.3 miles away. Then there is Downtown, Downtown West, etc. But the distance is not the only thing I am looking at.\n",
        "\n",
        "Let's find out how many different catogiries of amanities we have."
      ]
    },
    {
      "cell_type": "code",
      "metadata": {
        "id": "GbVr9FdRt4BT",
        "colab_type": "code",
        "outputId": "91d00b01-54c3-4a05-b41e-b0f44d2d321a",
        "colab": {
          "base_uri": "https://localhost:8080/",
          "height": 35
        }
      },
      "source": [
        "print('There are {} uniques categories.'.format(len(st_louis_venues['Venue Category'].unique())))"
      ],
      "execution_count": 0,
      "outputs": [
        {
          "output_type": "stream",
          "text": [
            "There are 177 uniques categories.\n"
          ],
          "name": "stdout"
        }
      ]
    },
    {
      "cell_type": "markdown",
      "metadata": {
        "id": "FlTBRMO70_Rl",
        "colab_type": "text"
      },
      "source": [
        "177 different categories. Not bad... not bad at all."
      ]
    },
    {
      "cell_type": "markdown",
      "metadata": {
        "id": "zyV1zc5at4BV",
        "colab_type": "text"
      },
      "source": [
        "### 2.5 Analyze Each Neighborhood to find how many unique catogories are belongs to each neighborhood\n"
      ]
    },
    {
      "cell_type": "markdown",
      "metadata": {
        "id": "opUn3nybPFmd",
        "colab_type": "text"
      },
      "source": [
        "My goal is to find the best neighborhood that has so many unique amenities close by. I am planning to use the k-means algorithm. For that, I would like to create another data frame that has all our neighborhoods in the first column and frequency of different categories of amenities in the next columns. So I should have columns equal to the number of different categories I found from the previous section + 1 (for the Neighborhood  name column). Let's creae a dummy data frame and then we will fill the fields with the mean."
      ]
    },
    {
      "cell_type": "code",
      "metadata": {
        "id": "8T9pvaaFt4BW",
        "colab_type": "code",
        "outputId": "4bd3a239-30d9-4c71-edbe-8e8db10bd51d",
        "colab": {
          "base_uri": "https://localhost:8080/",
          "height": 334
        }
      },
      "source": [
        "# one hot encoding\n",
        "st_louis_onehot = pd.get_dummies(st_louis_venues[['Venue Category']], prefix=\"\", prefix_sep=\"\")\n",
        "\n",
        "# add neighbourhood column back to dataframe\n",
        "st_louis_onehot['Neighborhood'] = st_louis_venues['Neighborhood'] \n",
        "\n",
        "# move neighborhood column to the first column\n",
        "fixed_columns = [st_louis_onehot.columns[-1]] + list(st_louis_onehot.columns[:-1])\n",
        "st_louis_onehot = st_louis_onehot[fixed_columns]\n",
        "\n",
        "st_louis_onehot.sample(n = 5)"
      ],
      "execution_count": 0,
      "outputs": [
        {
          "output_type": "execute_result",
          "data": {
            "text/html": [
              "<div>\n",
              "<style scoped>\n",
              "    .dataframe tbody tr th:only-of-type {\n",
              "        vertical-align: middle;\n",
              "    }\n",
              "\n",
              "    .dataframe tbody tr th {\n",
              "        vertical-align: top;\n",
              "    }\n",
              "\n",
              "    .dataframe thead th {\n",
              "        text-align: right;\n",
              "    }\n",
              "</style>\n",
              "<table border=\"1\" class=\"dataframe\">\n",
              "  <thead>\n",
              "    <tr style=\"text-align: right;\">\n",
              "      <th></th>\n",
              "      <th>Neighborhood</th>\n",
              "      <th>Accessories Store</th>\n",
              "      <th>Advertising Agency</th>\n",
              "      <th>American Restaurant</th>\n",
              "      <th>Antique Shop</th>\n",
              "      <th>Arcade</th>\n",
              "      <th>Art Gallery</th>\n",
              "      <th>Art Museum</th>\n",
              "      <th>Arts &amp; Crafts Store</th>\n",
              "      <th>Asian Restaurant</th>\n",
              "      <th>Athletics &amp; Sports</th>\n",
              "      <th>Auto Dealership</th>\n",
              "      <th>Automotive Shop</th>\n",
              "      <th>BBQ Joint</th>\n",
              "      <th>Bagel Shop</th>\n",
              "      <th>Bakery</th>\n",
              "      <th>Bar</th>\n",
              "      <th>Baseball Stadium</th>\n",
              "      <th>Bed &amp; Breakfast</th>\n",
              "      <th>Beer Bar</th>\n",
              "      <th>Beer Garden</th>\n",
              "      <th>Bistro</th>\n",
              "      <th>Boutique</th>\n",
              "      <th>Brazilian Restaurant</th>\n",
              "      <th>Breakfast Spot</th>\n",
              "      <th>Brewery</th>\n",
              "      <th>Burger Joint</th>\n",
              "      <th>Bus Line</th>\n",
              "      <th>Business Service</th>\n",
              "      <th>Cafeteria</th>\n",
              "      <th>Café</th>\n",
              "      <th>Cajun / Creole Restaurant</th>\n",
              "      <th>Candy Store</th>\n",
              "      <th>Child Care Service</th>\n",
              "      <th>Chinese Restaurant</th>\n",
              "      <th>Chocolate Shop</th>\n",
              "      <th>Clothing Store</th>\n",
              "      <th>Cocktail Bar</th>\n",
              "      <th>Coffee Shop</th>\n",
              "      <th>College Basketball Court</th>\n",
              "      <th>...</th>\n",
              "      <th>Pool</th>\n",
              "      <th>Pub</th>\n",
              "      <th>Rental Car Location</th>\n",
              "      <th>Restaurant</th>\n",
              "      <th>Rock Club</th>\n",
              "      <th>Sake Bar</th>\n",
              "      <th>Salon / Barbershop</th>\n",
              "      <th>Sandwich Place</th>\n",
              "      <th>Scenic Lookout</th>\n",
              "      <th>Science Museum</th>\n",
              "      <th>Sculpture Garden</th>\n",
              "      <th>Seafood Restaurant</th>\n",
              "      <th>Shipping Store</th>\n",
              "      <th>Skate Park</th>\n",
              "      <th>Smoke Shop</th>\n",
              "      <th>Smoothie Shop</th>\n",
              "      <th>Snack Place</th>\n",
              "      <th>Southern / Soul Food Restaurant</th>\n",
              "      <th>Spa</th>\n",
              "      <th>Speakeasy</th>\n",
              "      <th>Sporting Goods Shop</th>\n",
              "      <th>Sports Bar</th>\n",
              "      <th>Steakhouse</th>\n",
              "      <th>Supermarket</th>\n",
              "      <th>Sushi Restaurant</th>\n",
              "      <th>Taco Place</th>\n",
              "      <th>Tapas Restaurant</th>\n",
              "      <th>Thai Restaurant</th>\n",
              "      <th>Theater</th>\n",
              "      <th>Theme Park</th>\n",
              "      <th>Thrift / Vintage Store</th>\n",
              "      <th>Vegetarian / Vegan Restaurant</th>\n",
              "      <th>Video Store</th>\n",
              "      <th>Vietnamese Restaurant</th>\n",
              "      <th>Waste Facility</th>\n",
              "      <th>Whisky Bar</th>\n",
              "      <th>Wine Bar</th>\n",
              "      <th>Wings Joint</th>\n",
              "      <th>Women's Store</th>\n",
              "      <th>Yoga Studio</th>\n",
              "    </tr>\n",
              "  </thead>\n",
              "  <tbody>\n",
              "    <tr>\n",
              "      <th>45</th>\n",
              "      <td>Benton Park West</td>\n",
              "      <td>0</td>\n",
              "      <td>0</td>\n",
              "      <td>0</td>\n",
              "      <td>0</td>\n",
              "      <td>0</td>\n",
              "      <td>0</td>\n",
              "      <td>0</td>\n",
              "      <td>0</td>\n",
              "      <td>0</td>\n",
              "      <td>0</td>\n",
              "      <td>0</td>\n",
              "      <td>0</td>\n",
              "      <td>0</td>\n",
              "      <td>0</td>\n",
              "      <td>0</td>\n",
              "      <td>0</td>\n",
              "      <td>0</td>\n",
              "      <td>0</td>\n",
              "      <td>0</td>\n",
              "      <td>0</td>\n",
              "      <td>0</td>\n",
              "      <td>0</td>\n",
              "      <td>0</td>\n",
              "      <td>0</td>\n",
              "      <td>0</td>\n",
              "      <td>0</td>\n",
              "      <td>0</td>\n",
              "      <td>0</td>\n",
              "      <td>0</td>\n",
              "      <td>0</td>\n",
              "      <td>0</td>\n",
              "      <td>0</td>\n",
              "      <td>0</td>\n",
              "      <td>0</td>\n",
              "      <td>0</td>\n",
              "      <td>0</td>\n",
              "      <td>0</td>\n",
              "      <td>0</td>\n",
              "      <td>0</td>\n",
              "      <td>...</td>\n",
              "      <td>0</td>\n",
              "      <td>0</td>\n",
              "      <td>0</td>\n",
              "      <td>0</td>\n",
              "      <td>0</td>\n",
              "      <td>0</td>\n",
              "      <td>0</td>\n",
              "      <td>0</td>\n",
              "      <td>0</td>\n",
              "      <td>0</td>\n",
              "      <td>0</td>\n",
              "      <td>0</td>\n",
              "      <td>0</td>\n",
              "      <td>0</td>\n",
              "      <td>0</td>\n",
              "      <td>0</td>\n",
              "      <td>0</td>\n",
              "      <td>0</td>\n",
              "      <td>0</td>\n",
              "      <td>0</td>\n",
              "      <td>0</td>\n",
              "      <td>0</td>\n",
              "      <td>0</td>\n",
              "      <td>0</td>\n",
              "      <td>0</td>\n",
              "      <td>0</td>\n",
              "      <td>0</td>\n",
              "      <td>0</td>\n",
              "      <td>0</td>\n",
              "      <td>0</td>\n",
              "      <td>0</td>\n",
              "      <td>0</td>\n",
              "      <td>0</td>\n",
              "      <td>0</td>\n",
              "      <td>0</td>\n",
              "      <td>0</td>\n",
              "      <td>0</td>\n",
              "      <td>0</td>\n",
              "      <td>0</td>\n",
              "      <td>0</td>\n",
              "    </tr>\n",
              "    <tr>\n",
              "      <th>410</th>\n",
              "      <td>The Gate District</td>\n",
              "      <td>0</td>\n",
              "      <td>0</td>\n",
              "      <td>0</td>\n",
              "      <td>0</td>\n",
              "      <td>0</td>\n",
              "      <td>0</td>\n",
              "      <td>0</td>\n",
              "      <td>0</td>\n",
              "      <td>0</td>\n",
              "      <td>0</td>\n",
              "      <td>0</td>\n",
              "      <td>0</td>\n",
              "      <td>0</td>\n",
              "      <td>0</td>\n",
              "      <td>0</td>\n",
              "      <td>0</td>\n",
              "      <td>0</td>\n",
              "      <td>0</td>\n",
              "      <td>0</td>\n",
              "      <td>0</td>\n",
              "      <td>0</td>\n",
              "      <td>0</td>\n",
              "      <td>0</td>\n",
              "      <td>0</td>\n",
              "      <td>0</td>\n",
              "      <td>0</td>\n",
              "      <td>0</td>\n",
              "      <td>0</td>\n",
              "      <td>0</td>\n",
              "      <td>0</td>\n",
              "      <td>0</td>\n",
              "      <td>0</td>\n",
              "      <td>0</td>\n",
              "      <td>0</td>\n",
              "      <td>0</td>\n",
              "      <td>0</td>\n",
              "      <td>0</td>\n",
              "      <td>0</td>\n",
              "      <td>0</td>\n",
              "      <td>...</td>\n",
              "      <td>0</td>\n",
              "      <td>0</td>\n",
              "      <td>0</td>\n",
              "      <td>0</td>\n",
              "      <td>0</td>\n",
              "      <td>0</td>\n",
              "      <td>0</td>\n",
              "      <td>0</td>\n",
              "      <td>0</td>\n",
              "      <td>0</td>\n",
              "      <td>0</td>\n",
              "      <td>0</td>\n",
              "      <td>0</td>\n",
              "      <td>0</td>\n",
              "      <td>0</td>\n",
              "      <td>0</td>\n",
              "      <td>0</td>\n",
              "      <td>0</td>\n",
              "      <td>0</td>\n",
              "      <td>0</td>\n",
              "      <td>0</td>\n",
              "      <td>0</td>\n",
              "      <td>0</td>\n",
              "      <td>0</td>\n",
              "      <td>0</td>\n",
              "      <td>0</td>\n",
              "      <td>0</td>\n",
              "      <td>0</td>\n",
              "      <td>0</td>\n",
              "      <td>0</td>\n",
              "      <td>0</td>\n",
              "      <td>0</td>\n",
              "      <td>0</td>\n",
              "      <td>0</td>\n",
              "      <td>0</td>\n",
              "      <td>0</td>\n",
              "      <td>0</td>\n",
              "      <td>0</td>\n",
              "      <td>0</td>\n",
              "      <td>0</td>\n",
              "    </tr>\n",
              "    <tr>\n",
              "      <th>181</th>\n",
              "      <td>Clayton-Tamm</td>\n",
              "      <td>0</td>\n",
              "      <td>0</td>\n",
              "      <td>0</td>\n",
              "      <td>0</td>\n",
              "      <td>0</td>\n",
              "      <td>0</td>\n",
              "      <td>0</td>\n",
              "      <td>0</td>\n",
              "      <td>0</td>\n",
              "      <td>0</td>\n",
              "      <td>0</td>\n",
              "      <td>0</td>\n",
              "      <td>0</td>\n",
              "      <td>0</td>\n",
              "      <td>0</td>\n",
              "      <td>0</td>\n",
              "      <td>0</td>\n",
              "      <td>0</td>\n",
              "      <td>0</td>\n",
              "      <td>0</td>\n",
              "      <td>0</td>\n",
              "      <td>0</td>\n",
              "      <td>0</td>\n",
              "      <td>0</td>\n",
              "      <td>0</td>\n",
              "      <td>0</td>\n",
              "      <td>0</td>\n",
              "      <td>0</td>\n",
              "      <td>0</td>\n",
              "      <td>0</td>\n",
              "      <td>0</td>\n",
              "      <td>0</td>\n",
              "      <td>0</td>\n",
              "      <td>0</td>\n",
              "      <td>0</td>\n",
              "      <td>0</td>\n",
              "      <td>0</td>\n",
              "      <td>0</td>\n",
              "      <td>0</td>\n",
              "      <td>...</td>\n",
              "      <td>0</td>\n",
              "      <td>0</td>\n",
              "      <td>0</td>\n",
              "      <td>0</td>\n",
              "      <td>0</td>\n",
              "      <td>0</td>\n",
              "      <td>0</td>\n",
              "      <td>1</td>\n",
              "      <td>0</td>\n",
              "      <td>0</td>\n",
              "      <td>0</td>\n",
              "      <td>0</td>\n",
              "      <td>0</td>\n",
              "      <td>0</td>\n",
              "      <td>0</td>\n",
              "      <td>0</td>\n",
              "      <td>0</td>\n",
              "      <td>0</td>\n",
              "      <td>0</td>\n",
              "      <td>0</td>\n",
              "      <td>0</td>\n",
              "      <td>0</td>\n",
              "      <td>0</td>\n",
              "      <td>0</td>\n",
              "      <td>0</td>\n",
              "      <td>0</td>\n",
              "      <td>0</td>\n",
              "      <td>0</td>\n",
              "      <td>0</td>\n",
              "      <td>0</td>\n",
              "      <td>0</td>\n",
              "      <td>0</td>\n",
              "      <td>0</td>\n",
              "      <td>0</td>\n",
              "      <td>0</td>\n",
              "      <td>0</td>\n",
              "      <td>0</td>\n",
              "      <td>0</td>\n",
              "      <td>0</td>\n",
              "      <td>0</td>\n",
              "    </tr>\n",
              "    <tr>\n",
              "      <th>625</th>\n",
              "      <td>Midtown</td>\n",
              "      <td>0</td>\n",
              "      <td>0</td>\n",
              "      <td>0</td>\n",
              "      <td>0</td>\n",
              "      <td>0</td>\n",
              "      <td>0</td>\n",
              "      <td>0</td>\n",
              "      <td>0</td>\n",
              "      <td>0</td>\n",
              "      <td>0</td>\n",
              "      <td>0</td>\n",
              "      <td>0</td>\n",
              "      <td>0</td>\n",
              "      <td>0</td>\n",
              "      <td>0</td>\n",
              "      <td>0</td>\n",
              "      <td>0</td>\n",
              "      <td>0</td>\n",
              "      <td>0</td>\n",
              "      <td>0</td>\n",
              "      <td>0</td>\n",
              "      <td>0</td>\n",
              "      <td>0</td>\n",
              "      <td>0</td>\n",
              "      <td>0</td>\n",
              "      <td>0</td>\n",
              "      <td>0</td>\n",
              "      <td>0</td>\n",
              "      <td>0</td>\n",
              "      <td>0</td>\n",
              "      <td>0</td>\n",
              "      <td>0</td>\n",
              "      <td>0</td>\n",
              "      <td>0</td>\n",
              "      <td>0</td>\n",
              "      <td>0</td>\n",
              "      <td>0</td>\n",
              "      <td>0</td>\n",
              "      <td>0</td>\n",
              "      <td>...</td>\n",
              "      <td>0</td>\n",
              "      <td>0</td>\n",
              "      <td>0</td>\n",
              "      <td>0</td>\n",
              "      <td>0</td>\n",
              "      <td>0</td>\n",
              "      <td>0</td>\n",
              "      <td>0</td>\n",
              "      <td>0</td>\n",
              "      <td>0</td>\n",
              "      <td>0</td>\n",
              "      <td>0</td>\n",
              "      <td>0</td>\n",
              "      <td>0</td>\n",
              "      <td>0</td>\n",
              "      <td>0</td>\n",
              "      <td>0</td>\n",
              "      <td>0</td>\n",
              "      <td>0</td>\n",
              "      <td>0</td>\n",
              "      <td>0</td>\n",
              "      <td>0</td>\n",
              "      <td>0</td>\n",
              "      <td>0</td>\n",
              "      <td>0</td>\n",
              "      <td>0</td>\n",
              "      <td>0</td>\n",
              "      <td>0</td>\n",
              "      <td>0</td>\n",
              "      <td>0</td>\n",
              "      <td>0</td>\n",
              "      <td>0</td>\n",
              "      <td>0</td>\n",
              "      <td>0</td>\n",
              "      <td>0</td>\n",
              "      <td>0</td>\n",
              "      <td>0</td>\n",
              "      <td>0</td>\n",
              "      <td>0</td>\n",
              "      <td>0</td>\n",
              "    </tr>\n",
              "    <tr>\n",
              "      <th>329</th>\n",
              "      <td>Ellendale</td>\n",
              "      <td>0</td>\n",
              "      <td>0</td>\n",
              "      <td>0</td>\n",
              "      <td>0</td>\n",
              "      <td>0</td>\n",
              "      <td>0</td>\n",
              "      <td>0</td>\n",
              "      <td>0</td>\n",
              "      <td>0</td>\n",
              "      <td>0</td>\n",
              "      <td>0</td>\n",
              "      <td>0</td>\n",
              "      <td>0</td>\n",
              "      <td>0</td>\n",
              "      <td>0</td>\n",
              "      <td>0</td>\n",
              "      <td>0</td>\n",
              "      <td>0</td>\n",
              "      <td>0</td>\n",
              "      <td>0</td>\n",
              "      <td>0</td>\n",
              "      <td>0</td>\n",
              "      <td>0</td>\n",
              "      <td>0</td>\n",
              "      <td>0</td>\n",
              "      <td>0</td>\n",
              "      <td>0</td>\n",
              "      <td>0</td>\n",
              "      <td>0</td>\n",
              "      <td>0</td>\n",
              "      <td>0</td>\n",
              "      <td>0</td>\n",
              "      <td>0</td>\n",
              "      <td>0</td>\n",
              "      <td>0</td>\n",
              "      <td>0</td>\n",
              "      <td>0</td>\n",
              "      <td>0</td>\n",
              "      <td>0</td>\n",
              "      <td>...</td>\n",
              "      <td>0</td>\n",
              "      <td>0</td>\n",
              "      <td>0</td>\n",
              "      <td>0</td>\n",
              "      <td>0</td>\n",
              "      <td>0</td>\n",
              "      <td>0</td>\n",
              "      <td>1</td>\n",
              "      <td>0</td>\n",
              "      <td>0</td>\n",
              "      <td>0</td>\n",
              "      <td>0</td>\n",
              "      <td>0</td>\n",
              "      <td>0</td>\n",
              "      <td>0</td>\n",
              "      <td>0</td>\n",
              "      <td>0</td>\n",
              "      <td>0</td>\n",
              "      <td>0</td>\n",
              "      <td>0</td>\n",
              "      <td>0</td>\n",
              "      <td>0</td>\n",
              "      <td>0</td>\n",
              "      <td>0</td>\n",
              "      <td>0</td>\n",
              "      <td>0</td>\n",
              "      <td>0</td>\n",
              "      <td>0</td>\n",
              "      <td>0</td>\n",
              "      <td>0</td>\n",
              "      <td>0</td>\n",
              "      <td>0</td>\n",
              "      <td>0</td>\n",
              "      <td>0</td>\n",
              "      <td>0</td>\n",
              "      <td>0</td>\n",
              "      <td>0</td>\n",
              "      <td>0</td>\n",
              "      <td>0</td>\n",
              "      <td>0</td>\n",
              "    </tr>\n",
              "  </tbody>\n",
              "</table>\n",
              "<p>5 rows × 178 columns</p>\n",
              "</div>"
            ],
            "text/plain": [
              "          Neighborhood  Accessories Store  ...  Women's Store  Yoga Studio\n",
              "45    Benton Park West                  0  ...              0            0\n",
              "410  The Gate District                  0  ...              0            0\n",
              "181       Clayton-Tamm                  0  ...              0            0\n",
              "625            Midtown                  0  ...              0            0\n",
              "329          Ellendale                  0  ...              0            0\n",
              "\n",
              "[5 rows x 178 columns]"
            ]
          },
          "metadata": {
            "tags": []
          },
          "execution_count": 21
        }
      ]
    },
    {
      "cell_type": "markdown",
      "metadata": {
        "id": "k_YScuhiQ3V_",
        "colab_type": "text"
      },
      "source": [
        "Let's fill the data frame with real data, aka the mean number of different categories of amenities. "
      ]
    },
    {
      "cell_type": "code",
      "metadata": {
        "id": "2dm-yh4mt4Ba",
        "colab_type": "code",
        "outputId": "980d4690-29a8-4470-e979-b00a46acdd59",
        "colab": {
          "base_uri": "https://localhost:8080/",
          "height": 316
        }
      },
      "source": [
        "st_louis_grouped = st_louis_onehot.groupby('Neighborhood').mean().reset_index()\n",
        "st_louis_grouped\n",
        "st_louis_grouped.head()"
      ],
      "execution_count": 0,
      "outputs": [
        {
          "output_type": "execute_result",
          "data": {
            "text/html": [
              "<div>\n",
              "<style scoped>\n",
              "    .dataframe tbody tr th:only-of-type {\n",
              "        vertical-align: middle;\n",
              "    }\n",
              "\n",
              "    .dataframe tbody tr th {\n",
              "        vertical-align: top;\n",
              "    }\n",
              "\n",
              "    .dataframe thead th {\n",
              "        text-align: right;\n",
              "    }\n",
              "</style>\n",
              "<table border=\"1\" class=\"dataframe\">\n",
              "  <thead>\n",
              "    <tr style=\"text-align: right;\">\n",
              "      <th></th>\n",
              "      <th>Neighborhood</th>\n",
              "      <th>Accessories Store</th>\n",
              "      <th>Advertising Agency</th>\n",
              "      <th>American Restaurant</th>\n",
              "      <th>Antique Shop</th>\n",
              "      <th>Arcade</th>\n",
              "      <th>Art Gallery</th>\n",
              "      <th>Art Museum</th>\n",
              "      <th>Arts &amp; Crafts Store</th>\n",
              "      <th>Asian Restaurant</th>\n",
              "      <th>Athletics &amp; Sports</th>\n",
              "      <th>Auto Dealership</th>\n",
              "      <th>Automotive Shop</th>\n",
              "      <th>BBQ Joint</th>\n",
              "      <th>Bagel Shop</th>\n",
              "      <th>Bakery</th>\n",
              "      <th>Bar</th>\n",
              "      <th>Baseball Stadium</th>\n",
              "      <th>Bed &amp; Breakfast</th>\n",
              "      <th>Beer Bar</th>\n",
              "      <th>Beer Garden</th>\n",
              "      <th>Bistro</th>\n",
              "      <th>Boutique</th>\n",
              "      <th>Brazilian Restaurant</th>\n",
              "      <th>Breakfast Spot</th>\n",
              "      <th>Brewery</th>\n",
              "      <th>Burger Joint</th>\n",
              "      <th>Bus Line</th>\n",
              "      <th>Business Service</th>\n",
              "      <th>Cafeteria</th>\n",
              "      <th>Café</th>\n",
              "      <th>Cajun / Creole Restaurant</th>\n",
              "      <th>Candy Store</th>\n",
              "      <th>Child Care Service</th>\n",
              "      <th>Chinese Restaurant</th>\n",
              "      <th>Chocolate Shop</th>\n",
              "      <th>Clothing Store</th>\n",
              "      <th>Cocktail Bar</th>\n",
              "      <th>Coffee Shop</th>\n",
              "      <th>College Basketball Court</th>\n",
              "      <th>...</th>\n",
              "      <th>Pool</th>\n",
              "      <th>Pub</th>\n",
              "      <th>Rental Car Location</th>\n",
              "      <th>Restaurant</th>\n",
              "      <th>Rock Club</th>\n",
              "      <th>Sake Bar</th>\n",
              "      <th>Salon / Barbershop</th>\n",
              "      <th>Sandwich Place</th>\n",
              "      <th>Scenic Lookout</th>\n",
              "      <th>Science Museum</th>\n",
              "      <th>Sculpture Garden</th>\n",
              "      <th>Seafood Restaurant</th>\n",
              "      <th>Shipping Store</th>\n",
              "      <th>Skate Park</th>\n",
              "      <th>Smoke Shop</th>\n",
              "      <th>Smoothie Shop</th>\n",
              "      <th>Snack Place</th>\n",
              "      <th>Southern / Soul Food Restaurant</th>\n",
              "      <th>Spa</th>\n",
              "      <th>Speakeasy</th>\n",
              "      <th>Sporting Goods Shop</th>\n",
              "      <th>Sports Bar</th>\n",
              "      <th>Steakhouse</th>\n",
              "      <th>Supermarket</th>\n",
              "      <th>Sushi Restaurant</th>\n",
              "      <th>Taco Place</th>\n",
              "      <th>Tapas Restaurant</th>\n",
              "      <th>Thai Restaurant</th>\n",
              "      <th>Theater</th>\n",
              "      <th>Theme Park</th>\n",
              "      <th>Thrift / Vintage Store</th>\n",
              "      <th>Vegetarian / Vegan Restaurant</th>\n",
              "      <th>Video Store</th>\n",
              "      <th>Vietnamese Restaurant</th>\n",
              "      <th>Waste Facility</th>\n",
              "      <th>Whisky Bar</th>\n",
              "      <th>Wine Bar</th>\n",
              "      <th>Wings Joint</th>\n",
              "      <th>Women's Store</th>\n",
              "      <th>Yoga Studio</th>\n",
              "    </tr>\n",
              "  </thead>\n",
              "  <tbody>\n",
              "    <tr>\n",
              "      <th>0</th>\n",
              "      <td>Academy</td>\n",
              "      <td>0.0</td>\n",
              "      <td>0.0</td>\n",
              "      <td>0.000000</td>\n",
              "      <td>0.0</td>\n",
              "      <td>0.000000</td>\n",
              "      <td>0.000000</td>\n",
              "      <td>0.0</td>\n",
              "      <td>0.0</td>\n",
              "      <td>0.0</td>\n",
              "      <td>0.0</td>\n",
              "      <td>0.0</td>\n",
              "      <td>0.0</td>\n",
              "      <td>0.0</td>\n",
              "      <td>0.0</td>\n",
              "      <td>0.000000</td>\n",
              "      <td>0.000000</td>\n",
              "      <td>0.0</td>\n",
              "      <td>0.000000</td>\n",
              "      <td>0.0</td>\n",
              "      <td>0.000000</td>\n",
              "      <td>0.0</td>\n",
              "      <td>0.0</td>\n",
              "      <td>0.000000</td>\n",
              "      <td>0.000000</td>\n",
              "      <td>0.000000</td>\n",
              "      <td>0.0</td>\n",
              "      <td>0.0</td>\n",
              "      <td>0.0</td>\n",
              "      <td>0.0</td>\n",
              "      <td>0.000000</td>\n",
              "      <td>0.0</td>\n",
              "      <td>0.0</td>\n",
              "      <td>0.0</td>\n",
              "      <td>0.166667</td>\n",
              "      <td>0.0</td>\n",
              "      <td>0.0</td>\n",
              "      <td>0.000000</td>\n",
              "      <td>0.0</td>\n",
              "      <td>0.0</td>\n",
              "      <td>...</td>\n",
              "      <td>0.0</td>\n",
              "      <td>0.0</td>\n",
              "      <td>0.0</td>\n",
              "      <td>0.000000</td>\n",
              "      <td>0.0</td>\n",
              "      <td>0.0</td>\n",
              "      <td>0.0</td>\n",
              "      <td>0.000000</td>\n",
              "      <td>0.0</td>\n",
              "      <td>0.0</td>\n",
              "      <td>0.0</td>\n",
              "      <td>0.0</td>\n",
              "      <td>0.0</td>\n",
              "      <td>0.0</td>\n",
              "      <td>0.0</td>\n",
              "      <td>0.0</td>\n",
              "      <td>0.0</td>\n",
              "      <td>0.0</td>\n",
              "      <td>0.0</td>\n",
              "      <td>0.0</td>\n",
              "      <td>0.0</td>\n",
              "      <td>0.0</td>\n",
              "      <td>0.0</td>\n",
              "      <td>0.0</td>\n",
              "      <td>0.0</td>\n",
              "      <td>0.000000</td>\n",
              "      <td>0.0</td>\n",
              "      <td>0.0</td>\n",
              "      <td>0.0</td>\n",
              "      <td>0.0</td>\n",
              "      <td>0.0</td>\n",
              "      <td>0.0</td>\n",
              "      <td>0.166667</td>\n",
              "      <td>0.0</td>\n",
              "      <td>0.0</td>\n",
              "      <td>0.0</td>\n",
              "      <td>0.000000</td>\n",
              "      <td>0.0</td>\n",
              "      <td>0.0</td>\n",
              "      <td>0.0</td>\n",
              "    </tr>\n",
              "    <tr>\n",
              "      <th>1</th>\n",
              "      <td>Baden</td>\n",
              "      <td>0.0</td>\n",
              "      <td>0.0</td>\n",
              "      <td>0.000000</td>\n",
              "      <td>0.0</td>\n",
              "      <td>0.000000</td>\n",
              "      <td>0.000000</td>\n",
              "      <td>0.0</td>\n",
              "      <td>0.0</td>\n",
              "      <td>0.0</td>\n",
              "      <td>0.0</td>\n",
              "      <td>0.0</td>\n",
              "      <td>0.0</td>\n",
              "      <td>0.0</td>\n",
              "      <td>0.0</td>\n",
              "      <td>0.000000</td>\n",
              "      <td>0.333333</td>\n",
              "      <td>0.0</td>\n",
              "      <td>0.000000</td>\n",
              "      <td>0.0</td>\n",
              "      <td>0.000000</td>\n",
              "      <td>0.0</td>\n",
              "      <td>0.0</td>\n",
              "      <td>0.000000</td>\n",
              "      <td>0.000000</td>\n",
              "      <td>0.000000</td>\n",
              "      <td>0.0</td>\n",
              "      <td>0.0</td>\n",
              "      <td>0.0</td>\n",
              "      <td>0.0</td>\n",
              "      <td>0.000000</td>\n",
              "      <td>0.0</td>\n",
              "      <td>0.0</td>\n",
              "      <td>0.0</td>\n",
              "      <td>0.000000</td>\n",
              "      <td>0.0</td>\n",
              "      <td>0.0</td>\n",
              "      <td>0.000000</td>\n",
              "      <td>0.0</td>\n",
              "      <td>0.0</td>\n",
              "      <td>...</td>\n",
              "      <td>0.0</td>\n",
              "      <td>0.0</td>\n",
              "      <td>0.0</td>\n",
              "      <td>0.000000</td>\n",
              "      <td>0.0</td>\n",
              "      <td>0.0</td>\n",
              "      <td>0.0</td>\n",
              "      <td>0.000000</td>\n",
              "      <td>0.0</td>\n",
              "      <td>0.0</td>\n",
              "      <td>0.0</td>\n",
              "      <td>0.0</td>\n",
              "      <td>0.0</td>\n",
              "      <td>0.0</td>\n",
              "      <td>0.0</td>\n",
              "      <td>0.0</td>\n",
              "      <td>0.0</td>\n",
              "      <td>0.0</td>\n",
              "      <td>0.0</td>\n",
              "      <td>0.0</td>\n",
              "      <td>0.0</td>\n",
              "      <td>0.0</td>\n",
              "      <td>0.0</td>\n",
              "      <td>0.0</td>\n",
              "      <td>0.0</td>\n",
              "      <td>0.000000</td>\n",
              "      <td>0.0</td>\n",
              "      <td>0.0</td>\n",
              "      <td>0.0</td>\n",
              "      <td>0.0</td>\n",
              "      <td>0.0</td>\n",
              "      <td>0.0</td>\n",
              "      <td>0.000000</td>\n",
              "      <td>0.0</td>\n",
              "      <td>0.0</td>\n",
              "      <td>0.0</td>\n",
              "      <td>0.000000</td>\n",
              "      <td>0.0</td>\n",
              "      <td>0.0</td>\n",
              "      <td>0.0</td>\n",
              "    </tr>\n",
              "    <tr>\n",
              "      <th>2</th>\n",
              "      <td>Benton Park</td>\n",
              "      <td>0.0</td>\n",
              "      <td>0.0</td>\n",
              "      <td>0.045455</td>\n",
              "      <td>0.0</td>\n",
              "      <td>0.000000</td>\n",
              "      <td>0.000000</td>\n",
              "      <td>0.0</td>\n",
              "      <td>0.0</td>\n",
              "      <td>0.0</td>\n",
              "      <td>0.0</td>\n",
              "      <td>0.0</td>\n",
              "      <td>0.0</td>\n",
              "      <td>0.0</td>\n",
              "      <td>0.0</td>\n",
              "      <td>0.045455</td>\n",
              "      <td>0.045455</td>\n",
              "      <td>0.0</td>\n",
              "      <td>0.000000</td>\n",
              "      <td>0.0</td>\n",
              "      <td>0.090909</td>\n",
              "      <td>0.0</td>\n",
              "      <td>0.0</td>\n",
              "      <td>0.045455</td>\n",
              "      <td>0.045455</td>\n",
              "      <td>0.090909</td>\n",
              "      <td>0.0</td>\n",
              "      <td>0.0</td>\n",
              "      <td>0.0</td>\n",
              "      <td>0.0</td>\n",
              "      <td>0.045455</td>\n",
              "      <td>0.0</td>\n",
              "      <td>0.0</td>\n",
              "      <td>0.0</td>\n",
              "      <td>0.000000</td>\n",
              "      <td>0.0</td>\n",
              "      <td>0.0</td>\n",
              "      <td>0.045455</td>\n",
              "      <td>0.0</td>\n",
              "      <td>0.0</td>\n",
              "      <td>...</td>\n",
              "      <td>0.0</td>\n",
              "      <td>0.0</td>\n",
              "      <td>0.0</td>\n",
              "      <td>0.000000</td>\n",
              "      <td>0.0</td>\n",
              "      <td>0.0</td>\n",
              "      <td>0.0</td>\n",
              "      <td>0.045455</td>\n",
              "      <td>0.0</td>\n",
              "      <td>0.0</td>\n",
              "      <td>0.0</td>\n",
              "      <td>0.0</td>\n",
              "      <td>0.0</td>\n",
              "      <td>0.0</td>\n",
              "      <td>0.0</td>\n",
              "      <td>0.0</td>\n",
              "      <td>0.0</td>\n",
              "      <td>0.0</td>\n",
              "      <td>0.0</td>\n",
              "      <td>0.0</td>\n",
              "      <td>0.0</td>\n",
              "      <td>0.0</td>\n",
              "      <td>0.0</td>\n",
              "      <td>0.0</td>\n",
              "      <td>0.0</td>\n",
              "      <td>0.000000</td>\n",
              "      <td>0.0</td>\n",
              "      <td>0.0</td>\n",
              "      <td>0.0</td>\n",
              "      <td>0.0</td>\n",
              "      <td>0.0</td>\n",
              "      <td>0.0</td>\n",
              "      <td>0.000000</td>\n",
              "      <td>0.0</td>\n",
              "      <td>0.0</td>\n",
              "      <td>0.0</td>\n",
              "      <td>0.045455</td>\n",
              "      <td>0.0</td>\n",
              "      <td>0.0</td>\n",
              "      <td>0.0</td>\n",
              "    </tr>\n",
              "    <tr>\n",
              "      <th>3</th>\n",
              "      <td>Benton Park West</td>\n",
              "      <td>0.0</td>\n",
              "      <td>0.0</td>\n",
              "      <td>0.000000</td>\n",
              "      <td>0.0</td>\n",
              "      <td>0.000000</td>\n",
              "      <td>0.052632</td>\n",
              "      <td>0.0</td>\n",
              "      <td>0.0</td>\n",
              "      <td>0.0</td>\n",
              "      <td>0.0</td>\n",
              "      <td>0.0</td>\n",
              "      <td>0.0</td>\n",
              "      <td>0.0</td>\n",
              "      <td>0.0</td>\n",
              "      <td>0.052632</td>\n",
              "      <td>0.052632</td>\n",
              "      <td>0.0</td>\n",
              "      <td>0.000000</td>\n",
              "      <td>0.0</td>\n",
              "      <td>0.000000</td>\n",
              "      <td>0.0</td>\n",
              "      <td>0.0</td>\n",
              "      <td>0.000000</td>\n",
              "      <td>0.000000</td>\n",
              "      <td>0.000000</td>\n",
              "      <td>0.0</td>\n",
              "      <td>0.0</td>\n",
              "      <td>0.0</td>\n",
              "      <td>0.0</td>\n",
              "      <td>0.000000</td>\n",
              "      <td>0.0</td>\n",
              "      <td>0.0</td>\n",
              "      <td>0.0</td>\n",
              "      <td>0.000000</td>\n",
              "      <td>0.0</td>\n",
              "      <td>0.0</td>\n",
              "      <td>0.000000</td>\n",
              "      <td>0.0</td>\n",
              "      <td>0.0</td>\n",
              "      <td>...</td>\n",
              "      <td>0.0</td>\n",
              "      <td>0.0</td>\n",
              "      <td>0.0</td>\n",
              "      <td>0.052632</td>\n",
              "      <td>0.0</td>\n",
              "      <td>0.0</td>\n",
              "      <td>0.0</td>\n",
              "      <td>0.000000</td>\n",
              "      <td>0.0</td>\n",
              "      <td>0.0</td>\n",
              "      <td>0.0</td>\n",
              "      <td>0.0</td>\n",
              "      <td>0.0</td>\n",
              "      <td>0.0</td>\n",
              "      <td>0.0</td>\n",
              "      <td>0.0</td>\n",
              "      <td>0.0</td>\n",
              "      <td>0.0</td>\n",
              "      <td>0.0</td>\n",
              "      <td>0.0</td>\n",
              "      <td>0.0</td>\n",
              "      <td>0.0</td>\n",
              "      <td>0.0</td>\n",
              "      <td>0.0</td>\n",
              "      <td>0.0</td>\n",
              "      <td>0.052632</td>\n",
              "      <td>0.0</td>\n",
              "      <td>0.0</td>\n",
              "      <td>0.0</td>\n",
              "      <td>0.0</td>\n",
              "      <td>0.0</td>\n",
              "      <td>0.0</td>\n",
              "      <td>0.000000</td>\n",
              "      <td>0.0</td>\n",
              "      <td>0.0</td>\n",
              "      <td>0.0</td>\n",
              "      <td>0.000000</td>\n",
              "      <td>0.0</td>\n",
              "      <td>0.0</td>\n",
              "      <td>0.0</td>\n",
              "    </tr>\n",
              "    <tr>\n",
              "      <th>4</th>\n",
              "      <td>Bevo Mill</td>\n",
              "      <td>0.0</td>\n",
              "      <td>0.0</td>\n",
              "      <td>0.000000</td>\n",
              "      <td>0.0</td>\n",
              "      <td>0.083333</td>\n",
              "      <td>0.000000</td>\n",
              "      <td>0.0</td>\n",
              "      <td>0.0</td>\n",
              "      <td>0.0</td>\n",
              "      <td>0.0</td>\n",
              "      <td>0.0</td>\n",
              "      <td>0.0</td>\n",
              "      <td>0.0</td>\n",
              "      <td>0.0</td>\n",
              "      <td>0.000000</td>\n",
              "      <td>0.250000</td>\n",
              "      <td>0.0</td>\n",
              "      <td>0.083333</td>\n",
              "      <td>0.0</td>\n",
              "      <td>0.000000</td>\n",
              "      <td>0.0</td>\n",
              "      <td>0.0</td>\n",
              "      <td>0.000000</td>\n",
              "      <td>0.000000</td>\n",
              "      <td>0.000000</td>\n",
              "      <td>0.0</td>\n",
              "      <td>0.0</td>\n",
              "      <td>0.0</td>\n",
              "      <td>0.0</td>\n",
              "      <td>0.000000</td>\n",
              "      <td>0.0</td>\n",
              "      <td>0.0</td>\n",
              "      <td>0.0</td>\n",
              "      <td>0.000000</td>\n",
              "      <td>0.0</td>\n",
              "      <td>0.0</td>\n",
              "      <td>0.000000</td>\n",
              "      <td>0.0</td>\n",
              "      <td>0.0</td>\n",
              "      <td>...</td>\n",
              "      <td>0.0</td>\n",
              "      <td>0.0</td>\n",
              "      <td>0.0</td>\n",
              "      <td>0.083333</td>\n",
              "      <td>0.0</td>\n",
              "      <td>0.0</td>\n",
              "      <td>0.0</td>\n",
              "      <td>0.000000</td>\n",
              "      <td>0.0</td>\n",
              "      <td>0.0</td>\n",
              "      <td>0.0</td>\n",
              "      <td>0.0</td>\n",
              "      <td>0.0</td>\n",
              "      <td>0.0</td>\n",
              "      <td>0.0</td>\n",
              "      <td>0.0</td>\n",
              "      <td>0.0</td>\n",
              "      <td>0.0</td>\n",
              "      <td>0.0</td>\n",
              "      <td>0.0</td>\n",
              "      <td>0.0</td>\n",
              "      <td>0.0</td>\n",
              "      <td>0.0</td>\n",
              "      <td>0.0</td>\n",
              "      <td>0.0</td>\n",
              "      <td>0.083333</td>\n",
              "      <td>0.0</td>\n",
              "      <td>0.0</td>\n",
              "      <td>0.0</td>\n",
              "      <td>0.0</td>\n",
              "      <td>0.0</td>\n",
              "      <td>0.0</td>\n",
              "      <td>0.000000</td>\n",
              "      <td>0.0</td>\n",
              "      <td>0.0</td>\n",
              "      <td>0.0</td>\n",
              "      <td>0.000000</td>\n",
              "      <td>0.0</td>\n",
              "      <td>0.0</td>\n",
              "      <td>0.0</td>\n",
              "    </tr>\n",
              "  </tbody>\n",
              "</table>\n",
              "<p>5 rows × 178 columns</p>\n",
              "</div>"
            ],
            "text/plain": [
              "       Neighborhood  Accessories Store  ...  Women's Store  Yoga Studio\n",
              "0           Academy                0.0  ...            0.0          0.0\n",
              "1             Baden                0.0  ...            0.0          0.0\n",
              "2       Benton Park                0.0  ...            0.0          0.0\n",
              "3  Benton Park West                0.0  ...            0.0          0.0\n",
              "4         Bevo Mill                0.0  ...            0.0          0.0\n",
              "\n",
              "[5 rows x 178 columns]"
            ]
          },
          "metadata": {
            "tags": []
          },
          "execution_count": 22
        }
      ]
    },
    {
      "cell_type": "code",
      "metadata": {
        "id": "AxK5KquGt4Bc",
        "colab_type": "code",
        "outputId": "b02721d9-edc7-4e69-f0a9-03540e8c0c60",
        "colab": {
          "base_uri": "https://localhost:8080/",
          "height": 35
        }
      },
      "source": [
        "# See how many rows and columns\n",
        "st_louis_grouped.shape"
      ],
      "execution_count": 0,
      "outputs": [
        {
          "output_type": "execute_result",
          "data": {
            "text/plain": [
              "(76, 178)"
            ]
          },
          "metadata": {
            "tags": []
          },
          "execution_count": 23
        }
      ]
    },
    {
      "cell_type": "markdown",
      "metadata": {
        "id": "IFzFIY_5SYqi",
        "colab_type": "text"
      },
      "source": [
        "It turns out that different neighborhoods have different strength as the top comment venue for each neighborhood is different. For example, if you are a person who likes Music you might want to go to Belleair, but if you are someone you want to access to the gym every day, you might find Bunker Hill is better. Did I lose you for a moment? Ok, let me show what I mean. Let me show you what are the best 10 common venues near each neighborhood. See below. "
      ]
    },
    {
      "cell_type": "code",
      "metadata": {
        "id": "8u1GSLlFt4Bg",
        "colab_type": "code",
        "colab": {}
      },
      "source": [
        "def return_most_common_venues(row, num_top_venues):\n",
        "    row_categories = row.iloc[1:]\n",
        "    row_categories_sorted = row_categories.sort_values(ascending=False)\n",
        "    \n",
        "    return row_categories_sorted.index.values[0:num_top_venues]"
      ],
      "execution_count": 0,
      "outputs": []
    },
    {
      "cell_type": "code",
      "metadata": {
        "id": "NrQWEvXdt4Bi",
        "colab_type": "code",
        "outputId": "d371b3a3-343d-4d96-91be-8510fa50bdea",
        "colab": {
          "base_uri": "https://localhost:8080/",
          "height": 374
        }
      },
      "source": [
        "num_top_venues = 10\n",
        "\n",
        "indicators = ['st', 'nd', 'rd']\n",
        "\n",
        "# create columns according to number of top venues\n",
        "columns = ['Neighborhood']\n",
        "for ind in np.arange(num_top_venues):\n",
        "    try:\n",
        "        columns.append('{}{} Most Common Venue'.format(ind+1, indicators[ind]))\n",
        "    except:\n",
        "        columns.append('{}th Most Common Venue'.format(ind+1))\n",
        "\n",
        "# create a new dataframe\n",
        "neighborhoods_venues_sorted = pd.DataFrame(columns=columns)\n",
        "neighborhoods_venues_sorted['Neighborhood'] =st_louis_grouped['Neighborhood']\n",
        "\n",
        "for ind in np.arange(st_louis_grouped.shape[0]):\n",
        "    neighborhoods_venues_sorted.iloc[ind, 1:] = return_most_common_venues(st_louis_grouped.iloc[ind, :], num_top_venues)\n",
        "\n",
        "neighborhoods_venues_sorted.head()"
      ],
      "execution_count": 0,
      "outputs": [
        {
          "output_type": "execute_result",
          "data": {
            "text/html": [
              "<div>\n",
              "<style scoped>\n",
              "    .dataframe tbody tr th:only-of-type {\n",
              "        vertical-align: middle;\n",
              "    }\n",
              "\n",
              "    .dataframe tbody tr th {\n",
              "        vertical-align: top;\n",
              "    }\n",
              "\n",
              "    .dataframe thead th {\n",
              "        text-align: right;\n",
              "    }\n",
              "</style>\n",
              "<table border=\"1\" class=\"dataframe\">\n",
              "  <thead>\n",
              "    <tr style=\"text-align: right;\">\n",
              "      <th></th>\n",
              "      <th>Neighborhood</th>\n",
              "      <th>1st Most Common Venue</th>\n",
              "      <th>2nd Most Common Venue</th>\n",
              "      <th>3rd Most Common Venue</th>\n",
              "      <th>4th Most Common Venue</th>\n",
              "      <th>5th Most Common Venue</th>\n",
              "      <th>6th Most Common Venue</th>\n",
              "      <th>7th Most Common Venue</th>\n",
              "      <th>8th Most Common Venue</th>\n",
              "      <th>9th Most Common Venue</th>\n",
              "      <th>10th Most Common Venue</th>\n",
              "    </tr>\n",
              "  </thead>\n",
              "  <tbody>\n",
              "    <tr>\n",
              "      <th>0</th>\n",
              "      <td>Academy</td>\n",
              "      <td>Pharmacy</td>\n",
              "      <td>Chinese Restaurant</td>\n",
              "      <td>Convenience Store</td>\n",
              "      <td>Grocery Store</td>\n",
              "      <td>Video Store</td>\n",
              "      <td>Outdoors &amp; Recreation</td>\n",
              "      <td>Fast Food Restaurant</td>\n",
              "      <td>Farmers Market</td>\n",
              "      <td>Farm</td>\n",
              "      <td>Falafel Restaurant</td>\n",
              "    </tr>\n",
              "    <tr>\n",
              "      <th>1</th>\n",
              "      <td>Baden</td>\n",
              "      <td>Food</td>\n",
              "      <td>Fast Food Restaurant</td>\n",
              "      <td>Bar</td>\n",
              "      <td>Yoga Studio</td>\n",
              "      <td>Food Truck</td>\n",
              "      <td>Filipino Restaurant</td>\n",
              "      <td>Festival</td>\n",
              "      <td>Farmers Market</td>\n",
              "      <td>Farm</td>\n",
              "      <td>Falafel Restaurant</td>\n",
              "    </tr>\n",
              "    <tr>\n",
              "      <th>2</th>\n",
              "      <td>Benton Park</td>\n",
              "      <td>Brewery</td>\n",
              "      <td>Dive Bar</td>\n",
              "      <td>Beer Garden</td>\n",
              "      <td>Bakery</td>\n",
              "      <td>New American Restaurant</td>\n",
              "      <td>Pizza Place</td>\n",
              "      <td>Cocktail Bar</td>\n",
              "      <td>Massage Studio</td>\n",
              "      <td>Sandwich Place</td>\n",
              "      <td>Café</td>\n",
              "    </tr>\n",
              "    <tr>\n",
              "      <th>3</th>\n",
              "      <td>Benton Park West</td>\n",
              "      <td>Mexican Restaurant</td>\n",
              "      <td>Pizza Place</td>\n",
              "      <td>Intersection</td>\n",
              "      <td>Bakery</td>\n",
              "      <td>Locksmith</td>\n",
              "      <td>Convenience Store</td>\n",
              "      <td>Art Gallery</td>\n",
              "      <td>Music Venue</td>\n",
              "      <td>Restaurant</td>\n",
              "      <td>Taco Place</td>\n",
              "    </tr>\n",
              "    <tr>\n",
              "      <th>4</th>\n",
              "      <td>Bevo Mill</td>\n",
              "      <td>Bar</td>\n",
              "      <td>Restaurant</td>\n",
              "      <td>Lounge</td>\n",
              "      <td>Mexican Restaurant</td>\n",
              "      <td>Arcade</td>\n",
              "      <td>Discount Store</td>\n",
              "      <td>Bed &amp; Breakfast</td>\n",
              "      <td>German Restaurant</td>\n",
              "      <td>Food</td>\n",
              "      <td>Taco Place</td>\n",
              "    </tr>\n",
              "  </tbody>\n",
              "</table>\n",
              "</div>"
            ],
            "text/plain": [
              "       Neighborhood  ... 10th Most Common Venue\n",
              "0           Academy  ...     Falafel Restaurant\n",
              "1             Baden  ...     Falafel Restaurant\n",
              "2       Benton Park  ...                   Café\n",
              "3  Benton Park West  ...             Taco Place\n",
              "4         Bevo Mill  ...             Taco Place\n",
              "\n",
              "[5 rows x 11 columns]"
            ]
          },
          "metadata": {
            "tags": []
          },
          "execution_count": 25
        }
      ]
    },
    {
      "cell_type": "markdown",
      "metadata": {
        "id": "tokMtOFSS5Yt",
        "colab_type": "text"
      },
      "source": [
        "I think by looking at the table above you might understand that different neighborhoods have different amenities strength. The best neighborhood depends on which kind of amenities are around you and what your choises are. \n",
        "\n",
        "With this, I am done with my data preperation and preliminary analysis of the data. Let's move on to real machine learning."
      ]
    },
    {
      "cell_type": "markdown",
      "metadata": {
        "id": "IU-uXcQbt4Bk",
        "colab_type": "text"
      },
      "source": [
        "## 3. Methodology - K-means Clustering\n"
      ]
    },
    {
      "cell_type": "markdown",
      "metadata": {
        "id": "qzFvfet1bRN4",
        "colab_type": "text"
      },
      "source": [
        "For this study, I am going to use K-means clustering algorythm. Since we have unlabled data, I think this will be a very good starting point to do an unsupervised algorythm. However, I am not 100 % sure how many clusters to choose. We will do some calculations to find the best number of clusters"
      ]
    },
    {
      "cell_type": "markdown",
      "metadata": {
        "id": "4nX89dub1-0X",
        "colab_type": "text"
      },
      "source": [
        "### 3.1 Choosing the best cluster number using elbow method\n",
        "Let's start from K = 1 and go up to K = 10. To find the best K value, I am going to compa1re the resulted inertia or within-cluster sum-of-squares value."
      ]
    },
    {
      "cell_type": "code",
      "metadata": {
        "id": "iYG30e8Zt4Bl",
        "colab_type": "code",
        "outputId": "0d669fee-46ad-4f5e-ab36-8776216b25b8",
        "colab": {
          "base_uri": "https://localhost:8080/",
          "height": 295
        }
      },
      "source": [
        "# set number of clusters\n",
        "maxK = 10\n",
        "st_louis_grouped_clustering = st_louis_grouped.drop('Neighborhood', 1)\n",
        "st_louis_grouped_clustering['miles_to_work'] = st_louis_df.miles_to_work\n",
        "inertia = []\n",
        "\n",
        "for k in range(1,maxK):\n",
        "  # run k-means clustering\n",
        "  kmeans = KMeans(n_clusters=k,random_state = 0).fit(st_louis_grouped_clustering)\n",
        "\n",
        "  #istortion.append(sum(np.min(cdist(st_louis_grouped_clustering, kmeans.cluster_centers_, 'euclidean'), axis=1)) / st_louis_grouped_clustering.shape[0])\n",
        "  inertia.append(kmeans.inertia_)\n",
        "  \n",
        "\n",
        "#print(distortion)\n",
        "\n",
        "plt.plot(np.arange(1,maxK),inertia, 'bx-')\n",
        "plt.xlabel('k')\n",
        "plt.ylabel('Inertia')\n",
        "plt.title('The Elbow Method showing the optimal k')\n",
        "plt.show()"
      ],
      "execution_count": 0,
      "outputs": [
        {
          "output_type": "display_data",
          "data": {
            "image/png": "[encoded data removed]",
            "text/plain": [
              "<Figure size 432x288 with 1 Axes>"
            ]
          },
          "metadata": {
            "tags": []
          }
        }
      ]
    },
    {
      "cell_type": "markdown",
      "metadata": {
        "id": "5oq3U1nPnQnm",
        "colab_type": "text"
      },
      "source": [
        "\n",
        "As the number of clusters increases, the centroids becomes closer to their clusters. This makes the distortion decrease as you increase K. You will get he minimum distortion when the number of clusters is exactly equal to the number of data points, so the distortion becomes zero. But notice the graph has a sudden variation of the slope at k = 4. Therefore, according to the Elbow method, we will consider this point as the best number of clusters as beyond this point the improvement of distortion is minimal.\n",
        "\n",
        "### Reanalize data with best K\n",
        "Let's rerun the K-mean method with k = 3. According to the graph, one can argue that k = 2, is more accurate. However, since the Distortion change is significant from k = 2 to k = 3, I choose k = 3."
      ]
    },
    {
      "cell_type": "code",
      "metadata": {
        "id": "Ad_LIloZsjPg",
        "colab_type": "code",
        "outputId": "34f91729-c28d-453d-b7b8-23d353293470",
        "colab": {
          "base_uri": "https://localhost:8080/",
          "height": 90
        }
      },
      "source": [
        "  kclusters = 3\n",
        "  \n",
        "  # run k-means clustering\n",
        "  kmeans = KMeans(n_clusters=kclusters,random_state = 0).fit(st_louis_grouped_clustering)\n",
        "\n",
        "  kmeans.labels_"
      ],
      "execution_count": 0,
      "outputs": [
        {
          "output_type": "execute_result",
          "data": {
            "text/plain": [
              "array([0, 1, 2, 2, 1, 0, 1, 1, 2, 0, 0, 1, 1, 0, 2, 2, 0, 2, 2, 0, 1, 0,\n",
              "       0, 0, 2, 1, 2, 2, 0, 0, 1, 0, 1, 1, 2, 0, 0, 0, 2, 2, 2, 0, 1, 0,\n",
              "       1, 1, 2, 2, 0, 2, 1, 1, 1, 0, 2, 1, 2, 0, 1, 1, 0, 1, 2, 0, 1, 2,\n",
              "       2, 2, 0, 0, 0, 0, 1, 1, 1, 1], dtype=int32)"
            ]
          },
          "metadata": {
            "tags": []
          },
          "execution_count": 28
        }
      ]
    },
    {
      "cell_type": "markdown",
      "metadata": {
        "id": "CsRhnLcX3hoG",
        "colab_type": "text"
      },
      "source": [
        "We found the labels for each cluster. Notice that labels are nicely randomly distributed. This is actually a good sign that K-means is working well for this problem. This can be further confirmed by plotting all data points in the map. Just wait for it."
      ]
    },
    {
      "cell_type": "code",
      "metadata": {
        "id": "StObPPqKt4Bo",
        "colab_type": "code",
        "outputId": "a84d811c-e3ad-4a51-8f4d-0cee74212401",
        "colab": {
          "base_uri": "https://localhost:8080/",
          "height": 615
        }
      },
      "source": [
        "# add clustering labels to the data frame\n",
        "\n",
        "try:\n",
        "    neighborhoods_venues_sorted.drop('Cluster Labels', axis=1)\n",
        "    neighborhoods_venues_sorted.insert(0, 'Cluster Labels', kmeans.labels_)  \n",
        "except:\n",
        "    neighborhoods_venues_sorted.insert(0, 'Cluster Labels', kmeans.labels_) \n",
        "\n",
        "st_louis_merged = st_louis_df\n",
        "st_louis_merged.head()\n",
        "# merge toronto_grouped with toronto_data to add latitude/longitude for each neighborhood\n",
        "st_louis_merged = st_louis_merged.join(neighborhoods_venues_sorted.set_index('Neighborhood'), on='Neighborhood')\n",
        "\n",
        "st_louis_merged.head() # check the last columns!\n",
        "\n",
        "# Drop the rows with no cluster labels\n",
        "st_louis_merged.dropna(inplace=True)\n",
        "\n",
        "st_louis_merged.sample(n = 5)"
      ],
      "execution_count": 0,
      "outputs": [
        {
          "output_type": "execute_result",
          "data": {
            "text/html": [
              "<div>\n",
              "<style scoped>\n",
              "    .dataframe tbody tr th:only-of-type {\n",
              "        vertical-align: middle;\n",
              "    }\n",
              "\n",
              "    .dataframe tbody tr th {\n",
              "        vertical-align: top;\n",
              "    }\n",
              "\n",
              "    .dataframe thead th {\n",
              "        text-align: right;\n",
              "    }\n",
              "</style>\n",
              "<table border=\"1\" class=\"dataframe\">\n",
              "  <thead>\n",
              "    <tr style=\"text-align: right;\">\n",
              "      <th></th>\n",
              "      <th>Neighborhood</th>\n",
              "      <th>Population</th>\n",
              "      <th>White</th>\n",
              "      <th>Black</th>\n",
              "      <th>Hispanic/Latino2</th>\n",
              "      <th>AIAN1</th>\n",
              "      <th>Asian</th>\n",
              "      <th>Mixed Race</th>\n",
              "      <th>Corridor</th>\n",
              "      <th>Latitude</th>\n",
              "      <th>Longitude</th>\n",
              "      <th>Address</th>\n",
              "      <th>miles_to_work</th>\n",
              "      <th>Cluster Labels</th>\n",
              "      <th>1st Most Common Venue</th>\n",
              "      <th>2nd Most Common Venue</th>\n",
              "      <th>3rd Most Common Venue</th>\n",
              "      <th>4th Most Common Venue</th>\n",
              "      <th>5th Most Common Venue</th>\n",
              "      <th>6th Most Common Venue</th>\n",
              "      <th>7th Most Common Venue</th>\n",
              "      <th>8th Most Common Venue</th>\n",
              "      <th>9th Most Common Venue</th>\n",
              "      <th>10th Most Common Venue</th>\n",
              "    </tr>\n",
              "  </thead>\n",
              "  <tbody>\n",
              "    <tr>\n",
              "      <th>74</th>\n",
              "      <td>Wells/Goodfellow</td>\n",
              "      <td>5859</td>\n",
              "      <td>0.7</td>\n",
              "      <td>97.5</td>\n",
              "      <td>0.6</td>\n",
              "      <td>0.2</td>\n",
              "      <td>0.2</td>\n",
              "      <td>1.4</td>\n",
              "      <td>North</td>\n",
              "      <td>38.676282</td>\n",
              "      <td>-90.268553</td>\n",
              "      <td>Wells Goodfellow, Saint Louis, City of Saint L...</td>\n",
              "      <td>5.054154</td>\n",
              "      <td>1.0</td>\n",
              "      <td>Country Dance Club</td>\n",
              "      <td>Scenic Lookout</td>\n",
              "      <td>Event Service</td>\n",
              "      <td>Food</td>\n",
              "      <td>Filipino Restaurant</td>\n",
              "      <td>Festival</td>\n",
              "      <td>Fast Food Restaurant</td>\n",
              "      <td>Farmers Market</td>\n",
              "      <td>Farm</td>\n",
              "      <td>Falafel Restaurant</td>\n",
              "    </tr>\n",
              "    <tr>\n",
              "      <th>47</th>\n",
              "      <td>Midtown</td>\n",
              "      <td>5652</td>\n",
              "      <td>61.9</td>\n",
              "      <td>25.8</td>\n",
              "      <td>2.8</td>\n",
              "      <td>0.2</td>\n",
              "      <td>9.2</td>\n",
              "      <td>2.0</td>\n",
              "      <td>Central</td>\n",
              "      <td>38.632681</td>\n",
              "      <td>-90.226410</td>\n",
              "      <td>Midtown, Saint Louis, City of Saint Louis, Mis...</td>\n",
              "      <td>1.512895</td>\n",
              "      <td>1.0</td>\n",
              "      <td>Sandwich Place</td>\n",
              "      <td>Ice Cream Shop</td>\n",
              "      <td>Business Service</td>\n",
              "      <td>Rock Club</td>\n",
              "      <td>Brewery</td>\n",
              "      <td>Food Truck</td>\n",
              "      <td>Southern / Soul Food Restaurant</td>\n",
              "      <td>Japanese Restaurant</td>\n",
              "      <td>Bar</td>\n",
              "      <td>Sushi Restaurant</td>\n",
              "    </tr>\n",
              "    <tr>\n",
              "      <th>73</th>\n",
              "      <td>Walnut Park West</td>\n",
              "      <td>3349</td>\n",
              "      <td>1.1</td>\n",
              "      <td>97.9</td>\n",
              "      <td>0.8</td>\n",
              "      <td>0.0</td>\n",
              "      <td>0.0</td>\n",
              "      <td>0.8</td>\n",
              "      <td>North</td>\n",
              "      <td>38.704912</td>\n",
              "      <td>-90.257703</td>\n",
              "      <td>Walnut Park West, Saint Louis, City of Saint L...</td>\n",
              "      <td>6.230633</td>\n",
              "      <td>1.0</td>\n",
              "      <td>Wings Joint</td>\n",
              "      <td>Lounge</td>\n",
              "      <td>Yoga Studio</td>\n",
              "      <td>Electronics Store</td>\n",
              "      <td>Filipino Restaurant</td>\n",
              "      <td>Festival</td>\n",
              "      <td>Fast Food Restaurant</td>\n",
              "      <td>Farmers Market</td>\n",
              "      <td>Farm</td>\n",
              "      <td>Falafel Restaurant</td>\n",
              "    </tr>\n",
              "    <tr>\n",
              "      <th>67</th>\n",
              "      <td>Tower Grove East</td>\n",
              "      <td>5853</td>\n",
              "      <td>45.9</td>\n",
              "      <td>43.9</td>\n",
              "      <td>4.9</td>\n",
              "      <td>0.3</td>\n",
              "      <td>5.3</td>\n",
              "      <td>2.7</td>\n",
              "      <td>South</td>\n",
              "      <td>38.603842</td>\n",
              "      <td>-90.236270</td>\n",
              "      <td>Tower Grove East, Saint Louis, City of Saint L...</td>\n",
              "      <td>2.555955</td>\n",
              "      <td>2.0</td>\n",
              "      <td>Locksmith</td>\n",
              "      <td>Thrift / Vintage Store</td>\n",
              "      <td>Bar</td>\n",
              "      <td>Bakery</td>\n",
              "      <td>BBQ Joint</td>\n",
              "      <td>Intersection</td>\n",
              "      <td>Pub</td>\n",
              "      <td>Hot Dog Joint</td>\n",
              "      <td>Dive Bar</td>\n",
              "      <td>Event Space</td>\n",
              "    </tr>\n",
              "    <tr>\n",
              "      <th>37</th>\n",
              "      <td>Kingsway West</td>\n",
              "      <td>3441</td>\n",
              "      <td>3.4</td>\n",
              "      <td>94.5</td>\n",
              "      <td>0.8</td>\n",
              "      <td>0.5</td>\n",
              "      <td>0.0</td>\n",
              "      <td>1.4</td>\n",
              "      <td>North</td>\n",
              "      <td>38.670483</td>\n",
              "      <td>-90.259984</td>\n",
              "      <td>Kingsway West, Saint Louis, City of Saint Loui...</td>\n",
              "      <td>4.442252</td>\n",
              "      <td>0.0</td>\n",
              "      <td>Pizza Place</td>\n",
              "      <td>Wine Bar</td>\n",
              "      <td>Bar</td>\n",
              "      <td>Electronics Store</td>\n",
              "      <td>Filipino Restaurant</td>\n",
              "      <td>Festival</td>\n",
              "      <td>Fast Food Restaurant</td>\n",
              "      <td>Farmers Market</td>\n",
              "      <td>Farm</td>\n",
              "      <td>Falafel Restaurant</td>\n",
              "    </tr>\n",
              "  </tbody>\n",
              "</table>\n",
              "</div>"
            ],
            "text/plain": [
              "        Neighborhood  Population  ...  9th Most Common Venue  10th Most Common Venue\n",
              "74  Wells/Goodfellow        5859  ...                   Farm      Falafel Restaurant\n",
              "47           Midtown        5652  ...                    Bar        Sushi Restaurant\n",
              "73  Walnut Park West        3349  ...                   Farm      Falafel Restaurant\n",
              "67  Tower Grove East        5853  ...               Dive Bar             Event Space\n",
              "37     Kingsway West        3441  ...                   Farm      Falafel Restaurant\n",
              "\n",
              "[5 rows x 24 columns]"
            ]
          },
          "metadata": {
            "tags": []
          },
          "execution_count": 29
        }
      ]
    },
    {
      "cell_type": "markdown",
      "metadata": {
        "id": "_kYY3jYDanfZ",
        "colab_type": "text"
      },
      "source": [
        "### 3.3 Creating an interactive map to show the neigborhoods and their cluster numbers"
      ]
    },
    {
      "cell_type": "code",
      "metadata": {
        "id": "kdynQmh6t4Br",
        "colab_type": "code",
        "outputId": "25a41f34-566b-460c-ecc2-67026f29cfef",
        "colab": {
          "base_uri": "https://localhost:8080/",
          "height": 450
        }
      },
      "source": [
        "# create map\n",
        "\n",
        "map_clusters = folium.Map(location=[lat0, lon0], zoom_start=11)\n",
        "\n",
        "# set color scheme for the clusters\n",
        "x = np.arange(kclusters)\n",
        "ys = [i + x + (i*x)**2 for i in range(kclusters)]\n",
        "colors_array = cm.rainbow(np.linspace(0, 1, len(ys)))\n",
        "rainbow = [colors.rgb2hex(i) for i in colors_array]\n",
        "\n",
        "# St. Louis_merged\n",
        "\n",
        "# add markers to the map\n",
        "#markers_colors = []\n",
        "for lat, lon, poi, cluster, miles in zip(st_louis_merged['Latitude'], st_louis_merged['Longitude'], st_louis_merged['Neighborhood'], st_louis_merged['Cluster Labels'].astype('int'),st_louis_merged['miles_to_work']):\n",
        "    label = folium.Popup(str(poi)  + ' Cluster ' + str(cluster) + \" \" +  str(round(miles,2)) + \" miles\", parse_html=True)\n",
        "    folium.CircleMarker(\n",
        "        [lat, lon],\n",
        "        radius=5,\n",
        "        popup=label,\n",
        "        color=rainbow[cluster-1],\n",
        "        fill=True,\n",
        "        fill_color=rainbow[cluster-1],\n",
        "        fill_opacity=0.7).add_to(map_clusters)\n",
        "\n",
        "# Plot the location of the work place\n",
        "folium.Marker(\n",
        "        [lat0, lon0],\n",
        "        popup = 'Work Place',\n",
        "        icon=folium.Icon(color='purple')\n",
        "        ).add_to(map_clusters)\n",
        "\n",
        "# Show the map\n",
        "map_clusters"
      ],
      "execution_count": 0,
      "outputs": [
        {
          "output_type": "execute_result",
          "data": {
            "text/html": [
              "<div style=\"width:100%;\"><div style=\"position:relative;width:100%;height:0;padding-bottom:60%;\"><iframe src=\"data:text/html;charset=utf-8;base64,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\" style=\"position:absolute;width:100%;height:100%;left:0;top:0;border:none !important;\" allowfullscreen webkitallowfullscreen mozallowfullscreen></iframe></div></div>"
            ],
            "text/plain": [
              "<folium.folium.Map at 0x7f122867dcf8>"
            ]
          },
          "metadata": {
            "tags": []
          },
          "execution_count": 30
        }
      ]
    },
    {
      "cell_type": "markdown",
      "metadata": {
        "id": "9iY-QN5Y6D-R",
        "colab_type": "text"
      },
      "source": [
        "## 4. Results\n",
        "The original problem was to find the best neighborhood to have less commute time and easy access to close by venues. From a Wikipedia page, we found that there are 79 neighborhoods around St. Louis, Illinois. The initial analyses of the data suggested that there are 3 main regions of St. Louis and different ethnic groups dominated in different areas. North populated with black and the south is mainly occupied by white. It is not unusual to see that the central region is roughly populated by both groups. Other ethnic groups are scattered across all areas.\n",
        "\n",
        "When I try to find the locations of the neighborhoods using geolocator app, it gave me no results for two neighborhoods. I could have obtained the locations for those two neighborhoods manually. Since it is just less than 3 % of the total data, I decided that not to put time on that. On the other hand, I like to use this learning algorithm for other towns. Therefore, it might be wise to stick to programmable solutions.\n",
        "\n",
        "Then I obtained the amenities around each neighborhood. I found that the total number of amenities around each neighborhood ranges from 1 to ~70. According to the plot I created, the Central West End neighborhood has the best amenities around it with only 3.3 miles away from the workplace. There were a total of 811 venues covering 177 unique categories.\n",
        "\n",
        "Then I found the frequency of each venue type belongs to each neighborhood created a new data frame. After adding the miles to work data column to this data frame, I used to use this as the input for the K-means algorithm.\n",
        "\n",
        "I decided to use the K-means algorithm because of it very simple and fast for finding similar features in unlabeled data. I search through different values of Ks. Using the elbow method, I found that K = 3 would give us the optimum results. All 77 neighborhoods were divided into 3 categories by K-means."
      ]
    },
    {
      "cell_type": "markdown",
      "metadata": {
        "id": "pL1s7ksnbJ3_",
        "colab_type": "text"
      },
      "source": [
        "### 4.1 Average cluster results\n",
        "Let's investigate these three categories in more details by averaging different numbers of data."
      ]
    },
    {
      "cell_type": "code",
      "metadata": {
        "id": "o01z4CsY6Ila",
        "colab_type": "code",
        "outputId": "41efff8d-63b9-4a1b-9eb7-0248bab34067",
        "colab": {
          "base_uri": "https://localhost:8080/",
          "height": 186
        }
      },
      "source": [
        "df_groups = pd.merge(st_louis_venue_numbers,st_louis_merged[['Neighborhood','Population','White','Black','Cluster Labels']],on = 'Neighborhood', how = 'left')\n",
        "#df_groups.reset_index()\n",
        "print(df_groups.shape)\n",
        "df_groups2 = df_groups.groupby('Cluster Labels').mean()\n",
        "df_groups2.head()"
      ],
      "execution_count": 0,
      "outputs": [
        {
          "output_type": "stream",
          "text": [
            "(76, 7)\n"
          ],
          "name": "stdout"
        },
        {
          "output_type": "execute_result",
          "data": {
            "text/html": [
              "<div>\n",
              "<style scoped>\n",
              "    .dataframe tbody tr th:only-of-type {\n",
              "        vertical-align: middle;\n",
              "    }\n",
              "\n",
              "    .dataframe tbody tr th {\n",
              "        vertical-align: top;\n",
              "    }\n",
              "\n",
              "    .dataframe thead th {\n",
              "        text-align: right;\n",
              "    }\n",
              "</style>\n",
              "<table border=\"1\" class=\"dataframe\">\n",
              "  <thead>\n",
              "    <tr style=\"text-align: right;\">\n",
              "      <th></th>\n",
              "      <th>Venue Category</th>\n",
              "      <th>miles_to_work</th>\n",
              "      <th>Population</th>\n",
              "      <th>White</th>\n",
              "      <th>Black</th>\n",
              "    </tr>\n",
              "    <tr>\n",
              "      <th>Cluster Labels</th>\n",
              "      <th></th>\n",
              "      <th></th>\n",
              "      <th></th>\n",
              "      <th></th>\n",
              "      <th></th>\n",
              "    </tr>\n",
              "  </thead>\n",
              "  <tbody>\n",
              "    <tr>\n",
              "      <th>0.0</th>\n",
              "      <td>10.296296</td>\n",
              "      <td>3.495589</td>\n",
              "      <td>4076.481481</td>\n",
              "      <td>27.970370</td>\n",
              "      <td>64.496296</td>\n",
              "    </tr>\n",
              "    <tr>\n",
              "      <th>1.0</th>\n",
              "      <td>10.076923</td>\n",
              "      <td>4.788743</td>\n",
              "      <td>4542.884615</td>\n",
              "      <td>55.926923</td>\n",
              "      <td>37.973077</td>\n",
              "    </tr>\n",
              "    <tr>\n",
              "      <th>2.0</th>\n",
              "      <td>11.782609</td>\n",
              "      <td>2.851308</td>\n",
              "      <td>3371.565217</td>\n",
              "      <td>33.813043</td>\n",
              "      <td>60.439130</td>\n",
              "    </tr>\n",
              "  </tbody>\n",
              "</table>\n",
              "</div>"
            ],
            "text/plain": [
              "                Venue Category  miles_to_work  ...      White      Black\n",
              "Cluster Labels                                 ...                      \n",
              "0.0                  10.296296       3.495589  ...  27.970370  64.496296\n",
              "1.0                  10.076923       4.788743  ...  55.926923  37.973077\n",
              "2.0                  11.782609       2.851308  ...  33.813043  60.439130\n",
              "\n",
              "[3 rows x 5 columns]"
            ]
          },
          "metadata": {
            "tags": []
          },
          "execution_count": 31
        }
      ]
    },
    {
      "cell_type": "markdown",
      "metadata": {
        "id": "YAuaHbSgIufs",
        "colab_type": "text"
      },
      "source": [
        "Notice that, I did not give the demographic data as input. The reason I didn't do it because original data suggested that different ethnic groups are already concentrated into some parts of the town, north -black, south -white, center -mixed. But it very interesting to notice that both K group 0 and 3 are black-dominated, K Group 1 is black and white roughly equally distributed. Notice that K groups are nicely scattered around the map. If any, one can expect that all ethnics should have mixed numbers. Yet, different K-clustering have their own identical demographic variations, which is definitely unexpected and very interesting. In terms of the miles to work, K group 2 have an edge. On the other hand, the total number of venues are about the same for all three categories. **According to these results, my personal choice is a K - 2 group due to the closer distance to work and more close by venues.**\n",
        "\n"
      ]
    },
    {
      "cell_type": "markdown",
      "metadata": {
        "id": "XKsAXS2kbsGn",
        "colab_type": "text"
      },
      "source": [
        "### 4.2 Graphical representation of best Neighborhoods\n",
        "Let's try to visualize this graphically"
      ]
    },
    {
      "cell_type": "code",
      "metadata": {
        "id": "-xXlvXBMAkYq",
        "colab_type": "code",
        "outputId": "ddaa509b-ccd9-4891-9cf7-5211db0aff4e",
        "colab": {
          "base_uri": "https://localhost:8080/",
          "height": 576
        }
      },
      "source": [
        "\n",
        "\n",
        "colors = df_groups['Cluster Labels'].transpose()\n",
        "\n",
        "colors[colors == 0] = 'red'\n",
        "colors[colors == 1] = 'blue'\n",
        "colors[colors == 2] = 'green'\n",
        "\n",
        "ax = df_groups.plot.bar(x = 'Neighborhood', y = 'Venue Category', figsize=(13,5)\n",
        "      , color = colors)\n",
        "\n",
        "# print(colors)\n",
        "ax.set_ylabel('Total number of Venues')\n",
        "ax.legend(bbox_to_anchor=(1, 1.))\n",
        "ax.spines['right'].set_visible(False)\n",
        "ax.spines['top'].set_visible(False)\n",
        "#ax.get_legend()\n",
        "\n",
        "\n",
        "\n",
        "for i, v in enumerate(st_louis_venue_numbers['Venue Category']):\n",
        "    ax.text(i-0.25, v + 1, \n",
        "            str(round(st_louis_venue_numbers.miles_to_work[i],1)) + ' mi', \n",
        "            color='k',rotation = 90, verticalalignment = 'bottom')\n",
        "ax.title.set_text('Total number of venues for eath neighborhood \\nMiles to work also shown on bar tops')\n",
        "\n",
        "# Add legend manually\n",
        "import matplotlib.patches as mpatches\n",
        "red_patch = mpatches.Patch(color='red', label='Group 0')\n",
        "blue_patch = mpatches.Patch(color='blue', label='Group 1')\n",
        "green_patch = mpatches.Patch(color='green', label='Group 2')\n",
        "\n",
        "lg = plt.legend(handles=[red_patch, blue_patch, green_patch])"
      ],
      "execution_count": 0,
      "outputs": [
        {
          "output_type": "stream",
          "text": [
            "/usr/local/lib/python3.6/dist-packages/ipykernel_launcher.py:5: SettingWithCopyWarning: \n",
            "A value is trying to be set on a copy of a slice from a DataFrame\n",
            "\n",
            "See the caveats in the documentation: http://pandas.pydata.org/pandas-docs/stable/indexing.html#indexing-view-versus-copy\n",
            "  \"\"\"\n"
          ],
          "name": "stderr"
        },
        {
          "output_type": "display_data",
          "data": {
            "image/png": "[encoded data removed]",
            "text/plain": [
              "<Figure size 936x360 with 1 Axes>"
            ]
          },
          "metadata": {
            "tags": []
          }
        }
      ]
    },
    {
      "cell_type": "markdown",
      "metadata": {
        "id": "t2ft8hybNg_n",
        "colab_type": "text"
      },
      "source": [
        "Since I like group 2 and closer distance to work, I would choose Downtown as my top spot which has 50+ closeby venues and only half a mile away from the work. If I do not like it, then I go for Downtown West, Forest Park South East, etc. "
      ]
    },
    {
      "cell_type": "markdown",
      "metadata": {
        "id": "iSuwHOwcPKye",
        "colab_type": "text"
      },
      "source": [
        "## 5.0 Discussion\n",
        "\n",
        "The K-means algorithm was successfully able to suggest the best neighborhood to live around St. Louis. The best neighborhoods I choose are showing in green in the figure above. My choise of best neighborhood based on the number of close-by venues and closer distance to the workplace.\n",
        "\n",
        "While demographic data were available for each neighborhood, I have not used those data in this study. However, one might consider that it a deciding factor and should be included in this study. There could be multiple other things I didn't consider. Some of those things could be access to a good public school, the ratings of the closest public school, distance to a bus station, a train station, or an airport, crime rates around the neighborhood, etc. If were to include those data, a more completed model can be developed.\n",
        "\n",
        "Also, in the east of St. Louis there is the Illinois -Missouri border. The neighborhoods towards east which are close to St. Louis but not belongs to Missuiri are not included. I think these neighborhood can be included in the study.\n"
      ]
    },
    {
      "cell_type": "markdown",
      "metadata": {
        "id": "HwO5kRkDTJfY",
        "colab_type": "text"
      },
      "source": [
        "# 6.0 Conclusion"
      ]
    },
    {
      "cell_type": "markdown",
      "metadata": {
        "id": "a_Hge4lWVFW3",
        "colab_type": "text"
      },
      "source": [
        "Using publicly available data and K-mean machine learning algorithm, I was able to find several prospective neighborhoods. It is incredible that without visiting a faraway town, we can do a detailed analysis. \n",
        "\n",
        "I choose location data of venues nearby every neighborhood in St. Louis to figure out the best place to live. One of the requirements I have is to live close by to save some driving time.  However, there is a huge room to improve this algorithm by including additional data like school ratings, crime information, distance to public transportation, etc. Not only adding data but also eliminating redundant data is also important by investigating each features more carefully. \n",
        "\n",
        "All in all, I am very comfortable that this machine learning K-clustering was very successful at providing me the best neighborhood to live in a foreign city.\n",
        "\n"
      ]
    },
    {
      "cell_type": "markdown",
      "metadata": {
        "id": "hd01fcLGXtTx",
        "colab_type": "text"
      },
      "source": [
        "## 7.0 Acknowladgement\n",
        "This project was not possible without instructors from IBM - Coursera, therefore I thank all the IBM instructors who teach the cources in Data Science Professional Certificate. I also thank free data providers, wikipedia and foursquare. This application was initlaly developed using IBM cloud and watson free account and later completed in Google Colab project. I thank both of these services."
      ]
    },
    {
      "cell_type": "markdown",
      "metadata": {
        "id": "botduneZWKHA",
        "colab_type": "text"
      },
      "source": [
        "# 8.0 References\n",
        "\n",
        "1. Main data obtained from the site: 'https://en.wikipedia.org/wiki/List_of_neighborhoods_of_St._Louis'\n",
        "\n",
        "2. Scikit-learn: Machine Learning in Python, Pedregosa et al., JMLR 12, pp. 2825-2830, 2011\n",
        "\n",
        "3. Map data provider: https://foursquare.com/\n"
      ]
    }
  ]
}