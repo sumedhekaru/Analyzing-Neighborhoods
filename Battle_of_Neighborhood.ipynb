{
  "nbformat": 4,
  "nbformat_minor": 0,
  "metadata": {
    "kernelspec": {
      "display_name": "Python 3.6",
      "name": "python3",
      "language": "python"
    },
    "language_info": {
      "mimetype": "text/x-python",
      "nbconvert_exporter": "python",
      "version": "3.6.8",
      "name": "python",
      "pygments_lexer": "ipython3",
      "file_extension": ".py",
      "codemirror_mode": {
        "version": 3,
        "name": "ipython"
      }
    },
    "colab": {
      "name": "Battle-of-Neighborhood.ipynb",
      "version": "0.3.2",
      "provenance": [],
      "collapsed_sections": [
        "NH6PeSGNt4CT"
      ],
      "include_colab_link": true
    }
  },
  "cells": [
    {
      "cell_type": "markdown",
      "metadata": {
        "id": "view-in-github",
        "colab_type": "text"
      },
      "source": [
        "<a href=\"https://colab.research.google.com/github/sumedhekaru/Coursera_Capstone/blob/master/Battle_of_Neighborhood.ipynb\" target=\"_parent\"><img src=\"https://colab.research.google.com/assets/colab-badge.svg\" alt=\"Open In Colab\"/></a>"
      ]
    },
    {
      "cell_type": "markdown",
      "metadata": {
        "collapsed": true,
        "id": "ufDAeXb3t4AG",
        "colab_type": "text"
      },
      "source": [
        "# Battle of Neighborhood\n",
        "This is the capstone project created to fulfill the requirements of the Data Science Professional Certificate offered by IBM through Coursera. The idea is to use the techniques learned throughout the specialization to solve a real-world problem using data science. "
      ]
    },
    {
      "cell_type": "markdown",
      "metadata": {
        "id": "kLBGrxvZt4AI",
        "colab_type": "text"
      },
      "source": [
        "## Contents\n",
        "### 1. Introduction - Five Ws\n",
        "&emsp; 1.1 What is the problem? <br>\n",
        "&emsp; 1.2 Where is this? <br>\n",
        "&emsp; 1.3 When is this applicable? <br>\n",
        "&emsp; 1.4 Why do we do this? <br>\n",
        "&emsp; 1.5 Who cares? <br>\n",
        "\n",
        "### 2. Data Selection\n",
        "\n",
        "### 3. Data Preparation\n",
        "Under construction\n",
        "\n",
        "### 4. Data Analyze\n",
        "Under Construction\n",
        "\n",
        "### 5. Results\n",
        "Under construction\n",
        "\n",
        "### 6. Discussion\n",
        "Under construction\n"
      ]
    },
    {
      "cell_type": "markdown",
      "metadata": {
        "id": "ThF9ItR-t4AJ",
        "colab_type": "text"
      },
      "source": [
        "## Contents\n",
        "### 1. Introduction - Five Ws\n",
        "#### &emsp; 1.1 What is the problem?\n",
        "I work in downtown Memphis, TN. In general, I live 30 mins away from work, when there is no traffic. However, since I am commuting when most of the people are commuting to there work, there is almost always traffic on the roads. So it is easily 45-60 mins one-way trip. Being optimistic, considering one-way is 45 mins, it is 90 mins for a round trip. For a week with 5 workdays,  it is 7.5 hours, for a month it is 30 hours, for a year it is 16 days. So for a given year, I am wasting full 16 days counting days and nights riding my car wasting my time. \n",
        "\n",
        "**So the problem is, where I should move to save some time from driving but still have good amenities such as restaurants, cafes, parks, shopping, etc within reachable distance.** \n",
        "\n",
        "Also, one of the jobs I was being interviewed is in St. Louis, Illinois. I want to do a similar analyze there to find out if I can find a good neigbhorhood to live.\n",
        "\n",
        "#### &emsp; 1.2 Where is this?\n",
        "It is Memphis, Tennesse, where birds sing and elephants bath, just kidding. But it is definitely is a fantastic place to live. There are tons of things to do around here. The population was roughly 700 k and rising. The job market is good. Most people are friendly. You should have some BBQs around the town, you won't leave Memphis.\n",
        "\n",
        "#### &emsp; 1.3 When is this applicable?\n",
        "I know this is a changing world! The time will change everything. The time of this analysis is August 2019. So don't blame me if you decided to move based on this data analysis in 2050. But the good thing is, I developed the program to pull the latest data. So if you re-run the program in 2050, you should be (may be...) fine? \n",
        "\n",
        "#### &emsp; 1.4 Why do we do this?\n",
        "It is to primarily to save time. I am spending so much time on the road, 16 full days per year! just to commute.  People say time is money. So it is to save me some money. I am sure if you are in the same boat, following this, you might able to save some money with this. Who doesn't like saving money for next cruise trip? Waight, is someone paying me when I save my own time? Ney.. I will use this saved time to play with my daughters. Not everything is money. I think I have bipolar disorder.\n",
        "\n",
        "#### &emsp; 1.5 Who cares?\n",
        "Do you even here me? It is to save money (really the time). If you are someone who cares about saving money (time), you should read. If you have plenty of those lying around that you don't know what to do, this is not for you. You should spend some money buying a boat and traveling the world instead of reading this. \n"
      ]
    },
    {
      "cell_type": "markdown",
      "metadata": {
        "id": "0pEUjnqAt4AK",
        "colab_type": "text"
      },
      "source": [
        "## 2. Data\n",
        "We need data to do our analysis. This section will gather all the required data and do the clean-up job so that the data are usable. I am hoping to gather neighborhood names from Wikipedia (use web scraping with BeautifulSoup package) and use FourSquare to obtain point of interest around the selected neighborhoods.\n",
        "\n",
        "1.  Memphis Neighborhoods - The names of the Memphis neighborhoods will be obtained from the Wikipedia page\n",
        "https://en.wikipedia.org/wiki/List_of_neighborhoods_in_Memphis,_Tennessee This page just has the names of the neighborhoods. But that is all I need to get started. I can find the address, latitude, longitude, nearby point of interest details using  FourSquare module.\n",
        "\n",
        "1. As mentioned before, I am going to use FourSquare to obtain point of interest data.\n",
        "\n",
        "1. Later I am going to analize St. Louis data. Similar to Memphis, all I need is neighborhoods of St. Lois. The following wikipedia page has not only the neighborrod names, but also some Demographic data that I can use to do more analyze. https://en.wikipedia.org/wiki/List_of_neighborhoods_of_St._Louis"
      ]
    },
    {
      "cell_type": "markdown",
      "metadata": {
        "id": "oExbCB-5t4AK",
        "colab_type": "text"
      },
      "source": [
        "### 2.1 Load the required libraries.\n",
        "I will start by importing some libraries. These libraries are not necessary to use in this section. But to keep it clean, I always like to have all my libraries are loaded at the top of the program. That way I know which modules I have used in this project."
      ]
    },
    {
      "cell_type": "code",
      "metadata": {
        "id": "PAlH-H_6t4AL",
        "colab_type": "code",
        "outputId": "a940b17e-0d15-4140-aae7-c3ceeccb3890",
        "colab": {
          "base_uri": "https://localhost:8080/",
          "height": 34
        }
      },
      "source": [
        "# Install beautiul soup 4 (If not already installed!)\n",
        "# This package will be used for web scraping.\n",
        "try:\n",
        "    from bs4 import BeautifulSoup as bs\n",
        "    print('Beautiful Soup is ready for your service!')\n",
        "except:\n",
        "    !conda install -c anaconda beautifulsoup4 -y\n",
        "    from bs4 import BeautifulSoup as bs\n",
        "    print('Beautiful Soup is installed and ready for your service!')"
      ],
      "execution_count": 82,
      "outputs": [
        {
          "output_type": "stream",
          "text": [
            "Beautiful Soup is ready for your service!\n"
          ],
          "name": "stdout"
        }
      ]
    },
    {
      "cell_type": "code",
      "metadata": {
        "id": "038InusMt4AP",
        "colab_type": "code",
        "outputId": "6b9cccc7-01d1-44d5-8be5-a8de6dc2e897",
        "colab": {
          "base_uri": "https://localhost:8080/",
          "height": 34
        }
      },
      "source": [
        "# Install module to convert an address into latitude and longitude values\n",
        "try:\n",
        "    from geopy.geocoders import Nominatim \n",
        "    from geopy import distance\n",
        "    print('GeoCorder is ready for your service!')\n",
        "except:\n",
        "    !conda install -c conda-forge geopy --yes \n",
        "    from geopy.geocoders import Nominatim \n",
        "    from geopy import distance\n",
        "    print('Geocorder is installed and ready for your service!')\n",
        "    "
      ],
      "execution_count": 83,
      "outputs": [
        {
          "output_type": "stream",
          "text": [
            "GeoCorder is ready for your service!\n"
          ],
          "name": "stdout"
        }
      ]
    },
    {
      "cell_type": "code",
      "metadata": {
        "id": "o6JlmV9ot4AT",
        "colab_type": "code",
        "outputId": "a87239b5-b33b-4965-9a94-e0f7fd5413c8",
        "colab": {
          "base_uri": "https://localhost:8080/",
          "height": 34
        }
      },
      "source": [
        "# Install Folium - the map rendering library\n",
        "try:\n",
        "    import folium\n",
        "    print('Folium is ready for your service!')\n",
        "except:\n",
        "    !conda install -c conda-forge folium=0.5.0\n",
        "    import folium\n",
        "    print('Foalium is installed and ready for your service!')"
      ],
      "execution_count": 84,
      "outputs": [
        {
          "output_type": "stream",
          "text": [
            "Folium is ready for your service!\n"
          ],
          "name": "stdout"
        }
      ]
    },
    {
      "cell_type": "code",
      "metadata": {
        "id": "3wkXh_Aft4AW",
        "colab_type": "code",
        "colab": {}
      },
      "source": [
        "# import other libraries\n",
        "import pandas as pd\n",
        "import requests as rs # to downolad web data\n",
        "import numpy as np \n",
        "\n",
        "import matplotlib.cm as cm\n",
        "import matplotlib.colors as colors\n",
        "import matplotlib.pyplot as plt\n",
        "\n",
        "import json # library to handle JSON files\n",
        "from pandas.io.json import json_normalize # tranform JSON file into a pandas dataframe\n",
        "\n",
        "# import k-means from clustering stage\n",
        "from sklearn.cluster import KMeans\n"
      ],
      "execution_count": 0,
      "outputs": []
    },
    {
      "cell_type": "markdown",
      "metadata": {
        "id": "IOee8sn0t4AY",
        "colab_type": "text"
      },
      "source": [
        "### 2.2 Get the neighborhood names\n",
        "We are going to analyze and compare Memphis, TN where I live currently and St. Louis, Missouri. Let's work on Memphis first. The first thing we need is neighborhood data, mainly the names of the neighborhoods. There could be multiple sources that I could get this information, but I decided to go with [this](https://en.wikipedia.org/wiki/List_of_neighborhoods_in_Memphis,_Tennessee) Wikipedia page. I am going to use Beautiful Soup to scrape the data out from this page. That way, if the neighborhood list is updated in the future, we can still run the scripts to find the latest data.\n",
        "\n",
        "Let's start by downloading the web page data using request and then use BeautifulSoup to create a 'soup'."
      ]
    },
    {
      "cell_type": "code",
      "metadata": {
        "id": "bLJuTQKSt4AZ",
        "colab_type": "code",
        "colab": {}
      },
      "source": [
        "# Following wikipedia page has all the neighborhood data. \n",
        "# Let's use Beautiful Soup to get the required data.\n",
        "url = 'https://en.wikipedia.org/wiki/List_of_neighborhoods_in_Memphis,_Tennessee'\n",
        "source = rs.get(url)\n",
        "soup = bs(source.content,'lxml')\n",
        " # print(soup.prettify())"
      ],
      "execution_count": 0,
      "outputs": []
    },
    {
      "cell_type": "markdown",
      "metadata": {
        "id": "TlZp9JmJQ19m",
        "colab_type": "text"
      },
      "source": [
        "I found that the required data is in the body section of the webpage. There is a table of content at the top of the webpage that I can obtain the names of different burrows. Table of content can be scraped using 'toctext' inside a 'span' section."
      ]
    },
    {
      "cell_type": "code",
      "metadata": {
        "id": "vmwi7X6Xt4Ac",
        "colab_type": "code",
        "outputId": "474c76be-285b-42bd-bbea-e462f800ef23",
        "colab": {
          "base_uri": "https://localhost:8080/",
          "height": 71
        }
      },
      "source": [
        "tocs = soup.body.findAll('span',{'class' :'toctext' })\n",
        "\n",
        "# Obtain burrows\n",
        "burrow = []\n",
        "\n",
        "for item in tocs:\n",
        "    burrow.append(item.text)\n",
        "\n",
        "print(burrow)\n",
        "\n",
        "# The last item of the TOC text was \"See also\" which direct you to additional \n",
        "# similar info. We don't need that here. So let's get rid of that. Check the \n",
        "# last item of the printed results.\n",
        "\n",
        "burrow = burrow[0:-1]\n",
        "print(burrow)"
      ],
      "execution_count": 87,
      "outputs": [
        {
          "output_type": "stream",
          "text": [
            "['Downtown', 'Midtown', 'University District', 'East Memphis', 'North Memphis', 'Northeast', 'South Memphis', 'Southeast', 'East Parkway District', 'See also']\n",
            "['Downtown', 'Midtown', 'University District', 'East Memphis', 'North Memphis', 'Northeast', 'South Memphis', 'Southeast', 'East Parkway District']\n"
          ],
          "name": "stdout"
        }
      ]
    },
    {
      "cell_type": "markdown",
      "metadata": {
        "id": "vZD68ffdSoc-",
        "colab_type": "text"
      },
      "source": [
        "The neighborhood data are in a 'ul' section inside the body continents of the webpage. I used findAll with 'ul' tag to obtain the related lines and followed the same techniques with 'li' tag to find all the raws of the table."
      ]
    },
    {
      "cell_type": "code",
      "metadata": {
        "id": "SDybc3ARt4Af",
        "colab_type": "code",
        "outputId": "ac17ed72-ee3b-40f3-d48c-87a59647b951",
        "colab": {
          "base_uri": "https://localhost:8080/",
          "height": 359
        }
      },
      "source": [
        "contents = soup.body.findAll('ul')\n",
        "\n",
        "# Create array with burrow and neighborhood data\n",
        "neighborhood = []\n",
        "\n",
        "for i in range(1,len(burrow)+1):\n",
        "    for litag in contents[i].findAll('li'):\n",
        "        #print(litag.text)\n",
        "        neighborhood.append([burrow[i-1],litag.text])\n",
        "\n",
        "#print(neighborhood)\n",
        "\n",
        "# Create the pandas data frame\n",
        "memphis_df = pd.DataFrame(neighborhood, columns=['Burrow','Neighborhood'])\n",
        "\n",
        "\n",
        "memphis_df.sample(n=10) # See random 10 data points"
      ],
      "execution_count": 88,
      "outputs": [
        {
          "output_type": "execute_result",
          "data": {
            "text/html": [
              "<div>\n",
              "<style scoped>\n",
              "    .dataframe tbody tr th:only-of-type {\n",
              "        vertical-align: middle;\n",
              "    }\n",
              "\n",
              "    .dataframe tbody tr th {\n",
              "        vertical-align: top;\n",
              "    }\n",
              "\n",
              "    .dataframe thead th {\n",
              "        text-align: right;\n",
              "    }\n",
              "</style>\n",
              "<table border=\"1\" class=\"dataframe\">\n",
              "  <thead>\n",
              "    <tr style=\"text-align: right;\">\n",
              "      <th></th>\n",
              "      <th>Burrow</th>\n",
              "      <th>Neighborhood</th>\n",
              "    </tr>\n",
              "  </thead>\n",
              "  <tbody>\n",
              "    <tr>\n",
              "      <th>20</th>\n",
              "      <td>Midtown</td>\n",
              "      <td>Hein Park</td>\n",
              "    </tr>\n",
              "    <tr>\n",
              "      <th>83</th>\n",
              "      <td>South Memphis</td>\n",
              "      <td>Walker Homes</td>\n",
              "    </tr>\n",
              "    <tr>\n",
              "      <th>8</th>\n",
              "      <td>Downtown</td>\n",
              "      <td>Speedway Terrace</td>\n",
              "    </tr>\n",
              "    <tr>\n",
              "      <th>76</th>\n",
              "      <td>South Memphis</td>\n",
              "      <td>Nehemiah</td>\n",
              "    </tr>\n",
              "    <tr>\n",
              "      <th>63</th>\n",
              "      <td>South Memphis</td>\n",
              "      <td>Diamond Estates</td>\n",
              "    </tr>\n",
              "    <tr>\n",
              "      <th>28</th>\n",
              "      <td>University District</td>\n",
              "      <td>Normal Station</td>\n",
              "    </tr>\n",
              "    <tr>\n",
              "      <th>33</th>\n",
              "      <td>East Memphis</td>\n",
              "      <td>Berryhill</td>\n",
              "    </tr>\n",
              "    <tr>\n",
              "      <th>14</th>\n",
              "      <td>Midtown</td>\n",
              "      <td>Belleair</td>\n",
              "    </tr>\n",
              "    <tr>\n",
              "      <th>12</th>\n",
              "      <td>Downtown</td>\n",
              "      <td>Winchester Park</td>\n",
              "    </tr>\n",
              "    <tr>\n",
              "      <th>10</th>\n",
              "      <td>Downtown</td>\n",
              "      <td>Victorian Village</td>\n",
              "    </tr>\n",
              "  </tbody>\n",
              "</table>\n",
              "</div>"
            ],
            "text/plain": [
              "                 Burrow       Neighborhood\n",
              "20              Midtown          Hein Park\n",
              "83        South Memphis       Walker Homes\n",
              "8              Downtown   Speedway Terrace\n",
              "76        South Memphis           Nehemiah\n",
              "63        South Memphis    Diamond Estates\n",
              "28  University District     Normal Station\n",
              "33         East Memphis          Berryhill\n",
              "14              Midtown           Belleair\n",
              "12             Downtown    Winchester Park\n",
              "10             Downtown  Victorian Village"
            ]
          },
          "metadata": {
            "tags": []
          },
          "execution_count": 88
        }
      ]
    },
    {
      "cell_type": "markdown",
      "metadata": {
        "id": "zzXkp4PKYF_p",
        "colab_type": "text"
      },
      "source": [
        "### 2.3 Obtain the latitude, longitude, address, and miles to work for each neighborhood"
      ]
    },
    {
      "cell_type": "markdown",
      "metadata": {
        "id": "6JgvzeXLUZyR",
        "colab_type": "text"
      },
      "source": [
        "First, I like to create a function to obtain the following additional information for each neighborhood.\n",
        "1. Latitude\n",
        "1. Longitude\n",
        "1. Address\n",
        "1. Distance to the workplace.\n",
        "Since I am doing this again and again for both Memphis and St. Louis, it makes sense to create a function for this.\n",
        " \n",
        "This function expects 5 inputs, a pandas data frame with a column named 'Neighborhood', city, state, workplace latitude, and workplace longitude. It will return the same pandas data frame with above four additional columns."
      ]
    },
    {
      "cell_type": "code",
      "metadata": {
        "id": "Qz23E5P_t4Aq",
        "colab_type": "code",
        "colab": {}
      },
      "source": [
        "def find_lat_lon_dist(df,town,state,lat0,lon0):\n",
        "# This is function to add additional location information to the data frame df.\n",
        "#\n",
        "# Input:\n",
        "#     df - input dataframe (must have a column named \"Neighborhood\")\n",
        "#     town, state - Town and the state of the neighborhoods\n",
        "#     lat0, lon0 - latitude and longitude of the work place where I commute everyday\n",
        "#\n",
        "# output: data frame df with additional 4 columns containing Latitude, Longitude, \n",
        "#         Address of the neighborhoods and miles_to_work.\n",
        "\n",
        "\n",
        "  # Create Nominatim object to obtain the address info\n",
        "  geolocator = Nominatim(user_agent=\"sum's_agent\", format_string=\"%s \" + town + ', ' + state )\n",
        "\n",
        "  # Temporary variable to save data\n",
        "  Lat = []\n",
        "  Lon =[]\n",
        "  address = []\n",
        "  distance_to_work = []\n",
        "  \n",
        "  # Looping trough every line of the dataframe\n",
        "  for i in range(df.shape[0]):\n",
        "      try:\n",
        "        # Get the data using the geocode\n",
        "        location = geolocator.geocode(df['Neighborhood'][i])\n",
        "        print('.', end = ' ')\n",
        "      except:\n",
        "        # print('Error: '+ df['Neighborhood'][i])\n",
        "        location = None\n",
        "    \n",
        "      # If we did find the location, just save those in the temporary variables\n",
        "      if location != None:\n",
        "          Lat.append(location.latitude)\n",
        "          Lon.append(location.longitude)\n",
        "          address.append(location.address)\n",
        "          distance_to_work.append(distance.distance((location.latitude,location.longitude),(lat0,lon0)).miles)\n",
        "      \n",
        "      # if we can't find the data (return None by the geocode, let's make those data points as nan)\n",
        "      else:\n",
        "          Lat.append('NaN')\n",
        "          Lon.append('NaN')\n",
        "          address.append('NaN')\n",
        "          distance_to_work.append('NaN')\n",
        "          # print('data not found:'+ df['Neighborhood'][i])\n",
        "  \n",
        "  # Add new column to the dataframe\n",
        "  df['Latitude'] = Lat\n",
        "  df['Longitude'] = Lon\n",
        "  df['Address'] = address\n",
        "  df['miles_to_work'] = distance_to_work\n",
        "  \n",
        "  # Return the new dataframe with added columns\n",
        "  return df"
      ],
      "execution_count": 0,
      "outputs": []
    },
    {
      "cell_type": "code",
      "metadata": {
        "id": "cuW6PbPat4At",
        "colab_type": "code",
        "outputId": "3322b1a9-622f-436d-d3f6-09b346b169c8",
        "colab": {
          "base_uri": "https://localhost:8080/",
          "height": 292
        }
      },
      "source": [
        "town = 'Memphis'\n",
        "state = 'TN'\n",
        "lat0 =  35.1389308\n",
        "lon0 = -90.0281922\n",
        "\n",
        "memphis_df = find_lat_lon_dist(memphis_df,town, state, lat0, lon0)\n",
        "memphis_df.sample(n = 5) # let's see some random rows"
      ],
      "execution_count": 90,
      "outputs": [
        {
          "output_type": "stream",
          "text": [
            ". . . . . . . . . . . . . . . . . . . . . . . . . . . . . . . . . . . . . . . . . . . . . . . . . . . . . . . . . . . . . . . . . . . . . . . . . . . . . . . . . . . . . . . . . . . . . . . . . . . . . . . . . . . "
          ],
          "name": "stdout"
        },
        {
          "output_type": "execute_result",
          "data": {
            "text/html": [
              "<div>\n",
              "<style scoped>\n",
              "    .dataframe tbody tr th:only-of-type {\n",
              "        vertical-align: middle;\n",
              "    }\n",
              "\n",
              "    .dataframe tbody tr th {\n",
              "        vertical-align: top;\n",
              "    }\n",
              "\n",
              "    .dataframe thead th {\n",
              "        text-align: right;\n",
              "    }\n",
              "</style>\n",
              "<table border=\"1\" class=\"dataframe\">\n",
              "  <thead>\n",
              "    <tr style=\"text-align: right;\">\n",
              "      <th></th>\n",
              "      <th>Burrow</th>\n",
              "      <th>Neighborhood</th>\n",
              "      <th>Latitude</th>\n",
              "      <th>Longitude</th>\n",
              "      <th>Address</th>\n",
              "      <th>miles_to_work</th>\n",
              "    </tr>\n",
              "  </thead>\n",
              "  <tbody>\n",
              "    <tr>\n",
              "      <th>99</th>\n",
              "      <td>Southeast</td>\n",
              "      <td>Parkway Village</td>\n",
              "      <td>35.0643</td>\n",
              "      <td>-89.9062</td>\n",
              "      <td>Parkway Village, Shelby County, Tennessee, 381...</td>\n",
              "      <td>8.61772</td>\n",
              "    </tr>\n",
              "    <tr>\n",
              "      <th>90</th>\n",
              "      <td>Southeast</td>\n",
              "      <td>Castalia</td>\n",
              "      <td>35.0946</td>\n",
              "      <td>-89.9949</td>\n",
              "      <td>Castalia Street, Memphis, Shelby County, Tenne...</td>\n",
              "      <td>3.58971</td>\n",
              "    </tr>\n",
              "    <tr>\n",
              "      <th>94</th>\n",
              "      <td>Southeast</td>\n",
              "      <td>Fox Meadows</td>\n",
              "      <td>NaN</td>\n",
              "      <td>NaN</td>\n",
              "      <td>NaN</td>\n",
              "      <td>NaN</td>\n",
              "    </tr>\n",
              "    <tr>\n",
              "      <th>57</th>\n",
              "      <td>Northeast</td>\n",
              "      <td>Heights</td>\n",
              "      <td>35.1765</td>\n",
              "      <td>-90.0173</td>\n",
              "      <td>Sylvan Heights, Shelby County, Tennessee, 3810...</td>\n",
              "      <td>2.66068</td>\n",
              "    </tr>\n",
              "    <tr>\n",
              "      <th>9</th>\n",
              "      <td>Downtown</td>\n",
              "      <td>Uptown/Greenlaw</td>\n",
              "      <td>NaN</td>\n",
              "      <td>NaN</td>\n",
              "      <td>NaN</td>\n",
              "      <td>NaN</td>\n",
              "    </tr>\n",
              "  </tbody>\n",
              "</table>\n",
              "</div>"
            ],
            "text/plain": [
              "       Burrow  ... miles_to_work\n",
              "99  Southeast  ...       8.61772\n",
              "90  Southeast  ...       3.58971\n",
              "94  Southeast  ...           NaN\n",
              "57  Northeast  ...       2.66068\n",
              "9    Downtown  ...           NaN\n",
              "\n",
              "[5 rows x 6 columns]"
            ]
          },
          "metadata": {
            "tags": []
          },
          "execution_count": 90
        }
      ]
    },
    {
      "cell_type": "markdown",
      "metadata": {
        "id": "AA15gS2BVo62",
        "colab_type": "text"
      },
      "source": [
        "I noticed that Nominatim doesn't give a valid address for some neighbourhoods. I tried to improve this by including the city and the state with the search query. But it didn't improve much. Therefore, I decided to drop those lines with incomplete data rather than trying to search for the address. Because the number of neighbourhoods without the addresses are not many and additinal information may not not worth the time spend for this case."
      ]
    },
    {
      "cell_type": "code",
      "metadata": {
        "id": "40FvsWmEt4Aw",
        "colab_type": "code",
        "outputId": "bab298cb-2488-4591-c3ac-5ba07550f726",
        "colab": {
          "base_uri": "https://localhost:8080/",
          "height": 289
        }
      },
      "source": [
        "# let's drop neighborhoods with incomplete info\n",
        "memphis_df.replace([\"NaN\", 'NaT'], np.nan, inplace = True)\n",
        "memphis_df = memphis_df.dropna().reset_index(drop=True)\n",
        "memphis_df.sample(n = 5)"
      ],
      "execution_count": 91,
      "outputs": [
        {
          "output_type": "execute_result",
          "data": {
            "text/html": [
              "<div>\n",
              "<style scoped>\n",
              "    .dataframe tbody tr th:only-of-type {\n",
              "        vertical-align: middle;\n",
              "    }\n",
              "\n",
              "    .dataframe tbody tr th {\n",
              "        vertical-align: top;\n",
              "    }\n",
              "\n",
              "    .dataframe thead th {\n",
              "        text-align: right;\n",
              "    }\n",
              "</style>\n",
              "<table border=\"1\" class=\"dataframe\">\n",
              "  <thead>\n",
              "    <tr style=\"text-align: right;\">\n",
              "      <th></th>\n",
              "      <th>Burrow</th>\n",
              "      <th>Neighborhood</th>\n",
              "      <th>Latitude</th>\n",
              "      <th>Longitude</th>\n",
              "      <th>Address</th>\n",
              "      <th>miles_to_work</th>\n",
              "    </tr>\n",
              "  </thead>\n",
              "  <tbody>\n",
              "    <tr>\n",
              "      <th>14</th>\n",
              "      <td>University District</td>\n",
              "      <td>Joffre</td>\n",
              "      <td>35.126852</td>\n",
              "      <td>-89.950871</td>\n",
              "      <td>Joffre Avenue, Memphis, Shelby County, Tenness...</td>\n",
              "      <td>4.457314</td>\n",
              "    </tr>\n",
              "    <tr>\n",
              "      <th>30</th>\n",
              "      <td>Northeast</td>\n",
              "      <td>Nutbush</td>\n",
              "      <td>35.185809</td>\n",
              "      <td>-89.779302</td>\n",
              "      <td>Nutbush Place, Memphis, Shelby County, Tenness...</td>\n",
              "      <td>14.455888</td>\n",
              "    </tr>\n",
              "    <tr>\n",
              "      <th>27</th>\n",
              "      <td>North Memphis</td>\n",
              "      <td>Hollywood</td>\n",
              "      <td>35.174534</td>\n",
              "      <td>-89.975367</td>\n",
              "      <td>Hollywood, Shelby County, Tennessee, 38108, USA</td>\n",
              "      <td>3.868881</td>\n",
              "    </tr>\n",
              "    <tr>\n",
              "      <th>1</th>\n",
              "      <td>Downtown</td>\n",
              "      <td>Medical District</td>\n",
              "      <td>35.141978</td>\n",
              "      <td>-90.030331</td>\n",
              "      <td>Medical District, Memphis, Shelby County, Tenn...</td>\n",
              "      <td>0.242469</td>\n",
              "    </tr>\n",
              "    <tr>\n",
              "      <th>45</th>\n",
              "      <td>South Memphis</td>\n",
              "      <td>Westwood</td>\n",
              "      <td>35.029772</td>\n",
              "      <td>-90.092008</td>\n",
              "      <td>Westwood Park, Memphis, Shelby County, Tenness...</td>\n",
              "      <td>8.348759</td>\n",
              "    </tr>\n",
              "  </tbody>\n",
              "</table>\n",
              "</div>"
            ],
            "text/plain": [
              "                 Burrow  ... miles_to_work\n",
              "14  University District  ...      4.457314\n",
              "30            Northeast  ...     14.455888\n",
              "27        North Memphis  ...      3.868881\n",
              "1              Downtown  ...      0.242469\n",
              "45        South Memphis  ...      8.348759\n",
              "\n",
              "[5 rows x 6 columns]"
            ]
          },
          "metadata": {
            "tags": []
          },
          "execution_count": 91
        }
      ]
    },
    {
      "cell_type": "markdown",
      "metadata": {
        "id": "o-Z0RfHOs7Qj",
        "colab_type": "text"
      },
      "source": [
        "I also noticed that there were several neighbourhoods was identified by the Nomitatim is not even belongs to the state of Tennesee. I am not sure the reason for these, but I think somehow nominatim is not registering the city and the state of the search query.  One way to take care of that find those and remove them individually. However, since I am not interested in any neighbourhood more than 30 miles, I can just get rid of those, which should automatically take care of out of the state neighbourhoods."
      ]
    },
    {
      "cell_type": "code",
      "metadata": {
        "id": "aOYhvtw8ux9F",
        "colab_type": "code",
        "outputId": "3ea155e5-fc0c-4167-f53e-fef25cc2693f",
        "colab": {
          "base_uri": "https://localhost:8080/",
          "height": 289
        }
      },
      "source": [
        "# Just keep any data less than 30 miles to the work\n",
        "memphis_df = memphis_df[memphis_df[\"miles_to_work\"] < 30]\n",
        "memphis_df.head()"
      ],
      "execution_count": 92,
      "outputs": [
        {
          "output_type": "execute_result",
          "data": {
            "text/html": [
              "<div>\n",
              "<style scoped>\n",
              "    .dataframe tbody tr th:only-of-type {\n",
              "        vertical-align: middle;\n",
              "    }\n",
              "\n",
              "    .dataframe tbody tr th {\n",
              "        vertical-align: top;\n",
              "    }\n",
              "\n",
              "    .dataframe thead th {\n",
              "        text-align: right;\n",
              "    }\n",
              "</style>\n",
              "<table border=\"1\" class=\"dataframe\">\n",
              "  <thead>\n",
              "    <tr style=\"text-align: right;\">\n",
              "      <th></th>\n",
              "      <th>Burrow</th>\n",
              "      <th>Neighborhood</th>\n",
              "      <th>Latitude</th>\n",
              "      <th>Longitude</th>\n",
              "      <th>Address</th>\n",
              "      <th>miles_to_work</th>\n",
              "    </tr>\n",
              "  </thead>\n",
              "  <tbody>\n",
              "    <tr>\n",
              "      <th>0</th>\n",
              "      <td>Downtown</td>\n",
              "      <td>Linden</td>\n",
              "      <td>35.134366</td>\n",
              "      <td>-90.012674</td>\n",
              "      <td>Linden Avenue, Medical District, Memphis, Shel...</td>\n",
              "      <td>0.933458</td>\n",
              "    </tr>\n",
              "    <tr>\n",
              "      <th>1</th>\n",
              "      <td>Downtown</td>\n",
              "      <td>Medical District</td>\n",
              "      <td>35.141978</td>\n",
              "      <td>-90.030331</td>\n",
              "      <td>Medical District, Memphis, Shelby County, Tenn...</td>\n",
              "      <td>0.242469</td>\n",
              "    </tr>\n",
              "    <tr>\n",
              "      <th>2</th>\n",
              "      <td>Downtown</td>\n",
              "      <td>Winchester Park</td>\n",
              "      <td>35.152504</td>\n",
              "      <td>-90.036226</td>\n",
              "      <td>Winchester Park, Medical District, Memphis, Sh...</td>\n",
              "      <td>1.040376</td>\n",
              "    </tr>\n",
              "    <tr>\n",
              "      <th>3</th>\n",
              "      <td>Midtown</td>\n",
              "      <td>Annesdale</td>\n",
              "      <td>35.125646</td>\n",
              "      <td>-90.017868</td>\n",
              "      <td>Annesdale-Snowden, Shelby County, Tennessee, 3...</td>\n",
              "      <td>1.086544</td>\n",
              "    </tr>\n",
              "    <tr>\n",
              "      <th>4</th>\n",
              "      <td>Midtown</td>\n",
              "      <td>Belleair</td>\n",
              "      <td>35.141008</td>\n",
              "      <td>-89.993866</td>\n",
              "      <td>Belleair Drive, Memphis, Shelby County, Tennes...</td>\n",
              "      <td>1.949036</td>\n",
              "    </tr>\n",
              "  </tbody>\n",
              "</table>\n",
              "</div>"
            ],
            "text/plain": [
              "     Burrow  ... miles_to_work\n",
              "0  Downtown  ...      0.933458\n",
              "1  Downtown  ...      0.242469\n",
              "2  Downtown  ...      1.040376\n",
              "3   Midtown  ...      1.086544\n",
              "4   Midtown  ...      1.949036\n",
              "\n",
              "[5 rows x 6 columns]"
            ]
          },
          "metadata": {
            "tags": []
          },
          "execution_count": 92
        }
      ]
    },
    {
      "cell_type": "markdown",
      "metadata": {
        "id": "ifEQtFS6XfJM",
        "colab_type": "text"
      },
      "source": [
        "### 2.4 Obtain amenities around each neighborhood\n",
        "Now I would like to find good amenities around each neighbourhood. I am using Fooursquare api for that. I have a free account with them which allow me to make 100 k free requests per day."
      ]
    },
    {
      "cell_type": "code",
      "metadata": {
        "id": "vjyEfU2ot4Az",
        "colab_type": "code",
        "colab": {}
      },
      "source": [
        " # @hidden_cell\n",
        "CLIENT_ID = 'VAJHMQEGTYDIZAR4KG324AIXRQQKXDPHUP4YYR1XHD0CVFUJ' # your Foursquare ID\n",
        "CLIENT_SECRET = '4UYYMOIRZYHXP3XPWVFG1YNZX0KAKIGIZUPBDJKQ3VVI5IHH' # your Foursquare Secret\n",
        "VERSION = '20190806' # Foursquare API version"
      ],
      "execution_count": 0,
      "outputs": []
    },
    {
      "cell_type": "markdown",
      "metadata": {
        "id": "F9WfXmaaZurT",
        "colab_type": "text"
      },
      "source": [
        "Here is another important function. What this does is produce a dataframe that contains the information nearby amenities, up  to a 100 of those."
      ]
    },
    {
      "cell_type": "code",
      "metadata": {
        "id": "IJwYlQLHt4BC",
        "colab_type": "code",
        "colab": {}
      },
      "source": [
        "def getNearbyVenues(names, latitudes, longitudes, VERSION, radius=500, LIMIT = 100):\n",
        "# This function will return a pandas dataframe called nearby_venues \n",
        "#\n",
        "# Inputs: names - names of the neigbourhoods\n",
        "#         latitudes, logitudes - for the neighborhoods\n",
        "#         VERSION - version date in yyyymmdd format\n",
        "#         radias - search radius in meters (optional, default - 500 m)\n",
        "#         LIMIT - max number of venues per given neighborhood (optional, defult - 100)\n",
        "#\n",
        "# Output: pandas data frame with the field 'Neighborhood', 'Neighborhood Latitude', \n",
        "# 'Neighborhood Longitude', 'Venue', 'Venue Latitude', 'Venue Longitude', 'Venue Category'\n",
        "    \n",
        "    venues_list=[]\n",
        "    for name, lat, lng in zip(names, latitudes, longitudes):\n",
        "        print('.', end = '')\n",
        "        # print(lat)\n",
        "        # create the API request URL\n",
        "        url = 'https://api.foursquare.com/v2/venues/explore?&client_id={}&client_secret={}&v={}&ll={},{}&radius={}&limit={}'.format(\n",
        "            CLIENT_ID, \n",
        "            CLIENT_SECRET, \n",
        "            VERSION, \n",
        "            lat, \n",
        "            lng, \n",
        "            radius, \n",
        "            LIMIT)\n",
        "            \n",
        "        # make the GET request\n",
        "        try:\n",
        "          #print(rs.get(url).json())\n",
        "            results = rs.get(url).json()[\"response\"]['groups'][0]['items']\n",
        "        except:\n",
        "            print('Error: ' + name, end = '')\n",
        "        \n",
        "        \n",
        "        # return only relevant information for each nearby venue\n",
        "        venues_list.append([(\n",
        "            name, \n",
        "            lat, \n",
        "            lng, \n",
        "            v['venue']['name'], \n",
        "            v['venue']['location']['lat'], \n",
        "            v['venue']['location']['lng'],  \n",
        "            v['venue']['categories'][0]['name']) for v in results])\n",
        "\n",
        "    nearby_venues = pd.DataFrame([item for venue_list in venues_list for item in venue_list])\n",
        "    nearby_venues.columns = ['Neighborhood', \n",
        "                  'Neighborhood Latitude', \n",
        "                  'Neighborhood Longitude', \n",
        "                  'Venue', \n",
        "                  'Venue Latitude', \n",
        "                  'Venue Longitude', \n",
        "                  'Venue Category']\n",
        "    \n",
        "    print(' done!')\n",
        "    return(nearby_venues)\n"
      ],
      "execution_count": 0,
      "outputs": []
    },
    {
      "cell_type": "markdown",
      "metadata": {
        "id": "LK5rCPagl3Vx",
        "colab_type": "text"
      },
      "source": [
        "Let's obtain all the venues nearby each neighbourhood by calling the function we just created."
      ]
    },
    {
      "cell_type": "code",
      "metadata": {
        "id": "PRSuXq-Nt4BJ",
        "colab_type": "code",
        "outputId": "0b1cb152-300b-456e-8559-ac14b6ea69ff",
        "colab": {
          "base_uri": "https://localhost:8080/",
          "height": 306
        }
      },
      "source": [
        "Memphis_venues = getNearbyVenues(names=memphis_df['Neighborhood'],\n",
        "                                    latitudes = memphis_df['Latitude'], \n",
        "                                    longitudes = memphis_df['Longitude'],\n",
        "                                    VERSION = '20180908')\n",
        "print(Memphis_venues.shape)\n",
        "Memphis_venues.head()"
      ],
      "execution_count": 95,
      "outputs": [
        {
          "output_type": "stream",
          "text": [
            ".......................................................... done!\n",
            "(518, 7)\n"
          ],
          "name": "stdout"
        },
        {
          "output_type": "execute_result",
          "data": {
            "text/html": [
              "<div>\n",
              "<style scoped>\n",
              "    .dataframe tbody tr th:only-of-type {\n",
              "        vertical-align: middle;\n",
              "    }\n",
              "\n",
              "    .dataframe tbody tr th {\n",
              "        vertical-align: top;\n",
              "    }\n",
              "\n",
              "    .dataframe thead th {\n",
              "        text-align: right;\n",
              "    }\n",
              "</style>\n",
              "<table border=\"1\" class=\"dataframe\">\n",
              "  <thead>\n",
              "    <tr style=\"text-align: right;\">\n",
              "      <th></th>\n",
              "      <th>Neighborhood</th>\n",
              "      <th>Neighborhood Latitude</th>\n",
              "      <th>Neighborhood Longitude</th>\n",
              "      <th>Venue</th>\n",
              "      <th>Venue Latitude</th>\n",
              "      <th>Venue Longitude</th>\n",
              "      <th>Venue Category</th>\n",
              "    </tr>\n",
              "  </thead>\n",
              "  <tbody>\n",
              "    <tr>\n",
              "      <th>0</th>\n",
              "      <td>Linden</td>\n",
              "      <td>35.134366</td>\n",
              "      <td>-90.012674</td>\n",
              "      <td>Little Italy Pizza</td>\n",
              "      <td>35.136251</td>\n",
              "      <td>-90.011784</td>\n",
              "      <td>Pizza Place</td>\n",
              "    </tr>\n",
              "    <tr>\n",
              "      <th>1</th>\n",
              "      <td>Linden</td>\n",
              "      <td>35.134366</td>\n",
              "      <td>-90.012674</td>\n",
              "      <td>Kimbrough Wines &amp; Spirits</td>\n",
              "      <td>35.136325</td>\n",
              "      <td>-90.012056</td>\n",
              "      <td>Food &amp; Drink Shop</td>\n",
              "    </tr>\n",
              "    <tr>\n",
              "      <th>2</th>\n",
              "      <td>Linden</td>\n",
              "      <td>35.134366</td>\n",
              "      <td>-90.012674</td>\n",
              "      <td>The Cupboard</td>\n",
              "      <td>35.136767</td>\n",
              "      <td>-90.015349</td>\n",
              "      <td>Southern / Soul Food Restaurant</td>\n",
              "    </tr>\n",
              "    <tr>\n",
              "      <th>3</th>\n",
              "      <td>Linden</td>\n",
              "      <td>35.134366</td>\n",
              "      <td>-90.012674</td>\n",
              "      <td>El Mezcal (Union)</td>\n",
              "      <td>35.136613</td>\n",
              "      <td>-90.011638</td>\n",
              "      <td>Mexican Restaurant</td>\n",
              "    </tr>\n",
              "    <tr>\n",
              "      <th>4</th>\n",
              "      <td>Linden</td>\n",
              "      <td>35.134366</td>\n",
              "      <td>-90.012674</td>\n",
              "      <td>Bhan Thai</td>\n",
              "      <td>35.132888</td>\n",
              "      <td>-90.017376</td>\n",
              "      <td>Thai Restaurant</td>\n",
              "    </tr>\n",
              "  </tbody>\n",
              "</table>\n",
              "</div>"
            ],
            "text/plain": [
              "  Neighborhood  ...                   Venue Category\n",
              "0       Linden  ...                      Pizza Place\n",
              "1       Linden  ...                Food & Drink Shop\n",
              "2       Linden  ...  Southern / Soul Food Restaurant\n",
              "3       Linden  ...               Mexican Restaurant\n",
              "4       Linden  ...                  Thai Restaurant\n",
              "\n",
              "[5 rows x 7 columns]"
            ]
          },
          "metadata": {
            "tags": []
          },
          "execution_count": 95
        }
      ]
    },
    {
      "cell_type": "markdown",
      "metadata": {
        "id": "wJnbvTZjmKIM",
        "colab_type": "text"
      },
      "source": [
        "It looks like the function returned information about 511 venues. But how many venues for each neighbourhood. Let's try to visualize how many amenities around each neighbourhood. Since I also like to know the distance from each neighbourhood, let's add that information to a data frame first."
      ]
    },
    {
      "cell_type": "code",
      "metadata": {
        "id": "6NwCp7KAt4BR",
        "colab_type": "code",
        "outputId": "d29c9684-fa89-4e68-8554-110534b09583",
        "colab": {
          "base_uri": "https://localhost:8080/",
          "height": 204
        }
      },
      "source": [
        "memphis_venue_numbers = Memphis_venues.groupby('Neighborhood')[\"Venue Category\"].count().reset_index()\n",
        "\n",
        "# Sort the data in decending order\n",
        "memphis_venue_numbers.sort_values(by = ['Venue Category'], inplace = True, ascending = False)\n",
        "\n",
        "# Reset index\n",
        "memphis_venue_numbers.reset_index(inplace = True, drop = True)\n",
        "\n",
        "# Let's include miles to work \n",
        "memphis_venue_numbers = pd.merge(memphis_venue_numbers,memphis_df[['Neighborhood','miles_to_work']],on='Neighborhood', how='left')\n",
        "\n",
        "memphis_venue_numbers.sample(n = 5)"
      ],
      "execution_count": 96,
      "outputs": [
        {
          "output_type": "execute_result",
          "data": {
            "text/html": [
              "<div>\n",
              "<style scoped>\n",
              "    .dataframe tbody tr th:only-of-type {\n",
              "        vertical-align: middle;\n",
              "    }\n",
              "\n",
              "    .dataframe tbody tr th {\n",
              "        vertical-align: top;\n",
              "    }\n",
              "\n",
              "    .dataframe thead th {\n",
              "        text-align: right;\n",
              "    }\n",
              "</style>\n",
              "<table border=\"1\" class=\"dataframe\">\n",
              "  <thead>\n",
              "    <tr style=\"text-align: right;\">\n",
              "      <th></th>\n",
              "      <th>Neighborhood</th>\n",
              "      <th>Venue Category</th>\n",
              "      <th>miles_to_work</th>\n",
              "    </tr>\n",
              "  </thead>\n",
              "  <tbody>\n",
              "    <tr>\n",
              "      <th>18</th>\n",
              "      <td>Central Gardens</td>\n",
              "      <td>9</td>\n",
              "      <td>7.910215</td>\n",
              "    </tr>\n",
              "    <tr>\n",
              "      <th>20</th>\n",
              "      <td>Dixie Heights</td>\n",
              "      <td>6</td>\n",
              "      <td>1.467553</td>\n",
              "    </tr>\n",
              "    <tr>\n",
              "      <th>4</th>\n",
              "      <td>Linden</td>\n",
              "      <td>30</td>\n",
              "      <td>0.933458</td>\n",
              "    </tr>\n",
              "    <tr>\n",
              "      <th>45</th>\n",
              "      <td>Fisherville</td>\n",
              "      <td>1</td>\n",
              "      <td>20.542019</td>\n",
              "    </tr>\n",
              "    <tr>\n",
              "      <th>46</th>\n",
              "      <td>Douglass</td>\n",
              "      <td>1</td>\n",
              "      <td>5.158965</td>\n",
              "    </tr>\n",
              "  </tbody>\n",
              "</table>\n",
              "</div>"
            ],
            "text/plain": [
              "       Neighborhood  Venue Category  miles_to_work\n",
              "18  Central Gardens               9       7.910215\n",
              "20    Dixie Heights               6       1.467553\n",
              "4            Linden              30       0.933458\n",
              "45      Fisherville               1      20.542019\n",
              "46         Douglass               1       5.158965"
            ]
          },
          "metadata": {
            "tags": []
          },
          "execution_count": 96
        }
      ]
    },
    {
      "cell_type": "markdown",
      "metadata": {
        "id": "a0ZG6uiYzNwI",
        "colab_type": "text"
      },
      "source": [
        "Let's plot and see how the results look like. I like to plot Neighborhood vs. Total number of Venues. Other than that, I like to display miles to work on top of each bar."
      ]
    },
    {
      "cell_type": "code",
      "metadata": {
        "id": "cUbr2xcNnKUn",
        "colab_type": "code",
        "outputId": "ce5f614a-7ef5-464b-a448-b42788c7c262",
        "colab": {
          "base_uri": "https://localhost:8080/",
          "height": 473
        }
      },
      "source": [
        "ax = memphis_venue_numbers.plot.bar(x = 'Neighborhood', y = 'Venue Category', figsize=(15,5))\n",
        "\n",
        "# Cleanup a bit\n",
        "ax.set_ylabel('Total number of Venues')\n",
        "ax.legend(bbox_to_anchor=(1, 1.))\n",
        "ax.spines['right'].set_visible(False)\n",
        "ax.spines['top'].set_visible(False)\n",
        "ax.get_legend().remove()\n",
        "\n",
        "for i, v in enumerate(memphis_venue_numbers['Venue Category']):\n",
        "    ax.text(i-0.25, v + 1, \n",
        "            str(round(memphis_venue_numbers.miles_to_work[i],1)) + ' mi', \n",
        "            color='k',rotation = 90, verticalalignment = 'bottom')\n",
        "ax.title.set_text('Total number of venues for eath neighborhood \\nMiles to work also shown on bar tops')"
      ],
      "execution_count": 97,
      "outputs": [
        {
          "output_type": "display_data",
          "data": {
            "image/png": "[encoded data removed]",
            "text/plain": [
              "<Figure size 1080x360 with 1 Axes>"
            ]
          },
          "metadata": {
            "tags": []
          }
        }
      ]
    },
    {
      "cell_type": "markdown",
      "metadata": {
        "id": "bFLGjsN_zafx",
        "colab_type": "text"
      },
      "source": [
        "According to the graph, it is clear that the top place for a lot of amenities is White Station. However, it is roughly 10 miles away from the workplace. On the other hand, the next top four neighbourhoods in terms of venues, Riverside, Pine Hill, Lenox, and Linden all situated less than 3 miles from the workplace. Sweet!\n",
        "\n",
        "\n",
        "Let's find out how many different catogiries of amanities we have."
      ]
    },
    {
      "cell_type": "code",
      "metadata": {
        "id": "GbVr9FdRt4BT",
        "colab_type": "code",
        "outputId": "8bf417e1-0afb-4496-da78-a06230c68b66",
        "colab": {
          "base_uri": "https://localhost:8080/",
          "height": 34
        }
      },
      "source": [
        "print('There are {} uniques categories.'.format(len(Memphis_venues['Venue Category'].unique())))"
      ],
      "execution_count": 98,
      "outputs": [
        {
          "output_type": "stream",
          "text": [
            "There are 158 uniques categories.\n"
          ],
          "name": "stdout"
        }
      ]
    },
    {
      "cell_type": "markdown",
      "metadata": {
        "id": "FlTBRMO70_Rl",
        "colab_type": "text"
      },
      "source": [
        "158 different categories. Not bad... not bad at all."
      ]
    },
    {
      "cell_type": "markdown",
      "metadata": {
        "id": "zyV1zc5at4BV",
        "colab_type": "text"
      },
      "source": [
        "### 2.5 Analyze Each Neighborhood to find how many unique catogories are belongs to each neighborhood\n"
      ]
    },
    {
      "cell_type": "markdown",
      "metadata": {
        "id": "opUn3nybPFmd",
        "colab_type": "text"
      },
      "source": [
        "My goal is to find the best neighborhood that has so many unique amenities close by. I am planning to use the k-means algorithm. For that, I would like to create another data frame that has all our neighborhoods in the first column and frequency of different categories of amenities in the next columns. So I should have columns equal to the number of different categories I found from the previous section + 1 (for the Neighborhood  name column). Let's creae a dummy data frame and then we will fill the fields with the mean."
      ]
    },
    {
      "cell_type": "code",
      "metadata": {
        "id": "8T9pvaaFt4BW",
        "colab_type": "code",
        "outputId": "7e3697cf-caf1-4e3f-fafb-38ed399e1f9d",
        "colab": {
          "base_uri": "https://localhost:8080/",
          "height": 304
        }
      },
      "source": [
        "# one hot encoding\n",
        "Memphis_onehot = pd.get_dummies(Memphis_venues[['Venue Category']], prefix=\"\", prefix_sep=\"\")\n",
        "\n",
        "# add neighbourhood column back to dataframe\n",
        "Memphis_onehot['Neighborhood'] = Memphis_venues['Neighborhood'] \n",
        "\n",
        "# move neighborhood column to the first column\n",
        "fixed_columns = [Memphis_onehot.columns[-1]] + list(Memphis_onehot.columns[:-1])\n",
        "Memphis_onehot = Memphis_onehot[fixed_columns]\n",
        "\n",
        "Memphis_onehot.sample(n = 5)"
      ],
      "execution_count": 99,
      "outputs": [
        {
          "output_type": "execute_result",
          "data": {
            "text/html": [
              "<div>\n",
              "<style scoped>\n",
              "    .dataframe tbody tr th:only-of-type {\n",
              "        vertical-align: middle;\n",
              "    }\n",
              "\n",
              "    .dataframe tbody tr th {\n",
              "        vertical-align: top;\n",
              "    }\n",
              "\n",
              "    .dataframe thead th {\n",
              "        text-align: right;\n",
              "    }\n",
              "</style>\n",
              "<table border=\"1\" class=\"dataframe\">\n",
              "  <thead>\n",
              "    <tr style=\"text-align: right;\">\n",
              "      <th></th>\n",
              "      <th>Neighborhood</th>\n",
              "      <th>American Restaurant</th>\n",
              "      <th>Antique Shop</th>\n",
              "      <th>Art Gallery</th>\n",
              "      <th>Art Museum</th>\n",
              "      <th>Arts &amp; Crafts Store</th>\n",
              "      <th>Asian Restaurant</th>\n",
              "      <th>Athletics &amp; Sports</th>\n",
              "      <th>Auto Workshop</th>\n",
              "      <th>BBQ Joint</th>\n",
              "      <th>Bakery</th>\n",
              "      <th>Ballroom</th>\n",
              "      <th>Bank</th>\n",
              "      <th>Bar</th>\n",
              "      <th>Baseball Field</th>\n",
              "      <th>Basketball Court</th>\n",
              "      <th>Big Box Store</th>\n",
              "      <th>Boutique</th>\n",
              "      <th>Breakfast Spot</th>\n",
              "      <th>Brewery</th>\n",
              "      <th>Building</th>\n",
              "      <th>Burger Joint</th>\n",
              "      <th>Bus Stop</th>\n",
              "      <th>Business Service</th>\n",
              "      <th>Café</th>\n",
              "      <th>Cajun / Creole Restaurant</th>\n",
              "      <th>Candy Store</th>\n",
              "      <th>Chinese Restaurant</th>\n",
              "      <th>Church</th>\n",
              "      <th>Climbing Gym</th>\n",
              "      <th>Clothing Store</th>\n",
              "      <th>Cocktail Bar</th>\n",
              "      <th>Coffee Shop</th>\n",
              "      <th>College Gym</th>\n",
              "      <th>Concert Hall</th>\n",
              "      <th>Convenience Store</th>\n",
              "      <th>Cosmetics Shop</th>\n",
              "      <th>Cuban Restaurant</th>\n",
              "      <th>Dance Studio</th>\n",
              "      <th>Deli / Bodega</th>\n",
              "      <th>...</th>\n",
              "      <th>Sake Bar</th>\n",
              "      <th>Salon / Barbershop</th>\n",
              "      <th>Sandwich Place</th>\n",
              "      <th>Scenic Lookout</th>\n",
              "      <th>Science Museum</th>\n",
              "      <th>Sculpture Garden</th>\n",
              "      <th>Seafood Restaurant</th>\n",
              "      <th>Shipping Store</th>\n",
              "      <th>Shoe Store</th>\n",
              "      <th>Shopping Mall</th>\n",
              "      <th>Skate Park</th>\n",
              "      <th>Smoke Shop</th>\n",
              "      <th>Smoothie Shop</th>\n",
              "      <th>Soccer Field</th>\n",
              "      <th>South American Restaurant</th>\n",
              "      <th>Southern / Soul Food Restaurant</th>\n",
              "      <th>Spa</th>\n",
              "      <th>Sporting Goods Shop</th>\n",
              "      <th>Sports Bar</th>\n",
              "      <th>Stadium</th>\n",
              "      <th>Steakhouse</th>\n",
              "      <th>Student Center</th>\n",
              "      <th>Supermarket</th>\n",
              "      <th>Supplement Shop</th>\n",
              "      <th>Sushi Restaurant</th>\n",
              "      <th>Tanning Salon</th>\n",
              "      <th>Thai Restaurant</th>\n",
              "      <th>Theater</th>\n",
              "      <th>Thrift / Vintage Store</th>\n",
              "      <th>Toy / Game Store</th>\n",
              "      <th>Track Stadium</th>\n",
              "      <th>Trail</th>\n",
              "      <th>Train Station</th>\n",
              "      <th>Udon Restaurant</th>\n",
              "      <th>Vegetarian / Vegan Restaurant</th>\n",
              "      <th>Video Store</th>\n",
              "      <th>Watch Shop</th>\n",
              "      <th>Wine Bar</th>\n",
              "      <th>Wings Joint</th>\n",
              "      <th>Women's Store</th>\n",
              "    </tr>\n",
              "  </thead>\n",
              "  <tbody>\n",
              "    <tr>\n",
              "      <th>65</th>\n",
              "      <td>Belleair</td>\n",
              "      <td>0</td>\n",
              "      <td>0</td>\n",
              "      <td>0</td>\n",
              "      <td>0</td>\n",
              "      <td>0</td>\n",
              "      <td>0</td>\n",
              "      <td>0</td>\n",
              "      <td>0</td>\n",
              "      <td>0</td>\n",
              "      <td>0</td>\n",
              "      <td>0</td>\n",
              "      <td>0</td>\n",
              "      <td>0</td>\n",
              "      <td>0</td>\n",
              "      <td>0</td>\n",
              "      <td>0</td>\n",
              "      <td>0</td>\n",
              "      <td>0</td>\n",
              "      <td>0</td>\n",
              "      <td>0</td>\n",
              "      <td>0</td>\n",
              "      <td>0</td>\n",
              "      <td>0</td>\n",
              "      <td>0</td>\n",
              "      <td>0</td>\n",
              "      <td>0</td>\n",
              "      <td>0</td>\n",
              "      <td>0</td>\n",
              "      <td>0</td>\n",
              "      <td>0</td>\n",
              "      <td>0</td>\n",
              "      <td>0</td>\n",
              "      <td>0</td>\n",
              "      <td>0</td>\n",
              "      <td>0</td>\n",
              "      <td>0</td>\n",
              "      <td>0</td>\n",
              "      <td>0</td>\n",
              "      <td>0</td>\n",
              "      <td>...</td>\n",
              "      <td>0</td>\n",
              "      <td>0</td>\n",
              "      <td>0</td>\n",
              "      <td>0</td>\n",
              "      <td>0</td>\n",
              "      <td>0</td>\n",
              "      <td>0</td>\n",
              "      <td>0</td>\n",
              "      <td>0</td>\n",
              "      <td>0</td>\n",
              "      <td>0</td>\n",
              "      <td>0</td>\n",
              "      <td>0</td>\n",
              "      <td>0</td>\n",
              "      <td>0</td>\n",
              "      <td>0</td>\n",
              "      <td>0</td>\n",
              "      <td>0</td>\n",
              "      <td>0</td>\n",
              "      <td>0</td>\n",
              "      <td>0</td>\n",
              "      <td>0</td>\n",
              "      <td>0</td>\n",
              "      <td>0</td>\n",
              "      <td>0</td>\n",
              "      <td>0</td>\n",
              "      <td>0</td>\n",
              "      <td>0</td>\n",
              "      <td>0</td>\n",
              "      <td>0</td>\n",
              "      <td>0</td>\n",
              "      <td>0</td>\n",
              "      <td>0</td>\n",
              "      <td>0</td>\n",
              "      <td>0</td>\n",
              "      <td>0</td>\n",
              "      <td>1</td>\n",
              "      <td>0</td>\n",
              "      <td>0</td>\n",
              "      <td>0</td>\n",
              "    </tr>\n",
              "    <tr>\n",
              "      <th>379</th>\n",
              "      <td>Riverside</td>\n",
              "      <td>0</td>\n",
              "      <td>0</td>\n",
              "      <td>0</td>\n",
              "      <td>0</td>\n",
              "      <td>0</td>\n",
              "      <td>0</td>\n",
              "      <td>0</td>\n",
              "      <td>0</td>\n",
              "      <td>0</td>\n",
              "      <td>0</td>\n",
              "      <td>0</td>\n",
              "      <td>0</td>\n",
              "      <td>0</td>\n",
              "      <td>0</td>\n",
              "      <td>0</td>\n",
              "      <td>0</td>\n",
              "      <td>0</td>\n",
              "      <td>0</td>\n",
              "      <td>0</td>\n",
              "      <td>0</td>\n",
              "      <td>0</td>\n",
              "      <td>0</td>\n",
              "      <td>0</td>\n",
              "      <td>0</td>\n",
              "      <td>0</td>\n",
              "      <td>0</td>\n",
              "      <td>0</td>\n",
              "      <td>0</td>\n",
              "      <td>0</td>\n",
              "      <td>0</td>\n",
              "      <td>0</td>\n",
              "      <td>0</td>\n",
              "      <td>0</td>\n",
              "      <td>0</td>\n",
              "      <td>0</td>\n",
              "      <td>0</td>\n",
              "      <td>0</td>\n",
              "      <td>0</td>\n",
              "      <td>0</td>\n",
              "      <td>...</td>\n",
              "      <td>0</td>\n",
              "      <td>0</td>\n",
              "      <td>0</td>\n",
              "      <td>0</td>\n",
              "      <td>0</td>\n",
              "      <td>0</td>\n",
              "      <td>0</td>\n",
              "      <td>0</td>\n",
              "      <td>0</td>\n",
              "      <td>0</td>\n",
              "      <td>0</td>\n",
              "      <td>0</td>\n",
              "      <td>0</td>\n",
              "      <td>0</td>\n",
              "      <td>0</td>\n",
              "      <td>0</td>\n",
              "      <td>0</td>\n",
              "      <td>0</td>\n",
              "      <td>0</td>\n",
              "      <td>0</td>\n",
              "      <td>0</td>\n",
              "      <td>0</td>\n",
              "      <td>0</td>\n",
              "      <td>0</td>\n",
              "      <td>0</td>\n",
              "      <td>0</td>\n",
              "      <td>0</td>\n",
              "      <td>0</td>\n",
              "      <td>0</td>\n",
              "      <td>0</td>\n",
              "      <td>0</td>\n",
              "      <td>0</td>\n",
              "      <td>0</td>\n",
              "      <td>0</td>\n",
              "      <td>0</td>\n",
              "      <td>0</td>\n",
              "      <td>0</td>\n",
              "      <td>0</td>\n",
              "      <td>0</td>\n",
              "      <td>0</td>\n",
              "    </tr>\n",
              "    <tr>\n",
              "      <th>506</th>\n",
              "      <td>Glenview</td>\n",
              "      <td>0</td>\n",
              "      <td>0</td>\n",
              "      <td>0</td>\n",
              "      <td>0</td>\n",
              "      <td>0</td>\n",
              "      <td>0</td>\n",
              "      <td>0</td>\n",
              "      <td>0</td>\n",
              "      <td>1</td>\n",
              "      <td>0</td>\n",
              "      <td>0</td>\n",
              "      <td>0</td>\n",
              "      <td>0</td>\n",
              "      <td>0</td>\n",
              "      <td>0</td>\n",
              "      <td>0</td>\n",
              "      <td>0</td>\n",
              "      <td>0</td>\n",
              "      <td>0</td>\n",
              "      <td>0</td>\n",
              "      <td>0</td>\n",
              "      <td>0</td>\n",
              "      <td>0</td>\n",
              "      <td>0</td>\n",
              "      <td>0</td>\n",
              "      <td>0</td>\n",
              "      <td>0</td>\n",
              "      <td>0</td>\n",
              "      <td>0</td>\n",
              "      <td>0</td>\n",
              "      <td>0</td>\n",
              "      <td>0</td>\n",
              "      <td>0</td>\n",
              "      <td>0</td>\n",
              "      <td>0</td>\n",
              "      <td>0</td>\n",
              "      <td>0</td>\n",
              "      <td>0</td>\n",
              "      <td>0</td>\n",
              "      <td>...</td>\n",
              "      <td>0</td>\n",
              "      <td>0</td>\n",
              "      <td>0</td>\n",
              "      <td>0</td>\n",
              "      <td>0</td>\n",
              "      <td>0</td>\n",
              "      <td>0</td>\n",
              "      <td>0</td>\n",
              "      <td>0</td>\n",
              "      <td>0</td>\n",
              "      <td>0</td>\n",
              "      <td>0</td>\n",
              "      <td>0</td>\n",
              "      <td>0</td>\n",
              "      <td>0</td>\n",
              "      <td>0</td>\n",
              "      <td>0</td>\n",
              "      <td>0</td>\n",
              "      <td>0</td>\n",
              "      <td>0</td>\n",
              "      <td>0</td>\n",
              "      <td>0</td>\n",
              "      <td>0</td>\n",
              "      <td>0</td>\n",
              "      <td>0</td>\n",
              "      <td>0</td>\n",
              "      <td>0</td>\n",
              "      <td>0</td>\n",
              "      <td>0</td>\n",
              "      <td>0</td>\n",
              "      <td>0</td>\n",
              "      <td>0</td>\n",
              "      <td>0</td>\n",
              "      <td>0</td>\n",
              "      <td>0</td>\n",
              "      <td>0</td>\n",
              "      <td>0</td>\n",
              "      <td>0</td>\n",
              "      <td>0</td>\n",
              "      <td>0</td>\n",
              "    </tr>\n",
              "    <tr>\n",
              "      <th>369</th>\n",
              "      <td>Riverside</td>\n",
              "      <td>0</td>\n",
              "      <td>0</td>\n",
              "      <td>0</td>\n",
              "      <td>0</td>\n",
              "      <td>0</td>\n",
              "      <td>0</td>\n",
              "      <td>0</td>\n",
              "      <td>0</td>\n",
              "      <td>0</td>\n",
              "      <td>0</td>\n",
              "      <td>0</td>\n",
              "      <td>0</td>\n",
              "      <td>0</td>\n",
              "      <td>0</td>\n",
              "      <td>0</td>\n",
              "      <td>0</td>\n",
              "      <td>0</td>\n",
              "      <td>0</td>\n",
              "      <td>0</td>\n",
              "      <td>0</td>\n",
              "      <td>0</td>\n",
              "      <td>0</td>\n",
              "      <td>0</td>\n",
              "      <td>0</td>\n",
              "      <td>0</td>\n",
              "      <td>0</td>\n",
              "      <td>0</td>\n",
              "      <td>0</td>\n",
              "      <td>0</td>\n",
              "      <td>0</td>\n",
              "      <td>0</td>\n",
              "      <td>0</td>\n",
              "      <td>0</td>\n",
              "      <td>0</td>\n",
              "      <td>0</td>\n",
              "      <td>0</td>\n",
              "      <td>0</td>\n",
              "      <td>0</td>\n",
              "      <td>0</td>\n",
              "      <td>...</td>\n",
              "      <td>0</td>\n",
              "      <td>0</td>\n",
              "      <td>0</td>\n",
              "      <td>0</td>\n",
              "      <td>0</td>\n",
              "      <td>0</td>\n",
              "      <td>0</td>\n",
              "      <td>0</td>\n",
              "      <td>0</td>\n",
              "      <td>0</td>\n",
              "      <td>0</td>\n",
              "      <td>0</td>\n",
              "      <td>0</td>\n",
              "      <td>0</td>\n",
              "      <td>0</td>\n",
              "      <td>0</td>\n",
              "      <td>0</td>\n",
              "      <td>0</td>\n",
              "      <td>0</td>\n",
              "      <td>0</td>\n",
              "      <td>0</td>\n",
              "      <td>0</td>\n",
              "      <td>0</td>\n",
              "      <td>0</td>\n",
              "      <td>0</td>\n",
              "      <td>0</td>\n",
              "      <td>0</td>\n",
              "      <td>0</td>\n",
              "      <td>0</td>\n",
              "      <td>0</td>\n",
              "      <td>0</td>\n",
              "      <td>0</td>\n",
              "      <td>0</td>\n",
              "      <td>0</td>\n",
              "      <td>0</td>\n",
              "      <td>0</td>\n",
              "      <td>0</td>\n",
              "      <td>0</td>\n",
              "      <td>0</td>\n",
              "      <td>0</td>\n",
              "    </tr>\n",
              "    <tr>\n",
              "      <th>237</th>\n",
              "      <td>White Station</td>\n",
              "      <td>0</td>\n",
              "      <td>0</td>\n",
              "      <td>0</td>\n",
              "      <td>0</td>\n",
              "      <td>0</td>\n",
              "      <td>0</td>\n",
              "      <td>0</td>\n",
              "      <td>0</td>\n",
              "      <td>0</td>\n",
              "      <td>0</td>\n",
              "      <td>0</td>\n",
              "      <td>0</td>\n",
              "      <td>0</td>\n",
              "      <td>0</td>\n",
              "      <td>0</td>\n",
              "      <td>0</td>\n",
              "      <td>0</td>\n",
              "      <td>0</td>\n",
              "      <td>0</td>\n",
              "      <td>0</td>\n",
              "      <td>0</td>\n",
              "      <td>0</td>\n",
              "      <td>0</td>\n",
              "      <td>0</td>\n",
              "      <td>0</td>\n",
              "      <td>0</td>\n",
              "      <td>0</td>\n",
              "      <td>0</td>\n",
              "      <td>0</td>\n",
              "      <td>0</td>\n",
              "      <td>0</td>\n",
              "      <td>0</td>\n",
              "      <td>0</td>\n",
              "      <td>0</td>\n",
              "      <td>0</td>\n",
              "      <td>0</td>\n",
              "      <td>0</td>\n",
              "      <td>0</td>\n",
              "      <td>0</td>\n",
              "      <td>...</td>\n",
              "      <td>0</td>\n",
              "      <td>0</td>\n",
              "      <td>0</td>\n",
              "      <td>0</td>\n",
              "      <td>0</td>\n",
              "      <td>0</td>\n",
              "      <td>0</td>\n",
              "      <td>0</td>\n",
              "      <td>0</td>\n",
              "      <td>0</td>\n",
              "      <td>0</td>\n",
              "      <td>0</td>\n",
              "      <td>0</td>\n",
              "      <td>0</td>\n",
              "      <td>0</td>\n",
              "      <td>0</td>\n",
              "      <td>0</td>\n",
              "      <td>0</td>\n",
              "      <td>0</td>\n",
              "      <td>0</td>\n",
              "      <td>0</td>\n",
              "      <td>0</td>\n",
              "      <td>0</td>\n",
              "      <td>0</td>\n",
              "      <td>0</td>\n",
              "      <td>0</td>\n",
              "      <td>0</td>\n",
              "      <td>0</td>\n",
              "      <td>0</td>\n",
              "      <td>0</td>\n",
              "      <td>0</td>\n",
              "      <td>0</td>\n",
              "      <td>0</td>\n",
              "      <td>0</td>\n",
              "      <td>0</td>\n",
              "      <td>0</td>\n",
              "      <td>0</td>\n",
              "      <td>0</td>\n",
              "      <td>0</td>\n",
              "      <td>0</td>\n",
              "    </tr>\n",
              "  </tbody>\n",
              "</table>\n",
              "<p>5 rows × 159 columns</p>\n",
              "</div>"
            ],
            "text/plain": [
              "      Neighborhood  American Restaurant  ...  Wings Joint  Women's Store\n",
              "65        Belleair                    0  ...            0              0\n",
              "379      Riverside                    0  ...            0              0\n",
              "506       Glenview                    0  ...            0              0\n",
              "369      Riverside                    0  ...            0              0\n",
              "237  White Station                    0  ...            0              0\n",
              "\n",
              "[5 rows x 159 columns]"
            ]
          },
          "metadata": {
            "tags": []
          },
          "execution_count": 99
        }
      ]
    },
    {
      "cell_type": "markdown",
      "metadata": {
        "id": "k_YScuhiQ3V_",
        "colab_type": "text"
      },
      "source": [
        "Let's fill the data frame with real data, aka the mean number of different categories of amenities. "
      ]
    },
    {
      "cell_type": "code",
      "metadata": {
        "id": "2dm-yh4mt4Ba",
        "colab_type": "code",
        "outputId": "703b088b-82b0-41eb-a082-be710443f33f",
        "colab": {
          "base_uri": "https://localhost:8080/",
          "height": 338
        }
      },
      "source": [
        "Memphis_grouped = Memphis_onehot.groupby('Neighborhood').mean().reset_index()\n",
        "\n",
        "# Add miles to work to the data frame\n",
        "Memphis_grouped = pd.merge(Memphis_grouped,memphis_df[['Neighborhood','miles_to_work']],on='Neighborhood', how='left')\n",
        "\n",
        "# See how many rows and columns\n",
        "print(Memphis_grouped.shape)\n",
        "\n",
        "Memphis_grouped.sample(n = 5)"
      ],
      "execution_count": 100,
      "outputs": [
        {
          "output_type": "stream",
          "text": [
            "(50, 160)\n"
          ],
          "name": "stdout"
        },
        {
          "output_type": "execute_result",
          "data": {
            "text/html": [
              "<div>\n",
              "<style scoped>\n",
              "    .dataframe tbody tr th:only-of-type {\n",
              "        vertical-align: middle;\n",
              "    }\n",
              "\n",
              "    .dataframe tbody tr th {\n",
              "        vertical-align: top;\n",
              "    }\n",
              "\n",
              "    .dataframe thead th {\n",
              "        text-align: right;\n",
              "    }\n",
              "</style>\n",
              "<table border=\"1\" class=\"dataframe\">\n",
              "  <thead>\n",
              "    <tr style=\"text-align: right;\">\n",
              "      <th></th>\n",
              "      <th>Neighborhood</th>\n",
              "      <th>American Restaurant</th>\n",
              "      <th>Antique Shop</th>\n",
              "      <th>Art Gallery</th>\n",
              "      <th>Art Museum</th>\n",
              "      <th>Arts &amp; Crafts Store</th>\n",
              "      <th>Asian Restaurant</th>\n",
              "      <th>Athletics &amp; Sports</th>\n",
              "      <th>Auto Workshop</th>\n",
              "      <th>BBQ Joint</th>\n",
              "      <th>Bakery</th>\n",
              "      <th>Ballroom</th>\n",
              "      <th>Bank</th>\n",
              "      <th>Bar</th>\n",
              "      <th>Baseball Field</th>\n",
              "      <th>Basketball Court</th>\n",
              "      <th>Big Box Store</th>\n",
              "      <th>Boutique</th>\n",
              "      <th>Breakfast Spot</th>\n",
              "      <th>Brewery</th>\n",
              "      <th>Building</th>\n",
              "      <th>Burger Joint</th>\n",
              "      <th>Bus Stop</th>\n",
              "      <th>Business Service</th>\n",
              "      <th>Café</th>\n",
              "      <th>Cajun / Creole Restaurant</th>\n",
              "      <th>Candy Store</th>\n",
              "      <th>Chinese Restaurant</th>\n",
              "      <th>Church</th>\n",
              "      <th>Climbing Gym</th>\n",
              "      <th>Clothing Store</th>\n",
              "      <th>Cocktail Bar</th>\n",
              "      <th>Coffee Shop</th>\n",
              "      <th>College Gym</th>\n",
              "      <th>Concert Hall</th>\n",
              "      <th>Convenience Store</th>\n",
              "      <th>Cosmetics Shop</th>\n",
              "      <th>Cuban Restaurant</th>\n",
              "      <th>Dance Studio</th>\n",
              "      <th>Deli / Bodega</th>\n",
              "      <th>...</th>\n",
              "      <th>Salon / Barbershop</th>\n",
              "      <th>Sandwich Place</th>\n",
              "      <th>Scenic Lookout</th>\n",
              "      <th>Science Museum</th>\n",
              "      <th>Sculpture Garden</th>\n",
              "      <th>Seafood Restaurant</th>\n",
              "      <th>Shipping Store</th>\n",
              "      <th>Shoe Store</th>\n",
              "      <th>Shopping Mall</th>\n",
              "      <th>Skate Park</th>\n",
              "      <th>Smoke Shop</th>\n",
              "      <th>Smoothie Shop</th>\n",
              "      <th>Soccer Field</th>\n",
              "      <th>South American Restaurant</th>\n",
              "      <th>Southern / Soul Food Restaurant</th>\n",
              "      <th>Spa</th>\n",
              "      <th>Sporting Goods Shop</th>\n",
              "      <th>Sports Bar</th>\n",
              "      <th>Stadium</th>\n",
              "      <th>Steakhouse</th>\n",
              "      <th>Student Center</th>\n",
              "      <th>Supermarket</th>\n",
              "      <th>Supplement Shop</th>\n",
              "      <th>Sushi Restaurant</th>\n",
              "      <th>Tanning Salon</th>\n",
              "      <th>Thai Restaurant</th>\n",
              "      <th>Theater</th>\n",
              "      <th>Thrift / Vintage Store</th>\n",
              "      <th>Toy / Game Store</th>\n",
              "      <th>Track Stadium</th>\n",
              "      <th>Trail</th>\n",
              "      <th>Train Station</th>\n",
              "      <th>Udon Restaurant</th>\n",
              "      <th>Vegetarian / Vegan Restaurant</th>\n",
              "      <th>Video Store</th>\n",
              "      <th>Watch Shop</th>\n",
              "      <th>Wine Bar</th>\n",
              "      <th>Wings Joint</th>\n",
              "      <th>Women's Store</th>\n",
              "      <th>miles_to_work</th>\n",
              "    </tr>\n",
              "  </thead>\n",
              "  <tbody>\n",
              "    <tr>\n",
              "      <th>4</th>\n",
              "      <td>Bunker Hill</td>\n",
              "      <td>0.0</td>\n",
              "      <td>0.0</td>\n",
              "      <td>0.0</td>\n",
              "      <td>0.0</td>\n",
              "      <td>0.0</td>\n",
              "      <td>0.0</td>\n",
              "      <td>0.0</td>\n",
              "      <td>0.0</td>\n",
              "      <td>0.000000</td>\n",
              "      <td>0.0</td>\n",
              "      <td>0.0</td>\n",
              "      <td>0.0</td>\n",
              "      <td>0.0</td>\n",
              "      <td>0.0</td>\n",
              "      <td>0.0</td>\n",
              "      <td>0.0</td>\n",
              "      <td>0.0</td>\n",
              "      <td>0.0</td>\n",
              "      <td>0.0</td>\n",
              "      <td>0.0</td>\n",
              "      <td>0.0</td>\n",
              "      <td>0.0</td>\n",
              "      <td>0.0</td>\n",
              "      <td>0.000000</td>\n",
              "      <td>0.0</td>\n",
              "      <td>0.0</td>\n",
              "      <td>0.000000</td>\n",
              "      <td>0.0</td>\n",
              "      <td>0.0</td>\n",
              "      <td>0.0</td>\n",
              "      <td>0.0</td>\n",
              "      <td>0.0</td>\n",
              "      <td>0.0</td>\n",
              "      <td>0.0</td>\n",
              "      <td>0.0</td>\n",
              "      <td>0.0</td>\n",
              "      <td>0.0</td>\n",
              "      <td>0.0</td>\n",
              "      <td>0.0</td>\n",
              "      <td>...</td>\n",
              "      <td>0.0</td>\n",
              "      <td>0.000000</td>\n",
              "      <td>0.0</td>\n",
              "      <td>0.0</td>\n",
              "      <td>0.0</td>\n",
              "      <td>0.0</td>\n",
              "      <td>0.0</td>\n",
              "      <td>0.000000</td>\n",
              "      <td>0.0</td>\n",
              "      <td>0.0</td>\n",
              "      <td>0.0</td>\n",
              "      <td>0.0</td>\n",
              "      <td>0.0</td>\n",
              "      <td>0.000000</td>\n",
              "      <td>0.0</td>\n",
              "      <td>0.0</td>\n",
              "      <td>0.000000</td>\n",
              "      <td>0.0</td>\n",
              "      <td>0.0</td>\n",
              "      <td>0.0</td>\n",
              "      <td>0.0</td>\n",
              "      <td>0.0</td>\n",
              "      <td>0.0</td>\n",
              "      <td>0.0</td>\n",
              "      <td>0.0</td>\n",
              "      <td>0.0</td>\n",
              "      <td>0.0</td>\n",
              "      <td>0.000000</td>\n",
              "      <td>0.0</td>\n",
              "      <td>0.0</td>\n",
              "      <td>0.000000</td>\n",
              "      <td>0.000000</td>\n",
              "      <td>0.0</td>\n",
              "      <td>0.0</td>\n",
              "      <td>0.0</td>\n",
              "      <td>0.0</td>\n",
              "      <td>0.0</td>\n",
              "      <td>0.00</td>\n",
              "      <td>0.0</td>\n",
              "      <td>2.639895</td>\n",
              "    </tr>\n",
              "    <tr>\n",
              "      <th>5</th>\n",
              "      <td>Capleville</td>\n",
              "      <td>0.0</td>\n",
              "      <td>0.0</td>\n",
              "      <td>0.0</td>\n",
              "      <td>0.0</td>\n",
              "      <td>0.0</td>\n",
              "      <td>0.0</td>\n",
              "      <td>0.0</td>\n",
              "      <td>0.0</td>\n",
              "      <td>0.181818</td>\n",
              "      <td>0.0</td>\n",
              "      <td>0.0</td>\n",
              "      <td>0.0</td>\n",
              "      <td>0.0</td>\n",
              "      <td>0.0</td>\n",
              "      <td>0.0</td>\n",
              "      <td>0.0</td>\n",
              "      <td>0.0</td>\n",
              "      <td>0.0</td>\n",
              "      <td>0.0</td>\n",
              "      <td>0.0</td>\n",
              "      <td>0.0</td>\n",
              "      <td>0.0</td>\n",
              "      <td>0.0</td>\n",
              "      <td>0.000000</td>\n",
              "      <td>0.0</td>\n",
              "      <td>0.0</td>\n",
              "      <td>0.000000</td>\n",
              "      <td>0.0</td>\n",
              "      <td>0.0</td>\n",
              "      <td>0.0</td>\n",
              "      <td>0.0</td>\n",
              "      <td>0.0</td>\n",
              "      <td>0.0</td>\n",
              "      <td>0.0</td>\n",
              "      <td>0.0</td>\n",
              "      <td>0.0</td>\n",
              "      <td>0.0</td>\n",
              "      <td>0.0</td>\n",
              "      <td>0.0</td>\n",
              "      <td>...</td>\n",
              "      <td>0.0</td>\n",
              "      <td>0.090909</td>\n",
              "      <td>0.0</td>\n",
              "      <td>0.0</td>\n",
              "      <td>0.0</td>\n",
              "      <td>0.0</td>\n",
              "      <td>0.0</td>\n",
              "      <td>0.090909</td>\n",
              "      <td>0.0</td>\n",
              "      <td>0.0</td>\n",
              "      <td>0.0</td>\n",
              "      <td>0.0</td>\n",
              "      <td>0.0</td>\n",
              "      <td>0.000000</td>\n",
              "      <td>0.0</td>\n",
              "      <td>0.0</td>\n",
              "      <td>0.000000</td>\n",
              "      <td>0.0</td>\n",
              "      <td>0.0</td>\n",
              "      <td>0.0</td>\n",
              "      <td>0.0</td>\n",
              "      <td>0.0</td>\n",
              "      <td>0.0</td>\n",
              "      <td>0.0</td>\n",
              "      <td>0.0</td>\n",
              "      <td>0.0</td>\n",
              "      <td>0.0</td>\n",
              "      <td>0.000000</td>\n",
              "      <td>0.0</td>\n",
              "      <td>0.0</td>\n",
              "      <td>0.000000</td>\n",
              "      <td>0.090909</td>\n",
              "      <td>0.0</td>\n",
              "      <td>0.0</td>\n",
              "      <td>0.0</td>\n",
              "      <td>0.0</td>\n",
              "      <td>0.0</td>\n",
              "      <td>0.00</td>\n",
              "      <td>0.0</td>\n",
              "      <td>11.001431</td>\n",
              "    </tr>\n",
              "    <tr>\n",
              "      <th>46</th>\n",
              "      <td>Walker Homes</td>\n",
              "      <td>0.0</td>\n",
              "      <td>0.0</td>\n",
              "      <td>0.0</td>\n",
              "      <td>0.0</td>\n",
              "      <td>0.0</td>\n",
              "      <td>0.0</td>\n",
              "      <td>0.0</td>\n",
              "      <td>0.0</td>\n",
              "      <td>0.000000</td>\n",
              "      <td>0.0</td>\n",
              "      <td>0.0</td>\n",
              "      <td>0.0</td>\n",
              "      <td>0.0</td>\n",
              "      <td>0.0</td>\n",
              "      <td>0.0</td>\n",
              "      <td>0.0</td>\n",
              "      <td>0.0</td>\n",
              "      <td>0.0</td>\n",
              "      <td>0.0</td>\n",
              "      <td>0.0</td>\n",
              "      <td>0.0</td>\n",
              "      <td>0.0</td>\n",
              "      <td>0.0</td>\n",
              "      <td>0.000000</td>\n",
              "      <td>0.0</td>\n",
              "      <td>0.0</td>\n",
              "      <td>0.000000</td>\n",
              "      <td>0.0</td>\n",
              "      <td>0.0</td>\n",
              "      <td>0.0</td>\n",
              "      <td>0.0</td>\n",
              "      <td>0.0</td>\n",
              "      <td>0.0</td>\n",
              "      <td>0.0</td>\n",
              "      <td>0.0</td>\n",
              "      <td>0.0</td>\n",
              "      <td>0.0</td>\n",
              "      <td>0.0</td>\n",
              "      <td>0.0</td>\n",
              "      <td>...</td>\n",
              "      <td>0.0</td>\n",
              "      <td>0.000000</td>\n",
              "      <td>0.2</td>\n",
              "      <td>0.0</td>\n",
              "      <td>0.0</td>\n",
              "      <td>0.0</td>\n",
              "      <td>0.0</td>\n",
              "      <td>0.000000</td>\n",
              "      <td>0.0</td>\n",
              "      <td>0.0</td>\n",
              "      <td>0.0</td>\n",
              "      <td>0.0</td>\n",
              "      <td>0.0</td>\n",
              "      <td>0.000000</td>\n",
              "      <td>0.2</td>\n",
              "      <td>0.0</td>\n",
              "      <td>0.000000</td>\n",
              "      <td>0.0</td>\n",
              "      <td>0.0</td>\n",
              "      <td>0.0</td>\n",
              "      <td>0.0</td>\n",
              "      <td>0.0</td>\n",
              "      <td>0.0</td>\n",
              "      <td>0.0</td>\n",
              "      <td>0.0</td>\n",
              "      <td>0.0</td>\n",
              "      <td>0.0</td>\n",
              "      <td>0.000000</td>\n",
              "      <td>0.0</td>\n",
              "      <td>0.0</td>\n",
              "      <td>0.200000</td>\n",
              "      <td>0.000000</td>\n",
              "      <td>0.0</td>\n",
              "      <td>0.0</td>\n",
              "      <td>0.0</td>\n",
              "      <td>0.0</td>\n",
              "      <td>0.0</td>\n",
              "      <td>0.00</td>\n",
              "      <td>0.0</td>\n",
              "      <td>1.398737</td>\n",
              "    </tr>\n",
              "    <tr>\n",
              "      <th>20</th>\n",
              "      <td>Glenview</td>\n",
              "      <td>0.0</td>\n",
              "      <td>0.0</td>\n",
              "      <td>0.0</td>\n",
              "      <td>0.0</td>\n",
              "      <td>0.0</td>\n",
              "      <td>0.0</td>\n",
              "      <td>0.0</td>\n",
              "      <td>0.0</td>\n",
              "      <td>0.250000</td>\n",
              "      <td>0.0</td>\n",
              "      <td>0.0</td>\n",
              "      <td>0.0</td>\n",
              "      <td>0.0</td>\n",
              "      <td>0.0</td>\n",
              "      <td>0.0</td>\n",
              "      <td>0.0</td>\n",
              "      <td>0.0</td>\n",
              "      <td>0.0</td>\n",
              "      <td>0.0</td>\n",
              "      <td>0.0</td>\n",
              "      <td>0.0</td>\n",
              "      <td>0.0</td>\n",
              "      <td>0.0</td>\n",
              "      <td>0.000000</td>\n",
              "      <td>0.0</td>\n",
              "      <td>0.0</td>\n",
              "      <td>0.000000</td>\n",
              "      <td>0.0</td>\n",
              "      <td>0.0</td>\n",
              "      <td>0.0</td>\n",
              "      <td>0.0</td>\n",
              "      <td>0.0</td>\n",
              "      <td>0.0</td>\n",
              "      <td>0.0</td>\n",
              "      <td>0.0</td>\n",
              "      <td>0.0</td>\n",
              "      <td>0.0</td>\n",
              "      <td>0.0</td>\n",
              "      <td>0.0</td>\n",
              "      <td>...</td>\n",
              "      <td>0.0</td>\n",
              "      <td>0.000000</td>\n",
              "      <td>0.0</td>\n",
              "      <td>0.0</td>\n",
              "      <td>0.0</td>\n",
              "      <td>0.0</td>\n",
              "      <td>0.0</td>\n",
              "      <td>0.000000</td>\n",
              "      <td>0.0</td>\n",
              "      <td>0.0</td>\n",
              "      <td>0.0</td>\n",
              "      <td>0.0</td>\n",
              "      <td>0.0</td>\n",
              "      <td>0.000000</td>\n",
              "      <td>0.0</td>\n",
              "      <td>0.0</td>\n",
              "      <td>0.000000</td>\n",
              "      <td>0.0</td>\n",
              "      <td>0.0</td>\n",
              "      <td>0.0</td>\n",
              "      <td>0.0</td>\n",
              "      <td>0.0</td>\n",
              "      <td>0.0</td>\n",
              "      <td>0.0</td>\n",
              "      <td>0.0</td>\n",
              "      <td>0.0</td>\n",
              "      <td>0.0</td>\n",
              "      <td>0.000000</td>\n",
              "      <td>0.0</td>\n",
              "      <td>0.0</td>\n",
              "      <td>0.000000</td>\n",
              "      <td>0.000000</td>\n",
              "      <td>0.0</td>\n",
              "      <td>0.0</td>\n",
              "      <td>0.0</td>\n",
              "      <td>0.0</td>\n",
              "      <td>0.0</td>\n",
              "      <td>0.25</td>\n",
              "      <td>0.0</td>\n",
              "      <td>2.208302</td>\n",
              "    </tr>\n",
              "    <tr>\n",
              "      <th>22</th>\n",
              "      <td>High Point Terrace</td>\n",
              "      <td>0.0</td>\n",
              "      <td>0.0</td>\n",
              "      <td>0.0</td>\n",
              "      <td>0.0</td>\n",
              "      <td>0.0</td>\n",
              "      <td>0.0</td>\n",
              "      <td>0.0</td>\n",
              "      <td>0.0</td>\n",
              "      <td>0.000000</td>\n",
              "      <td>0.0</td>\n",
              "      <td>0.0</td>\n",
              "      <td>0.0</td>\n",
              "      <td>0.0</td>\n",
              "      <td>0.0</td>\n",
              "      <td>0.0</td>\n",
              "      <td>0.0</td>\n",
              "      <td>0.0</td>\n",
              "      <td>0.0</td>\n",
              "      <td>0.0</td>\n",
              "      <td>0.0</td>\n",
              "      <td>0.0</td>\n",
              "      <td>0.0</td>\n",
              "      <td>0.0</td>\n",
              "      <td>0.055556</td>\n",
              "      <td>0.0</td>\n",
              "      <td>0.0</td>\n",
              "      <td>0.055556</td>\n",
              "      <td>0.0</td>\n",
              "      <td>0.0</td>\n",
              "      <td>0.0</td>\n",
              "      <td>0.0</td>\n",
              "      <td>0.0</td>\n",
              "      <td>0.0</td>\n",
              "      <td>0.0</td>\n",
              "      <td>0.0</td>\n",
              "      <td>0.0</td>\n",
              "      <td>0.0</td>\n",
              "      <td>0.0</td>\n",
              "      <td>0.0</td>\n",
              "      <td>...</td>\n",
              "      <td>0.0</td>\n",
              "      <td>0.055556</td>\n",
              "      <td>0.0</td>\n",
              "      <td>0.0</td>\n",
              "      <td>0.0</td>\n",
              "      <td>0.0</td>\n",
              "      <td>0.0</td>\n",
              "      <td>0.000000</td>\n",
              "      <td>0.0</td>\n",
              "      <td>0.0</td>\n",
              "      <td>0.0</td>\n",
              "      <td>0.0</td>\n",
              "      <td>0.0</td>\n",
              "      <td>0.055556</td>\n",
              "      <td>0.0</td>\n",
              "      <td>0.0</td>\n",
              "      <td>0.111111</td>\n",
              "      <td>0.0</td>\n",
              "      <td>0.0</td>\n",
              "      <td>0.0</td>\n",
              "      <td>0.0</td>\n",
              "      <td>0.0</td>\n",
              "      <td>0.0</td>\n",
              "      <td>0.0</td>\n",
              "      <td>0.0</td>\n",
              "      <td>0.0</td>\n",
              "      <td>0.0</td>\n",
              "      <td>0.055556</td>\n",
              "      <td>0.0</td>\n",
              "      <td>0.0</td>\n",
              "      <td>0.055556</td>\n",
              "      <td>0.000000</td>\n",
              "      <td>0.0</td>\n",
              "      <td>0.0</td>\n",
              "      <td>0.0</td>\n",
              "      <td>0.0</td>\n",
              "      <td>0.0</td>\n",
              "      <td>0.00</td>\n",
              "      <td>0.0</td>\n",
              "      <td>5.182510</td>\n",
              "    </tr>\n",
              "  </tbody>\n",
              "</table>\n",
              "<p>5 rows × 160 columns</p>\n",
              "</div>"
            ],
            "text/plain": [
              "          Neighborhood  American Restaurant  ...  Women's Store  miles_to_work\n",
              "4          Bunker Hill                  0.0  ...            0.0       2.639895\n",
              "5           Capleville                  0.0  ...            0.0      11.001431\n",
              "46        Walker Homes                  0.0  ...            0.0       1.398737\n",
              "20            Glenview                  0.0  ...            0.0       2.208302\n",
              "22  High Point Terrace                  0.0  ...            0.0       5.182510\n",
              "\n",
              "[5 rows x 160 columns]"
            ]
          },
          "metadata": {
            "tags": []
          },
          "execution_count": 100
        }
      ]
    },
    {
      "cell_type": "markdown",
      "metadata": {
        "id": "IFzFIY_5SYqi",
        "colab_type": "text"
      },
      "source": [
        "It turns out that different neighborhoods have different strength as the top comment venue for each neighborhood is different. For example, if you are a person who likes Music you might want to go to Belleair, but if you are someone you want to access to the gym every day, you might find Bunker Hill is better. Did I lose you for a moment? Ok, let me show what I mean. Let me show you what are the best 10 common venues near each neighborhood. See below. "
      ]
    },
    {
      "cell_type": "code",
      "metadata": {
        "id": "8u1GSLlFt4Bg",
        "colab_type": "code",
        "colab": {}
      },
      "source": [
        "def return_most_common_venues(row, num_top_venues):\n",
        "    row_categories = row.iloc[1:]\n",
        "    row_categories_sorted = row_categories.sort_values(ascending=False)\n",
        "    \n",
        "    return row_categories_sorted.index.values[0:num_top_venues]"
      ],
      "execution_count": 0,
      "outputs": []
    },
    {
      "cell_type": "code",
      "metadata": {
        "id": "NrQWEvXdt4Bi",
        "colab_type": "code",
        "outputId": "e8bb3588-cbdf-4215-d47c-ee4ac1b9e4ce",
        "colab": {
          "base_uri": "https://localhost:8080/",
          "height": 445
        }
      },
      "source": [
        "num_top_venues = 10\n",
        "\n",
        "indicators = ['st', 'nd', 'rd']\n",
        "\n",
        "# create columns according to number of top venues\n",
        "columns = ['Neighborhood']\n",
        "for ind in np.arange(num_top_venues):\n",
        "    try:\n",
        "        columns.append('{}{} Most Common Venue'.format(ind+1, indicators[ind]))\n",
        "    except:\n",
        "        columns.append('{}th Most Common Venue'.format(ind+1))\n",
        "\n",
        "# create a new dataframe\n",
        "neighborhoods_venues_sorted = pd.DataFrame(columns=columns)\n",
        "neighborhoods_venues_sorted['Neighborhood'] = Memphis_grouped['Neighborhood']\n",
        "\n",
        "for ind in np.arange(Memphis_grouped.shape[0]):\n",
        "    neighborhoods_venues_sorted.iloc[ind, 1:] = return_most_common_venues(Memphis_grouped.iloc[ind, :], num_top_venues)\n",
        "\n",
        "neighborhoods_venues_sorted.head()"
      ],
      "execution_count": 102,
      "outputs": [
        {
          "output_type": "execute_result",
          "data": {
            "text/html": [
              "<div>\n",
              "<style scoped>\n",
              "    .dataframe tbody tr th:only-of-type {\n",
              "        vertical-align: middle;\n",
              "    }\n",
              "\n",
              "    .dataframe tbody tr th {\n",
              "        vertical-align: top;\n",
              "    }\n",
              "\n",
              "    .dataframe thead th {\n",
              "        text-align: right;\n",
              "    }\n",
              "</style>\n",
              "<table border=\"1\" class=\"dataframe\">\n",
              "  <thead>\n",
              "    <tr style=\"text-align: right;\">\n",
              "      <th></th>\n",
              "      <th>Neighborhood</th>\n",
              "      <th>1st Most Common Venue</th>\n",
              "      <th>2nd Most Common Venue</th>\n",
              "      <th>3rd Most Common Venue</th>\n",
              "      <th>4th Most Common Venue</th>\n",
              "      <th>5th Most Common Venue</th>\n",
              "      <th>6th Most Common Venue</th>\n",
              "      <th>7th Most Common Venue</th>\n",
              "      <th>8th Most Common Venue</th>\n",
              "      <th>9th Most Common Venue</th>\n",
              "      <th>10th Most Common Venue</th>\n",
              "    </tr>\n",
              "  </thead>\n",
              "  <tbody>\n",
              "    <tr>\n",
              "      <th>0</th>\n",
              "      <td>Annesdale</td>\n",
              "      <td>miles_to_work</td>\n",
              "      <td>Discount Store</td>\n",
              "      <td>Gym</td>\n",
              "      <td>American Restaurant</td>\n",
              "      <td>Watch Shop</td>\n",
              "      <td>Fish Market</td>\n",
              "      <td>Frozen Yogurt Shop</td>\n",
              "      <td>Fried Chicken Joint</td>\n",
              "      <td>Football Stadium</td>\n",
              "      <td>Food Truck</td>\n",
              "    </tr>\n",
              "    <tr>\n",
              "      <th>1</th>\n",
              "      <td>Belleair</td>\n",
              "      <td>miles_to_work</td>\n",
              "      <td>Sports Bar</td>\n",
              "      <td>Golf Course</td>\n",
              "      <td>Music Venue</td>\n",
              "      <td>Art Museum</td>\n",
              "      <td>Arts &amp; Crafts Store</td>\n",
              "      <td>Bar</td>\n",
              "      <td>Burger Joint</td>\n",
              "      <td>Cajun / Creole Restaurant</td>\n",
              "      <td>Deli / Bodega</td>\n",
              "    </tr>\n",
              "    <tr>\n",
              "      <th>2</th>\n",
              "      <td>Berryhill</td>\n",
              "      <td>miles_to_work</td>\n",
              "      <td>Rental Car Location</td>\n",
              "      <td>Discount Store</td>\n",
              "      <td>Tanning Salon</td>\n",
              "      <td>Shipping Store</td>\n",
              "      <td>Pizza Place</td>\n",
              "      <td>Pharmacy</td>\n",
              "      <td>Fish Market</td>\n",
              "      <td>Football Stadium</td>\n",
              "      <td>Food Truck</td>\n",
              "    </tr>\n",
              "    <tr>\n",
              "      <th>3</th>\n",
              "      <td>Binghampton</td>\n",
              "      <td>miles_to_work</td>\n",
              "      <td>Art Gallery</td>\n",
              "      <td>Bar</td>\n",
              "      <td>Furniture / Home Store</td>\n",
              "      <td>Skate Park</td>\n",
              "      <td>Business Service</td>\n",
              "      <td>Clothing Store</td>\n",
              "      <td>Coffee Shop</td>\n",
              "      <td>Brewery</td>\n",
              "      <td>Breakfast Spot</td>\n",
              "    </tr>\n",
              "    <tr>\n",
              "      <th>4</th>\n",
              "      <td>Bunker Hill</td>\n",
              "      <td>miles_to_work</td>\n",
              "      <td>Gym Pool</td>\n",
              "      <td>Garden</td>\n",
              "      <td>Fruit &amp; Vegetable Store</td>\n",
              "      <td>Frozen Yogurt Shop</td>\n",
              "      <td>Fried Chicken Joint</td>\n",
              "      <td>Football Stadium</td>\n",
              "      <td>Food Truck</td>\n",
              "      <td>Food Court</td>\n",
              "      <td>Food &amp; Drink Shop</td>\n",
              "    </tr>\n",
              "  </tbody>\n",
              "</table>\n",
              "</div>"
            ],
            "text/plain": [
              "  Neighborhood  ... 10th Most Common Venue\n",
              "0    Annesdale  ...             Food Truck\n",
              "1     Belleair  ...          Deli / Bodega\n",
              "2    Berryhill  ...             Food Truck\n",
              "3  Binghampton  ...         Breakfast Spot\n",
              "4  Bunker Hill  ...      Food & Drink Shop\n",
              "\n",
              "[5 rows x 11 columns]"
            ]
          },
          "metadata": {
            "tags": []
          },
          "execution_count": 102
        }
      ]
    },
    {
      "cell_type": "markdown",
      "metadata": {
        "id": "tokMtOFSS5Yt",
        "colab_type": "text"
      },
      "source": [
        "I think by looking at the table above you might understand that different neighborhoods have different amenities strength. The best neighborhood depends on which kind of amenities are around you and what your choises are. \n",
        "\n",
        "With this, I am done with my data preperation and preliminary analysis of the data. Let's move on to real machine learning."
      ]
    },
    {
      "cell_type": "markdown",
      "metadata": {
        "id": "IU-uXcQbt4Bk",
        "colab_type": "text"
      },
      "source": [
        "## 4. Cluster Neighbourhoods\n"
      ]
    },
    {
      "cell_type": "markdown",
      "metadata": {
        "id": "qzFvfet1bRN4",
        "colab_type": "text"
      },
      "source": [
        "For this study, I am going to use K-means clustering algorythm. Since we have unlabled data, I think this will be a very good starting point to do an unsupervised algorythm. However, I am not 100 % sure how many clusters to choose. We will do some calculations to find the best number of clusters"
      ]
    },
    {
      "cell_type": "code",
      "metadata": {
        "id": "iYG30e8Zt4Bl",
        "colab_type": "code",
        "outputId": "f31d61d8-c58d-4ecc-a7ba-40f7f8acb531",
        "colab": {
          "base_uri": "https://localhost:8080/",
          "height": 1000
        }
      },
      "source": [
        "# set number of clusters\n",
        "maxK = 15\n",
        "Memphis_grouped_clustering = Memphis_grouped.drop('Neighborhood', 1)\n",
        "\n",
        "# print(Memphis_grouped_clustering)\n",
        "distortion = []\n",
        "from scipy.spatial.distance import cdist\n",
        "\n",
        "for k in range(1,maxK):\n",
        "  \n",
        "  \n",
        "  # run k-means clustering\n",
        "  kmeans = KMeans(n_clusters=k,random_state = 0).fit(Memphis_grouped_clustering)\n",
        "\n",
        "  # check cluster labels generated for each row in the dataframe\n",
        "  #print(kmeans.labels_)\n",
        "  \n",
        "  distortion.append(sum(np.min(cdist(Memphis_grouped_clustering, kmeans.cluster_centers_, 'euclidean'), axis=1)) / Memphis_grouped_clustering.shape[0])\n",
        "  \n",
        "\n",
        "#print(distortion)\n",
        "Memphis_grouped_clustering = Memphis_grouped_clustering.drop('miles_to_work',1)\n",
        "plt.plot(np.arange(1,maxK),distortion, 'bx-')\n",
        "plt.xlabel('k')\n",
        "plt.ylabel('Distortion')\n",
        "plt.title('The Elbow Method showing the optimal k')\n",
        "plt.show()\n",
        "\n",
        "print(Memphis_grouped_clustering)"
      ],
      "execution_count": 145,
      "outputs": [
        {
          "output_type": "display_data",
          "data": {
            "image/png": "[encoded data removed]",
            "text/plain": [
              "<Figure size 432x288 with 1 Axes>"
            ]
          },
          "metadata": {
            "tags": []
          }
        },
        {
          "output_type": "stream",
          "text": [
            "    American Restaurant  Antique Shop  ...  Wings Joint  Women's Store\n",
            "0              0.250000      0.000000  ...     0.000000       0.000000\n",
            "1              0.052632      0.000000  ...     0.000000       0.000000\n",
            "2              0.000000      0.000000  ...     0.000000       0.000000\n",
            "3              0.000000      0.055556  ...     0.000000       0.000000\n",
            "4              0.000000      0.000000  ...     0.000000       0.000000\n",
            "5              0.000000      0.000000  ...     0.000000       0.000000\n",
            "6              0.000000      0.000000  ...     0.000000       0.000000\n",
            "7              0.000000      0.000000  ...     0.000000       0.000000\n",
            "8              0.000000      0.000000  ...     0.000000       0.000000\n",
            "9              0.000000      0.000000  ...     0.000000       0.000000\n",
            "10             0.055556      0.000000  ...     0.000000       0.000000\n",
            "11             0.000000      0.000000  ...     0.166667       0.000000\n",
            "12             0.000000      0.000000  ...     0.000000       0.000000\n",
            "13             0.000000      0.000000  ...     0.000000       0.000000\n",
            "14             0.000000      0.000000  ...     0.000000       0.000000\n",
            "15             0.000000      0.000000  ...     0.000000       0.000000\n",
            "16             0.000000      0.000000  ...     0.000000       0.000000\n",
            "17             0.000000      0.000000  ...     0.100000       0.000000\n",
            "18             0.000000      0.000000  ...     0.000000       0.000000\n",
            "19             0.000000      0.000000  ...     0.000000       0.000000\n",
            "20             0.000000      0.000000  ...     0.250000       0.000000\n",
            "21             0.000000      0.000000  ...     0.000000       0.000000\n",
            "22             0.000000      0.000000  ...     0.000000       0.000000\n",
            "23             0.000000      0.000000  ...     0.000000       0.000000\n",
            "24             0.068966      0.000000  ...     0.000000       0.000000\n",
            "25             0.000000      0.000000  ...     0.000000       0.000000\n",
            "26             0.000000      0.064516  ...     0.000000       0.000000\n",
            "27             0.000000      0.000000  ...     0.033333       0.000000\n",
            "28             0.000000      0.000000  ...     0.000000       0.000000\n",
            "29             0.055556      0.000000  ...     0.000000       0.000000\n",
            "30             0.000000      0.000000  ...     0.000000       0.000000\n",
            "31             0.000000      0.000000  ...     0.000000       0.000000\n",
            "32             0.000000      0.000000  ...     0.000000       0.000000\n",
            "33             0.000000      0.000000  ...     0.000000       0.000000\n",
            "34             0.000000      0.000000  ...     0.000000       0.000000\n",
            "35             0.000000      0.000000  ...     0.333333       0.000000\n",
            "36             0.055556      0.000000  ...     0.055556       0.000000\n",
            "37             0.000000      0.000000  ...     0.000000       0.000000\n",
            "38             0.000000      0.000000  ...     0.000000       0.000000\n",
            "39             0.000000      0.000000  ...     0.000000       0.000000\n",
            "40             0.000000      0.000000  ...     0.041667       0.000000\n",
            "41             0.000000      0.000000  ...     0.000000       0.000000\n",
            "42             0.000000      0.000000  ...     0.000000       0.000000\n",
            "43             0.000000      0.000000  ...     0.000000       0.000000\n",
            "44             0.000000      0.000000  ...     0.000000       0.000000\n",
            "45             0.000000      0.000000  ...     0.000000       0.000000\n",
            "46             0.000000      0.000000  ...     0.000000       0.000000\n",
            "47             0.020833      0.000000  ...     0.000000       0.020833\n",
            "48             0.083333      0.000000  ...     0.083333       0.000000\n",
            "49             0.000000      0.000000  ...     0.000000       0.000000\n",
            "\n",
            "[50 rows x 158 columns]\n"
          ],
          "name": "stdout"
        }
      ]
    },
    {
      "cell_type": "markdown",
      "metadata": {
        "id": "3cAl6KkxTOci",
        "colab_type": "text"
      },
      "source": [
        "As the number of clusters increases, the centroids becomes closer to their clusters. This makes the distortion decrease as you increase K. You will get he minimum distortion when the number of clusters is exactly equal to the number of data points, so the distortion becomes zero. But notice the graph has a sudden variation of the slope at k = 4. Therefore, according to the Elbow method, we will consider this point as the best number of clusters as beyond this point the improvement of distortion is minimal.\n",
        "\n",
        "Let's rerun the K-mean method with k =  4."
      ]
    },
    {
      "cell_type": "code",
      "metadata": {
        "id": "yLJRma7lUqj7",
        "colab_type": "code",
        "colab": {
          "base_uri": "https://localhost:8080/",
          "height": 68
        },
        "outputId": "512b0a58-2d3f-4c76-96b3-0580104efe1d"
      },
      "source": [
        "kclusters = 4\n",
        "\n",
        "# print(Memphis_grouped_clustering)\n",
        "  \n",
        "# run k-means clustering\n",
        "kmeans = KMeans(n_clusters=kclusters,random_state = 0).fit(Memphis_grouped_clustering)\n",
        "\n",
        "kmeans.labels_\n",
        "\n"
      ],
      "execution_count": 146,
      "outputs": [
        {
          "output_type": "execute_result",
          "data": {
            "text/plain": [
              "array([1, 1, 1, 1, 2, 1, 1, 1, 1, 1, 1, 1, 0, 1, 1, 1, 1, 1, 1, 1, 1, 1,\n",
              "       1, 1, 1, 1, 1, 1, 1, 1, 1, 3, 1, 1, 1, 1, 1, 1, 1, 1, 1, 1, 1, 0,\n",
              "       1, 1, 1, 1, 1, 1], dtype=int32)"
            ]
          },
          "metadata": {
            "tags": []
          },
          "execution_count": 146
        }
      ]
    },
    {
      "cell_type": "code",
      "metadata": {
        "id": "StObPPqKt4Bo",
        "colab_type": "code",
        "outputId": "7ebee620-40e4-428d-99d5-c56206458a44",
        "colab": {
          "base_uri": "https://localhost:8080/",
          "height": 700
        }
      },
      "source": [
        "# add clustering labels\n",
        "\n",
        "try:\n",
        "    neighborhoods_venues_sorted.drop('Cluster Labels', axis=1,inplace = True) \n",
        "    neighborhoods_venues_sorted.insert(0, 'Cluster Labels', kmeans.labels_)  \n",
        "except:\n",
        "    neighborhoods_venues_sorted.insert(0, 'Cluster Labels', kmeans.labels_) # Uncomment this when run first time\n",
        "\n",
        "Memphis_merged = memphis_df\n",
        "Memphis_merged.head()\n",
        "# merge toronto_grouped with toronto_data to add latitude/longitude for each neighborhood\n",
        "Memphis_merged = Memphis_merged.join(neighborhoods_venues_sorted.set_index('Neighborhood'), on='Neighborhood')\n",
        "\n",
        "Memphis_merged.head() # check the last columns!\n",
        "\n",
        "# Drop the rows with no cluster labels\n",
        "Memphis_merged.dropna(inplace=True)\n",
        "\n",
        "Memphis_merged.head()"
      ],
      "execution_count": 141,
      "outputs": [
        {
          "output_type": "execute_result",
          "data": {
            "text/html": [
              "<div>\n",
              "<style scoped>\n",
              "    .dataframe tbody tr th:only-of-type {\n",
              "        vertical-align: middle;\n",
              "    }\n",
              "\n",
              "    .dataframe tbody tr th {\n",
              "        vertical-align: top;\n",
              "    }\n",
              "\n",
              "    .dataframe thead th {\n",
              "        text-align: right;\n",
              "    }\n",
              "</style>\n",
              "<table border=\"1\" class=\"dataframe\">\n",
              "  <thead>\n",
              "    <tr style=\"text-align: right;\">\n",
              "      <th></th>\n",
              "      <th>Burrow</th>\n",
              "      <th>Neighborhood</th>\n",
              "      <th>Latitude</th>\n",
              "      <th>Longitude</th>\n",
              "      <th>Address</th>\n",
              "      <th>miles_to_work</th>\n",
              "      <th>Cluster Labels</th>\n",
              "      <th>1st Most Common Venue</th>\n",
              "      <th>2nd Most Common Venue</th>\n",
              "      <th>3rd Most Common Venue</th>\n",
              "      <th>4th Most Common Venue</th>\n",
              "      <th>5th Most Common Venue</th>\n",
              "      <th>6th Most Common Venue</th>\n",
              "      <th>7th Most Common Venue</th>\n",
              "      <th>8th Most Common Venue</th>\n",
              "      <th>9th Most Common Venue</th>\n",
              "      <th>10th Most Common Venue</th>\n",
              "    </tr>\n",
              "  </thead>\n",
              "  <tbody>\n",
              "    <tr>\n",
              "      <th>0</th>\n",
              "      <td>Downtown</td>\n",
              "      <td>Linden</td>\n",
              "      <td>35.134366</td>\n",
              "      <td>-90.012674</td>\n",
              "      <td>Linden Avenue, Medical District, Memphis, Shel...</td>\n",
              "      <td>0.933458</td>\n",
              "      <td>1.0</td>\n",
              "      <td>miles_to_work</td>\n",
              "      <td>Mobile Phone Shop</td>\n",
              "      <td>Pizza Place</td>\n",
              "      <td>Fast Food Restaurant</td>\n",
              "      <td>Sandwich Place</td>\n",
              "      <td>Shipping Store</td>\n",
              "      <td>Music Venue</td>\n",
              "      <td>Southern / Soul Food Restaurant</td>\n",
              "      <td>Bar</td>\n",
              "      <td>Donut Shop</td>\n",
              "    </tr>\n",
              "    <tr>\n",
              "      <th>1</th>\n",
              "      <td>Downtown</td>\n",
              "      <td>Medical District</td>\n",
              "      <td>35.141978</td>\n",
              "      <td>-90.030331</td>\n",
              "      <td>Medical District, Memphis, Shelby County, Tenn...</td>\n",
              "      <td>0.242469</td>\n",
              "      <td>1.0</td>\n",
              "      <td>miles_to_work</td>\n",
              "      <td>Sandwich Place</td>\n",
              "      <td>Fried Chicken Joint</td>\n",
              "      <td>Fast Food Restaurant</td>\n",
              "      <td>Clothing Store</td>\n",
              "      <td>Food Court</td>\n",
              "      <td>Restaurant</td>\n",
              "      <td>Lawyer</td>\n",
              "      <td>Hotel</td>\n",
              "      <td>Financial or Legal Service</td>\n",
              "    </tr>\n",
              "    <tr>\n",
              "      <th>2</th>\n",
              "      <td>Downtown</td>\n",
              "      <td>Winchester Park</td>\n",
              "      <td>35.152504</td>\n",
              "      <td>-90.036226</td>\n",
              "      <td>Winchester Park, Medical District, Memphis, Sh...</td>\n",
              "      <td>1.040376</td>\n",
              "      <td>1.0</td>\n",
              "      <td>miles_to_work</td>\n",
              "      <td>Southern / Soul Food Restaurant</td>\n",
              "      <td>Drugstore</td>\n",
              "      <td>BBQ Joint</td>\n",
              "      <td>Gym / Fitness Center</td>\n",
              "      <td>Food &amp; Drink Shop</td>\n",
              "      <td>Frozen Yogurt Shop</td>\n",
              "      <td>Fried Chicken Joint</td>\n",
              "      <td>Football Stadium</td>\n",
              "      <td>Food Truck</td>\n",
              "    </tr>\n",
              "    <tr>\n",
              "      <th>3</th>\n",
              "      <td>Midtown</td>\n",
              "      <td>Annesdale</td>\n",
              "      <td>35.125646</td>\n",
              "      <td>-90.017868</td>\n",
              "      <td>Annesdale-Snowden, Shelby County, Tennessee, 3...</td>\n",
              "      <td>1.086544</td>\n",
              "      <td>1.0</td>\n",
              "      <td>miles_to_work</td>\n",
              "      <td>Discount Store</td>\n",
              "      <td>Gym</td>\n",
              "      <td>American Restaurant</td>\n",
              "      <td>Watch Shop</td>\n",
              "      <td>Fish Market</td>\n",
              "      <td>Frozen Yogurt Shop</td>\n",
              "      <td>Fried Chicken Joint</td>\n",
              "      <td>Football Stadium</td>\n",
              "      <td>Food Truck</td>\n",
              "    </tr>\n",
              "    <tr>\n",
              "      <th>4</th>\n",
              "      <td>Midtown</td>\n",
              "      <td>Belleair</td>\n",
              "      <td>35.141008</td>\n",
              "      <td>-89.993866</td>\n",
              "      <td>Belleair Drive, Memphis, Shelby County, Tennes...</td>\n",
              "      <td>1.949036</td>\n",
              "      <td>1.0</td>\n",
              "      <td>miles_to_work</td>\n",
              "      <td>Sports Bar</td>\n",
              "      <td>Golf Course</td>\n",
              "      <td>Music Venue</td>\n",
              "      <td>Art Museum</td>\n",
              "      <td>Arts &amp; Crafts Store</td>\n",
              "      <td>Bar</td>\n",
              "      <td>Burger Joint</td>\n",
              "      <td>Cajun / Creole Restaurant</td>\n",
              "      <td>Deli / Bodega</td>\n",
              "    </tr>\n",
              "  </tbody>\n",
              "</table>\n",
              "</div>"
            ],
            "text/plain": [
              "     Burrow  ...      10th Most Common Venue\n",
              "0  Downtown  ...                  Donut Shop\n",
              "1  Downtown  ...  Financial or Legal Service\n",
              "2  Downtown  ...                  Food Truck\n",
              "3   Midtown  ...                  Food Truck\n",
              "4   Midtown  ...               Deli / Bodega\n",
              "\n",
              "[5 rows x 17 columns]"
            ]
          },
          "metadata": {
            "tags": []
          },
          "execution_count": 141
        }
      ]
    },
    {
      "cell_type": "code",
      "metadata": {
        "id": "kdynQmh6t4Br",
        "colab_type": "code",
        "outputId": "50489e2c-59d7-43da-ce1b-e5f8eb6cf84e",
        "colab": {
          "base_uri": "https://localhost:8080/",
          "height": 501
        }
      },
      "source": [
        "# create map\n",
        "\n",
        "map_clusters = folium.Map(location=[lat0, lon0], zoom_start=11)\n",
        "\n",
        "# set color scheme for the clusters\n",
        "x = np.arange(kclusters)\n",
        "ys = [i + x + (i*x)**2 for i in range(kclusters)]\n",
        "colors_array = cm.rainbow(np.linspace(0, 1, len(ys)))\n",
        "rainbow = [colors.rgb2hex(i) for i in colors_array]\n",
        "\n",
        "# Memphis_merged\n",
        "\n",
        "# add markers to the map\n",
        "#markers_colors = []\n",
        "for lat, lon, poi, cluster, miles in zip(Memphis_merged['Latitude'], Memphis_merged['Longitude'], Memphis_merged['Neighborhood'], Memphis_merged['Cluster Labels'].astype('int'),Memphis_merged['miles_to_work']):\n",
        "    label = folium.Popup(str(poi)  + ' Cluster ' + str(cluster) + \" \" +  str(round(miles,2)) + \" miles\", parse_html=True)\n",
        "    folium.CircleMarker(\n",
        "        [lat, lon],\n",
        "        radius=5,\n",
        "        popup=label,\n",
        "        color=rainbow[cluster-1],\n",
        "        fill=True,\n",
        "        fill_color=rainbow[cluster-1],\n",
        "        fill_opacity=0.7).add_to(map_clusters)\n",
        "       \n",
        "map_clusters"
      ],
      "execution_count": 138,
      "outputs": [
        {
          "output_type": "execute_result",
          "data": {
            "text/html": [
              "<div style=\"width:100%;\"><div style=\"position:relative;width:100%;height:0;padding-bottom:60%;\"><iframe src=\"data:text/html;charset=utf-8;base64,PCFET0NUWVBFIGh0bWw+CjxoZWFkPiAgICAKICAgIDxtZXRhIGh0dHAtZXF1aXY9ImNvbnRlbnQtdHlwZSIgY29udGVudD0idGV4dC9odG1sOyBjaGFyc2V0PVVURi04IiAvPgogICAgPHNjcmlwdD5MX1BSRUZFUl9DQU5WQVM9ZmFsc2U7IExfTk9fVE9VQ0g9ZmFsc2U7IExfRElTQUJMRV8zRD1mYWxzZTs8L3NjcmlwdD4KICAgIDxzY3JpcHQgc3JjPSJodHRwczovL2Nkbi5qc2RlbGl2ci5uZXQvbnBtL2xlYWZsZXRAMS40LjAvZGlzdC9sZWFmbGV0LmpzIj48L3NjcmlwdD4KICAgIDxzY3JpcHQgc3JjPSJodHRwczovL2NvZGUuanF1ZXJ5LmNvbS9qcXVlcnktMS4xMi40Lm1pbi5qcyI+PC9zY3JpcHQ+CiAgICA8c2NyaXB0IHNyYz0iaHR0cHM6Ly9tYXhjZG4uYm9vdHN0cmFwY2RuLmNvbS9ib290c3RyYXAvMy4yLjAvanMvYm9vdHN0cmFwLm1pbi5qcyI+PC9zY3JpcHQ+CiAgICA8c2NyaXB0IHNyYz0iaHR0cHM6Ly9jZG5qcy5jbG91ZGZsYXJlLmNvbS9hamF4L2xpYnMvTGVhZmxldC5hd2Vzb21lLW1hcmtlcnMvMi4wLjIvbGVhZmxldC5hd2Vzb21lLW1hcmtlcnMuanMiPjwvc2NyaXB0PgogICAgPGxpbmsgcmVsPSJzdHlsZXNoZWV0IiBocmVmPSJodHRwczovL2Nkbi5qc2RlbGl2ci5uZXQvbnBtL2xlYWZsZXRAMS40LjAvZGlzdC9sZWFmbGV0LmNzcyIvPgogICAgPGxpbmsgcmVsPSJzdHlsZXNoZWV0IiBocmVmPSJodHRwczovL21heGNkbi5ib290c3RyYXBjZG4uY29tL2Jvb3RzdHJhcC8zLjIuMC9jc3MvYm9vdHN0cmFwLm1pbi5jc3MiLz4KICAgIDxsaW5rIHJlbD0ic3R5bGVzaGVldCIgaHJlZj0iaHR0cHM6Ly9tYXhjZG4uYm9vdHN0cmFwY2RuLmNvbS9ib290c3RyYXAvMy4yLjAvY3NzL2Jvb3RzdHJhcC10aGVtZS5taW4uY3NzIi8+CiAgICA8bGluayByZWw9InN0eWxlc2hlZXQiIGhyZWY9Imh0dHBzOi8vbWF4Y2RuLmJvb3RzdHJhcGNkbi5jb20vZm9udC1hd2Vzb21lLzQuNi4zL2Nzcy9mb250LWF3ZXNvbWUubWluLmNzcyIvPgogICAgPGxpbmsgcmVsPSJzdHlsZXNoZWV0IiBocmVmPSJodHRwczovL2NkbmpzLmNsb3VkZmxhcmUuY29tL2FqYXgvbGlicy9MZWFmbGV0LmF3ZXNvbWUtbWFya2Vycy8yLjAuMi9sZWFmbGV0LmF3ZXNvbWUtbWFya2Vycy5jc3MiLz4KICAgIDxsaW5rIHJlbD0ic3R5bGVzaGVldCIgaHJlZj0iaHR0cHM6Ly9yYXdjZG4uZ2l0aGFjay5jb20vcHl0aG9uLXZpc3VhbGl6YXRpb24vZm9saXVtL21hc3Rlci9mb2xpdW0vdGVtcGxhdGVzL2xlYWZsZXQuYXdlc29tZS5yb3RhdGUuY3NzIi8+CiAgICA8c3R5bGU+aHRtbCwgYm9keSB7d2lkdGg6IDEwMCU7aGVpZ2h0OiAxMDAlO21hcmdpbjogMDtwYWRkaW5nOiAwO308L3N0eWxlPgogICAgPHN0eWxlPiNtYXAge3Bvc2l0aW9uOmFic29sdXRlO3RvcDowO2JvdHRvbTowO3JpZ2h0OjA7bGVmdDowO308L3N0eWxlPgogICAgCiAgICA8bWV0YSBuYW1lPSJ2aWV3cG9ydCIgY29udGVudD0id2lkdGg9ZGV2aWNlLXdpZHRoLAogICAgICAgIGluaXRpYWwtc2NhbGU9MS4wLCBtYXhpbXVtLXNjYWxlPTEuMCwgdXNlci1zY2FsYWJsZT1ubyIgLz4KICAgIDxzdHlsZT4jbWFwXzZiOGQyMzE1N2NmZTRkYjc4NzY2NDFkYjkwZTBlODY2IHsKICAgICAgICBwb3NpdGlvbjogcmVsYXRpdmU7CiAgICAgICAgd2lkdGg6IDEwMC4wJTsKICAgICAgICBoZWlnaHQ6IDEwMC4wJTsKICAgICAgICBsZWZ0OiAwLjAlOwogICAgICAgIHRvcDogMC4wJTsKICAgICAgICB9CiAgICA8L3N0eWxlPgo8L2hlYWQ+Cjxib2R5PiAgICAKICAgIAogICAgPGRpdiBjbGFzcz0iZm9saXVtLW1hcCIgaWQ9Im1hcF82YjhkMjMxNTdjZmU0ZGI3ODc2NjQxZGI5MGUwZTg2NiIgPjwvZGl2Pgo8L2JvZHk+CjxzY3JpcHQ+ICAgIAogICAgCiAgICAKICAgICAgICB2YXIgYm91bmRzID0gbnVsbDsKICAgIAoKICAgIHZhciBtYXBfNmI4ZDIzMTU3Y2ZlNGRiNzg3NjY0MWRiOTBlMGU4NjYgPSBMLm1hcCgKICAgICAgICAnbWFwXzZiOGQyMzE1N2NmZTRkYjc4NzY2NDFkYjkwZTBlODY2JywgewogICAgICAgIGNlbnRlcjogWzM1LjEzODkzMDgsIC05MC4wMjgxOTIyXSwKICAgICAgICB6b29tOiAxMSwKICAgICAgICBtYXhCb3VuZHM6IGJvdW5kcywKICAgICAgICBsYXllcnM6IFtdLAogICAgICAgIHdvcmxkQ29weUp1bXA6IGZhbHNlLAogICAgICAgIGNyczogTC5DUlMuRVBTRzM4NTcsCiAgICAgICAgem9vbUNvbnRyb2w6IHRydWUsCiAgICAgICAgfSk7CgoKICAgIAogICAgdmFyIHRpbGVfbGF5ZXJfYWEyYjNjN2RjMzU3NDRmMjgzYWFhNjgyYWE1YTY1OTYgPSBMLnRpbGVMYXllcigKICAgICAgICAnaHR0cHM6Ly97c30udGlsZS5vcGVuc3RyZWV0bWFwLm9yZy97en0ve3h9L3t5fS5wbmcnLAogICAgICAgIHsKICAgICAgICAiYXR0cmlidXRpb24iOiBudWxsLAogICAgICAgICJkZXRlY3RSZXRpbmEiOiBmYWxzZSwKICAgICAgICAibWF4TmF0aXZlWm9vbSI6IDE4LAogICAgICAgICJtYXhab29tIjogMTgsCiAgICAgICAgIm1pblpvb20iOiAwLAogICAgICAgICJub1dyYXAiOiBmYWxzZSwKICAgICAgICAib3BhY2l0eSI6IDEsCiAgICAgICAgInN1YmRvbWFpbnMiOiAiYWJjIiwKICAgICAgICAidG1zIjogZmFsc2UKfSkuYWRkVG8obWFwXzZiOGQyMzE1N2NmZTRkYjc4NzY2NDFkYjkwZTBlODY2KTsKICAgIAogICAgICAgICAgICB2YXIgY2lyY2xlX21hcmtlcl8yN2NlNjEyYjk2M2Q0NmE5OGVlNzg0ZTA0MGY0N2UyOCA9IEwuY2lyY2xlTWFya2VyKAogICAgICAgICAgICAgICAgWzM1LjEzNDM2NTksIC05MC4wMTI2NzM1XSwKICAgICAgICAgICAgICAgIHsKICAiYnViYmxpbmdNb3VzZUV2ZW50cyI6IHRydWUsCiAgImNvbG9yIjogIiM4MDAwZmYiLAogICJkYXNoQXJyYXkiOiBudWxsLAogICJkYXNoT2Zmc2V0IjogbnVsbCwKICAiZmlsbCI6IHRydWUsCiAgImZpbGxDb2xvciI6ICIjODAwMGZmIiwKICAiZmlsbE9wYWNpdHkiOiAwLjcsCiAgImZpbGxSdWxlIjogImV2ZW5vZGQiLAogICJsaW5lQ2FwIjogInJvdW5kIiwKICAibGluZUpvaW4iOiAicm91bmQiLAogICJvcGFjaXR5IjogMS4wLAogICJyYWRpdXMiOiA1LAogICJzdHJva2UiOiB0cnVlLAogICJ3ZWlnaHQiOiAzCn0KICAgICAgICAgICAgICAgICkKICAgICAgICAgICAgICAgIC5hZGRUbyhtYXBfNmI4ZDIzMTU3Y2ZlNGRiNzg3NjY0MWRiOTBlMGU4NjYpOwogICAgICAgICAgICAKICAgIAogICAgICAgICAgICB2YXIgcG9wdXBfODM1ODgwOGQ5N2YxNGU1OTg5OWYxMGRiODgwMDgwYjggPSBMLnBvcHVwKHttYXhXaWR0aDogJzEwMCUnCiAgICAgICAgICAgIAogICAgICAgICAgICB9KTsKCiAgICAgICAgICAgIAogICAgICAgICAgICAgICAgdmFyIGh0bWxfYzhmOGYxMjQ1YWI1NGIzNGI3NTZmYTRjNDE0YzI1ZWUgPSAkKGA8ZGl2IGlkPSJodG1sX2M4ZjhmMTI0NWFiNTRiMzRiNzU2ZmE0YzQxNGMyNWVlIiBzdHlsZT0id2lkdGg6IDEwMC4wJTsgaGVpZ2h0OiAxMDAuMCU7Ij5MaW5kZW4gQ2x1c3RlciAxIDAuOTMgbWlsZXM8L2Rpdj5gKVswXTsKICAgICAgICAgICAgICAgIHBvcHVwXzgzNTg4MDhkOTdmMTRlNTk4OTlmMTBkYjg4MDA4MGI4LnNldENvbnRlbnQoaHRtbF9jOGY4ZjEyNDVhYjU0YjM0Yjc1NmZhNGM0MTRjMjVlZSk7CiAgICAgICAgICAgIAoKICAgICAgICAgICAgY2lyY2xlX21hcmtlcl8yN2NlNjEyYjk2M2Q0NmE5OGVlNzg0ZTA0MGY0N2UyOC5iaW5kUG9wdXAocG9wdXBfODM1ODgwOGQ5N2YxNGU1OTg5OWYxMGRiODgwMDgwYjgpCiAgICAgICAgICAgIDsKCiAgICAgICAgICAgIAogICAgICAgIAogICAgCiAgICAgICAgICAgIHZhciBjaXJjbGVfbWFya2VyXzAyODUwNWZkZjFjOTRhMWI5ZTUyOTBlMzYzNjg1ZjBhID0gTC5jaXJjbGVNYXJrZXIoCiAgICAgICAgICAgICAgICBbMzUuMTQxOTc3OSwgLTkwLjAzMDMzMDldLAogICAgICAgICAgICAgICAgewogICJidWJibGluZ01vdXNlRXZlbnRzIjogdHJ1ZSwKICAiY29sb3IiOiAiIzgwMDBmZiIsCiAgImRhc2hBcnJheSI6IG51bGwsCiAgImRhc2hPZmZzZXQiOiBudWxsLAogICJmaWxsIjogdHJ1ZSwKICAiZmlsbENvbG9yIjogIiM4MDAwZmYiLAogICJmaWxsT3BhY2l0eSI6IDAuNywKICAiZmlsbFJ1bGUiOiAiZXZlbm9kZCIsCiAgImxpbmVDYXAiOiAicm91bmQiLAogICJsaW5lSm9pbiI6ICJyb3VuZCIsCiAgIm9wYWNpdHkiOiAxLjAsCiAgInJhZGl1cyI6IDUsCiAgInN0cm9rZSI6IHRydWUsCiAgIndlaWdodCI6IDMKfQogICAgICAgICAgICAgICAgKQogICAgICAgICAgICAgICAgLmFkZFRvKG1hcF82YjhkMjMxNTdjZmU0ZGI3ODc2NjQxZGI5MGUwZTg2Nik7CiAgICAgICAgICAgIAogICAgCiAgICAgICAgICAgIHZhciBwb3B1cF9mOTBlOTIwY2I0OGY0MmIzYjZlM2ZlMGVlZWIzNGZiMSA9IEwucG9wdXAoe21heFdpZHRoOiAnMTAwJScKICAgICAgICAgICAgCiAgICAgICAgICAgIH0pOwoKICAgICAgICAgICAgCiAgICAgICAgICAgICAgICB2YXIgaHRtbF81OTliOGQ2ZmYwN2I0MmQ0YTU3ODFkYTNmZjg3NGNjOSA9ICQoYDxkaXYgaWQ9Imh0bWxfNTk5YjhkNmZmMDdiNDJkNGE1NzgxZGEzZmY4NzRjYzkiIHN0eWxlPSJ3aWR0aDogMTAwLjAlOyBoZWlnaHQ6IDEwMC4wJTsiPk1lZGljYWwgRGlzdHJpY3QgQ2x1c3RlciAxIDAuMjQgbWlsZXM8L2Rpdj5gKVswXTsKICAgICAgICAgICAgICAgIHBvcHVwX2Y5MGU5MjBjYjQ4ZjQyYjNiNmUzZmUwZWVlYjM0ZmIxLnNldENvbnRlbnQoaHRtbF81OTliOGQ2ZmYwN2I0MmQ0YTU3ODFkYTNmZjg3NGNjOSk7CiAgICAgICAgICAgIAoKICAgICAgICAgICAgY2lyY2xlX21hcmtlcl8wMjg1MDVmZGYxYzk0YTFiOWU1MjkwZTM2MzY4NWYwYS5iaW5kUG9wdXAocG9wdXBfZjkwZTkyMGNiNDhmNDJiM2I2ZTNmZTBlZWViMzRmYjEpCiAgICAgICAgICAgIDsKCiAgICAgICAgICAgIAogICAgICAgIAogICAgCiAgICAgICAgICAgIHZhciBjaXJjbGVfbWFya2VyXzA2NWQzMjZiMTEzYjQyZWM5M2MyMDk4YmMwZjc5ZmI3ID0gTC5jaXJjbGVNYXJrZXIoCiAgICAgICAgICAgICAgICBbMzUuMTUyNTAzNiwgLTkwLjAzNjIyNTUyMTM4MDldLAogICAgICAgICAgICAgICAgewogICJidWJibGluZ01vdXNlRXZlbnRzIjogdHJ1ZSwKICAiY29sb3IiOiAiIzgwMDBmZiIsCiAgImRhc2hBcnJheSI6IG51bGwsCiAgImRhc2hPZmZzZXQiOiBudWxsLAogICJmaWxsIjogdHJ1ZSwKICAiZmlsbENvbG9yIjogIiM4MDAwZmYiLAogICJmaWxsT3BhY2l0eSI6IDAuNywKICAiZmlsbFJ1bGUiOiAiZXZlbm9kZCIsCiAgImxpbmVDYXAiOiAicm91bmQiLAogICJsaW5lSm9pbiI6ICJyb3VuZCIsCiAgIm9wYWNpdHkiOiAxLjAsCiAgInJhZGl1cyI6IDUsCiAgInN0cm9rZSI6IHRydWUsCiAgIndlaWdodCI6IDMKfQogICAgICAgICAgICAgICAgKQogICAgICAgICAgICAgICAgLmFkZFRvKG1hcF82YjhkMjMxNTdjZmU0ZGI3ODc2NjQxZGI5MGUwZTg2Nik7CiAgICAgICAgICAgIAogICAgCiAgICAgICAgICAgIHZhciBwb3B1cF85M2ZjZjhhNjk4YjM0YzlkYTdhNDllOGY5NTFjN2U5MiA9IEwucG9wdXAoe21heFdpZHRoOiAnMTAwJScKICAgICAgICAgICAgCiAgICAgICAgICAgIH0pOwoKICAgICAgICAgICAgCiAgICAgICAgICAgICAgICB2YXIgaHRtbF81YTczZTZlODkxNDk0YzRkOWFkMzI5YzRmNjM5NmZjOSA9ICQoYDxkaXYgaWQ9Imh0bWxfNWE3M2U2ZTg5MTQ5NGM0ZDlhZDMyOWM0ZjYzOTZmYzkiIHN0eWxlPSJ3aWR0aDogMTAwLjAlOyBoZWlnaHQ6IDEwMC4wJTsiPldpbmNoZXN0ZXIgUGFyayBDbHVzdGVyIDEgMS4wNCBtaWxlczwvZGl2PmApWzBdOwogICAgICAgICAgICAgICAgcG9wdXBfOTNmY2Y4YTY5OGIzNGM5ZGE3YTQ5ZThmOTUxYzdlOTIuc2V0Q29udGVudChodG1sXzVhNzNlNmU4OTE0OTRjNGQ5YWQzMjljNGY2Mzk2ZmM5KTsKICAgICAgICAgICAgCgogICAgICAgICAgICBjaXJjbGVfbWFya2VyXzA2NWQzMjZiMTEzYjQyZWM5M2MyMDk4YmMwZjc5ZmI3LmJpbmRQb3B1cChwb3B1cF85M2ZjZjhhNjk4YjM0YzlkYTdhNDllOGY5NTFjN2U5MikKICAgICAgICAgICAgOwoKICAgICAgICAgICAgCiAgICAgICAgCiAgICAKICAgICAgICAgICAgdmFyIGNpcmNsZV9tYXJrZXJfZGEzOWE5MGUxNDVjNGUzMGEzNDEyOWY1NWQ1N2ZkYWIgPSBMLmNpcmNsZU1hcmtlcigKICAgICAgICAgICAgICAgIFszNS4xMjU2NDU3LCAtOTAuMDE3ODY4NF0sCiAgICAgICAgICAgICAgICB7CiAgImJ1YmJsaW5nTW91c2VFdmVudHMiOiB0cnVlLAogICJjb2xvciI6ICIjODAwMGZmIiwKICAiZGFzaEFycmF5IjogbnVsbCwKICAiZGFzaE9mZnNldCI6IG51bGwsCiAgImZpbGwiOiB0cnVlLAogICJmaWxsQ29sb3IiOiAiIzgwMDBmZiIsCiAgImZpbGxPcGFjaXR5IjogMC43LAogICJmaWxsUnVsZSI6ICJldmVub2RkIiwKICAibGluZUNhcCI6ICJyb3VuZCIsCiAgImxpbmVKb2luIjogInJvdW5kIiwKICAib3BhY2l0eSI6IDEuMCwKICAicmFkaXVzIjogNSwKICAic3Ryb2tlIjogdHJ1ZSwKICAid2VpZ2h0IjogMwp9CiAgICAgICAgICAgICAgICApCiAgICAgICAgICAgICAgICAuYWRkVG8obWFwXzZiOGQyMzE1N2NmZTRkYjc4NzY2NDFkYjkwZTBlODY2KTsKICAgICAgICAgICAgCiAgICAKICAgICAgICAgICAgdmFyIHBvcHVwX2VjODlhNTAzYmJlMTQwODk5MDlhZDA5NjQ4NzExYjY1ID0gTC5wb3B1cCh7bWF4V2lkdGg6ICcxMDAlJwogICAgICAgICAgICAKICAgICAgICAgICAgfSk7CgogICAgICAgICAgICAKICAgICAgICAgICAgICAgIHZhciBodG1sX2YzYjA3NGM4MmY2ZDQwN2ZhMzAyZmU1MDlkOGRhZjFjID0gJChgPGRpdiBpZD0iaHRtbF9mM2IwNzRjODJmNmQ0MDdmYTMwMmZlNTA5ZDhkYWYxYyIgc3R5bGU9IndpZHRoOiAxMDAuMCU7IGhlaWdodDogMTAwLjAlOyI+QW5uZXNkYWxlIENsdXN0ZXIgMSAxLjA5IG1pbGVzPC9kaXY+YClbMF07CiAgICAgICAgICAgICAgICBwb3B1cF9lYzg5YTUwM2JiZTE0MDg5OTA5YWQwOTY0ODcxMWI2NS5zZXRDb250ZW50KGh0bWxfZjNiMDc0YzgyZjZkNDA3ZmEzMDJmZTUwOWQ4ZGFmMWMpOwogICAgICAgICAgICAKCiAgICAgICAgICAgIGNpcmNsZV9tYXJrZXJfZGEzOWE5MGUxNDVjNGUzMGEzNDEyOWY1NWQ1N2ZkYWIuYmluZFBvcHVwKHBvcHVwX2VjODlhNTAzYmJlMTQwODk5MDlhZDA5NjQ4NzExYjY1KQogICAgICAgICAgICA7CgogICAgICAgICAgICAKICAgICAgICAKICAgIAogICAgICAgICAgICB2YXIgY2lyY2xlX21hcmtlcl81ZmQ5NGE4OWZlMGY0MDUyYWM5MWVlNmE4M2NmOWZjMSA9IEwuY2lyY2xlTWFya2VyKAogICAgICAgICAgICAgICAgWzM1LjE0MTAwNzgsIC04OS45OTM4NjY0XSwKICAgICAgICAgICAgICAgIHsKICAiYnViYmxpbmdNb3VzZUV2ZW50cyI6IHRydWUsCiAgImNvbG9yIjogIiM4MDAwZmYiLAogICJkYXNoQXJyYXkiOiBudWxsLAogICJkYXNoT2Zmc2V0IjogbnVsbCwKICAiZmlsbCI6IHRydWUsCiAgImZpbGxDb2xvciI6ICIjODAwMGZmIiwKICAiZmlsbE9wYWNpdHkiOiAwLjcsCiAgImZpbGxSdWxlIjogImV2ZW5vZGQiLAogICJsaW5lQ2FwIjogInJvdW5kIiwKICAibGluZUpvaW4iOiAicm91bmQiLAogICJvcGFjaXR5IjogMS4wLAogICJyYWRpdXMiOiA1LAogICJzdHJva2UiOiB0cnVlLAogICJ3ZWlnaHQiOiAzCn0KICAgICAgICAgICAgICAgICkKICAgICAgICAgICAgICAgIC5hZGRUbyhtYXBfNmI4ZDIzMTU3Y2ZlNGRiNzg3NjY0MWRiOTBlMGU4NjYpOwogICAgICAgICAgICAKICAgIAogICAgICAgICAgICB2YXIgcG9wdXBfZWZhN2Q3NDA2OWRmNDZiYzg5NWU5Mzc4OTRiMzcxZTQgPSBMLnBvcHVwKHttYXhXaWR0aDogJzEwMCUnCiAgICAgICAgICAgIAogICAgICAgICAgICB9KTsKCiAgICAgICAgICAgIAogICAgICAgICAgICAgICAgdmFyIGh0bWxfM2ZkNTUxYWVkYjBmNGYzY2ExNDJlNzYyNzhjOWU4ZTUgPSAkKGA8ZGl2IGlkPSJodG1sXzNmZDU1MWFlZGIwZjRmM2NhMTQyZTc2Mjc4YzllOGU1IiBzdHlsZT0id2lkdGg6IDEwMC4wJTsgaGVpZ2h0OiAxMDAuMCU7Ij5CZWxsZWFpciBDbHVzdGVyIDEgMS45NSBtaWxlczwvZGl2PmApWzBdOwogICAgICAgICAgICAgICAgcG9wdXBfZWZhN2Q3NDA2OWRmNDZiYzg5NWU5Mzc4OTRiMzcxZTQuc2V0Q29udGVudChodG1sXzNmZDU1MWFlZGIwZjRmM2NhMTQyZTc2Mjc4YzllOGU1KTsKICAgICAgICAgICAgCgogICAgICAgICAgICBjaXJjbGVfbWFya2VyXzVmZDk0YTg5ZmUwZjQwNTJhYzkxZWU2YTgzY2Y5ZmMxLmJpbmRQb3B1cChwb3B1cF9lZmE3ZDc0MDY5ZGY0NmJjODk1ZTkzNzg5NGIzNzFlNCkKICAgICAgICAgICAgOwoKICAgICAgICAgICAgCiAgICAgICAgCiAgICAKICAgICAgICAgICAgdmFyIGNpcmNsZV9tYXJrZXJfZmE3MTY1YTI2MzZkNGYxYzk3MTUxZjM4ZDE0ZTVmMzQgPSBMLmNpcmNsZU1hcmtlcigKICAgICAgICAgICAgICAgIFszNS4yMTA5MDg5LCAtODkuOTE5MzU3XSwKICAgICAgICAgICAgICAgIHsKICAiYnViYmxpbmdNb3VzZUV2ZW50cyI6IHRydWUsCiAgImNvbG9yIjogIiM4MDAwZmYiLAogICJkYXNoQXJyYXkiOiBudWxsLAogICJkYXNoT2Zmc2V0IjogbnVsbCwKICAiZmlsbCI6IHRydWUsCiAgImZpbGxDb2xvciI6ICIjODAwMGZmIiwKICAiZmlsbE9wYWNpdHkiOiAwLjcsCiAgImZpbGxSdWxlIjogImV2ZW5vZGQiLAogICJsaW5lQ2FwIjogInJvdW5kIiwKICAibGluZUpvaW4iOiAicm91bmQiLAogICJvcGFjaXR5IjogMS4wLAogICJyYWRpdXMiOiA1LAogICJzdHJva2UiOiB0cnVlLAogICJ3ZWlnaHQiOiAzCn0KICAgICAgICAgICAgICAgICkKICAgICAgICAgICAgICAgIC5hZGRUbyhtYXBfNmI4ZDIzMTU3Y2ZlNGRiNzg3NjY0MWRiOTBlMGU4NjYpOwogICAgICAgICAgICAKICAgIAogICAgICAgICAgICB2YXIgcG9wdXBfYWEyOWZiNGQ1NmY1NDg3NWJhNDBiNDRjYTMyYjkyNDUgPSBMLnBvcHVwKHttYXhXaWR0aDogJzEwMCUnCiAgICAgICAgICAgIAogICAgICAgICAgICB9KTsKCiAgICAgICAgICAgIAogICAgICAgICAgICAgICAgdmFyIGh0bWxfZmQwOTBmYTNiZTlmNDFhZTk2MGVjYWEzZmNkY2YxZGUgPSAkKGA8ZGl2IGlkPSJodG1sX2ZkMDkwZmEzYmU5ZjQxYWU5NjBlY2FhM2ZjZGNmMWRlIiBzdHlsZT0id2lkdGg6IDEwMC4wJTsgaGVpZ2h0OiAxMDAuMCU7Ij5DZW50cmFsIEdhcmRlbnMgQ2x1c3RlciAxIDcuOTEgbWlsZXM8L2Rpdj5gKVswXTsKICAgICAgICAgICAgICAgIHBvcHVwX2FhMjlmYjRkNTZmNTQ4NzViYTQwYjQ0Y2EzMmI5MjQ1LnNldENvbnRlbnQoaHRtbF9mZDA5MGZhM2JlOWY0MWFlOTYwZWNhYTNmY2RjZjFkZSk7CiAgICAgICAgICAgIAoKICAgICAgICAgICAgY2lyY2xlX21hcmtlcl9mYTcxNjVhMjYzNmQ0ZjFjOTcxNTFmMzhkMTRlNWYzNC5iaW5kUG9wdXAocG9wdXBfYWEyOWZiNGQ1NmY1NDg3NWJhNDBiNDRjYTMyYjkyNDUpCiAgICAgICAgICAgIDsKCiAgICAgICAgICAgIAogICAgICAgIAogICAgCiAgICAgICAgICAgIHZhciBjaXJjbGVfbWFya2VyXzdlZDNiN2IwZWExYzQxZGQ4NjMwOTYzMTFhYTRlZmY3ID0gTC5jaXJjbGVNYXJrZXIoCiAgICAgICAgICAgICAgICBbMzUuMTI4NzAxMSwgLTg5Ljk2Mjg2N10sCiAgICAgICAgICAgICAgICB7CiAgImJ1YmJsaW5nTW91c2VFdmVudHMiOiB0cnVlLAogICJjb2xvciI6ICIjODAwMGZmIiwKICAiZGFzaEFycmF5IjogbnVsbCwKICAiZGFzaE9mZnNldCI6IG51bGwsCiAgImZpbGwiOiB0cnVlLAogICJmaWxsQ29sb3IiOiAiIzgwMDBmZiIsCiAgImZpbGxPcGFjaXR5IjogMC43LAogICJmaWxsUnVsZSI6ICJldmVub2RkIiwKICAibGluZUNhcCI6ICJyb3VuZCIsCiAgImxpbmVKb2luIjogInJvdW5kIiwKICAib3BhY2l0eSI6IDEuMCwKICAicmFkaXVzIjogNSwKICAic3Ryb2tlIjogdHJ1ZSwKICAid2VpZ2h0IjogMwp9CiAgICAgICAgICAgICAgICApCiAgICAgICAgICAgICAgICAuYWRkVG8obWFwXzZiOGQyMzE1N2NmZTRkYjc4NzY2NDFkYjkwZTBlODY2KTsKICAgICAgICAgICAgCiAgICAKICAgICAgICAgICAgdmFyIHBvcHVwX2Y1ZGRjZjI2N2Q5NDRlODRhZTc3OTc3YzdiY2U1MDZkID0gTC5wb3B1cCh7bWF4V2lkdGg6ICcxMDAlJwogICAgICAgICAgICAKICAgICAgICAgICAgfSk7CgogICAgICAgICAgICAKICAgICAgICAgICAgICAgIHZhciBodG1sX2JlNWY3ZTg3NDNkYjQyMWViMDlhNmE4YjAzNzdlNmQzID0gJChgPGRpdiBpZD0iaHRtbF9iZTVmN2U4NzQzZGI0MjFlYjA5YTZhOGIwMzc3ZTZkMyIgc3R5bGU9IndpZHRoOiAxMDAuMCU7IGhlaWdodDogMTAwLjAlOyI+Q2hpY2thc2F3IEdhcmRlbnMgQ2x1c3RlciAxIDMuNzcgbWlsZXM8L2Rpdj5gKVswXTsKICAgICAgICAgICAgICAgIHBvcHVwX2Y1ZGRjZjI2N2Q5NDRlODRhZTc3OTc3YzdiY2U1MDZkLnNldENvbnRlbnQoaHRtbF9iZTVmN2U4NzQzZGI0MjFlYjA5YTZhOGIwMzc3ZTZkMyk7CiAgICAgICAgICAgIAoKICAgICAgICAgICAgY2lyY2xlX21hcmtlcl83ZWQzYjdiMGVhMWM0MWRkODYzMDk2MzExYWE0ZWZmNy5iaW5kUG9wdXAocG9wdXBfZjVkZGNmMjY3ZDk0NGU4NGFlNzc5NzdjN2JjZTUwNmQpCiAgICAgICAgICAgIDsKCiAgICAgICAgICAgIAogICAgICAgIAogICAgCiAgICAgICAgICAgIHZhciBjaXJjbGVfbWFya2VyX2VkYWZmMzA5ZjVhODRkNmE4NjVmMWUyYmMzYmJjYTU4ID0gTC5jaXJjbGVNYXJrZXIoCiAgICAgICAgICAgICAgICBbMzUuMTUyNDM3MSwgLTkwLjAxMjIyNl0sCiAgICAgICAgICAgICAgICB7CiAgImJ1YmJsaW5nTW91c2VFdmVudHMiOiB0cnVlLAogICJjb2xvciI6ICIjODAwMGZmIiwKICAiZGFzaEFycmF5IjogbnVsbCwKICAiZGFzaE9mZnNldCI6IG51bGwsCiAgImZpbGwiOiB0cnVlLAogICJmaWxsQ29sb3IiOiAiIzgwMDBmZiIsCiAgImZpbGxPcGFjaXR5IjogMC43LAogICJmaWxsUnVsZSI6ICJldmVub2RkIiwKICAibGluZUNhcCI6ICJyb3VuZCIsCiAgImxpbmVKb2luIjogInJvdW5kIiwKICAib3BhY2l0eSI6IDEuMCwKICAicmFkaXVzIjogNSwKICAic3Ryb2tlIjogdHJ1ZSwKICAid2VpZ2h0IjogMwp9CiAgICAgICAgICAgICAgICApCiAgICAgICAgICAgICAgICAuYWRkVG8obWFwXzZiOGQyMzE1N2NmZTRkYjc4NzY2NDFkYjkwZTBlODY2KTsKICAgICAgICAgICAgCiAgICAKICAgICAgICAgICAgdmFyIHBvcHVwXzNlMGZkMDcxZTQ2MDQyOGI5MTg1Y2UyZWFhNDNkMTBlID0gTC5wb3B1cCh7bWF4V2lkdGg6ICcxMDAlJwogICAgICAgICAgICAKICAgICAgICAgICAgfSk7CgogICAgICAgICAgICAKICAgICAgICAgICAgICAgIHZhciBodG1sX2M1ZjlmYzZlZjU5YjRmN2JhOWJmNmVlY2EzMDhhNTE3ID0gJChgPGRpdiBpZD0iaHRtbF9jNWY5ZmM2ZWY1OWI0ZjdiYTliZjZlZWNhMzA4YTUxNyIgc3R5bGU9IndpZHRoOiAxMDAuMCU7IGhlaWdodDogMTAwLjAlOyI+Q3Jvc3N0b3duIENsdXN0ZXIgMSAxLjMgbWlsZXM8L2Rpdj5gKVswXTsKICAgICAgICAgICAgICAgIHBvcHVwXzNlMGZkMDcxZTQ2MDQyOGI5MTg1Y2UyZWFhNDNkMTBlLnNldENvbnRlbnQoaHRtbF9jNWY5ZmM2ZWY1OWI0ZjdiYTliZjZlZWNhMzA4YTUxNyk7CiAgICAgICAgICAgIAoKICAgICAgICAgICAgY2lyY2xlX21hcmtlcl9lZGFmZjMwOWY1YTg0ZDZhODY1ZjFlMmJjM2JiY2E1OC5iaW5kUG9wdXAocG9wdXBfM2UwZmQwNzFlNDYwNDI4YjkxODVjZTJlYWE0M2QxMGUpCiAgICAgICAgICAgIDsKCiAgICAgICAgICAgIAogICAgICAgIAogICAgCiAgICAgICAgICAgIHZhciBjaXJjbGVfbWFya2VyXzViMTMxMWExNzQxODQxOGFiNTUzYmJmZDExYjFiNGZkID0gTC5jaXJjbGVNYXJrZXIoCiAgICAgICAgICAgICAgICBbMzUuMTY4NzQ1NSwgLTkwLjAwMDMwM10sCiAgICAgICAgICAgICAgICB7CiAgImJ1YmJsaW5nTW91c2VFdmVudHMiOiB0cnVlLAogICJjb2xvciI6ICIjODAwMGZmIiwKICAiZGFzaEFycmF5IjogbnVsbCwKICAiZGFzaE9mZnNldCI6IG51bGwsCiAgImZpbGwiOiB0cnVlLAogICJmaWxsQ29sb3IiOiAiIzgwMDBmZiIsCiAgImZpbGxPcGFjaXR5IjogMC43LAogICJmaWxsUnVsZSI6ICJldmVub2RkIiwKICAibGluZUNhcCI6ICJyb3VuZCIsCiAgImxpbmVKb2luIjogInJvdW5kIiwKICAib3BhY2l0eSI6IDEuMCwKICAicmFkaXVzIjogNSwKICAic3Ryb2tlIjogdHJ1ZSwKICAid2VpZ2h0IjogMwp9CiAgICAgICAgICAgICAgICApCiAgICAgICAgICAgICAgICAuYWRkVG8obWFwXzZiOGQyMzE1N2NmZTRkYjc4NzY2NDFkYjkwZTBlODY2KTsKICAgICAgICAgICAgCiAgICAKICAgICAgICAgICAgdmFyIHBvcHVwXzU2MjJiYjdlZTYzYzRmMzZhZDhkMmY5Zjg0YzU3MDc4ID0gTC5wb3B1cCh7bWF4V2lkdGg6ICcxMDAlJwogICAgICAgICAgICAKICAgICAgICAgICAgfSk7CgogICAgICAgICAgICAKICAgICAgICAgICAgICAgIHZhciBodG1sX2EyMzA1OGQwYzg2ZDQyNGY4YTQ2ZjdkZWQ5Y2IyZDM1ID0gJChgPGRpdiBpZD0iaHRtbF9hMjMwNThkMGM4NmQ0MjRmOGE0NmY3ZGVkOWNiMmQzNSIgc3R5bGU9IndpZHRoOiAxMDAuMCU7IGhlaWdodDogMTAwLjAlOyI+RXZlcmdyZWVuIENsdXN0ZXIgMSAyLjU5IG1pbGVzPC9kaXY+YClbMF07CiAgICAgICAgICAgICAgICBwb3B1cF81NjIyYmI3ZWU2M2M0ZjM2YWQ4ZDJmOWY4NGM1NzA3OC5zZXRDb250ZW50KGh0bWxfYTIzMDU4ZDBjODZkNDI0ZjhhNDZmN2RlZDljYjJkMzUpOwogICAgICAgICAgICAKCiAgICAgICAgICAgIGNpcmNsZV9tYXJrZXJfNWIxMzExYTE3NDE4NDE4YWI1NTNiYmZkMTFiMWI0ZmQuYmluZFBvcHVwKHBvcHVwXzU2MjJiYjdlZTYzYzRmMzZhZDhkMmY5Zjg0YzU3MDc4KQogICAgICAgICAgICA7CgogICAgICAgICAgICAKICAgICAgICAKICAgIAogICAgICAgICAgICB2YXIgY2lyY2xlX21hcmtlcl9jMDFmZmRhMGI2YzI0NmEyOWY5NGJhZGEzMGE3MGI4NCA9IEwuY2lyY2xlTWFya2VyKAogICAgICAgICAgICAgICAgWzM1LjEyNTkyMzMsIC04OS45OTAwODk5XSwKICAgICAgICAgICAgICAgIHsKICAiYnViYmxpbmdNb3VzZUV2ZW50cyI6IHRydWUsCiAgImNvbG9yIjogIiM4MDAwZmYiLAogICJkYXNoQXJyYXkiOiBudWxsLAogICJkYXNoT2Zmc2V0IjogbnVsbCwKICAiZmlsbCI6IHRydWUsCiAgImZpbGxDb2xvciI6ICIjODAwMGZmIiwKICAiZmlsbE9wYWNpdHkiOiAwLjcsCiAgImZpbGxSdWxlIjogImV2ZW5vZGQiLAogICJsaW5lQ2FwIjogInJvdW5kIiwKICAibGluZUpvaW4iOiAicm91bmQiLAogICJvcGFjaXR5IjogMS4wLAogICJyYWRpdXMiOiA1LAogICJzdHJva2UiOiB0cnVlLAogICJ3ZWlnaHQiOiAzCn0KICAgICAgICAgICAgICAgICkKICAgICAgICAgICAgICAgIC5hZGRUbyhtYXBfNmI4ZDIzMTU3Y2ZlNGRiNzg3NjY0MWRiOTBlMGU4NjYpOwogICAgICAgICAgICAKICAgIAogICAgICAgICAgICB2YXIgcG9wdXBfYmJlNTBiN2U5NTJjNGQ2MDlkMWUxM2M3YTE5MzQ5MTIgPSBMLnBvcHVwKHttYXhXaWR0aDogJzEwMCUnCiAgICAgICAgICAgIAogICAgICAgICAgICB9KTsKCiAgICAgICAgICAgIAogICAgICAgICAgICAgICAgdmFyIGh0bWxfOGRmYWUxZjcxNWJhNGExZThkN2E5N2JmM2I1ZTdjY2YgPSAkKGA8ZGl2IGlkPSJodG1sXzhkZmFlMWY3MTViYTRhMWU4ZDdhOTdiZjNiNWU3Y2NmIiBzdHlsZT0id2lkdGg6IDEwMC4wJTsgaGVpZ2h0OiAxMDAuMCU7Ij5MZW5veCBDbHVzdGVyIDEgMi4zNCBtaWxlczwvZGl2PmApWzBdOwogICAgICAgICAgICAgICAgcG9wdXBfYmJlNTBiN2U5NTJjNGQ2MDlkMWUxM2M3YTE5MzQ5MTIuc2V0Q29udGVudChodG1sXzhkZmFlMWY3MTViYTRhMWU4ZDdhOTdiZjNiNWU3Y2NmKTsKICAgICAgICAgICAgCgogICAgICAgICAgICBjaXJjbGVfbWFya2VyX2MwMWZmZGEwYjZjMjQ2YTI5Zjk0YmFkYTMwYTcwYjg0LmJpbmRQb3B1cChwb3B1cF9iYmU1MGI3ZTk1MmM0ZDYwOWQxZTEzYzdhMTkzNDkxMikKICAgICAgICAgICAgOwoKICAgICAgICAgICAgCiAgICAgICAgCiAgICAKICAgICAgICAgICAgdmFyIGNpcmNsZV9tYXJrZXJfMmE3MjU2MjFiYjVkNDczNDgzNTlkNDdjY2NiNDg3OWQgPSBMLmNpcmNsZU1hcmtlcigKICAgICAgICAgICAgICAgIFszNS4xMjIxODY5LCAtOTAuMDA2NDM2NF0sCiAgICAgICAgICAgICAgICB7CiAgImJ1YmJsaW5nTW91c2VFdmVudHMiOiB0cnVlLAogICJjb2xvciI6ICIjODAwMGZmIiwKICAiZGFzaEFycmF5IjogbnVsbCwKICAiZGFzaE9mZnNldCI6IG51bGwsCiAgImZpbGwiOiB0cnVlLAogICJmaWxsQ29sb3IiOiAiIzgwMDBmZiIsCiAgImZpbGxPcGFjaXR5IjogMC43LAogICJmaWxsUnVsZSI6ICJldmVub2RkIiwKICAibGluZUNhcCI6ICJyb3VuZCIsCiAgImxpbmVKb2luIjogInJvdW5kIiwKICAib3BhY2l0eSI6IDEuMCwKICAicmFkaXVzIjogNSwKICAic3Ryb2tlIjogdHJ1ZSwKICAid2VpZ2h0IjogMwp9CiAgICAgICAgICAgICAgICApCiAgICAgICAgICAgICAgICAuYWRkVG8obWFwXzZiOGQyMzE1N2NmZTRkYjc4NzY2NDFkYjkwZTBlODY2KTsKICAgICAgICAgICAgCiAgICAKICAgICAgICAgICAgdmFyIHBvcHVwXzY3ODlmMmEwOTA5ZDQ4OGY5NDlhZmI0MTk3MjI0NmU1ID0gTC5wb3B1cCh7bWF4V2lkdGg6ICcxMDAlJwogICAgICAgICAgICAKICAgICAgICAgICAgfSk7CgogICAgICAgICAgICAKICAgICAgICAgICAgICAgIHZhciBodG1sXzI1NTQzNzk4OTEzOTQ2ZDNiOWE0MWE1OTllOTY4ZjA2ID0gJChgPGRpdiBpZD0iaHRtbF8yNTU0Mzc5ODkxMzk0NmQzYjlhNDFhNTk5ZTk2OGYwNiIgc3R5bGU9IndpZHRoOiAxMDAuMCU7IGhlaWdodDogMTAwLjAlOyI+Um96ZWxsZSBDbHVzdGVyIDEgMS42OSBtaWxlczwvZGl2PmApWzBdOwogICAgICAgICAgICAgICAgcG9wdXBfNjc4OWYyYTA5MDlkNDg4Zjk0OWFmYjQxOTcyMjQ2ZTUuc2V0Q29udGVudChodG1sXzI1NTQzNzk4OTEzOTQ2ZDNiOWE0MWE1OTllOTY4ZjA2KTsKICAgICAgICAgICAgCgogICAgICAgICAgICBjaXJjbGVfbWFya2VyXzJhNzI1NjIxYmI1ZDQ3MzQ4MzU5ZDQ3Y2NjYjQ4NzlkLmJpbmRQb3B1cChwb3B1cF82Nzg5ZjJhMDkwOWQ0ODhmOTQ5YWZiNDE5NzIyNDZlNSkKICAgICAgICAgICAgOwoKICAgICAgICAgICAgCiAgICAgICAgCiAgICAKICAgICAgICAgICAgdmFyIGNpcmNsZV9tYXJrZXJfN2JiMjRmNDg3ZjExNGE2NjhhYTNlNTkzNTQ2ZDZhNTQgPSBMLmNpcmNsZU1hcmtlcigKICAgICAgICAgICAgICAgIFszNS4xMTU5MjM1LCAtODkuOTcxNzU2Ml0sCiAgICAgICAgICAgICAgICB7CiAgImJ1YmJsaW5nTW91c2VFdmVudHMiOiB0cnVlLAogICJjb2xvciI6ICIjODAwMGZmIiwKICAiZGFzaEFycmF5IjogbnVsbCwKICAiZGFzaE9mZnNldCI6IG51bGwsCiAgImZpbGwiOiB0cnVlLAogICJmaWxsQ29sb3IiOiAiIzgwMDBmZiIsCiAgImZpbGxPcGFjaXR5IjogMC43LAogICJmaWxsUnVsZSI6ICJldmVub2RkIiwKICAibGluZUNhcCI6ICJyb3VuZCIsCiAgImxpbmVKb2luIjogInJvdW5kIiwKICAib3BhY2l0eSI6IDEuMCwKICAicmFkaXVzIjogNSwKICAic3Ryb2tlIjogdHJ1ZSwKICAid2VpZ2h0IjogMwp9CiAgICAgICAgICAgICAgICApCiAgICAgICAgICAgICAgICAuYWRkVG8obWFwXzZiOGQyMzE1N2NmZTRkYjc4NzY2NDFkYjkwZTBlODY2KTsKICAgICAgICAgICAgCiAgICAKICAgICAgICAgICAgdmFyIHBvcHVwX2RkODc2ZThlOGRiMjRmNzc4NDY5OTdmZmIyZTM2Y2M2ID0gTC5wb3B1cCh7bWF4V2lkdGg6ICcxMDAlJwogICAgICAgICAgICAKICAgICAgICAgICAgfSk7CgogICAgICAgICAgICAKICAgICAgICAgICAgICAgIHZhciBodG1sX2E3ZTdlZTY1ZmMwODQ3YzA5MWYzMWFkOTZlMTZkODVhID0gJChgPGRpdiBpZD0iaHRtbF9hN2U3ZWU2NWZjMDg0N2MwOTFmMzFhZDk2ZTE2ZDg1YSIgc3R5bGU9IndpZHRoOiAxMDAuMCU7IGhlaWdodDogMTAwLjAlOyI+RWFzdCBCdW50eW4gQ2x1c3RlciAxIDMuNTcgbWlsZXM8L2Rpdj5gKVswXTsKICAgICAgICAgICAgICAgIHBvcHVwX2RkODc2ZThlOGRiMjRmNzc4NDY5OTdmZmIyZTM2Y2M2LnNldENvbnRlbnQoaHRtbF9hN2U3ZWU2NWZjMDg0N2MwOTFmMzFhZDk2ZTE2ZDg1YSk7CiAgICAgICAgICAgIAoKICAgICAgICAgICAgY2lyY2xlX21hcmtlcl83YmIyNGY0ODdmMTE0YTY2OGFhM2U1OTM1NDZkNmE1NC5iaW5kUG9wdXAocG9wdXBfZGQ4NzZlOGU4ZGIyNGY3Nzg0Njk5N2ZmYjJlMzZjYzYpCiAgICAgICAgICAgIDsKCiAgICAgICAgICAgIAogICAgICAgIAogICAgCiAgICAgICAgICAgIHZhciBjaXJjbGVfbWFya2VyXzdmN2EzMTY4MjBkZTQyMTM4ZWIzYjFiMDNmMGE1YjJhID0gTC5jaXJjbGVNYXJrZXIoCiAgICAgICAgICAgICAgICBbMzUuMTE2MjAxNCwgLTg5LjkzNjc1NTRdLAogICAgICAgICAgICAgICAgewogICJidWJibGluZ01vdXNlRXZlbnRzIjogdHJ1ZSwKICAiY29sb3IiOiAiIzgwMDBmZiIsCiAgImRhc2hBcnJheSI6IG51bGwsCiAgImRhc2hPZmZzZXQiOiBudWxsLAogICJmaWxsIjogdHJ1ZSwKICAiZmlsbENvbG9yIjogIiM4MDAwZmYiLAogICJmaWxsT3BhY2l0eSI6IDAuNywKICAiZmlsbFJ1bGUiOiAiZXZlbm9kZCIsCiAgImxpbmVDYXAiOiAicm91bmQiLAogICJsaW5lSm9pbiI6ICJyb3VuZCIsCiAgIm9wYWNpdHkiOiAxLjAsCiAgInJhZGl1cyI6IDUsCiAgInN0cm9rZSI6IHRydWUsCiAgIndlaWdodCI6IDMKfQogICAgICAgICAgICAgICAgKQogICAgICAgICAgICAgICAgLmFkZFRvKG1hcF82YjhkMjMxNTdjZmU0ZGI3ODc2NjQxZGI5MGUwZTg2Nik7CiAgICAgICAgICAgIAogICAgCiAgICAgICAgICAgIHZhciBwb3B1cF83NTE5OTA5NTdhZDU0NzQ5OGNjNDJjNDIzNDZiNDE0OSA9IEwucG9wdXAoe21heFdpZHRoOiAnMTAwJScKICAgICAgICAgICAgCiAgICAgICAgICAgIH0pOwoKICAgICAgICAgICAgCiAgICAgICAgICAgICAgICB2YXIgaHRtbF82NzU4OGJlNjgxNTE0ZWFhOWY3ZDFkNTFkMzE0ZWRlYiA9ICQoYDxkaXYgaWQ9Imh0bWxfNjc1ODhiZTY4MTUxNGVhYTlmN2QxZDUxZDMxNGVkZWIiIHN0eWxlPSJ3aWR0aDogMTAwLjAlOyBoZWlnaHQ6IDEwMC4wJTsiPk5vcm1hbCBTdGF0aW9uIENsdXN0ZXIgMSA1LjQxIG1pbGVzPC9kaXY+YClbMF07CiAgICAgICAgICAgICAgICBwb3B1cF83NTE5OTA5NTdhZDU0NzQ5OGNjNDJjNDIzNDZiNDE0OS5zZXRDb250ZW50KGh0bWxfNjc1ODhiZTY4MTUxNGVhYTlmN2QxZDUxZDMxNGVkZWIpOwogICAgICAgICAgICAKCiAgICAgICAgICAgIGNpcmNsZV9tYXJrZXJfN2Y3YTMxNjgyMGRlNDIxMzhlYjNiMWIwM2YwYTViMmEuYmluZFBvcHVwKHBvcHVwXzc1MTk5MDk1N2FkNTQ3NDk4Y2M0MmM0MjM0NmI0MTQ5KQogICAgICAgICAgICA7CgogICAgICAgICAgICAKICAgICAgICAKICAgIAogICAgICAgICAgICB2YXIgY2lyY2xlX21hcmtlcl8xYWFmNGE4NWU3Yzk0ZjUwOTM0NDVjMjQ3NGZkYjA1MyA9IEwuY2lyY2xlTWFya2VyKAogICAgICAgICAgICAgICAgWzM1LjEyNjg1MjQsIC04OS45NTA4NzFdLAogICAgICAgICAgICAgICAgewogICJidWJibGluZ01vdXNlRXZlbnRzIjogdHJ1ZSwKICAiY29sb3IiOiAiIzgwMDBmZiIsCiAgImRhc2hBcnJheSI6IG51bGwsCiAgImRhc2hPZmZzZXQiOiBudWxsLAogICJmaWxsIjogdHJ1ZSwKICAiZmlsbENvbG9yIjogIiM4MDAwZmYiLAogICJmaWxsT3BhY2l0eSI6IDAuNywKICAiZmlsbFJ1bGUiOiAiZXZlbm9kZCIsCiAgImxpbmVDYXAiOiAicm91bmQiLAogICJsaW5lSm9pbiI6ICJyb3VuZCIsCiAgIm9wYWNpdHkiOiAxLjAsCiAgInJhZGl1cyI6IDUsCiAgInN0cm9rZSI6IHRydWUsCiAgIndlaWdodCI6IDMKfQogICAgICAgICAgICAgICAgKQogICAgICAgICAgICAgICAgLmFkZFRvKG1hcF82YjhkMjMxNTdjZmU0ZGI3ODc2NjQxZGI5MGUwZTg2Nik7CiAgICAgICAgICAgIAogICAgCiAgICAgICAgICAgIHZhciBwb3B1cF81MDI5ZjMwNDlkNmI0OTI2OTNhZmQwZjRiYTIxYjhhNyA9IEwucG9wdXAoe21heFdpZHRoOiAnMTAwJScKICAgICAgICAgICAgCiAgICAgICAgICAgIH0pOwoKICAgICAgICAgICAgCiAgICAgICAgICAgICAgICB2YXIgaHRtbF9jYzllOTNjMTI5NDU0MzkxYmZjNGI0M2I1ZTkxY2Q3NyA9ICQoYDxkaXYgaWQ9Imh0bWxfY2M5ZTkzYzEyOTQ1NDM5MWJmYzRiNDNiNWU5MWNkNzciIHN0eWxlPSJ3aWR0aDogMTAwLjAlOyBoZWlnaHQ6IDEwMC4wJTsiPkpvZmZyZSBDbHVzdGVyIDEgNC40NiBtaWxlczwvZGl2PmApWzBdOwogICAgICAgICAgICAgICAgcG9wdXBfNTAyOWYzMDQ5ZDZiNDkyNjkzYWZkMGY0YmEyMWI4YTcuc2V0Q29udGVudChodG1sX2NjOWU5M2MxMjk0NTQzOTFiZmM0YjQzYjVlOTFjZDc3KTsKICAgICAgICAgICAgCgogICAgICAgICAgICBjaXJjbGVfbWFya2VyXzFhYWY0YTg1ZTdjOTRmNTA5MzQ0NWMyNDc0ZmRiMDUzLmJpbmRQb3B1cChwb3B1cF81MDI5ZjMwNDlkNmI0OTI2OTNhZmQwZjRiYTIxYjhhNykKICAgICAgICAgICAgOwoKICAgICAgICAgICAgCiAgICAgICAgCiAgICAKICAgICAgICAgICAgdmFyIGNpcmNsZV9tYXJrZXJfN2EwYWUzM2U3Zjg0NDdlZWJiZjZmNDBhMmUxYjhkOGYgPSBMLmNpcmNsZU1hcmtlcigKICAgICAgICAgICAgICAgIFszNS4xMTI4NjgxLCAtODkuOTU1MDg5MV0sCiAgICAgICAgICAgICAgICB7CiAgImJ1YmJsaW5nTW91c2VFdmVudHMiOiB0cnVlLAogICJjb2xvciI6ICIjODBmZmI0IiwKICAiZGFzaEFycmF5IjogbnVsbCwKICAiZGFzaE9mZnNldCI6IG51bGwsCiAgImZpbGwiOiB0cnVlLAogICJmaWxsQ29sb3IiOiAiIzgwZmZiNCIsCiAgImZpbGxPcGFjaXR5IjogMC43LAogICJmaWxsUnVsZSI6ICJldmVub2RkIiwKICAibGluZUNhcCI6ICJyb3VuZCIsCiAgImxpbmVKb2luIjogInJvdW5kIiwKICAib3BhY2l0eSI6IDEuMCwKICAicmFkaXVzIjogNSwKICAic3Ryb2tlIjogdHJ1ZSwKICAid2VpZ2h0IjogMwp9CiAgICAgICAgICAgICAgICApCiAgICAgICAgICAgICAgICAuYWRkVG8obWFwXzZiOGQyMzE1N2NmZTRkYjc4NzY2NDFkYjkwZTBlODY2KTsKICAgICAgICAgICAgCiAgICAKICAgICAgICAgICAgdmFyIHBvcHVwXzZmNWZlY2QyMmE1ODRjMThiZGIzZDlkOWY0OTY5ZDA1ID0gTC5wb3B1cCh7bWF4V2lkdGg6ICcxMDAlJwogICAgICAgICAgICAKICAgICAgICAgICAgfSk7CgogICAgICAgICAgICAKICAgICAgICAgICAgICAgIHZhciBodG1sXzBmY2YwNjc1YjM3YzQwZDViYTYyYmU4NGYzNjk5M2Q3ID0gJChgPGRpdiBpZD0iaHRtbF8wZmNmMDY3NWIzN2M0MGQ1YmE2MmJlODRmMzY5OTNkNyIgc3R5bGU9IndpZHRoOiAxMDAuMCU7IGhlaWdodDogMTAwLjAlOyI+TWVzc2ljay1CdW50eW4gQ2x1c3RlciAzIDQuNTEgbWlsZXM8L2Rpdj5gKVswXTsKICAgICAgICAgICAgICAgIHBvcHVwXzZmNWZlY2QyMmE1ODRjMThiZGIzZDlkOWY0OTY5ZDA1LnNldENvbnRlbnQoaHRtbF8wZmNmMDY3NWIzN2M0MGQ1YmE2MmJlODRmMzY5OTNkNyk7CiAgICAgICAgICAgIAoKICAgICAgICAgICAgY2lyY2xlX21hcmtlcl83YTBhZTMzZTdmODQ0N2VlYmJmNmY0MGEyZTFiOGQ4Zi5iaW5kUG9wdXAocG9wdXBfNmY1ZmVjZDIyYTU4NGMxOGJkYjNkOWQ5ZjQ5NjlkMDUpCiAgICAgICAgICAgIDsKCiAgICAgICAgICAgIAogICAgICAgIAogICAgCiAgICAgICAgICAgIHZhciBjaXJjbGVfbWFya2VyXzc2YTczMTkxZWQxZTQ2MzA4MDdjMzcwODM4YWNlODIyID0gTC5jaXJjbGVNYXJrZXIoCiAgICAgICAgICAgICAgICBbMzUuMjAzMzc3MiwgLTg5Ljc1NDUyNTldLAogICAgICAgICAgICAgICAgewogICJidWJibGluZ01vdXNlRXZlbnRzIjogdHJ1ZSwKICAiY29sb3IiOiAiIzgwMDBmZiIsCiAgImRhc2hBcnJheSI6IG51bGwsCiAgImRhc2hPZmZzZXQiOiBudWxsLAogICJmaWxsIjogdHJ1ZSwKICAiZmlsbENvbG9yIjogIiM4MDAwZmYiLAogICJmaWxsT3BhY2l0eSI6IDAuNywKICAiZmlsbFJ1bGUiOiAiZXZlbm9kZCIsCiAgImxpbmVDYXAiOiAicm91bmQiLAogICJsaW5lSm9pbiI6ICJyb3VuZCIsCiAgIm9wYWNpdHkiOiAxLjAsCiAgInJhZGl1cyI6IDUsCiAgInN0cm9rZSI6IHRydWUsCiAgIndlaWdodCI6IDMKfQogICAgICAgICAgICAgICAgKQogICAgICAgICAgICAgICAgLmFkZFRvKG1hcF82YjhkMjMxNTdjZmU0ZGI3ODc2NjQxZGI5MGUwZTg2Nik7CiAgICAgICAgICAgIAogICAgCiAgICAgICAgICAgIHZhciBwb3B1cF9mZmE1MmQ2ZGY2ZjQ0Y2YzODA5Y2I2NzBhNjZkYTAyNyA9IEwucG9wdXAoe21heFdpZHRoOiAnMTAwJScKICAgICAgICAgICAgCiAgICAgICAgICAgIH0pOwoKICAgICAgICAgICAgCiAgICAgICAgICAgICAgICB2YXIgaHRtbF83OGY2ZGNjYjFhMGI0YmI3YTc5ZjRlYzJmM2ExNjkzZCA9ICQoYDxkaXYgaWQ9Imh0bWxfNzhmNmRjY2IxYTBiNGJiN2E3OWY0ZWMyZjNhMTY5M2QiIHN0eWxlPSJ3aWR0aDogMTAwLjAlOyBoZWlnaHQ6IDEwMC4wJTsiPkJlcnJ5aGlsbCBDbHVzdGVyIDEgMTYuMTIgbWlsZXM8L2Rpdj5gKVswXTsKICAgICAgICAgICAgICAgIHBvcHVwX2ZmYTUyZDZkZjZmNDRjZjM4MDljYjY3MGE2NmRhMDI3LnNldENvbnRlbnQoaHRtbF83OGY2ZGNjYjFhMGI0YmI3YTc5ZjRlYzJmM2ExNjkzZCk7CiAgICAgICAgICAgIAoKICAgICAgICAgICAgY2lyY2xlX21hcmtlcl83NmE3MzE5MWVkMWU0NjMwODA3YzM3MDgzOGFjZTgyMi5iaW5kUG9wdXAocG9wdXBfZmZhNTJkNmRmNmY0NGNmMzgwOWNiNjcwYTY2ZGEwMjcpCiAgICAgICAgICAgIDsKCiAgICAgICAgICAgIAogICAgICAgIAogICAgCiAgICAgICAgICAgIHZhciBjaXJjbGVfbWFya2VyXzk5ZjFlY2QxY2JlOTRlMDRiODIxZDVjOThlMGU5Y2Q4ID0gTC5jaXJjbGVNYXJrZXIoCiAgICAgICAgICAgICAgICBbMzUuMTAxMTQyOSwgLTg5LjkxNTg0MjVdLAogICAgICAgICAgICAgICAgewogICJidWJibGluZ01vdXNlRXZlbnRzIjogdHJ1ZSwKICAiY29sb3IiOiAiIzgwMDBmZiIsCiAgImRhc2hBcnJheSI6IG51bGwsCiAgImRhc2hPZmZzZXQiOiBudWxsLAogICJmaWxsIjogdHJ1ZSwKICAiZmlsbENvbG9yIjogIiM4MDAwZmYiLAogICJmaWxsT3BhY2l0eSI6IDAuNywKICAiZmlsbFJ1bGUiOiAiZXZlbm9kZCIsCiAgImxpbmVDYXAiOiAicm91bmQiLAogICJsaW5lSm9pbiI6ICJyb3VuZCIsCiAgIm9wYWNpdHkiOiAxLjAsCiAgInJhZGl1cyI6IDUsCiAgInN0cm9rZSI6IHRydWUsCiAgIndlaWdodCI6IDMKfQogICAgICAgICAgICAgICAgKQogICAgICAgICAgICAgICAgLmFkZFRvKG1hcF82YjhkMjMxNTdjZmU0ZGI3ODc2NjQxZGI5MGUwZTg2Nik7CiAgICAgICAgICAgIAogICAgCiAgICAgICAgICAgIHZhciBwb3B1cF9lOTlmODQ0MjVkMWY0N2NhYjM5MTU3YmQ0YmFmMDYzNCA9IEwucG9wdXAoe21heFdpZHRoOiAnMTAwJScKICAgICAgICAgICAgCiAgICAgICAgICAgIH0pOwoKICAgICAgICAgICAgCiAgICAgICAgICAgICAgICB2YXIgaHRtbF9kM2U5YTU2OTNkMzU0ZmY0YjdjZGY0Mzk3MDUzZmQ4MyA9ICQoYDxkaXYgaWQ9Imh0bWxfZDNlOWE1NjkzZDM1NGZmNGI3Y2RmNDM5NzA1M2ZkODMiIHN0eWxlPSJ3aWR0aDogMTAwLjAlOyBoZWlnaHQ6IDEwMC4wJTsiPkNoZXJyeS9XaWxsb3cgQ2x1c3RlciAxIDYuODggbWlsZXM8L2Rpdj5gKVswXTsKICAgICAgICAgICAgICAgIHBvcHVwX2U5OWY4NDQyNWQxZjQ3Y2FiMzkxNTdiZDRiYWYwNjM0LnNldENvbnRlbnQoaHRtbF9kM2U5YTU2OTNkMzU0ZmY0YjdjZGY0Mzk3MDUzZmQ4Myk7CiAgICAgICAgICAgIAoKICAgICAgICAgICAgY2lyY2xlX21hcmtlcl85OWYxZWNkMWNiZTk0ZTA0YjgyMWQ1Yzk4ZTBlOWNkOC5iaW5kUG9wdXAocG9wdXBfZTk5Zjg0NDI1ZDFmNDdjYWIzOTE1N2JkNGJhZjA2MzQpCiAgICAgICAgICAgIDsKCiAgICAgICAgICAgIAogICAgICAgIAogICAgCiAgICAgICAgICAgIHZhciBjaXJjbGVfbWFya2VyXzdkMTViNDNiMDBjMDRhZDg4YTMwOGVkNzllZDgzZjY0ID0gTC5jaXJjbGVNYXJrZXIoCiAgICAgICAgICAgICAgICBbMzUuMTU4NzAwMiwgLTg5LjY2NjE5MjRdLAogICAgICAgICAgICAgICAgewogICJidWJibGluZ01vdXNlRXZlbnRzIjogdHJ1ZSwKICAiY29sb3IiOiAiIzAwYjVlYiIsCiAgImRhc2hBcnJheSI6IG51bGwsCiAgImRhc2hPZmZzZXQiOiBudWxsLAogICJmaWxsIjogdHJ1ZSwKICAiZmlsbENvbG9yIjogIiMwMGI1ZWIiLAogICJmaWxsT3BhY2l0eSI6IDAuNywKICAiZmlsbFJ1bGUiOiAiZXZlbm9kZCIsCiAgImxpbmVDYXAiOiAicm91bmQiLAogICJsaW5lSm9pbiI6ICJyb3VuZCIsCiAgIm9wYWNpdHkiOiAxLjAsCiAgInJhZGl1cyI6IDUsCiAgInN0cm9rZSI6IHRydWUsCiAgIndlaWdodCI6IDMKfQogICAgICAgICAgICAgICAgKQogICAgICAgICAgICAgICAgLmFkZFRvKG1hcF82YjhkMjMxNTdjZmU0ZGI3ODc2NjQxZGI5MGUwZTg2Nik7CiAgICAgICAgICAgIAogICAgCiAgICAgICAgICAgIHZhciBwb3B1cF9jNTZiYjNjNjdmM2I0ZTM4ODIzZjUxZDE2MDBmYWFlZSA9IEwucG9wdXAoe21heFdpZHRoOiAnMTAwJScKICAgICAgICAgICAgCiAgICAgICAgICAgIH0pOwoKICAgICAgICAgICAgCiAgICAgICAgICAgICAgICB2YXIgaHRtbF85YzRmNjVkOGQzNDY0YzgwOWE5NTYxMTBiMDljNWE5YiA9ICQoYDxkaXYgaWQ9Imh0bWxfOWM0ZjY1ZDhkMzQ2NGM4MDlhOTU2MTEwYjA5YzVhOWIiIHN0eWxlPSJ3aWR0aDogMTAwLjAlOyBoZWlnaHQ6IDEwMC4wJTsiPkZpc2hlcnZpbGxlIENsdXN0ZXIgMiAyMC41NCBtaWxlczwvZGl2PmApWzBdOwogICAgICAgICAgICAgICAgcG9wdXBfYzU2YmIzYzY3ZjNiNGUzODgyM2Y1MWQxNjAwZmFhZWUuc2V0Q29udGVudChodG1sXzljNGY2NWQ4ZDM0NjRjODA5YTk1NjExMGIwOWM1YTliKTsKICAgICAgICAgICAgCgogICAgICAgICAgICBjaXJjbGVfbWFya2VyXzdkMTViNDNiMDBjMDRhZDg4YTMwOGVkNzllZDgzZjY0LmJpbmRQb3B1cChwb3B1cF9jNTZiYjNjNjdmM2I0ZTM4ODIzZjUxZDE2MDBmYWFlZSkKICAgICAgICAgICAgOwoKICAgICAgICAgICAgCiAgICAgICAgCiAgICAKICAgICAgICAgICAgdmFyIGNpcmNsZV9tYXJrZXJfOWQyY2ZlNjk5Y2RhNDg3ODg3NTAzZGFhZTk3MTA2MWEgPSBMLmNpcmNsZU1hcmtlcigKICAgICAgICAgICAgICAgIFszNS4xNDgwNDkzLCAtODkuOTM3MzQ0XSwKICAgICAgICAgICAgICAgIHsKICAiYnViYmxpbmdNb3VzZUV2ZW50cyI6IHRydWUsCiAgImNvbG9yIjogIiM4MDAwZmYiLAogICJkYXNoQXJyYXkiOiBudWxsLAogICJkYXNoT2Zmc2V0IjogbnVsbCwKICAiZmlsbCI6IHRydWUsCiAgImZpbGxDb2xvciI6ICIjODAwMGZmIiwKICAiZmlsbE9wYWNpdHkiOiAwLjcsCiAgImZpbGxSdWxlIjogImV2ZW5vZGQiLAogICJsaW5lQ2FwIjogInJvdW5kIiwKICAibGluZUpvaW4iOiAicm91bmQiLAogICJvcGFjaXR5IjogMS4wLAogICJyYWRpdXMiOiA1LAogICJzdHJva2UiOiB0cnVlLAogICJ3ZWlnaHQiOiAzCn0KICAgICAgICAgICAgICAgICkKICAgICAgICAgICAgICAgIC5hZGRUbyhtYXBfNmI4ZDIzMTU3Y2ZlNGRiNzg3NjY0MWRiOTBlMGU4NjYpOwogICAgICAgICAgICAKICAgIAogICAgICAgICAgICB2YXIgcG9wdXBfZDk2Yzc1YmE5MDVmNGUyMDgxMGY5OTQwYWMwM2MyYTkgPSBMLnBvcHVwKHttYXhXaWR0aDogJzEwMCUnCiAgICAgICAgICAgIAogICAgICAgICAgICB9KTsKCiAgICAgICAgICAgIAogICAgICAgICAgICAgICAgdmFyIGh0bWxfZDljMmQxMzFkYTMwNGJjZWEwNzQxZmUxMzY3ZThhNDIgPSAkKGA8ZGl2IGlkPSJodG1sX2Q5YzJkMTMxZGEzMDRiY2VhMDc0MWZlMTM2N2U4YTQyIiBzdHlsZT0id2lkdGg6IDEwMC4wJTsgaGVpZ2h0OiAxMDAuMCU7Ij5IaWdoIFBvaW50IFRlcnJhY2UgQ2x1c3RlciAxIDUuMTggbWlsZXM8L2Rpdj5gKVswXTsKICAgICAgICAgICAgICAgIHBvcHVwX2Q5NmM3NWJhOTA1ZjRlMjA4MTBmOTk0MGFjMDNjMmE5LnNldENvbnRlbnQoaHRtbF9kOWMyZDEzMWRhMzA0YmNlYTA3NDFmZTEzNjdlOGE0Mik7CiAgICAgICAgICAgIAoKICAgICAgICAgICAgY2lyY2xlX21hcmtlcl85ZDJjZmU2OTljZGE0ODc4ODc1MDNkYWFlOTcxMDYxYS5iaW5kUG9wdXAocG9wdXBfZDk2Yzc1YmE5MDVmNGUyMDgxMGY5OTQwYWMwM2MyYTkpCiAgICAgICAgICAgIDsKCiAgICAgICAgICAgIAogICAgICAgIAogICAgCiAgICAgICAgICAgIHZhciBjaXJjbGVfbWFya2VyXzhlZGZhZDc4MjdlZjRkYzM5ZDFhNWZiYmVlZDI5YTkwID0gTC5jaXJjbGVNYXJrZXIoCiAgICAgICAgICAgICAgICBbMzUuMDk3MDI3NTUsIC04OS44ODcyMDU1NDMyNzk1XSwKICAgICAgICAgICAgICAgIHsKICAiYnViYmxpbmdNb3VzZUV2ZW50cyI6IHRydWUsCiAgImNvbG9yIjogIiNmZmIzNjAiLAogICJkYXNoQXJyYXkiOiBudWxsLAogICJkYXNoT2Zmc2V0IjogbnVsbCwKICAiZmlsbCI6IHRydWUsCiAgImZpbGxDb2xvciI6ICIjZmZiMzYwIiwKICAiZmlsbE9wYWNpdHkiOiAwLjcsCiAgImZpbGxSdWxlIjogImV2ZW5vZGQiLAogICJsaW5lQ2FwIjogInJvdW5kIiwKICAibGluZUpvaW4iOiAicm91bmQiLAogICJvcGFjaXR5IjogMS4wLAogICJyYWRpdXMiOiA1LAogICJzdHJva2UiOiB0cnVlLAogICJ3ZWlnaHQiOiAzCn0KICAgICAgICAgICAgICAgICkKICAgICAgICAgICAgICAgIC5hZGRUbyhtYXBfNmI4ZDIzMTU3Y2ZlNGRiNzg3NjY0MWRiOTBlMGU4NjYpOwogICAgICAgICAgICAKICAgIAogICAgICAgICAgICB2YXIgcG9wdXBfZTdmMTFlMzY2Nzk0NGZhODhhMTIyY2FiMWI0ZWVjOGYgPSBMLnBvcHVwKHttYXhXaWR0aDogJzEwMCUnCiAgICAgICAgICAgIAogICAgICAgICAgICB9KTsKCiAgICAgICAgICAgIAogICAgICAgICAgICAgICAgdmFyIGh0bWxfMGI4ZjhhZThhMmMyNGY0MWE5NGU0NWVjOTczMjI3NmQgPSAkKGA8ZGl2IGlkPSJodG1sXzBiOGY4YWU4YTJjMjRmNDFhOTRlNDVlYzk3MzIyNzZkIiBzdHlsZT0id2lkdGg6IDEwMC4wJTsgaGVpZ2h0OiAxMDAuMCU7Ij5TZWEgSXNsZSBQYXJrIENsdXN0ZXIgNCA4LjQ5IG1pbGVzPC9kaXY+YClbMF07CiAgICAgICAgICAgICAgICBwb3B1cF9lN2YxMWUzNjY3OTQ0ZmE4OGExMjJjYWIxYjRlZWM4Zi5zZXRDb250ZW50KGh0bWxfMGI4ZjhhZThhMmMyNGY0MWE5NGU0NWVjOTczMjI3NmQpOwogICAgICAgICAgICAKCiAgICAgICAgICAgIGNpcmNsZV9tYXJrZXJfOGVkZmFkNzgyN2VmNGRjMzlkMWE1ZmJiZWVkMjlhOTAuYmluZFBvcHVwKHBvcHVwX2U3ZjExZTM2Njc5NDRmYTg4YTEyMmNhYjFiNGVlYzhmKQogICAgICAgICAgICA7CgogICAgICAgICAgICAKICAgICAgICAKICAgIAogICAgICAgICAgICB2YXIgY2lyY2xlX21hcmtlcl9kZDBlYmJmNDZjM2M0OWI1OGY5NzM0YzE2NjAxNGUwNyA9IEwuY2lyY2xlTWFya2VyKAogICAgICAgICAgICAgICAgWzM1LjEwMjAzNSwgLTg5Ljg1OTgwOTFdLAogICAgICAgICAgICAgICAgewogICJidWJibGluZ01vdXNlRXZlbnRzIjogdHJ1ZSwKICAiY29sb3IiOiAiIzgwMDBmZiIsCiAgImRhc2hBcnJheSI6IG51bGwsCiAgImRhc2hPZmZzZXQiOiBudWxsLAogICJmaWxsIjogdHJ1ZSwKICAiZmlsbENvbG9yIjogIiM4MDAwZmYiLAogICJmaWxsT3BhY2l0eSI6IDAuNywKICAiZmlsbFJ1bGUiOiAiZXZlbm9kZCIsCiAgImxpbmVDYXAiOiAicm91bmQiLAogICJsaW5lSm9pbiI6ICJyb3VuZCIsCiAgIm9wYWNpdHkiOiAxLjAsCiAgInJhZGl1cyI6IDUsCiAgInN0cm9rZSI6IHRydWUsCiAgIndlaWdodCI6IDMKfQogICAgICAgICAgICAgICAgKQogICAgICAgICAgICAgICAgLmFkZFRvKG1hcF82YjhkMjMxNTdjZmU0ZGI3ODc2NjQxZGI5MGUwZTg2Nik7CiAgICAgICAgICAgIAogICAgCiAgICAgICAgICAgIHZhciBwb3B1cF9kNTlkNDNiMjlhNzc0ZDgzOWJmNWRhMTI1N2RkNmQxZSA9IEwucG9wdXAoe21heFdpZHRoOiAnMTAwJScKICAgICAgICAgICAgCiAgICAgICAgICAgIH0pOwoKICAgICAgICAgICAgCiAgICAgICAgICAgICAgICB2YXIgaHRtbF8zYzQ4YmY5MWZiZmY0YzE4OWU3NjY0NDJlNzdlNWI4NCA9ICQoYDxkaXYgaWQ9Imh0bWxfM2M0OGJmOTFmYmZmNGMxODllNzY2NDQyZTc3ZTViODQiIHN0eWxlPSJ3aWR0aDogMTAwLjAlOyBoZWlnaHQ6IDEwMC4wJTsiPldoaXRlIFN0YXRpb24gQ2x1c3RlciAxIDkuODcgbWlsZXM8L2Rpdj5gKVswXTsKICAgICAgICAgICAgICAgIHBvcHVwX2Q1OWQ0M2IyOWE3NzRkODM5YmY1ZGExMjU3ZGQ2ZDFlLnNldENvbnRlbnQoaHRtbF8zYzQ4YmY5MWZiZmY0YzE4OWU3NjY0NDJlNzdlNWI4NCk7CiAgICAgICAgICAgIAoKICAgICAgICAgICAgY2lyY2xlX21hcmtlcl9kZDBlYmJmNDZjM2M0OWI1OGY5NzM0YzE2NjAxNGUwNy5iaW5kUG9wdXAocG9wdXBfZDU5ZDQzYjI5YTc3NGQ4MzliZjVkYTEyNTdkZDZkMWUpCiAgICAgICAgICAgIDsKCiAgICAgICAgICAgIAogICAgICAgIAogICAgCiAgICAgICAgICAgIHZhciBjaXJjbGVfbWFya2VyXzhkMzc0OWM0MTllNzRmMGE5NTQ3NjhjNGY5MTUyMWRjID0gTC5jaXJjbGVNYXJrZXIoCiAgICAgICAgICAgICAgICBbMzUuMTc5NTY0OSwgLTg5Ljk1MTY2OTU3MjI2ODddLAogICAgICAgICAgICAgICAgewogICJidWJibGluZ01vdXNlRXZlbnRzIjogdHJ1ZSwKICAiY29sb3IiOiAiI2ZmYjM2MCIsCiAgImRhc2hBcnJheSI6IG51bGwsCiAgImRhc2hPZmZzZXQiOiBudWxsLAogICJmaWxsIjogdHJ1ZSwKICAiZmlsbENvbG9yIjogIiNmZmIzNjAiLAogICJmaWxsT3BhY2l0eSI6IDAuNywKICAiZmlsbFJ1bGUiOiAiZXZlbm9kZCIsCiAgImxpbmVDYXAiOiAicm91bmQiLAogICJsaW5lSm9pbiI6ICJyb3VuZCIsCiAgIm9wYWNpdHkiOiAxLjAsCiAgInJhZGl1cyI6IDUsCiAgInN0cm9rZSI6IHRydWUsCiAgIndlaWdodCI6IDMKfQogICAgICAgICAgICAgICAgKQogICAgICAgICAgICAgICAgLmFkZFRvKG1hcF82YjhkMjMxNTdjZmU0ZGI3ODc2NjQxZGI5MGUwZTg2Nik7CiAgICAgICAgICAgIAogICAgCiAgICAgICAgICAgIHZhciBwb3B1cF8xZjU5ZTVlM2E3NTQ0YzhhOTg3N2UxNmZlN2MzZTFlNiA9IEwucG9wdXAoe21heFdpZHRoOiAnMTAwJScKICAgICAgICAgICAgCiAgICAgICAgICAgIH0pOwoKICAgICAgICAgICAgCiAgICAgICAgICAgICAgICB2YXIgaHRtbF83YmIyMDMwZjg1MmY0ZjU3OGFhNzk5YjNkNzk2Y2JkOCA9ICQoYDxkaXYgaWQ9Imh0bWxfN2JiMjAzMGY4NTJmNGY1NzhhYTc5OWIzZDc5NmNiZDgiIHN0eWxlPSJ3aWR0aDogMTAwLjAlOyBoZWlnaHQ6IDEwMC4wJTsiPkRvdWdsYXNzIENsdXN0ZXIgNCA1LjE2IG1pbGVzPC9kaXY+YClbMF07CiAgICAgICAgICAgICAgICBwb3B1cF8xZjU5ZTVlM2E3NTQ0YzhhOTg3N2UxNmZlN2MzZTFlNi5zZXRDb250ZW50KGh0bWxfN2JiMjAzMGY4NTJmNGY1NzhhYTc5OWIzZDc5NmNiZDgpOwogICAgICAgICAgICAKCiAgICAgICAgICAgIGNpcmNsZV9tYXJrZXJfOGQzNzQ5YzQxOWU3NGYwYTk1NDc2OGM0ZjkxNTIxZGMuYmluZFBvcHVwKHBvcHVwXzFmNTllNWUzYTc1NDRjOGE5ODc3ZTE2ZmU3YzNlMWU2KQogICAgICAgICAgICA7CgogICAgICAgICAgICAKICAgICAgICAKICAgIAogICAgICAgICAgICB2YXIgY2lyY2xlX21hcmtlcl9lNTM2ZjVhNmY3NTI0NzRlYjkxNjIxNGEyN2IzNjQ3YSA9IEwuY2lyY2xlTWFya2VyKAogICAgICAgICAgICAgICAgWzM1LjIxNzU4ODMsIC05MC4wMDM0MjI5XSwKICAgICAgICAgICAgICAgIHsKICAiYnViYmxpbmdNb3VzZUV2ZW50cyI6IHRydWUsCiAgImNvbG9yIjogIiM4MDAwZmYiLAogICJkYXNoQXJyYXkiOiBudWxsLAogICJkYXNoT2Zmc2V0IjogbnVsbCwKICAiZmlsbCI6IHRydWUsCiAgImZpbGxDb2xvciI6ICIjODAwMGZmIiwKICAiZmlsbE9wYWNpdHkiOiAwLjcsCiAgImZpbGxSdWxlIjogImV2ZW5vZGQiLAogICJsaW5lQ2FwIjogInJvdW5kIiwKICAibGluZUpvaW4iOiAicm91bmQiLAogICJvcGFjaXR5IjogMS4wLAogICJyYWRpdXMiOiA1LAogICJzdHJva2UiOiB0cnVlLAogICJ3ZWlnaHQiOiAzCn0KICAgICAgICAgICAgICAgICkKICAgICAgICAgICAgICAgIC5hZGRUbyhtYXBfNmI4ZDIzMTU3Y2ZlNGRiNzg3NjY0MWRiOTBlMGU4NjYpOwogICAgICAgICAgICAKICAgIAogICAgICAgICAgICB2YXIgcG9wdXBfNGFjZTdkMmFhZjM1NDg4ZGJkYmFkODI4NmM4NTVjYTQgPSBMLnBvcHVwKHttYXhXaWR0aDogJzEwMCUnCiAgICAgICAgICAgIAogICAgICAgICAgICB9KTsKCiAgICAgICAgICAgIAogICAgICAgICAgICAgICAgdmFyIGh0bWxfMjg5NGFmYWQyNzEyNDJhMmFjMTBlNmE4NGFjYjQxM2MgPSAkKGA8ZGl2IGlkPSJodG1sXzI4OTRhZmFkMjcxMjQyYTJhYzEwZTZhODRhY2I0MTNjIiBzdHlsZT0id2lkdGg6IDEwMC4wJTsgaGVpZ2h0OiAxMDAuMCU7Ij5GcmF5c2VyIENsdXN0ZXIgMSA1LjYgbWlsZXM8L2Rpdj5gKVswXTsKICAgICAgICAgICAgICAgIHBvcHVwXzRhY2U3ZDJhYWYzNTQ4OGRiZGJhZDgyODZjODU1Y2E0LnNldENvbnRlbnQoaHRtbF8yODk0YWZhZDI3MTI0MmEyYWMxMGU2YTg0YWNiNDEzYyk7CiAgICAgICAgICAgIAoKICAgICAgICAgICAgY2lyY2xlX21hcmtlcl9lNTM2ZjVhNmY3NTI0NzRlYjkxNjIxNGEyN2IzNjQ3YS5iaW5kUG9wdXAocG9wdXBfNGFjZTdkMmFhZjM1NDg4ZGJkYmFkODI4NmM4NTVjYTQpCiAgICAgICAgICAgIDsKCiAgICAgICAgICAgIAogICAgICAgIAogICAgCiAgICAgICAgICAgIHZhciBjaXJjbGVfbWFya2VyXzE4MTA1ZTM5MGVlMDQxNDdiMWZmOWE0OWJiYTRjYjVkID0gTC5jaXJjbGVNYXJrZXIoCiAgICAgICAgICAgICAgICBbMzUuMTc0NTMzNSwgLTg5Ljk3NTM2N10sCiAgICAgICAgICAgICAgICB7CiAgImJ1YmJsaW5nTW91c2VFdmVudHMiOiB0cnVlLAogICJjb2xvciI6ICIjODAwMGZmIiwKICAiZGFzaEFycmF5IjogbnVsbCwKICAiZGFzaE9mZnNldCI6IG51bGwsCiAgImZpbGwiOiB0cnVlLAogICJmaWxsQ29sb3IiOiAiIzgwMDBmZiIsCiAgImZpbGxPcGFjaXR5IjogMC43LAogICJmaWxsUnVsZSI6ICJldmVub2RkIiwKICAibGluZUNhcCI6ICJyb3VuZCIsCiAgImxpbmVKb2luIjogInJvdW5kIiwKICAib3BhY2l0eSI6IDEuMCwKICAicmFkaXVzIjogNSwKICAic3Ryb2tlIjogdHJ1ZSwKICAid2VpZ2h0IjogMwp9CiAgICAgICAgICAgICAgICApCiAgICAgICAgICAgICAgICAuYWRkVG8obWFwXzZiOGQyMzE1N2NmZTRkYjc4NzY2NDFkYjkwZTBlODY2KTsKICAgICAgICAgICAgCiAgICAKICAgICAgICAgICAgdmFyIHBvcHVwXzA5ZGYzY2M1MTQ4MDQ4NGZiMDIzNTM5YTA3NjU2NDc3ID0gTC5wb3B1cCh7bWF4V2lkdGg6ICcxMDAlJwogICAgICAgICAgICAKICAgICAgICAgICAgfSk7CgogICAgICAgICAgICAKICAgICAgICAgICAgICAgIHZhciBodG1sXzBjMTEzYTNhYWI5MzQwY2Q4NWIwOWJmZTMzOWQyOTk2ID0gJChgPGRpdiBpZD0iaHRtbF8wYzExM2EzYWFiOTM0MGNkODViMDliZmUzMzlkMjk5NiIgc3R5bGU9IndpZHRoOiAxMDAuMCU7IGhlaWdodDogMTAwLjAlOyI+SG9sbHl3b29kIENsdXN0ZXIgMSAzLjg3IG1pbGVzPC9kaXY+YClbMF07CiAgICAgICAgICAgICAgICBwb3B1cF8wOWRmM2NjNTE0ODA0ODRmYjAyMzUzOWEwNzY1NjQ3Ny5zZXRDb250ZW50KGh0bWxfMGMxMTNhM2FhYjkzNDBjZDg1YjA5YmZlMzM5ZDI5OTYpOwogICAgICAgICAgICAKCiAgICAgICAgICAgIGNpcmNsZV9tYXJrZXJfMTgxMDVlMzkwZWUwNDE0N2IxZmY5YTQ5YmJhNGNiNWQuYmluZFBvcHVwKHBvcHVwXzA5ZGYzY2M1MTQ4MDQ4NGZiMDIzNTM5YTA3NjU2NDc3KQogICAgICAgICAgICA7CgogICAgICAgICAgICAKICAgICAgICAKICAgIAogICAgICAgICAgICB2YXIgY2lyY2xlX21hcmtlcl9hMWUyMzEzZGUwYzQ0MWQ5Yjk1OGQ0ZDJkYWYzMjU2OSA9IEwuY2lyY2xlTWFya2VyKAogICAgICAgICAgICAgICAgWzM1LjE2Njc3MDA1LCAtOTAuMDE1MDQyMDc4OTI5NV0sCiAgICAgICAgICAgICAgICB7CiAgImJ1YmJsaW5nTW91c2VFdmVudHMiOiB0cnVlLAogICJjb2xvciI6ICIjODAwMGZmIiwKICAiZGFzaEFycmF5IjogbnVsbCwKICAiZGFzaE9mZnNldCI6IG51bGwsCiAgImZpbGwiOiB0cnVlLAogICJmaWxsQ29sb3IiOiAiIzgwMDBmZiIsCiAgImZpbGxPcGFjaXR5IjogMC43LAogICJmaWxsUnVsZSI6ICJldmVub2RkIiwKICAibGluZUNhcCI6ICJyb3VuZCIsCiAgImxpbmVKb2luIjogInJvdW5kIiwKICAib3BhY2l0eSI6IDEuMCwKICAicmFkaXVzIjogNSwKICAic3Ryb2tlIjogdHJ1ZSwKICAid2VpZ2h0IjogMwp9CiAgICAgICAgICAgICAgICApCiAgICAgICAgICAgICAgICAuYWRkVG8obWFwXzZiOGQyMzE1N2NmZTRkYjc4NzY2NDFkYjkwZTBlODY2KTsKICAgICAgICAgICAgCiAgICAKICAgICAgICAgICAgdmFyIHBvcHVwXzViOWI3Y2ZiNDYyMTRjMTM4ZDc0Mjg1ODUyODhlOTc5ID0gTC5wb3B1cCh7bWF4V2lkdGg6ICcxMDAlJwogICAgICAgICAgICAKICAgICAgICAgICAgfSk7CgogICAgICAgICAgICAKICAgICAgICAgICAgICAgIHZhciBodG1sX2ZmYTE4ZjkzNTMwNDQyNDNiYTU4ZDhhYTE0MDNhNjVkID0gJChgPGRpdiBpZD0iaHRtbF9mZmExOGY5MzUzMDQ0MjQzYmE1OGQ4YWExNDAzYTY1ZCIgc3R5bGU9IndpZHRoOiAxMDAuMCU7IGhlaWdodDogMTAwLjAlOyI+S2xvbmRpa2UgQ2x1c3RlciAxIDIuMDYgbWlsZXM8L2Rpdj5gKVswXTsKICAgICAgICAgICAgICAgIHBvcHVwXzViOWI3Y2ZiNDYyMTRjMTM4ZDc0Mjg1ODUyODhlOTc5LnNldENvbnRlbnQoaHRtbF9mZmExOGY5MzUzMDQ0MjQzYmE1OGQ4YWExNDAzYTY1ZCk7CiAgICAgICAgICAgIAoKICAgICAgICAgICAgY2lyY2xlX21hcmtlcl9hMWUyMzEzZGUwYzQ0MWQ5Yjk1OGQ0ZDJkYWYzMjU2OS5iaW5kUG9wdXAocG9wdXBfNWI5YjdjZmI0NjIxNGMxMzhkNzQyODU4NTI4OGU5NzkpCiAgICAgICAgICAgIDsKCiAgICAgICAgICAgIAogICAgICAgIAogICAgCiAgICAgICAgICAgIHZhciBjaXJjbGVfbWFya2VyXzc4NzVkNzQyODdjMjQxODhiMGI0OTIwMjI0N2Y4MjFlID0gTC5jaXJjbGVNYXJrZXIoCiAgICAgICAgICAgICAgICBbMzUuMTUwMDg5NiwgLTg5Ljk2OTUzMzZdLAogICAgICAgICAgICAgICAgewogICJidWJibGluZ01vdXNlRXZlbnRzIjogdHJ1ZSwKICAiY29sb3IiOiAiIzgwMDBmZiIsCiAgImRhc2hBcnJheSI6IG51bGwsCiAgImRhc2hPZmZzZXQiOiBudWxsLAogICJmaWxsIjogdHJ1ZSwKICAiZmlsbENvbG9yIjogIiM4MDAwZmYiLAogICJmaWxsT3BhY2l0eSI6IDAuNywKICAiZmlsbFJ1bGUiOiAiZXZlbm9kZCIsCiAgImxpbmVDYXAiOiAicm91bmQiLAogICJsaW5lSm9pbiI6ICJyb3VuZCIsCiAgIm9wYWNpdHkiOiAxLjAsCiAgInJhZGl1cyI6IDUsCiAgInN0cm9rZSI6IHRydWUsCiAgIndlaWdodCI6IDMKfQogICAgICAgICAgICAgICAgKQogICAgICAgICAgICAgICAgLmFkZFRvKG1hcF82YjhkMjMxNTdjZmU0ZGI3ODc2NjQxZGI5MGUwZTg2Nik7CiAgICAgICAgICAgIAogICAgCiAgICAgICAgICAgIHZhciBwb3B1cF82OWM1NTk1ODJmNzU0MWViOWJiOTA5YmQ2MDgwMWQ0NyA9IEwucG9wdXAoe21heFdpZHRoOiAnMTAwJScKICAgICAgICAgICAgCiAgICAgICAgICAgIH0pOwoKICAgICAgICAgICAgCiAgICAgICAgICAgICAgICB2YXIgaHRtbF84ZjQ3MGM1NjhmMjQ0ODQzYTRiMTcxMWI2ZjRjNmI3OCA9ICQoYDxkaXYgaWQ9Imh0bWxfOGY0NzBjNTY4ZjI0NDg0M2E0YjE3MTFiNmY0YzZiNzgiIHN0eWxlPSJ3aWR0aDogMTAwLjAlOyBoZWlnaHQ6IDEwMC4wJTsiPkJpbmdoYW1wdG9uIENsdXN0ZXIgMSAzLjQxIG1pbGVzPC9kaXY+YClbMF07CiAgICAgICAgICAgICAgICBwb3B1cF82OWM1NTk1ODJmNzU0MWViOWJiOTA5YmQ2MDgwMWQ0Ny5zZXRDb250ZW50KGh0bWxfOGY0NzBjNTY4ZjI0NDg0M2E0YjE3MTFiNmY0YzZiNzgpOwogICAgICAgICAgICAKCiAgICAgICAgICAgIGNpcmNsZV9tYXJrZXJfNzg3NWQ3NDI4N2MyNDE4OGIwYjQ5MjAyMjQ3ZjgyMWUuYmluZFBvcHVwKHBvcHVwXzY5YzU1OTU4MmY3NTQxZWI5YmI5MDliZDYwODAxZDQ3KQogICAgICAgICAgICA7CgogICAgICAgICAgICAKICAgICAgICAKICAgIAogICAgICAgICAgICB2YXIgY2lyY2xlX21hcmtlcl84NmE5MjQ4NTBlYWY0YWY4OWJjNDg0ZjhjYTZlYjRkYSA9IEwuY2lyY2xlTWFya2VyKAogICAgICAgICAgICAgICAgWzM1LjE4NTgwOTEsIC04OS43NzkzMDI0XSwKICAgICAgICAgICAgICAgIHsKICAiYnViYmxpbmdNb3VzZUV2ZW50cyI6IHRydWUsCiAgImNvbG9yIjogIiM4MDAwZmYiLAogICJkYXNoQXJyYXkiOiBudWxsLAogICJkYXNoT2Zmc2V0IjogbnVsbCwKICAiZmlsbCI6IHRydWUsCiAgImZpbGxDb2xvciI6ICIjODAwMGZmIiwKICAiZmlsbE9wYWNpdHkiOiAwLjcsCiAgImZpbGxSdWxlIjogImV2ZW5vZGQiLAogICJsaW5lQ2FwIjogInJvdW5kIiwKICAibGluZUpvaW4iOiAicm91bmQiLAogICJvcGFjaXR5IjogMS4wLAogICJyYWRpdXMiOiA1LAogICJzdHJva2UiOiB0cnVlLAogICJ3ZWlnaHQiOiAzCn0KICAgICAgICAgICAgICAgICkKICAgICAgICAgICAgICAgIC5hZGRUbyhtYXBfNmI4ZDIzMTU3Y2ZlNGRiNzg3NjY0MWRiOTBlMGU4NjYpOwogICAgICAgICAgICAKICAgIAogICAgICAgICAgICB2YXIgcG9wdXBfYTYyOGE3OWRlNjdkNDcyMzhiMjQ3OGU3NWVhYjkxYzggPSBMLnBvcHVwKHttYXhXaWR0aDogJzEwMCUnCiAgICAgICAgICAgIAogICAgICAgICAgICB9KTsKCiAgICAgICAgICAgIAogICAgICAgICAgICAgICAgdmFyIGh0bWxfNDBiMWVjYjYwNDY0NGM2NmIyYTU4OWRlZTE5M2Q2MDEgPSAkKGA8ZGl2IGlkPSJodG1sXzQwYjFlY2I2MDQ2NDRjNjZiMmE1ODlkZWUxOTNkNjAxIiBzdHlsZT0id2lkdGg6IDEwMC4wJTsgaGVpZ2h0OiAxMDAuMCU7Ij5OdXRidXNoIENsdXN0ZXIgMSAxNC40NiBtaWxlczwvZGl2PmApWzBdOwogICAgICAgICAgICAgICAgcG9wdXBfYTYyOGE3OWRlNjdkNDcyMzhiMjQ3OGU3NWVhYjkxYzguc2V0Q29udGVudChodG1sXzQwYjFlY2I2MDQ2NDRjNjZiMmE1ODlkZWUxOTNkNjAxKTsKICAgICAgICAgICAgCgogICAgICAgICAgICBjaXJjbGVfbWFya2VyXzg2YTkyNDg1MGVhZjRhZjg5YmM0ODRmOGNhNmViNGRhLmJpbmRQb3B1cChwb3B1cF9hNjI4YTc5ZGU2N2Q0NzIzOGIyNDc4ZTc1ZWFiOTFjOCkKICAgICAgICAgICAgOwoKICAgICAgICAgICAgCiAgICAgICAgCiAgICAKICAgICAgICAgICAgdmFyIGNpcmNsZV9tYXJrZXJfYjBhOGRiZDhiNDQ2NGNiNzlkYThhYmRkYjM5NmEwZmEgPSBMLmNpcmNsZU1hcmtlcigKICAgICAgICAgICAgICAgIFszNS4yMDU5MjE4LCAtODkuOTEzNjk4NV0sCiAgICAgICAgICAgICAgICB7CiAgImJ1YmJsaW5nTW91c2VFdmVudHMiOiB0cnVlLAogICJjb2xvciI6ICIjODAwMGZmIiwKICAiZGFzaEFycmF5IjogbnVsbCwKICAiZGFzaE9mZnNldCI6IG51bGwsCiAgImZpbGwiOiB0cnVlLAogICJmaWxsQ29sb3IiOiAiIzgwMDBmZiIsCiAgImZpbGxPcGFjaXR5IjogMC43LAogICJmaWxsUnVsZSI6ICJldmVub2RkIiwKICAibGluZUNhcCI6ICJyb3VuZCIsCiAgImxpbmVKb2luIjogInJvdW5kIiwKICAib3BhY2l0eSI6IDEuMCwKICAicmFkaXVzIjogNSwKICAic3Ryb2tlIjogdHJ1ZSwKICAid2VpZ2h0IjogMwp9CiAgICAgICAgICAgICAgICApCiAgICAgICAgICAgICAgICAuYWRkVG8obWFwXzZiOGQyMzE1N2NmZTRkYjc4NzY2NDFkYjkwZTBlODY2KTsKICAgICAgICAgICAgCiAgICAKICAgICAgICAgICAgdmFyIHBvcHVwX2Q0MmFjZjU0NGRkMjRlMDlhYWE2MjM2YWY4M2RmMGE0ID0gTC5wb3B1cCh7bWF4V2lkdGg6ICcxMDAlJwogICAgICAgICAgICAKICAgICAgICAgICAgfSk7CgogICAgICAgICAgICAKICAgICAgICAgICAgICAgIHZhciBodG1sXzFlZDQ3ZTI4NjJhYjQyN2FiNjRjZTA2MGMyYjhjZTQzID0gJChgPGRpdiBpZD0iaHRtbF8xZWQ0N2UyODYyYWI0MjdhYjY0Y2UwNjBjMmI4Y2U0MyIgc3R5bGU9IndpZHRoOiAxMDAuMCU7IGhlaWdodDogMTAwLjAlOyI+UmFsZWlnaCBDbHVzdGVyIDEgNy45NiBtaWxlczwvZGl2PmApWzBdOwogICAgICAgICAgICAgICAgcG9wdXBfZDQyYWNmNTQ0ZGQyNGUwOWFhYTYyMzZhZjgzZGYwYTQuc2V0Q29udGVudChodG1sXzFlZDQ3ZTI4NjJhYjQyN2FiNjRjZTA2MGMyYjhjZTQzKTsKICAgICAgICAgICAgCgogICAgICAgICAgICBjaXJjbGVfbWFya2VyX2IwYThkYmQ4YjQ0NjRjYjc5ZGE4YWJkZGIzOTZhMGZhLmJpbmRQb3B1cChwb3B1cF9kNDJhY2Y1NDRkZDI0ZTA5YWFhNjIzNmFmODNkZjBhNCkKICAgICAgICAgICAgOwoKICAgICAgICAgICAgCiAgICAgICAgCiAgICAKICAgICAgICAgICAgdmFyIGNpcmNsZV9tYXJrZXJfNGY3ZjY3NWY4MmI2NGU4NzllZTc3OTk0YTBiMTFjZDYgPSBMLmNpcmNsZU1hcmtlcigKICAgICAgICAgICAgICAgIFszNS4xNzY0NzgxLCAtOTAuMDE3MzEyNF0sCiAgICAgICAgICAgICAgICB7CiAgImJ1YmJsaW5nTW91c2VFdmVudHMiOiB0cnVlLAogICJjb2xvciI6ICIjODAwMGZmIiwKICAiZGFzaEFycmF5IjogbnVsbCwKICAiZGFzaE9mZnNldCI6IG51bGwsCiAgImZpbGwiOiB0cnVlLAogICJmaWxsQ29sb3IiOiAiIzgwMDBmZiIsCiAgImZpbGxPcGFjaXR5IjogMC43LAogICJmaWxsUnVsZSI6ICJldmVub2RkIiwKICAibGluZUNhcCI6ICJyb3VuZCIsCiAgImxpbmVKb2luIjogInJvdW5kIiwKICAib3BhY2l0eSI6IDEuMCwKICAicmFkaXVzIjogNSwKICAic3Ryb2tlIjogdHJ1ZSwKICAid2VpZ2h0IjogMwp9CiAgICAgICAgICAgICAgICApCiAgICAgICAgICAgICAgICAuYWRkVG8obWFwXzZiOGQyMzE1N2NmZTRkYjc4NzY2NDFkYjkwZTBlODY2KTsKICAgICAgICAgICAgCiAgICAKICAgICAgICAgICAgdmFyIHBvcHVwXzEzNGI3ZmNlZDljODQ5ODRiNDlkNjc1MGEyOGQxNjk3ID0gTC5wb3B1cCh7bWF4V2lkdGg6ICcxMDAlJwogICAgICAgICAgICAKICAgICAgICAgICAgfSk7CgogICAgICAgICAgICAKICAgICAgICAgICAgICAgIHZhciBodG1sXzM0NmUzNzI3MDYxZTRmYjVhYzA1YzQ1OTQzNjAxZjU5ID0gJChgPGRpdiBpZD0iaHRtbF8zNDZlMzcyNzA2MWU0ZmI1YWMwNWM0NTk0MzYwMWY1OSIgc3R5bGU9IndpZHRoOiAxMDAuMCU7IGhlaWdodDogMTAwLjAlOyI+SGVpZ2h0cyBDbHVzdGVyIDEgMi42NiBtaWxlczwvZGl2PmApWzBdOwogICAgICAgICAgICAgICAgcG9wdXBfMTM0YjdmY2VkOWM4NDk4NGI0OWQ2NzUwYTI4ZDE2OTcuc2V0Q29udGVudChodG1sXzM0NmUzNzI3MDYxZTRmYjVhYzA1YzQ1OTQzNjAxZjU5KTsKICAgICAgICAgICAgCgogICAgICAgICAgICBjaXJjbGVfbWFya2VyXzRmN2Y2NzVmODJiNjRlODc5ZWU3Nzk5NGEwYjExY2Q2LmJpbmRQb3B1cChwb3B1cF8xMzRiN2ZjZWQ5Yzg0OTg0YjQ5ZDY3NTBhMjhkMTY5NykKICAgICAgICAgICAgOwoKICAgICAgICAgICAgCiAgICAgICAgCiAgICAKICAgICAgICAgICAgdmFyIGNpcmNsZV9tYXJrZXJfZjgwYTIyNGVmZGQxNDlmNzgwYWY4MTUyZmFmYTFmMjMgPSBMLmNpcmNsZU1hcmtlcigKICAgICAgICAgICAgICAgIFszNS4xMDA2NDYzLCAtOTAuMDI5MjU3N10sCiAgICAgICAgICAgICAgICB7CiAgImJ1YmJsaW5nTW91c2VFdmVudHMiOiB0cnVlLAogICJjb2xvciI6ICIjODAwMGZmIiwKICAiZGFzaEFycmF5IjogbnVsbCwKICAiZGFzaE9mZnNldCI6IG51bGwsCiAgImZpbGwiOiB0cnVlLAogICJmaWxsQ29sb3IiOiAiIzgwMDBmZiIsCiAgImZpbGxPcGFjaXR5IjogMC43LAogICJmaWxsUnVsZSI6ICJldmVub2RkIiwKICAibGluZUNhcCI6ICJyb3VuZCIsCiAgImxpbmVKb2luIjogInJvdW5kIiwKICAib3BhY2l0eSI6IDEuMCwKICAicmFkaXVzIjogNSwKICAic3Ryb2tlIjogdHJ1ZSwKICAid2VpZ2h0IjogMwp9CiAgICAgICAgICAgICAgICApCiAgICAgICAgICAgICAgICAuYWRkVG8obWFwXzZiOGQyMzE1N2NmZTRkYjc4NzY2NDFkYjkwZTBlODY2KTsKICAgICAgICAgICAgCiAgICAKICAgICAgICAgICAgdmFyIHBvcHVwXzNjZDk2NTk4NjVhODQ4YTJiYTBhY2VhOWJjZmY1YTNmID0gTC5wb3B1cCh7bWF4V2lkdGg6ICcxMDAlJwogICAgICAgICAgICAKICAgICAgICAgICAgfSk7CgogICAgICAgICAgICAKICAgICAgICAgICAgICAgIHZhciBodG1sX2QwOGUxOWVmNjFjNTQ4NmZhNWYwODhmYjI4MjhiYWFmID0gJChgPGRpdiBpZD0iaHRtbF9kMDhlMTllZjYxYzU0ODZmYTVmMDg4ZmIyODI4YmFhZiIgc3R5bGU9IndpZHRoOiAxMDAuMCU7IGhlaWdodDogMTAwLjAlOyI+QnVua2VyIEhpbGwgQ2x1c3RlciAxIDIuNjQgbWlsZXM8L2Rpdj5gKVswXTsKICAgICAgICAgICAgICAgIHBvcHVwXzNjZDk2NTk4NjVhODQ4YTJiYTBhY2VhOWJjZmY1YTNmLnNldENvbnRlbnQoaHRtbF9kMDhlMTllZjYxYzU0ODZmYTVmMDg4ZmIyODI4YmFhZik7CiAgICAgICAgICAgIAoKICAgICAgICAgICAgY2lyY2xlX21hcmtlcl9mODBhMjI0ZWZkZDE0OWY3ODBhZjgxNTJmYWZhMWYyMy5iaW5kUG9wdXAocG9wdXBfM2NkOTY1OTg2NWE4NDhhMmJhMGFjZWE5YmNmZjVhM2YpCiAgICAgICAgICAgIDsKCiAgICAgICAgICAgIAogICAgICAgIAogICAgCiAgICAgICAgICAgIHZhciBjaXJjbGVfbWFya2VyXzA4NjJlMmUwNmQ4ZjQwMjRhNWYzMmEzOGI2NWZjYzU2ID0gTC5jaXJjbGVNYXJrZXIoCiAgICAgICAgICAgICAgICBbMzUuMTU4NTQ4OSwgLTkwLjAxODEyODVdLAogICAgICAgICAgICAgICAgewogICJidWJibGluZ01vdXNlRXZlbnRzIjogdHJ1ZSwKICAiY29sb3IiOiAiIzgwMDBmZiIsCiAgImRhc2hBcnJheSI6IG51bGwsCiAgImRhc2hPZmZzZXQiOiBudWxsLAogICJmaWxsIjogdHJ1ZSwKICAiZmlsbENvbG9yIjogIiM4MDAwZmYiLAogICJmaWxsT3BhY2l0eSI6IDAuNywKICAiZmlsbFJ1bGUiOiAiZXZlbm9kZCIsCiAgImxpbmVDYXAiOiAicm91bmQiLAogICJsaW5lSm9pbiI6ICJyb3VuZCIsCiAgIm9wYWNpdHkiOiAxLjAsCiAgInJhZGl1cyI6IDUsCiAgInN0cm9rZSI6IHRydWUsCiAgIndlaWdodCI6IDMKfQogICAgICAgICAgICAgICAgKQogICAgICAgICAgICAgICAgLmFkZFRvKG1hcF82YjhkMjMxNTdjZmU0ZGI3ODc2NjQxZGI5MGUwZTg2Nik7CiAgICAgICAgICAgIAogICAgCiAgICAgICAgICAgIHZhciBwb3B1cF9iOGRiZTUzMzlhMjk0NjE2YjE4MjE3YzU4MjhmZTgwMCA9IEwucG9wdXAoe21heFdpZHRoOiAnMTAwJScKICAgICAgICAgICAgCiAgICAgICAgICAgIH0pOwoKICAgICAgICAgICAgCiAgICAgICAgICAgICAgICB2YXIgaHRtbF9kZTcwYjEwZTY2ODE0ZWUyYjYwOWJiOGMxN2Y3MTEwYSA9ICQoYDxkaXYgaWQ9Imh0bWxfZGU3MGIxMGU2NjgxNGVlMmI2MDliYjhjMTdmNzExMGEiIHN0eWxlPSJ3aWR0aDogMTAwLjAlOyBoZWlnaHQ6IDEwMC4wJTsiPkRpeGllIEhlaWdodHMgQ2x1c3RlciAxIDEuNDcgbWlsZXM8L2Rpdj5gKVswXTsKICAgICAgICAgICAgICAgIHBvcHVwX2I4ZGJlNTMzOWEyOTQ2MTZiMTgyMTdjNTgyOGZlODAwLnNldENvbnRlbnQoaHRtbF9kZTcwYjEwZTY2ODE0ZWUyYjYwOWJiOGMxN2Y3MTEwYSk7CiAgICAgICAgICAgIAoKICAgICAgICAgICAgY2lyY2xlX21hcmtlcl8wODYyZTJlMDZkOGY0MDI0YTVmMzJhMzhiNjVmY2M1Ni5iaW5kUG9wdXAocG9wdXBfYjhkYmU1MzM5YTI5NDYxNmIxODIxN2M1ODI4ZmU4MDApCiAgICAgICAgICAgIDsKCiAgICAgICAgICAgIAogICAgICAgIAogICAgCiAgICAgICAgICAgIHZhciBjaXJjbGVfbWFya2VyXzg1MzQ5MmExYjg1NzQ2YTliNmFkOTZlMDA0Y2M4NGZkID0gTC5jaXJjbGVNYXJrZXIoCiAgICAgICAgICAgICAgICBbMzUuMDkxMjkzOSwgLTkwLjA0MzYxMDVdLAogICAgICAgICAgICAgICAgewogICJidWJibGluZ01vdXNlRXZlbnRzIjogdHJ1ZSwKICAiY29sb3IiOiAiIzgwMDBmZiIsCiAgImRhc2hBcnJheSI6IG51bGwsCiAgImRhc2hPZmZzZXQiOiBudWxsLAogICJmaWxsIjogdHJ1ZSwKICAiZmlsbENvbG9yIjogIiM4MDAwZmYiLAogICJmaWxsT3BhY2l0eSI6IDAuNywKICAiZmlsbFJ1bGUiOiAiZXZlbm9kZCIsCiAgImxpbmVDYXAiOiAicm91bmQiLAogICJsaW5lSm9pbiI6ICJyb3VuZCIsCiAgIm9wYWNpdHkiOiAxLjAsCiAgInJhZGl1cyI6IDUsCiAgInN0cm9rZSI6IHRydWUsCiAgIndlaWdodCI6IDMKfQogICAgICAgICAgICAgICAgKQogICAgICAgICAgICAgICAgLmFkZFRvKG1hcF82YjhkMjMxNTdjZmU0ZGI3ODc2NjQxZGI5MGUwZTg2Nik7CiAgICAgICAgICAgIAogICAgCiAgICAgICAgICAgIHZhciBwb3B1cF82OTFmOGVjMjZlMTg0ODM0YmU4YTE2ZmFmZTE3ZTBhNiA9IEwucG9wdXAoe21heFdpZHRoOiAnMTAwJScKICAgICAgICAgICAgCiAgICAgICAgICAgIH0pOwoKICAgICAgICAgICAgCiAgICAgICAgICAgICAgICB2YXIgaHRtbF82OGFkZmY4Y2JiNjM0MGJjYjBjOGZiMGMwZmJlZGRhNCA9ICQoYDxkaXYgaWQ9Imh0bWxfNjhhZGZmOGNiYjYzNDBiY2IwYzhmYjBjMGZiZWRkYTQiIHN0eWxlPSJ3aWR0aDogMTAwLjAlOyBoZWlnaHQ6IDEwMC4wJTsiPkxvbmd2aWV3IENsdXN0ZXIgMSAzLjQgbWlsZXM8L2Rpdj5gKVswXTsKICAgICAgICAgICAgICAgIHBvcHVwXzY5MWY4ZWMyNmUxODQ4MzRiZThhMTZmYWZlMTdlMGE2LnNldENvbnRlbnQoaHRtbF82OGFkZmY4Y2JiNjM0MGJjYjBjOGZiMGMwZmJlZGRhNCk7CiAgICAgICAgICAgIAoKICAgICAgICAgICAgY2lyY2xlX21hcmtlcl84NTM0OTJhMWI4NTc0NmE5YjZhZDk2ZTAwNGNjODRmZC5iaW5kUG9wdXAocG9wdXBfNjkxZjhlYzI2ZTE4NDgzNGJlOGExNmZhZmUxN2UwYTYpCiAgICAgICAgICAgIDsKCiAgICAgICAgICAgIAogICAgICAgIAogICAgCiAgICAgICAgICAgIHZhciBjaXJjbGVfbWFya2VyX2U0N2IzMWE2NDlkODQ1N2ViZDI5OGQyNGNkOTM4YzAyID0gTC5jaXJjbGVNYXJrZXIoCiAgICAgICAgICAgICAgICBbMzUuMDQ2OTcyMiwgLTkwLjA2MTkzNzVdLAogICAgICAgICAgICAgICAgewogICJidWJibGluZ01vdXNlRXZlbnRzIjogdHJ1ZSwKICAiY29sb3IiOiAiI2ZmMDAwMCIsCiAgImRhc2hBcnJheSI6IG51bGwsCiAgImRhc2hPZmZzZXQiOiBudWxsLAogICJmaWxsIjogdHJ1ZSwKICAiZmlsbENvbG9yIjogIiNmZjAwMDAiLAogICJmaWxsT3BhY2l0eSI6IDAuNywKICAiZmlsbFJ1bGUiOiAiZXZlbm9kZCIsCiAgImxpbmVDYXAiOiAicm91bmQiLAogICJsaW5lSm9pbiI6ICJyb3VuZCIsCiAgIm9wYWNpdHkiOiAxLjAsCiAgInJhZGl1cyI6IDUsCiAgInN0cm9rZSI6IHRydWUsCiAgIndlaWdodCI6IDMKfQogICAgICAgICAgICAgICAgKQogICAgICAgICAgICAgICAgLmFkZFRvKG1hcF82YjhkMjMxNTdjZmU0ZGI3ODc2NjQxZGI5MGUwZTg2Nik7CiAgICAgICAgICAgIAogICAgCiAgICAgICAgICAgIHZhciBwb3B1cF83M2VmNmJkMDY0ZjE0MWFkODg3N2EyZThjNzFlMDNlNCA9IEwucG9wdXAoe21heFdpZHRoOiAnMTAwJScKICAgICAgICAgICAgCiAgICAgICAgICAgIH0pOwoKICAgICAgICAgICAgCiAgICAgICAgICAgICAgICB2YXIgaHRtbF80YzBkOWU2NGQ2Yzg0ZGU2YTYyNGNkOGQxNWZkOWUxZCA9ICQoYDxkaXYgaWQ9Imh0bWxfNGMwZDllNjRkNmM4NGRlNmE2MjRjZDhkMTVmZDllMWQiIHN0eWxlPSJ3aWR0aDogMTAwLjAlOyBoZWlnaHQ6IDEwMC4wJTsiPk5laGVtaWFoIENsdXN0ZXIgMCA2LjYyIG1pbGVzPC9kaXY+YClbMF07CiAgICAgICAgICAgICAgICBwb3B1cF83M2VmNmJkMDY0ZjE0MWFkODg3N2EyZThjNzFlMDNlNC5zZXRDb250ZW50KGh0bWxfNGMwZDllNjRkNmM4NGRlNmE2MjRjZDhkMTVmZDllMWQpOwogICAgICAgICAgICAKCiAgICAgICAgICAgIGNpcmNsZV9tYXJrZXJfZTQ3YjMxYTY0OWQ4NDU3ZWJkMjk4ZDI0Y2Q5MzhjMDIuYmluZFBvcHVwKHBvcHVwXzczZWY2YmQwNjRmMTQxYWQ4ODc3YTJlOGM3MWUwM2U0KQogICAgICAgICAgICA7CgogICAgICAgICAgICAKICAgICAgICAKICAgIAogICAgICAgICAgICB2YXIgY2lyY2xlX21hcmtlcl9hYTQ2MTYzMTRjNzI0NTgxYjU3MDdkMjMwNTE2Y2VmZiA9IEwuY2lyY2xlTWFya2VyKAogICAgICAgICAgICAgICAgWzM1LjE0OTAyMTUsIC05MC4wNTE2Mjg1XSwKICAgICAgICAgICAgICAgIHsKICAiYnViYmxpbmdNb3VzZUV2ZW50cyI6IHRydWUsCiAgImNvbG9yIjogIiM4MDAwZmYiLAogICJkYXNoQXJyYXkiOiBudWxsLAogICJkYXNoT2Zmc2V0IjogbnVsbCwKICAiZmlsbCI6IHRydWUsCiAgImZpbGxDb2xvciI6ICIjODAwMGZmIiwKICAiZmlsbE9wYWNpdHkiOiAwLjcsCiAgImZpbGxSdWxlIjogImV2ZW5vZGQiLAogICJsaW5lQ2FwIjogInJvdW5kIiwKICAibGluZUpvaW4iOiAicm91bmQiLAogICJvcGFjaXR5IjogMS4wLAogICJyYWRpdXMiOiA1LAogICJzdHJva2UiOiB0cnVlLAogICJ3ZWlnaHQiOiAzCn0KICAgICAgICAgICAgICAgICkKICAgICAgICAgICAgICAgIC5hZGRUbyhtYXBfNmI4ZDIzMTU3Y2ZlNGRiNzg3NjY0MWRiOTBlMGU4NjYpOwogICAgICAgICAgICAKICAgIAogICAgICAgICAgICB2YXIgcG9wdXBfYzk0NzQ3ZTgyOGU1NGU5MmE2MDZmYzg4YmQ3MDI1NWUgPSBMLnBvcHVwKHttYXhXaWR0aDogJzEwMCUnCiAgICAgICAgICAgIAogICAgICAgICAgICB9KTsKCiAgICAgICAgICAgIAogICAgICAgICAgICAgICAgdmFyIGh0bWxfMTcwMmYxZmU0Njg0NDA0OGE0MjBjMWJiZDZjZDgzNmUgPSAkKGA8ZGl2IGlkPSJodG1sXzE3MDJmMWZlNDY4NDQwNDhhNDIwYzFiYmQ2Y2Q4MzZlIiBzdHlsZT0id2lkdGg6IDEwMC4wJTsgaGVpZ2h0OiAxMDAuMCU7Ij5QaW5lIEhpbGwgQ2x1c3RlciAxIDEuNSBtaWxlczwvZGl2PmApWzBdOwogICAgICAgICAgICAgICAgcG9wdXBfYzk0NzQ3ZTgyOGU1NGU5MmE2MDZmYzg4YmQ3MDI1NWUuc2V0Q29udGVudChodG1sXzE3MDJmMWZlNDY4NDQwNDhhNDIwYzFiYmQ2Y2Q4MzZlKTsKICAgICAgICAgICAgCgogICAgICAgICAgICBjaXJjbGVfbWFya2VyX2FhNDYxNjMxNGM3MjQ1ODFiNTcwN2QyMzA1MTZjZWZmLmJpbmRQb3B1cChwb3B1cF9jOTQ3NDdlODI4ZTU0ZTkyYTYwNmZjODhiZDcwMjU1ZSkKICAgICAgICAgICAgOwoKICAgICAgICAgICAgCiAgICAgICAgCiAgICAKICAgICAgICAgICAgdmFyIGNpcmNsZV9tYXJrZXJfYTU1YTliMGE5YmRjNGUzN2E3OWY4NmU1NDM0ZTA3ZDcgPSBMLmNpcmNsZU1hcmtlcigKICAgICAgICAgICAgICAgIFszNS4xNDkwMjE1LCAtOTAuMDUxNjI4NV0sCiAgICAgICAgICAgICAgICB7CiAgImJ1YmJsaW5nTW91c2VFdmVudHMiOiB0cnVlLAogICJjb2xvciI6ICIjODAwMGZmIiwKICAiZGFzaEFycmF5IjogbnVsbCwKICAiZGFzaE9mZnNldCI6IG51bGwsCiAgImZpbGwiOiB0cnVlLAogICJmaWxsQ29sb3IiOiAiIzgwMDBmZiIsCiAgImZpbGxPcGFjaXR5IjogMC43LAogICJmaWxsUnVsZSI6ICJldmVub2RkIiwKICAibGluZUNhcCI6ICJyb3VuZCIsCiAgImxpbmVKb2luIjogInJvdW5kIiwKICAib3BhY2l0eSI6IDEuMCwKICAicmFkaXVzIjogNSwKICAic3Ryb2tlIjogdHJ1ZSwKICAid2VpZ2h0IjogMwp9CiAgICAgICAgICAgICAgICApCiAgICAgICAgICAgICAgICAuYWRkVG8obWFwXzZiOGQyMzE1N2NmZTRkYjc4NzY2NDFkYjkwZTBlODY2KTsKICAgICAgICAgICAgCiAgICAKICAgICAgICAgICAgdmFyIHBvcHVwX2JiZDcyMDg0NmE0NTRhMzc5YTNkODNiOGI1YTEyMjBkID0gTC5wb3B1cCh7bWF4V2lkdGg6ICcxMDAlJwogICAgICAgICAgICAKICAgICAgICAgICAgfSk7CgogICAgICAgICAgICAKICAgICAgICAgICAgICAgIHZhciBodG1sXzU5MDI3ZWJkMWNkMDQ0OWVhMDA0N2M1ZjgwMDMxNzUyID0gJChgPGRpdiBpZD0iaHRtbF81OTAyN2ViZDFjZDA0NDllYTAwNDdjNWY4MDAzMTc1MiIgc3R5bGU9IndpZHRoOiAxMDAuMCU7IGhlaWdodDogMTAwLjAlOyI+Uml2ZXJzaWRlIENsdXN0ZXIgMSAxLjUgbWlsZXM8L2Rpdj5gKVswXTsKICAgICAgICAgICAgICAgIHBvcHVwX2JiZDcyMDg0NmE0NTRhMzc5YTNkODNiOGI1YTEyMjBkLnNldENvbnRlbnQoaHRtbF81OTAyN2ViZDFjZDA0NDllYTAwNDdjNWY4MDAzMTc1Mik7CiAgICAgICAgICAgIAoKICAgICAgICAgICAgY2lyY2xlX21hcmtlcl9hNTVhOWIwYTliZGM0ZTM3YTc5Zjg2ZTU0MzRlMDdkNy5iaW5kUG9wdXAocG9wdXBfYmJkNzIwODQ2YTQ1NGEzNzlhM2Q4M2I4YjVhMTIyMGQpCiAgICAgICAgICAgIDsKCiAgICAgICAgICAgIAogICAgICAgIAogICAgCiAgICAgICAgICAgIHZhciBjaXJjbGVfbWFya2VyXzBlNGMxZjA5M2QxMTRkZThiYWFkMjIzNmYzMTcwYzg5ID0gTC5jaXJjbGVNYXJrZXIoCiAgICAgICAgICAgICAgICBbMzUuMTE2Mzc2NSwgLTkwLjAzMjA2MjRdLAogICAgICAgICAgICAgICAgewogICJidWJibGluZ01vdXNlRXZlbnRzIjogdHJ1ZSwKICAiY29sb3IiOiAiIzgwMDBmZiIsCiAgImRhc2hBcnJheSI6IG51bGwsCiAgImRhc2hPZmZzZXQiOiBudWxsLAogICJmaWxsIjogdHJ1ZSwKICAiZmlsbENvbG9yIjogIiM4MDAwZmYiLAogICJmaWxsT3BhY2l0eSI6IDAuNywKICAiZmlsbFJ1bGUiOiAiZXZlbm9kZCIsCiAgImxpbmVDYXAiOiAicm91bmQiLAogICJsaW5lSm9pbiI6ICJyb3VuZCIsCiAgIm9wYWNpdHkiOiAxLjAsCiAgInJhZGl1cyI6IDUsCiAgInN0cm9rZSI6IHRydWUsCiAgIndlaWdodCI6IDMKfQogICAgICAgICAgICAgICAgKQogICAgICAgICAgICAgICAgLmFkZFRvKG1hcF82YjhkMjMxNTdjZmU0ZGI3ODc2NjQxZGI5MGUwZTg2Nik7CiAgICAgICAgICAgIAogICAgCiAgICAgICAgICAgIHZhciBwb3B1cF8yZjU2NzJiMmQ0MTk0ZTExOGE2OWUyZWNhNWMxY2QyNiA9IEwucG9wdXAoe21heFdpZHRoOiAnMTAwJScKICAgICAgICAgICAgCiAgICAgICAgICAgIH0pOwoKICAgICAgICAgICAgCiAgICAgICAgICAgICAgICB2YXIgaHRtbF9iZTRlZjQ3NjdlNzg0NGI0ODVkZWE0ZWY5NjRhZDNmMSA9ICQoYDxkaXYgaWQ9Imh0bWxfYmU0ZWY0NzY3ZTc4NDRiNDg1ZGVhNGVmOTY0YWQzZjEiIHN0eWxlPSJ3aWR0aDogMTAwLjAlOyBoZWlnaHQ6IDEwMC4wJTsiPlNvdWxzdmlsbGUgQ2x1c3RlciAxIDEuNTcgbWlsZXM8L2Rpdj5gKVswXTsKICAgICAgICAgICAgICAgIHBvcHVwXzJmNTY3MmIyZDQxOTRlMTE4YTY5ZTJlY2E1YzFjZDI2LnNldENvbnRlbnQoaHRtbF9iZTRlZjQ3NjdlNzg0NGI0ODVkZWE0ZWY5NjRhZDNmMSk7CiAgICAgICAgICAgIAoKICAgICAgICAgICAgY2lyY2xlX21hcmtlcl8wZTRjMWYwOTNkMTE0ZGU4YmFhZDIyMzZmMzE3MGM4OS5iaW5kUG9wdXAocG9wdXBfMmY1NjcyYjJkNDE5NGUxMThhNjllMmVjYTVjMWNkMjYpCiAgICAgICAgICAgIDsKCiAgICAgICAgICAgIAogICAgICAgIAogICAgCiAgICAgICAgICAgIHZhciBjaXJjbGVfbWFya2VyXzgzOWNiOWYwZjJlOTRiYjVhMTcyZjdhYzI5NzQ4NTVkID0gTC5jaXJjbGVNYXJrZXIoCiAgICAgICAgICAgICAgICBbMzUuMTE5Mzc1OSwgLTkwLjAzNDc4MDVdLAogICAgICAgICAgICAgICAgewogICJidWJibGluZ01vdXNlRXZlbnRzIjogdHJ1ZSwKICAiY29sb3IiOiAiIzgwMDBmZiIsCiAgImRhc2hBcnJheSI6IG51bGwsCiAgImRhc2hPZmZzZXQiOiBudWxsLAogICJmaWxsIjogdHJ1ZSwKICAiZmlsbENvbG9yIjogIiM4MDAwZmYiLAogICJmaWxsT3BhY2l0eSI6IDAuNywKICAiZmlsbFJ1bGUiOiAiZXZlbm9kZCIsCiAgImxpbmVDYXAiOiAicm91bmQiLAogICJsaW5lSm9pbiI6ICJyb3VuZCIsCiAgIm9wYWNpdHkiOiAxLjAsCiAgInJhZGl1cyI6IDUsCiAgInN0cm9rZSI6IHRydWUsCiAgIndlaWdodCI6IDMKfQogICAgICAgICAgICAgICAgKQogICAgICAgICAgICAgICAgLmFkZFRvKG1hcF82YjhkMjMxNTdjZmU0ZGI3ODc2NjQxZGI5MGUwZTg2Nik7CiAgICAgICAgICAgIAogICAgCiAgICAgICAgICAgIHZhciBwb3B1cF8xMTEyMDk3ZGJmNmY0ODNmYmI0NDJjOWRkY2M5MDM5YSA9IEwucG9wdXAoe21heFdpZHRoOiAnMTAwJScKICAgICAgICAgICAgCiAgICAgICAgICAgIH0pOwoKICAgICAgICAgICAgCiAgICAgICAgICAgICAgICB2YXIgaHRtbF9jZWU1YWFlMzQwNWM0NWQyOTA2OWUxZGVjMjg5YWJlYyA9ICQoYDxkaXYgaWQ9Imh0bWxfY2VlNWFhZTM0MDVjNDVkMjkwNjllMWRlYzI4OWFiZWMiIHN0eWxlPSJ3aWR0aDogMTAwLjAlOyBoZWlnaHQ6IDEwMC4wJTsiPldhbGtlciBIb21lcyBDbHVzdGVyIDEgMS40IG1pbGVzPC9kaXY+YClbMF07CiAgICAgICAgICAgICAgICBwb3B1cF8xMTEyMDk3ZGJmNmY0ODNmYmI0NDJjOWRkY2M5MDM5YS5zZXRDb250ZW50KGh0bWxfY2VlNWFhZTM0MDVjNDVkMjkwNjllMWRlYzI4OWFiZWMpOwogICAgICAgICAgICAKCiAgICAgICAgICAgIGNpcmNsZV9tYXJrZXJfODM5Y2I5ZjBmMmU5NGJiNWExNzJmN2FjMjk3NDg1NWQuYmluZFBvcHVwKHBvcHVwXzExMTIwOTdkYmY2ZjQ4M2ZiYjQ0MmM5ZGRjYzkwMzlhKQogICAgICAgICAgICA7CgogICAgICAgICAgICAKICAgICAgICAKICAgIAogICAgICAgICAgICB2YXIgY2lyY2xlX21hcmtlcl8wZTBhZTA1OTc1ZGI0NzNiYTIxZDgxYTNjZGQyMDg4NyA9IEwuY2lyY2xlTWFya2VyKAogICAgICAgICAgICAgICAgWzM1LjAyNzMxNDQsIC05MC4wMjkyNTgxXSwKICAgICAgICAgICAgICAgIHsKICAiYnViYmxpbmdNb3VzZUV2ZW50cyI6IHRydWUsCiAgImNvbG9yIjogIiM4MDAwZmYiLAogICJkYXNoQXJyYXkiOiBudWxsLAogICJkYXNoT2Zmc2V0IjogbnVsbCwKICAiZmlsbCI6IHRydWUsCiAgImZpbGxDb2xvciI6ICIjODAwMGZmIiwKICAiZmlsbE9wYWNpdHkiOiAwLjcsCiAgImZpbGxSdWxlIjogImV2ZW5vZGQiLAogICJsaW5lQ2FwIjogInJvdW5kIiwKICAibGluZUpvaW4iOiAicm91bmQiLAogICJvcGFjaXR5IjogMS4wLAogICJyYWRpdXMiOiA1LAogICJzdHJva2UiOiB0cnVlLAogICJ3ZWlnaHQiOiAzCn0KICAgICAgICAgICAgICAgICkKICAgICAgICAgICAgICAgIC5hZGRUbyhtYXBfNmI4ZDIzMTU3Y2ZlNGRiNzg3NjY0MWRiOTBlMGU4NjYpOwogICAgICAgICAgICAKICAgIAogICAgICAgICAgICB2YXIgcG9wdXBfZTAxZmU2MTg2YjI2NGQ5MGJkODkxZGU0NTI3MDM4ZjYgPSBMLnBvcHVwKHttYXhXaWR0aDogJzEwMCUnCiAgICAgICAgICAgIAogICAgICAgICAgICB9KTsKCiAgICAgICAgICAgIAogICAgICAgICAgICAgICAgdmFyIGh0bWxfNzYzMGY1OTEwZmZiNDQ0YmFhZGJhYzBmODY3NThlNGEgPSAkKGA8ZGl2IGlkPSJodG1sXzc2MzBmNTkxMGZmYjQ0NGJhYWRiYWMwZjg2NzU4ZTRhIiBzdHlsZT0id2lkdGg6IDEwMC4wJTsgaGVpZ2h0OiAxMDAuMCU7Ij5XaGl0ZWhhdmVuIENsdXN0ZXIgMSA3LjY5IG1pbGVzPC9kaXY+YClbMF07CiAgICAgICAgICAgICAgICBwb3B1cF9lMDFmZTYxODZiMjY0ZDkwYmQ4OTFkZTQ1MjcwMzhmNi5zZXRDb250ZW50KGh0bWxfNzYzMGY1OTEwZmZiNDQ0YmFhZGJhYzBmODY3NThlNGEpOwogICAgICAgICAgICAKCiAgICAgICAgICAgIGNpcmNsZV9tYXJrZXJfMGUwYWUwNTk3NWRiNDczYmEyMWQ4MWEzY2RkMjA4ODcuYmluZFBvcHVwKHBvcHVwX2UwMWZlNjE4NmIyNjRkOTBiZDg5MWRlNDUyNzAzOGY2KQogICAgICAgICAgICA7CgogICAgICAgICAgICAKICAgICAgICAKICAgIAogICAgICAgICAgICB2YXIgY2lyY2xlX21hcmtlcl9iNmFhMzBhOTMwM2Q0NzU0YWQ5OWVlYWZhNDM1ZWE1NyA9IEwuY2lyY2xlTWFya2VyKAogICAgICAgICAgICAgICAgWzM1LjAyMDY0NzgsIC04OS44OTc4NjYzXSwKICAgICAgICAgICAgICAgIHsKICAiYnViYmxpbmdNb3VzZUV2ZW50cyI6IHRydWUsCiAgImNvbG9yIjogIiM4MDAwZmYiLAogICJkYXNoQXJyYXkiOiBudWxsLAogICJkYXNoT2Zmc2V0IjogbnVsbCwKICAiZmlsbCI6IHRydWUsCiAgImZpbGxDb2xvciI6ICIjODAwMGZmIiwKICAiZmlsbE9wYWNpdHkiOiAwLjcsCiAgImZpbGxSdWxlIjogImV2ZW5vZGQiLAogICJsaW5lQ2FwIjogInJvdW5kIiwKICAibGluZUpvaW4iOiAicm91bmQiLAogICJvcGFjaXR5IjogMS4wLAogICJyYWRpdXMiOiA1LAogICJzdHJva2UiOiB0cnVlLAogICJ3ZWlnaHQiOiAzCn0KICAgICAgICAgICAgICAgICkKICAgICAgICAgICAgICAgIC5hZGRUbyhtYXBfNmI4ZDIzMTU3Y2ZlNGRiNzg3NjY0MWRiOTBlMGU4NjYpOwogICAgICAgICAgICAKICAgIAogICAgICAgICAgICB2YXIgcG9wdXBfNjEzYTljZTUzNmQwNDI0Njg3N2IyNWU4ZWE1NWQwNjEgPSBMLnBvcHVwKHttYXhXaWR0aDogJzEwMCUnCiAgICAgICAgICAgIAogICAgICAgICAgICB9KTsKCiAgICAgICAgICAgIAogICAgICAgICAgICAgICAgdmFyIGh0bWxfODVhM2YyMTY4YzM1NDFlNzg4MTljM2Y2MThlMTIzN2YgPSAkKGA8ZGl2IGlkPSJodG1sXzg1YTNmMjE2OGMzNTQxZTc4ODE5YzNmNjE4ZTEyMzdmIiBzdHlsZT0id2lkdGg6IDEwMC4wJTsgaGVpZ2h0OiAxMDAuMCU7Ij5DYXBsZXZpbGxlIENsdXN0ZXIgMSAxMS4wIG1pbGVzPC9kaXY+YClbMF07CiAgICAgICAgICAgICAgICBwb3B1cF82MTNhOWNlNTM2ZDA0MjQ2ODc3YjI1ZThlYTU1ZDA2MS5zZXRDb250ZW50KGh0bWxfODVhM2YyMTY4YzM1NDFlNzg4MTljM2Y2MThlMTIzN2YpOwogICAgICAgICAgICAKCiAgICAgICAgICAgIGNpcmNsZV9tYXJrZXJfYjZhYTMwYTkzMDNkNDc1NGFkOTllZWFmYTQzNWVhNTcuYmluZFBvcHVwKHBvcHVwXzYxM2E5Y2U1MzZkMDQyNDY4NzdiMjVlOGVhNTVkMDYxKQogICAgICAgICAgICA7CgogICAgICAgICAgICAKICAgICAgICAKICAgIAogICAgICAgICAgICB2YXIgY2lyY2xlX21hcmtlcl83NmNiYTUzODg2ZDU0ZmM1YjM0NTIxY2JjODlkZjE1YiA9IEwuY2lyY2xlTWFya2VyKAogICAgICAgICAgICAgICAgWzM1LjA5NDYxMzksIC04OS45OTQ5MTY1XSwKICAgICAgICAgICAgICAgIHsKICAiYnViYmxpbmdNb3VzZUV2ZW50cyI6IHRydWUsCiAgImNvbG9yIjogIiM4MDAwZmYiLAogICJkYXNoQXJyYXkiOiBudWxsLAogICJkYXNoT2Zmc2V0IjogbnVsbCwKICAiZmlsbCI6IHRydWUsCiAgImZpbGxDb2xvciI6ICIjODAwMGZmIiwKICAiZmlsbE9wYWNpdHkiOiAwLjcsCiAgImZpbGxSdWxlIjogImV2ZW5vZGQiLAogICJsaW5lQ2FwIjogInJvdW5kIiwKICAibGluZUpvaW4iOiAicm91bmQiLAogICJvcGFjaXR5IjogMS4wLAogICJyYWRpdXMiOiA1LAogICJzdHJva2UiOiB0cnVlLAogICJ3ZWlnaHQiOiAzCn0KICAgICAgICAgICAgICAgICkKICAgICAgICAgICAgICAgIC5hZGRUbyhtYXBfNmI4ZDIzMTU3Y2ZlNGRiNzg3NjY0MWRiOTBlMGU4NjYpOwogICAgICAgICAgICAKICAgIAogICAgICAgICAgICB2YXIgcG9wdXBfNWY2ZTlkMzA3ZjAxNGMxNjkzYjk3NTFmNDIyN2VjNWIgPSBMLnBvcHVwKHttYXhXaWR0aDogJzEwMCUnCiAgICAgICAgICAgIAogICAgICAgICAgICB9KTsKCiAgICAgICAgICAgIAogICAgICAgICAgICAgICAgdmFyIGh0bWxfMjFmNTY0OTcyMjBkNDY3YTk1N2UwYTc2MGFmYTZmYjIgPSAkKGA8ZGl2IGlkPSJodG1sXzIxZjU2NDk3MjIwZDQ2N2E5NTdlMGE3NjBhZmE2ZmIyIiBzdHlsZT0id2lkdGg6IDEwMC4wJTsgaGVpZ2h0OiAxMDAuMCU7Ij5DYXN0YWxpYSBDbHVzdGVyIDEgMy41OSBtaWxlczwvZGl2PmApWzBdOwogICAgICAgICAgICAgICAgcG9wdXBfNWY2ZTlkMzA3ZjAxNGMxNjkzYjk3NTFmNDIyN2VjNWIuc2V0Q29udGVudChodG1sXzIxZjU2NDk3MjIwZDQ2N2E5NTdlMGE3NjBhZmE2ZmIyKTsKICAgICAgICAgICAgCgogICAgICAgICAgICBjaXJjbGVfbWFya2VyXzc2Y2JhNTM4ODZkNTRmYzViMzQ1MjFjYmM4OWRmMTViLmJpbmRQb3B1cChwb3B1cF81ZjZlOWQzMDdmMDE0YzE2OTNiOTc1MWY0MjI3ZWM1YikKICAgICAgICAgICAgOwoKICAgICAgICAgICAgCiAgICAgICAgCiAgICAKICAgICAgICAgICAgdmFyIGNpcmNsZV9tYXJrZXJfZGQ5NjMxNzVmM2VjNDk3NmJhZWUxMjRkZWQ5YzBjZTcgPSBMLmNpcmNsZU1hcmtlcigKICAgICAgICAgICAgICAgIFszNS4wMTYwMzc5LCAtODkuOTU1MTE0NV0sCiAgICAgICAgICAgICAgICB7CiAgImJ1YmJsaW5nTW91c2VFdmVudHMiOiB0cnVlLAogICJjb2xvciI6ICIjODAwMGZmIiwKICAiZGFzaEFycmF5IjogbnVsbCwKICAiZGFzaE9mZnNldCI6IG51bGwsCiAgImZpbGwiOiB0cnVlLAogICJmaWxsQ29sb3IiOiAiIzgwMDBmZiIsCiAgImZpbGxPcGFjaXR5IjogMC43LAogICJmaWxsUnVsZSI6ICJldmVub2RkIiwKICAibGluZUNhcCI6ICJyb3VuZCIsCiAgImxpbmVKb2luIjogInJvdW5kIiwKICAib3BhY2l0eSI6IDEuMCwKICAicmFkaXVzIjogNSwKICAic3Ryb2tlIjogdHJ1ZSwKICAid2VpZ2h0IjogMwp9CiAgICAgICAgICAgICAgICApCiAgICAgICAgICAgICAgICAuYWRkVG8obWFwXzZiOGQyMzE1N2NmZTRkYjc4NzY2NDFkYjkwZTBlODY2KTsKICAgICAgICAgICAgCiAgICAKICAgICAgICAgICAgdmFyIHBvcHVwXzVkYTdjMDk1MzlhNzQ5MTliZGYyOWQ4MDEyODk4ZmU4ID0gTC5wb3B1cCh7bWF4V2lkdGg6ICcxMDAlJwogICAgICAgICAgICAKICAgICAgICAgICAgfSk7CgogICAgICAgICAgICAKICAgICAgICAgICAgICAgIHZhciBodG1sXzk0ZGI5YjY4ZTgyODQyYzBhMWNjOTdlODU0NTgxZTU3ID0gJChgPGRpdiBpZD0iaHRtbF85NGRiOWI2OGU4Mjg0MmMwYTFjYzk3ZTg1NDU4MWU1NyIgc3R5bGU9IndpZHRoOiAxMDAuMCU7IGhlaWdodDogMTAwLjAlOyI+RWFzdGhhdmVuIENsdXN0ZXIgMSA5LjQzIG1pbGVzPC9kaXY+YClbMF07CiAgICAgICAgICAgICAgICBwb3B1cF81ZGE3YzA5NTM5YTc0OTE5YmRmMjlkODAxMjg5OGZlOC5zZXRDb250ZW50KGh0bWxfOTRkYjliNjhlODI4NDJjMGExY2M5N2U4NTQ1ODFlNTcpOwogICAgICAgICAgICAKCiAgICAgICAgICAgIGNpcmNsZV9tYXJrZXJfZGQ5NjMxNzVmM2VjNDk3NmJhZWUxMjRkZWQ5YzBjZTcuYmluZFBvcHVwKHBvcHVwXzVkYTdjMDk1MzlhNzQ5MTliZGYyOWQ4MDEyODk4ZmU4KQogICAgICAgICAgICA7CgogICAgICAgICAgICAKICAgICAgICAKICAgIAogICAgICAgICAgICB2YXIgY2lyY2xlX21hcmtlcl84NzFmNmE1ZDgwMWM0MmRhOWIyNzc3Y2I0NjEwZjdhZiA9IEwuY2lyY2xlTWFya2VyKAogICAgICAgICAgICAgICAgWzM1LjA5MDM2ODUsIC04OS45Njk4MTE5XSwKICAgICAgICAgICAgICAgIHsKICAiYnViYmxpbmdNb3VzZUV2ZW50cyI6IHRydWUsCiAgImNvbG9yIjogIiM4MDAwZmYiLAogICJkYXNoQXJyYXkiOiBudWxsLAogICJkYXNoT2Zmc2V0IjogbnVsbCwKICAiZmlsbCI6IHRydWUsCiAgImZpbGxDb2xvciI6ICIjODAwMGZmIiwKICAiZmlsbE9wYWNpdHkiOiAwLjcsCiAgImZpbGxSdWxlIjogImV2ZW5vZGQiLAogICJsaW5lQ2FwIjogInJvdW5kIiwKICAibGluZUpvaW4iOiAicm91bmQiLAogICJvcGFjaXR5IjogMS4wLAogICJyYWRpdXMiOiA1LAogICJzdHJva2UiOiB0cnVlLAogICJ3ZWlnaHQiOiAzCn0KICAgICAgICAgICAgICAgICkKICAgICAgICAgICAgICAgIC5hZGRUbyhtYXBfNmI4ZDIzMTU3Y2ZlNGRiNzg3NjY0MWRiOTBlMGU4NjYpOwogICAgICAgICAgICAKICAgIAogICAgICAgICAgICB2YXIgcG9wdXBfZWY4YTczZTIxNWZjNDhmNTgwNTBhNGJmYjkxODQ0YTAgPSBMLnBvcHVwKHttYXhXaWR0aDogJzEwMCUnCiAgICAgICAgICAgIAogICAgICAgICAgICB9KTsKCiAgICAgICAgICAgIAogICAgICAgICAgICAgICAgdmFyIGh0bWxfNmViZTJhYTQyZTdkNDNmYTgxNTI5M2YyNjI5YTE4NjQgPSAkKGA8ZGl2IGlkPSJodG1sXzZlYmUyYWE0MmU3ZDQzZmE4MTUyOTNmMjYyOWExODY0IiBzdHlsZT0id2lkdGg6IDEwMC4wJTsgaGVpZ2h0OiAxMDAuMCU7Ij5GYWlybGF3biBDbHVzdGVyIDEgNC43MSBtaWxlczwvZGl2PmApWzBdOwogICAgICAgICAgICAgICAgcG9wdXBfZWY4YTczZTIxNWZjNDhmNTgwNTBhNGJmYjkxODQ0YTAuc2V0Q29udGVudChodG1sXzZlYmUyYWE0MmU3ZDQzZmE4MTUyOTNmMjYyOWExODY0KTsKICAgICAgICAgICAgCgogICAgICAgICAgICBjaXJjbGVfbWFya2VyXzg3MWY2YTVkODAxYzQyZGE5YjI3NzdjYjQ2MTBmN2FmLmJpbmRQb3B1cChwb3B1cF9lZjhhNzNlMjE1ZmM0OGY1ODA1MGE0YmZiOTE4NDRhMCkKICAgICAgICAgICAgOwoKICAgICAgICAgICAgCiAgICAgICAgCiAgICAKICAgICAgICAgICAgdmFyIGNpcmNsZV9tYXJrZXJfOWIzMTg3OTBiZmQ3NGE2ZWFkZjM0M2IxZmRiOTg1MTQgPSBMLmNpcmNsZU1hcmtlcigKICAgICAgICAgICAgICAgIFszNS4xMDg2MTQ5LCAtODkuODgwMzg0Nzk0OTA2NV0sCiAgICAgICAgICAgICAgICB7CiAgImJ1YmJsaW5nTW91c2VFdmVudHMiOiB0cnVlLAogICJjb2xvciI6ICIjODAwMGZmIiwKICAiZGFzaEFycmF5IjogbnVsbCwKICAiZGFzaE9mZnNldCI6IG51bGwsCiAgImZpbGwiOiB0cnVlLAogICJmaWxsQ29sb3IiOiAiIzgwMDBmZiIsCiAgImZpbGxPcGFjaXR5IjogMC43LAogICJmaWxsUnVsZSI6ICJldmVub2RkIiwKICAibGluZUNhcCI6ICJyb3VuZCIsCiAgImxpbmVKb2luIjogInJvdW5kIiwKICAib3BhY2l0eSI6IDEuMCwKICAicmFkaXVzIjogNSwKICAic3Ryb2tlIjogdHJ1ZSwKICAid2VpZ2h0IjogMwp9CiAgICAgICAgICAgICAgICApCiAgICAgICAgICAgICAgICAuYWRkVG8obWFwXzZiOGQyMzE1N2NmZTRkYjc4NzY2NDFkYjkwZTBlODY2KTsKICAgICAgICAgICAgCiAgICAKICAgICAgICAgICAgdmFyIHBvcHVwXzY4ZmM1OWQ5ZTFmMjRiM2VhNmNmNmM3NWY3MmRjOTNhID0gTC5wb3B1cCh7bWF4V2lkdGg6ICcxMDAlJwogICAgICAgICAgICAKICAgICAgICAgICAgfSk7CgogICAgICAgICAgICAKICAgICAgICAgICAgICAgIHZhciBodG1sX2VlOWVkYjE1YjdmNjRjNDU5ZDJkODE4MmQwOTJiOTU2ID0gJChgPGRpdiBpZD0iaHRtbF9lZTllZGIxNWI3ZjY0YzQ1OWQyZDgxODJkMDkyYjk1NiIgc3R5bGU9IndpZHRoOiAxMDAuMCU7IGhlaWdodDogMTAwLjAlOyI+TWFnbm9saWEgQ2x1c3RlciAxIDguNjMgbWlsZXM8L2Rpdj5gKVswXTsKICAgICAgICAgICAgICAgIHBvcHVwXzY4ZmM1OWQ5ZTFmMjRiM2VhNmNmNmM3NWY3MmRjOTNhLnNldENvbnRlbnQoaHRtbF9lZTllZGIxNWI3ZjY0YzQ1OWQyZDgxODJkMDkyYjk1Nik7CiAgICAgICAgICAgIAoKICAgICAgICAgICAgY2lyY2xlX21hcmtlcl85YjMxODc5MGJmZDc0YTZlYWRmMzQzYjFmZGI5ODUxNC5iaW5kUG9wdXAocG9wdXBfNjhmYzU5ZDllMWYyNGIzZWE2Y2Y2Yzc1ZjcyZGM5M2EpCiAgICAgICAgICAgIDsKCiAgICAgICAgICAgIAogICAgICAgIAogICAgCiAgICAgICAgICAgIHZhciBjaXJjbGVfbWFya2VyXzBiNDEyODFlMzc4ZTRmNTdiNGQ2OTk5YmYzNjc3ZmQ5ID0gTC5jaXJjbGVNYXJrZXIoCiAgICAgICAgICAgICAgICBbMzUuMTEwMjYyMSwgLTg5Ljk3ODA5MTY5NjA3MDZdLAogICAgICAgICAgICAgICAgewogICJidWJibGluZ01vdXNlRXZlbnRzIjogdHJ1ZSwKICAiY29sb3IiOiAiIzgwMDBmZiIsCiAgImRhc2hBcnJheSI6IG51bGwsCiAgImRhc2hPZmZzZXQiOiBudWxsLAogICJmaWxsIjogdHJ1ZSwKICAiZmlsbENvbG9yIjogIiM4MDAwZmYiLAogICJmaWxsT3BhY2l0eSI6IDAuNywKICAiZmlsbFJ1bGUiOiAiZXZlbm9kZCIsCiAgImxpbmVDYXAiOiAicm91bmQiLAogICJsaW5lSm9pbiI6ICJyb3VuZCIsCiAgIm9wYWNpdHkiOiAxLjAsCiAgInJhZGl1cyI6IDUsCiAgInN0cm9rZSI6IHRydWUsCiAgIndlaWdodCI6IDMKfQogICAgICAgICAgICAgICAgKQogICAgICAgICAgICAgICAgLmFkZFRvKG1hcF82YjhkMjMxNTdjZmU0ZGI3ODc2NjQxZGI5MGUwZTg2Nik7CiAgICAgICAgICAgIAogICAgCiAgICAgICAgICAgIHZhciBwb3B1cF9kODM5NDhmY2E4OWY0YWQ0OWUzYjM2OTQwZmEyNjUxNyA9IEwucG9wdXAoe21heFdpZHRoOiAnMTAwJScKICAgICAgICAgICAgCiAgICAgICAgICAgIH0pOwoKICAgICAgICAgICAgCiAgICAgICAgICAgICAgICB2YXIgaHRtbF84ZmJmYTQzOTA2OGM0Y2VjYmM4MDZhMjQwZjNiODY0NSA9ICQoYDxkaXYgaWQ9Imh0bWxfOGZiZmE0MzkwNjhjNGNlY2JjODA2YTI0MGYzYjg2NDUiIHN0eWxlPSJ3aWR0aDogMTAwLjAlOyBoZWlnaHQ6IDEwMC4wJTsiPk9yYW5nZSBNb3VuZCBDbHVzdGVyIDEgMy40NiBtaWxlczwvZGl2PmApWzBdOwogICAgICAgICAgICAgICAgcG9wdXBfZDgzOTQ4ZmNhODlmNGFkNDllM2IzNjk0MGZhMjY1MTcuc2V0Q29udGVudChodG1sXzhmYmZhNDM5MDY4YzRjZWNiYzgwNmEyNDBmM2I4NjQ1KTsKICAgICAgICAgICAgCgogICAgICAgICAgICBjaXJjbGVfbWFya2VyXzBiNDEyODFlMzc4ZTRmNTdiNGQ2OTk5YmYzNjc3ZmQ5LmJpbmRQb3B1cChwb3B1cF9kODM5NDhmY2E4OWY0YWQ0OWUzYjM2OTQwZmEyNjUxNykKICAgICAgICAgICAgOwoKICAgICAgICAgICAgCiAgICAgICAgCiAgICAKICAgICAgICAgICAgdmFyIGNpcmNsZV9tYXJrZXJfNzk4NWNmYzNkODliNGM5YWI1ODEwOWRjN2M5NDA0ZDEgPSBMLmNpcmNsZU1hcmtlcigKICAgICAgICAgICAgICAgIFszNS4wNjQyNTgsIC04OS45MDYxOTk0XSwKICAgICAgICAgICAgICAgIHsKICAiYnViYmxpbmdNb3VzZUV2ZW50cyI6IHRydWUsCiAgImNvbG9yIjogIiM4MDAwZmYiLAogICJkYXNoQXJyYXkiOiBudWxsLAogICJkYXNoT2Zmc2V0IjogbnVsbCwKICAiZmlsbCI6IHRydWUsCiAgImZpbGxDb2xvciI6ICIjODAwMGZmIiwKICAiZmlsbE9wYWNpdHkiOiAwLjcsCiAgImZpbGxSdWxlIjogImV2ZW5vZGQiLAogICJsaW5lQ2FwIjogInJvdW5kIiwKICAibGluZUpvaW4iOiAicm91bmQiLAogICJvcGFjaXR5IjogMS4wLAogICJyYWRpdXMiOiA1LAogICJzdHJva2UiOiB0cnVlLAogICJ3ZWlnaHQiOiAzCn0KICAgICAgICAgICAgICAgICkKICAgICAgICAgICAgICAgIC5hZGRUbyhtYXBfNmI4ZDIzMTU3Y2ZlNGRiNzg3NjY0MWRiOTBlMGU4NjYpOwogICAgICAgICAgICAKICAgIAogICAgICAgICAgICB2YXIgcG9wdXBfYjBlM2RkYTU5YjBmNGJkZWE2NjkxMjljYjRkNjJiZTQgPSBMLnBvcHVwKHttYXhXaWR0aDogJzEwMCUnCiAgICAgICAgICAgIAogICAgICAgICAgICB9KTsKCiAgICAgICAgICAgIAogICAgICAgICAgICAgICAgdmFyIGh0bWxfODI3OTFiNzY3ZjI0NDNlMGFmYjYwN2IyMmVkYzA2ZmYgPSAkKGA8ZGl2IGlkPSJodG1sXzgyNzkxYjc2N2YyNDQzZTBhZmI2MDdiMjJlZGMwNmZmIiBzdHlsZT0id2lkdGg6IDEwMC4wJTsgaGVpZ2h0OiAxMDAuMCU7Ij5QYXJrd2F5IFZpbGxhZ2UgQ2x1c3RlciAxIDguNjIgbWlsZXM8L2Rpdj5gKVswXTsKICAgICAgICAgICAgICAgIHBvcHVwX2IwZTNkZGE1OWIwZjRiZGVhNjY5MTI5Y2I0ZDYyYmU0LnNldENvbnRlbnQoaHRtbF84Mjc5MWI3NjdmMjQ0M2UwYWZiNjA3YjIyZWRjMDZmZik7CiAgICAgICAgICAgIAoKICAgICAgICAgICAgY2lyY2xlX21hcmtlcl83OTg1Y2ZjM2Q4OWI0YzlhYjU4MTA5ZGM3Yzk0MDRkMS5iaW5kUG9wdXAocG9wdXBfYjBlM2RkYTU5YjBmNGJkZWE2NjkxMjljYjRkNjJiZTQpCiAgICAgICAgICAgIDsKCiAgICAgICAgICAgIAogICAgICAgIAogICAgCiAgICAgICAgICAgIHZhciBjaXJjbGVfbWFya2VyXzRkMTBkZGFlNDI5YTQzNDJiNmQxNzZkYWFkOTQxN2M5ID0gTC5jaXJjbGVNYXJrZXIoCiAgICAgICAgICAgICAgICBbMzUuMDQ5NDI1ODUsIC04OS44MjIzMTYzNTA1ODQ4XSwKICAgICAgICAgICAgICAgIHsKICAiYnViYmxpbmdNb3VzZUV2ZW50cyI6IHRydWUsCiAgImNvbG9yIjogIiM4MDAwZmYiLAogICJkYXNoQXJyYXkiOiBudWxsLAogICJkYXNoT2Zmc2V0IjogbnVsbCwKICAiZmlsbCI6IHRydWUsCiAgImZpbGxDb2xvciI6ICIjODAwMGZmIiwKICAiZmlsbE9wYWNpdHkiOiAwLjcsCiAgImZpbGxSdWxlIjogImV2ZW5vZGQiLAogICJsaW5lQ2FwIjogInJvdW5kIiwKICAibGluZUpvaW4iOiAicm91bmQiLAogICJvcGFjaXR5IjogMS4wLAogICJyYWRpdXMiOiA1LAogICJzdHJva2UiOiB0cnVlLAogICJ3ZWlnaHQiOiAzCn0KICAgICAgICAgICAgICAgICkKICAgICAgICAgICAgICAgIC5hZGRUbyhtYXBfNmI4ZDIzMTU3Y2ZlNGRiNzg3NjY0MWRiOTBlMGU4NjYpOwogICAgICAgICAgICAKICAgIAogICAgICAgICAgICB2YXIgcG9wdXBfZGE3NjJkZGI0NTczNGJlNWE1MDg4YTQxN2ViNGI3MzAgPSBMLnBvcHVwKHttYXhXaWR0aDogJzEwMCUnCiAgICAgICAgICAgIAogICAgICAgICAgICB9KTsKCiAgICAgICAgICAgIAogICAgICAgICAgICAgICAgdmFyIGh0bWxfNTBlZmUxNDRjZGU0NDRlZWE4MjI3MDBjNGIzY2EzY2UgPSAkKGA8ZGl2IGlkPSJodG1sXzUwZWZlMTQ0Y2RlNDQ0ZWVhODIyNzAwYzRiM2NhM2NlIiBzdHlsZT0id2lkdGg6IDEwMC4wJTsgaGVpZ2h0OiAxMDAuMCU7Ij5SaXZlcmRhbGUgQ2x1c3RlciAxIDEzLjIgbWlsZXM8L2Rpdj5gKVswXTsKICAgICAgICAgICAgICAgIHBvcHVwX2RhNzYyZGRiNDU3MzRiZTVhNTA4OGE0MTdlYjRiNzMwLnNldENvbnRlbnQoaHRtbF81MGVmZTE0NGNkZTQ0NGVlYTgyMjcwMGM0YjNjYTNjZSk7CiAgICAgICAgICAgIAoKICAgICAgICAgICAgY2lyY2xlX21hcmtlcl80ZDEwZGRhZTQyOWE0MzQyYjZkMTc2ZGFhZDk0MTdjOS5iaW5kUG9wdXAocG9wdXBfZGE3NjJkZGI0NTczNGJlNWE1MDg4YTQxN2ViNGI3MzApCiAgICAgICAgICAgIDsKCiAgICAgICAgICAgIAogICAgICAgIAogICAgCiAgICAgICAgICAgIHZhciBjaXJjbGVfbWFya2VyXzhlMGViZGE3ZjA2YzRlZDlhNjU1ZTllMTZmMzUyZTJmID0gTC5jaXJjbGVNYXJrZXIoCiAgICAgICAgICAgICAgICBbMzUuMDUyMDM2MSwgLTg5Ljc5MDM2MzRdLAogICAgICAgICAgICAgICAgewogICJidWJibGluZ01vdXNlRXZlbnRzIjogdHJ1ZSwKICAiY29sb3IiOiAiIzgwMDBmZiIsCiAgImRhc2hBcnJheSI6IG51bGwsCiAgImRhc2hPZmZzZXQiOiBudWxsLAogICJmaWxsIjogdHJ1ZSwKICAiZmlsbENvbG9yIjogIiM4MDAwZmYiLAogICJmaWxsT3BhY2l0eSI6IDAuNywKICAiZmlsbFJ1bGUiOiAiZXZlbm9kZCIsCiAgImxpbmVDYXAiOiAicm91bmQiLAogICJsaW5lSm9pbiI6ICJyb3VuZCIsCiAgIm9wYWNpdHkiOiAxLjAsCiAgInJhZGl1cyI6IDUsCiAgInN0cm9rZSI6IHRydWUsCiAgIndlaWdodCI6IDMKfQogICAgICAgICAgICAgICAgKQogICAgICAgICAgICAgICAgLmFkZFRvKG1hcF82YjhkMjMxNTdjZmU0ZGI3ODc2NjQxZGI5MGUwZTg2Nik7CiAgICAgICAgICAgIAogICAgCiAgICAgICAgICAgIHZhciBwb3B1cF8wMjBlZDQ5YTUyNzA0NGZlOWUzNTVjODA3MWYzZjA2NCA9IEwucG9wdXAoe21heFdpZHRoOiAnMTAwJScKICAgICAgICAgICAgCiAgICAgICAgICAgIH0pOwoKICAgICAgICAgICAgCiAgICAgICAgICAgICAgICB2YXIgaHRtbF81ZGFmMjVhODNlNGE0ZmNmOWVjYjliZmRhZGMzYTM0MiA9ICQoYDxkaXYgaWQ9Imh0bWxfNWRhZjI1YTgzZTRhNGZjZjllY2I5YmZkYWRjM2EzNDIiIHN0eWxlPSJ3aWR0aDogMTAwLjAlOyBoZWlnaHQ6IDEwMC4wJTsiPlNvdXRod2luZCBDbHVzdGVyIDEgMTQuNzUgbWlsZXM8L2Rpdj5gKVswXTsKICAgICAgICAgICAgICAgIHBvcHVwXzAyMGVkNDlhNTI3MDQ0ZmU5ZTM1NWM4MDcxZjNmMDY0LnNldENvbnRlbnQoaHRtbF81ZGFmMjVhODNlNGE0ZmNmOWVjYjliZmRhZGMzYTM0Mik7CiAgICAgICAgICAgIAoKICAgICAgICAgICAgY2lyY2xlX21hcmtlcl84ZTBlYmRhN2YwNmM0ZWQ5YTY1NWU5ZTE2ZjM1MmUyZi5iaW5kUG9wdXAocG9wdXBfMDIwZWQ0OWE1MjcwNDRmZTllMzU1YzgwNzFmM2YwNjQpCiAgICAgICAgICAgIDsKCiAgICAgICAgICAgIAogICAgICAgIAogICAgCiAgICAgICAgICAgIHZhciBjaXJjbGVfbWFya2VyX2ExZjE0ZWRhYjlkNDQ3OTZhNWNmMzgzODdhZTgxMWQ5ID0gTC5jaXJjbGVNYXJrZXIoCiAgICAgICAgICAgICAgICBbMzUuMTIwNTU2MzUsIC04OS45ODAzMDQ5MDgyODA1XSwKICAgICAgICAgICAgICAgIHsKICAiYnViYmxpbmdNb3VzZUV2ZW50cyI6IHRydWUsCiAgImNvbG9yIjogIiM4MDAwZmYiLAogICJkYXNoQXJyYXkiOiBudWxsLAogICJkYXNoT2Zmc2V0IjogbnVsbCwKICAiZmlsbCI6IHRydWUsCiAgImZpbGxDb2xvciI6ICIjODAwMGZmIiwKICAiZmlsbE9wYWNpdHkiOiAwLjcsCiAgImZpbGxSdWxlIjogImV2ZW5vZGQiLAogICJsaW5lQ2FwIjogInJvdW5kIiwKICAibGluZUpvaW4iOiAicm91bmQiLAogICJvcGFjaXR5IjogMS4wLAogICJyYWRpdXMiOiA1LAogICJzdHJva2UiOiB0cnVlLAogICJ3ZWlnaHQiOiAzCn0KICAgICAgICAgICAgICAgICkKICAgICAgICAgICAgICAgIC5hZGRUbyhtYXBfNmI4ZDIzMTU3Y2ZlNGRiNzg3NjY0MWRiOTBlMGU4NjYpOwogICAgICAgICAgICAKICAgIAogICAgICAgICAgICB2YXIgcG9wdXBfNTkxY2IzYzg3MzFkNDA1MWJiZjQyYjRmZWUxNTJkZDggPSBMLnBvcHVwKHttYXhXaWR0aDogJzEwMCUnCiAgICAgICAgICAgIAogICAgICAgICAgICB9KTsKCiAgICAgICAgICAgIAogICAgICAgICAgICAgICAgdmFyIGh0bWxfYmU5ZTg5ZWUwNjRmNDk4MGJjMzEzNGY5YWFlOTE0MGMgPSAkKGA8ZGl2IGlkPSJodG1sX2JlOWU4OWVlMDY0ZjQ5ODBiYzMxMzRmOWFhZTkxNDBjIiBzdHlsZT0id2lkdGg6IDEwMC4wJTsgaGVpZ2h0OiAxMDAuMCU7Ij5GYWlyZ3JvdW5kcyBDbHVzdGVyIDEgMi45OSBtaWxlczwvZGl2PmApWzBdOwogICAgICAgICAgICAgICAgcG9wdXBfNTkxY2IzYzg3MzFkNDA1MWJiZjQyYjRmZWUxNTJkZDguc2V0Q29udGVudChodG1sX2JlOWU4OWVlMDY0ZjQ5ODBiYzMxMzRmOWFhZTkxNDBjKTsKICAgICAgICAgICAgCgogICAgICAgICAgICBjaXJjbGVfbWFya2VyX2ExZjE0ZWRhYjlkNDQ3OTZhNWNmMzgzODdhZTgxMWQ5LmJpbmRQb3B1cChwb3B1cF81OTFjYjNjODczMWQ0MDUxYmJmNDJiNGZlZTE1MmRkOCkKICAgICAgICAgICAgOwoKICAgICAgICAgICAgCiAgICAgICAgCiAgICAKICAgICAgICAgICAgdmFyIGNpcmNsZV9tYXJrZXJfMGFjYzM0ODkwZmU5NGY2MTlmZDk2MmRmMTk1MDhkY2MgPSBMLmNpcmNsZU1hcmtlcigKICAgICAgICAgICAgICAgIFszNS4xMTUwNDExLCAtOTAuMDAyMjE2MDU1NDk4NV0sCiAgICAgICAgICAgICAgICB7CiAgImJ1YmJsaW5nTW91c2VFdmVudHMiOiB0cnVlLAogICJjb2xvciI6ICIjODAwMGZmIiwKICAiZGFzaEFycmF5IjogbnVsbCwKICAiZGFzaE9mZnNldCI6IG51bGwsCiAgImZpbGwiOiB0cnVlLAogICJmaWxsQ29sb3IiOiAiIzgwMDBmZiIsCiAgImZpbGxPcGFjaXR5IjogMC43LAogICJmaWxsUnVsZSI6ICJldmVub2RkIiwKICAibGluZUNhcCI6ICJyb3VuZCIsCiAgImxpbmVKb2luIjogInJvdW5kIiwKICAib3BhY2l0eSI6IDEuMCwKICAicmFkaXVzIjogNSwKICAic3Ryb2tlIjogdHJ1ZSwKICAid2VpZ2h0IjogMwp9CiAgICAgICAgICAgICAgICApCiAgICAgICAgICAgICAgICAuYWRkVG8obWFwXzZiOGQyMzE1N2NmZTRkYjc4NzY2NDFkYjkwZTBlODY2KTsKICAgICAgICAgICAgCiAgICAKICAgICAgICAgICAgdmFyIHBvcHVwX2RjMDBmOGYyNDMzZTQ3YzhhNTNhODZiMjZmMjExZGQwID0gTC5wb3B1cCh7bWF4V2lkdGg6ICcxMDAlJwogICAgICAgICAgICAKICAgICAgICAgICAgfSk7CgogICAgICAgICAgICAKICAgICAgICAgICAgICAgIHZhciBodG1sXzhjOTQ2ZTYyOTgyMDRiMjQ4NzI2NjJkMjI4YzYyNGFkID0gJChgPGRpdiBpZD0iaHRtbF84Yzk0NmU2Mjk4MjA0YjI0ODcyNjYyZDIyOGM2MjRhZCIgc3R5bGU9IndpZHRoOiAxMDAuMCU7IGhlaWdodDogMTAwLjAlOyI+R2xlbnZpZXcgQ2x1c3RlciAxIDIuMjEgbWlsZXM8L2Rpdj5gKVswXTsKICAgICAgICAgICAgICAgIHBvcHVwX2RjMDBmOGYyNDMzZTQ3YzhhNTNhODZiMjZmMjExZGQwLnNldENvbnRlbnQoaHRtbF84Yzk0NmU2Mjk4MjA0YjI0ODcyNjYyZDIyOGM2MjRhZCk7CiAgICAgICAgICAgIAoKICAgICAgICAgICAgY2lyY2xlX21hcmtlcl8wYWNjMzQ4OTBmZTk0ZjYxOWZkOTYyZGYxOTUwOGRjYy5iaW5kUG9wdXAocG9wdXBfZGMwMGY4ZjI0MzNlNDdjOGE1M2E4NmIyNmYyMTFkZDApCiAgICAgICAgICAgIDsKCiAgICAgICAgICAgIAogICAgICAgIAogICAgCiAgICAgICAgICAgIHZhciBjaXJjbGVfbWFya2VyXzIyMzg3ZWM5NjA0NjQ4YmJhZTQ0NzQ5OGYwYmNjZmVhID0gTC5jaXJjbGVNYXJrZXIoCiAgICAgICAgICAgICAgICBbMzUuMTQ4NzYzMywgLTkwLjA0NTQ3NDRdLAogICAgICAgICAgICAgICAgewogICJidWJibGluZ01vdXNlRXZlbnRzIjogdHJ1ZSwKICAiY29sb3IiOiAiIzgwMDBmZiIsCiAgImRhc2hBcnJheSI6IG51bGwsCiAgImRhc2hPZmZzZXQiOiBudWxsLAogICJmaWxsIjogdHJ1ZSwKICAiZmlsbENvbG9yIjogIiM4MDAwZmYiLAogICJmaWxsT3BhY2l0eSI6IDAuNywKICAiZmlsbFJ1bGUiOiAiZXZlbm9kZCIsCiAgImxpbmVDYXAiOiAicm91bmQiLAogICJsaW5lSm9pbiI6ICJyb3VuZCIsCiAgIm9wYWNpdHkiOiAxLjAsCiAgInJhZGl1cyI6IDUsCiAgInN0cm9rZSI6IHRydWUsCiAgIndlaWdodCI6IDMKfQogICAgICAgICAgICAgICAgKQogICAgICAgICAgICAgICAgLmFkZFRvKG1hcF82YjhkMjMxNTdjZmU0ZGI3ODc2NjQxZGI5MGUwZTg2Nik7CiAgICAgICAgICAgIAogICAgCiAgICAgICAgICAgIHZhciBwb3B1cF9lMTVjMTQyM2I4NTY0ZTg5OTYwNTkxNDVjMzEyMzNkMSA9IEwucG9wdXAoe21heFdpZHRoOiAnMTAwJScKICAgICAgICAgICAgCiAgICAgICAgICAgIH0pOwoKICAgICAgICAgICAgCiAgICAgICAgICAgICAgICB2YXIgaHRtbF8xNWNkNTE5ZTZhODU0NDMyYjBhYTlkNGYzYzk1N2ZhNiA9ICQoYDxkaXYgaWQ9Imh0bWxfMTVjZDUxOWU2YTg1NDQzMmIwYWE5ZDRmM2M5NTdmYTYiIHN0eWxlPSJ3aWR0aDogMTAwLjAlOyBoZWlnaHQ6IDEwMC4wJTsiPlBvcGxhciBBdmVudWUgQ2x1c3RlciAxIDEuMTkgbWlsZXM8L2Rpdj5gKVswXTsKICAgICAgICAgICAgICAgIHBvcHVwX2UxNWMxNDIzYjg1NjRlODk5NjA1OTE0NWMzMTIzM2QxLnNldENvbnRlbnQoaHRtbF8xNWNkNTE5ZTZhODU0NDMyYjBhYTlkNGYzYzk1N2ZhNik7CiAgICAgICAgICAgIAoKICAgICAgICAgICAgY2lyY2xlX21hcmtlcl8yMjM4N2VjOTYwNDY0OGJiYWU0NDc0OThmMGJjY2ZlYS5iaW5kUG9wdXAocG9wdXBfZTE1YzE0MjNiODU2NGU4OTk2MDU5MTQ1YzMxMjMzZDEpCiAgICAgICAgICAgIDsKCiAgICAgICAgICAgIAogICAgICAgIAo8L3NjcmlwdD4=\" style=\"position:absolute;width:100%;height:100%;left:0;top:0;border:none !important;\" allowfullscreen webkitallowfullscreen mozallowfullscreen></iframe></div></div>"
            ],
            "text/plain": [
              "<folium.folium.Map at 0x7fbae48e6860>"
            ]
          },
          "metadata": {
            "tags": []
          },
          "execution_count": 138
        }
      ]
    },
    {
      "cell_type": "code",
      "metadata": {
        "id": "J8QTMFAKt4Bt",
        "colab_type": "code",
        "colab": {}
      },
      "source": [
        "# Following wikipedia page has all the neighborhood data. Let's use Beautiful Soup to get the required data.\n",
        "url = 'https://en.wikipedia.org/wiki/List_of_neighborhoods_of_St._Louis'\n",
        "source = rs.get(url)\n",
        "soup = bs(source.content,'lxml')\n",
        " # print(soup.prettify())"
      ],
      "execution_count": 0,
      "outputs": []
    },
    {
      "cell_type": "code",
      "metadata": {
        "id": "hBzvmi-8t4Bv",
        "colab_type": "code",
        "outputId": "8c7d1082-9646-49cd-ecf1-132cf323b55e",
        "colab": {
          "base_uri": "https://localhost:8080/",
          "height": 261
        }
      },
      "source": [
        "contents = soup.body.findAll('table')\n",
        "\n",
        "#print(contents)\n",
        "\n",
        "# Variables to store data\n",
        "column_titles = []\n",
        "\n",
        "table_data = []\n",
        "# Table data\n",
        "for trtag in contents[1].findAll('tr'):\n",
        "    #print(trtag)\n",
        "    #print(trtag.text)\n",
        "    #column_titles.append(trtag.text.strip())'\n",
        "    #print('zzz')\n",
        "    data_row = trtag.text.strip()\n",
        "    data_row = data_row.split('\\n')\n",
        "    #data_row = data_row.replace(\"\\n\",\",\")\n",
        "    #print(data_row)\n",
        "    table_data.append(data_row)\n",
        "\n",
        "# First line is column titles\n",
        "column_titles = table_data[0]\n",
        "del(table_data[0]) # Remove firt line from the table data\n",
        "\n",
        "#print(column_titles)\n",
        "#print(table_data)\n",
        "\n",
        "st_louis_df = pd.DataFrame(table_data, columns = column_titles)\n",
        "# pd.DataFrame(neighborhood, columns=['Burrow','Neighborhood'])\n",
        "\n",
        "st_louis_df.head()\n"
      ],
      "execution_count": 0,
      "outputs": [
        {
          "output_type": "execute_result",
          "data": {
            "text/html": [
              "<div>\n",
              "<style scoped>\n",
              "    .dataframe tbody tr th:only-of-type {\n",
              "        vertical-align: middle;\n",
              "    }\n",
              "\n",
              "    .dataframe tbody tr th {\n",
              "        vertical-align: top;\n",
              "    }\n",
              "\n",
              "    .dataframe thead th {\n",
              "        text-align: right;\n",
              "    }\n",
              "</style>\n",
              "<table border=\"1\" class=\"dataframe\">\n",
              "  <thead>\n",
              "    <tr style=\"text-align: right;\">\n",
              "      <th></th>\n",
              "      <th>Neighborhood</th>\n",
              "      <th>Population</th>\n",
              "      <th>White</th>\n",
              "      <th>Black</th>\n",
              "      <th>Hispanic/Latino2</th>\n",
              "      <th>AIAN1</th>\n",
              "      <th>Asian</th>\n",
              "      <th>Mixed Race</th>\n",
              "      <th>Corridor</th>\n",
              "    </tr>\n",
              "  </thead>\n",
              "  <tbody>\n",
              "    <tr>\n",
              "      <th>0</th>\n",
              "      <td>Academy</td>\n",
              "      <td>3,006</td>\n",
              "      <td>16.9</td>\n",
              "      <td>54.7</td>\n",
              "      <td>20.5</td>\n",
              "      <td>1.52</td>\n",
              "      <td>4.3</td>\n",
              "      <td>3.5</td>\n",
              "      <td>North</td>\n",
              "    </tr>\n",
              "    <tr>\n",
              "      <th>1</th>\n",
              "      <td>Baden</td>\n",
              "      <td>7,268</td>\n",
              "      <td>6.3</td>\n",
              "      <td>91.8</td>\n",
              "      <td>0.5</td>\n",
              "      <td>0.1</td>\n",
              "      <td>0</td>\n",
              "      <td>1.3</td>\n",
              "      <td>North</td>\n",
              "    </tr>\n",
              "    <tr>\n",
              "      <th>2</th>\n",
              "      <td>Benton Park</td>\n",
              "      <td>3,532</td>\n",
              "      <td>68.2</td>\n",
              "      <td>25.1</td>\n",
              "      <td>3.2</td>\n",
              "      <td>0.3</td>\n",
              "      <td>1.2</td>\n",
              "      <td>3.8</td>\n",
              "      <td>South</td>\n",
              "    </tr>\n",
              "    <tr>\n",
              "      <th>3</th>\n",
              "      <td>Benton Park West</td>\n",
              "      <td>4,404</td>\n",
              "      <td>28.0</td>\n",
              "      <td>59.6</td>\n",
              "      <td>10.5</td>\n",
              "      <td>0</td>\n",
              "      <td>1.9</td>\n",
              "      <td>5.1</td>\n",
              "      <td>South</td>\n",
              "    </tr>\n",
              "    <tr>\n",
              "      <th>4</th>\n",
              "      <td>Bevo Mill</td>\n",
              "      <td>12,654</td>\n",
              "      <td>74.2</td>\n",
              "      <td>13.8</td>\n",
              "      <td>7.5</td>\n",
              "      <td>0.4</td>\n",
              "      <td>4.6</td>\n",
              "      <td>3.9</td>\n",
              "      <td>South</td>\n",
              "    </tr>\n",
              "  </tbody>\n",
              "</table>\n",
              "</div>"
            ],
            "text/plain": [
              "       Neighborhood Population White Black  ... AIAN1 Asian Mixed Race Corridor\n",
              "0           Academy      3,006  16.9  54.7  ...  1.52   4.3        3.5    North\n",
              "1             Baden      7,268   6.3  91.8  ...   0.1     0        1.3    North\n",
              "2       Benton Park      3,532  68.2  25.1  ...   0.3   1.2        3.8    South\n",
              "3  Benton Park West      4,404  28.0  59.6  ...     0   1.9        5.1    South\n",
              "4         Bevo Mill     12,654  74.2  13.8  ...   0.4   4.6        3.9    South\n",
              "\n",
              "[5 rows x 9 columns]"
            ]
          },
          "metadata": {
            "tags": []
          },
          "execution_count": 28
        }
      ]
    },
    {
      "cell_type": "code",
      "metadata": {
        "id": "-zJTf6MEt4By",
        "colab_type": "code",
        "outputId": "8d51035b-b763-41b7-ba05-e4f49a16c6ca",
        "colab": {
          "base_uri": "https://localhost:8080/",
          "height": 34
        }
      },
      "source": [
        "# How many neighborhoods (There suppose to be 79 neighborhoods, Yes, I counted number of neighborhoods in the wiki page)\n",
        "st_louis_df.shape"
      ],
      "execution_count": 0,
      "outputs": [
        {
          "output_type": "execute_result",
          "data": {
            "text/plain": [
              "(79, 9)"
            ]
          },
          "metadata": {
            "tags": []
          },
          "execution_count": 29
        }
      ]
    },
    {
      "cell_type": "code",
      "metadata": {
        "id": "FF_WkHGjt4B0",
        "colab_type": "code",
        "outputId": "6b3a0d14-772f-4649-9bb5-d13bc4667963",
        "colab": {
          "base_uri": "https://localhost:8080/",
          "height": 408
        }
      },
      "source": [
        "# Covert the numbers to numbers\n",
        "print(\"Before...\")\n",
        "print(st_louis_df.dtypes)\n",
        "st_louis_df.Population = st_louis_df.Population.str.replace(',', '')\n",
        "st_louis_df.Population = pd.to_numeric(st_louis_df.Population)\n",
        "st_louis_df.White = pd.to_numeric(st_louis_df.White)\n",
        "st_louis_df.Black = pd.to_numeric(st_louis_df.Black)\n",
        "st_louis_df[\"Hispanic/Latino2\"] = pd.to_numeric(st_louis_df[\"Hispanic/Latino2\"])\n",
        "st_louis_df.AIAN1 = pd.to_numeric(st_louis_df.AIAN1)\n",
        "st_louis_df.Asian = pd.to_numeric(st_louis_df.Asian)\n",
        "st_louis_df[\"Mixed Race\"] = pd.to_numeric(st_louis_df[\"Mixed Race\"])\n",
        "\n",
        "print(\"\\n Now...\")\n",
        "print(st_louis_df.dtypes)"
      ],
      "execution_count": 0,
      "outputs": [
        {
          "output_type": "stream",
          "text": [
            "Before...\n",
            "Neighborhood        object\n",
            "Population          object\n",
            "White               object\n",
            "Black               object\n",
            "Hispanic/Latino2    object\n",
            "AIAN1               object\n",
            "Asian               object\n",
            "Mixed Race          object\n",
            "Corridor            object\n",
            "dtype: object\n",
            "\n",
            " Now...\n",
            "Neighborhood         object\n",
            "Population            int64\n",
            "White               float64\n",
            "Black               float64\n",
            "Hispanic/Latino2    float64\n",
            "AIAN1               float64\n",
            "Asian               float64\n",
            "Mixed Race          float64\n",
            "Corridor             object\n",
            "dtype: object\n"
          ],
          "name": "stdout"
        }
      ]
    },
    {
      "cell_type": "code",
      "metadata": {
        "id": "B2dXvgRft4B3",
        "colab_type": "code",
        "outputId": "931fc624-98ca-4b3f-f441-bc73b76b202b",
        "colab": {
          "base_uri": "https://localhost:8080/",
          "height": 261
        }
      },
      "source": [
        "st_louis_df.head()"
      ],
      "execution_count": 0,
      "outputs": [
        {
          "output_type": "execute_result",
          "data": {
            "text/html": [
              "<div>\n",
              "<style scoped>\n",
              "    .dataframe tbody tr th:only-of-type {\n",
              "        vertical-align: middle;\n",
              "    }\n",
              "\n",
              "    .dataframe tbody tr th {\n",
              "        vertical-align: top;\n",
              "    }\n",
              "\n",
              "    .dataframe thead th {\n",
              "        text-align: right;\n",
              "    }\n",
              "</style>\n",
              "<table border=\"1\" class=\"dataframe\">\n",
              "  <thead>\n",
              "    <tr style=\"text-align: right;\">\n",
              "      <th></th>\n",
              "      <th>Neighborhood</th>\n",
              "      <th>Population</th>\n",
              "      <th>White</th>\n",
              "      <th>Black</th>\n",
              "      <th>Hispanic/Latino2</th>\n",
              "      <th>AIAN1</th>\n",
              "      <th>Asian</th>\n",
              "      <th>Mixed Race</th>\n",
              "      <th>Corridor</th>\n",
              "    </tr>\n",
              "  </thead>\n",
              "  <tbody>\n",
              "    <tr>\n",
              "      <th>0</th>\n",
              "      <td>Academy</td>\n",
              "      <td>3006</td>\n",
              "      <td>16.9</td>\n",
              "      <td>54.7</td>\n",
              "      <td>20.5</td>\n",
              "      <td>1.52</td>\n",
              "      <td>4.3</td>\n",
              "      <td>3.5</td>\n",
              "      <td>North</td>\n",
              "    </tr>\n",
              "    <tr>\n",
              "      <th>1</th>\n",
              "      <td>Baden</td>\n",
              "      <td>7268</td>\n",
              "      <td>6.3</td>\n",
              "      <td>91.8</td>\n",
              "      <td>0.5</td>\n",
              "      <td>0.10</td>\n",
              "      <td>0.0</td>\n",
              "      <td>1.3</td>\n",
              "      <td>North</td>\n",
              "    </tr>\n",
              "    <tr>\n",
              "      <th>2</th>\n",
              "      <td>Benton Park</td>\n",
              "      <td>3532</td>\n",
              "      <td>68.2</td>\n",
              "      <td>25.1</td>\n",
              "      <td>3.2</td>\n",
              "      <td>0.30</td>\n",
              "      <td>1.2</td>\n",
              "      <td>3.8</td>\n",
              "      <td>South</td>\n",
              "    </tr>\n",
              "    <tr>\n",
              "      <th>3</th>\n",
              "      <td>Benton Park West</td>\n",
              "      <td>4404</td>\n",
              "      <td>28.0</td>\n",
              "      <td>59.6</td>\n",
              "      <td>10.5</td>\n",
              "      <td>0.00</td>\n",
              "      <td>1.9</td>\n",
              "      <td>5.1</td>\n",
              "      <td>South</td>\n",
              "    </tr>\n",
              "    <tr>\n",
              "      <th>4</th>\n",
              "      <td>Bevo Mill</td>\n",
              "      <td>12654</td>\n",
              "      <td>74.2</td>\n",
              "      <td>13.8</td>\n",
              "      <td>7.5</td>\n",
              "      <td>0.40</td>\n",
              "      <td>4.6</td>\n",
              "      <td>3.9</td>\n",
              "      <td>South</td>\n",
              "    </tr>\n",
              "  </tbody>\n",
              "</table>\n",
              "</div>"
            ],
            "text/plain": [
              "       Neighborhood  Population  White  ...  Asian  Mixed Race  Corridor\n",
              "0           Academy        3006   16.9  ...    4.3         3.5     North\n",
              "1             Baden        7268    6.3  ...    0.0         1.3     North\n",
              "2       Benton Park        3532   68.2  ...    1.2         3.8     South\n",
              "3  Benton Park West        4404   28.0  ...    1.9         5.1     South\n",
              "4         Bevo Mill       12654   74.2  ...    4.6         3.9     South\n",
              "\n",
              "[5 rows x 9 columns]"
            ]
          },
          "metadata": {
            "tags": []
          },
          "execution_count": 31
        }
      ]
    },
    {
      "cell_type": "code",
      "metadata": {
        "id": "F8kJzJLGt4B5",
        "colab_type": "code",
        "outputId": "d37f8ce2-3f75-462a-97a9-2b687b7c4e08",
        "colab": {
          "base_uri": "https://localhost:8080/",
          "height": 190
        }
      },
      "source": [
        "# Which region is popular for different ethnic groups?\n",
        "st_louis_mean_demogra = st_louis_df.groupby('Corridor').mean()\n",
        "st_louis_mean_demogra.drop(\"Population\", axis = 1, inplace = True)\n",
        "st_louis_mean_demogra"
      ],
      "execution_count": 0,
      "outputs": [
        {
          "output_type": "execute_result",
          "data": {
            "text/html": [
              "<div>\n",
              "<style scoped>\n",
              "    .dataframe tbody tr th:only-of-type {\n",
              "        vertical-align: middle;\n",
              "    }\n",
              "\n",
              "    .dataframe tbody tr th {\n",
              "        vertical-align: top;\n",
              "    }\n",
              "\n",
              "    .dataframe thead th {\n",
              "        text-align: right;\n",
              "    }\n",
              "</style>\n",
              "<table border=\"1\" class=\"dataframe\">\n",
              "  <thead>\n",
              "    <tr style=\"text-align: right;\">\n",
              "      <th></th>\n",
              "      <th>White</th>\n",
              "      <th>Black</th>\n",
              "      <th>Hispanic/Latino2</th>\n",
              "      <th>AIAN1</th>\n",
              "      <th>Asian</th>\n",
              "      <th>Mixed Race</th>\n",
              "    </tr>\n",
              "    <tr>\n",
              "      <th>Corridor</th>\n",
              "      <th></th>\n",
              "      <th></th>\n",
              "      <th></th>\n",
              "      <th></th>\n",
              "      <th></th>\n",
              "      <th></th>\n",
              "    </tr>\n",
              "  </thead>\n",
              "  <tbody>\n",
              "    <tr>\n",
              "      <th>Central</th>\n",
              "      <td>51.820000</td>\n",
              "      <td>40.145000</td>\n",
              "      <td>2.645000</td>\n",
              "      <td>0.210000</td>\n",
              "      <td>4.640000</td>\n",
              "      <td>2.500000</td>\n",
              "    </tr>\n",
              "    <tr>\n",
              "      <th>North</th>\n",
              "      <td>7.148387</td>\n",
              "      <td>88.912903</td>\n",
              "      <td>2.306452</td>\n",
              "      <td>0.239355</td>\n",
              "      <td>0.435484</td>\n",
              "      <td>1.470968</td>\n",
              "    </tr>\n",
              "    <tr>\n",
              "      <th>South</th>\n",
              "      <td>64.967857</td>\n",
              "      <td>27.175000</td>\n",
              "      <td>4.625000</td>\n",
              "      <td>0.292857</td>\n",
              "      <td>2.389286</td>\n",
              "      <td>3.403571</td>\n",
              "    </tr>\n",
              "  </tbody>\n",
              "</table>\n",
              "</div>"
            ],
            "text/plain": [
              "              White      Black  ...     Asian  Mixed Race\n",
              "Corridor                        ...                      \n",
              "Central   51.820000  40.145000  ...  4.640000    2.500000\n",
              "North      7.148387  88.912903  ...  0.435484    1.470968\n",
              "South     64.967857  27.175000  ...  2.389286    3.403571\n",
              "\n",
              "[3 rows x 6 columns]"
            ]
          },
          "metadata": {
            "tags": []
          },
          "execution_count": 32
        }
      ]
    },
    {
      "cell_type": "markdown",
      "metadata": {
        "id": "rDjFKCJMt4B7",
        "colab_type": "text"
      },
      "source": [
        "It looks like most white popole live in South side has more white people, north side is dominated by black people, Asian tends to go in the Central reagin. Let's try to see this graphically."
      ]
    },
    {
      "cell_type": "code",
      "metadata": {
        "id": "0n63V5q2t4B8",
        "colab_type": "code",
        "outputId": "5337643c-62b7-42f8-bbb9-a6d696832b5d",
        "colab": {
          "base_uri": "https://localhost:8080/",
          "height": 309
        }
      },
      "source": [
        "ax = st_louis_mean_demogra.plot.bar()\n",
        "ax.set_ylabel('Population percentage')\n",
        "ax.legend(bbox_to_anchor=(1, 1.))\n",
        "ax.spines['right'].set_visible(False)\n",
        "ax.spines['top'].set_visible(False)"
      ],
      "execution_count": 0,
      "outputs": [
        {
          "output_type": "display_data",
          "data": {
            "image/png": "[encoded data removed]",
            "text/plain": [
              "<Figure size 432x288 with 1 Axes>"
            ]
          },
          "metadata": {
            "tags": []
          }
        }
      ]
    },
    {
      "cell_type": "code",
      "metadata": {
        "id": "FiZ7TqDft4B-",
        "colab_type": "code",
        "outputId": "3c4e89c6-1513-4f84-cac6-f7dcad513750",
        "colab": {
          "base_uri": "https://localhost:8080/",
          "height": 272
        }
      },
      "source": [
        "# Get the latitude and logitude of the each neighborhood\n",
        "geolocator = Nominatim(user_agent=\"foursquare_agent\", format_string=\"%s, St. Louis\" )\n",
        "\n",
        "Lat = []\n",
        "Lon =[]\n",
        "address = []\n",
        "distance_to_work = []\n",
        "\n",
        "# Latitude longitude for the prospective work place in St. Louis\n",
        "Lat0 = 38.625145\n",
        "Lon0 = -90.191127\n",
        "\n",
        "for i in range(st_louis_df.shape[0]):\n",
        "    try:\n",
        "        location = geolocator.geocode(st_louis_df['Neighborhood'][i])\n",
        "        print('.', end = ' ')\n",
        "    except:\n",
        "        location = None\n",
        "    \n",
        "    if location != None:\n",
        "        Lat.append(location.latitude)\n",
        "        Lon.append(location.longitude)\n",
        "        address.append(location.address)\n",
        "        distance_to_work.append(find_distance(location.latitude,location.longitude,Lat0, Lon0))\n",
        "    else:\n",
        "        Lat.append('NaN')\n",
        "        Lon.append('NaN')\n",
        "        address.append('NaN')\n",
        "        distance_to_work.append('NaN')\n",
        "\n",
        "print('Done!')"
      ],
      "execution_count": 0,
      "outputs": [
        {
          "output_type": "stream",
          "text": [
            ". "
          ],
          "name": "stdout"
        },
        {
          "output_type": "error",
          "ename": "NameError",
          "evalue": "ignored",
          "traceback": [
            "\u001b[0;31m---------------------------------------------------------------------------\u001b[0m",
            "\u001b[0;31mNameError\u001b[0m                                 Traceback (most recent call last)",
            "\u001b[0;32m<ipython-input-34-e1064ce8f5a0>\u001b[0m in \u001b[0;36m<module>\u001b[0;34m()\u001b[0m\n\u001b[1;32m     21\u001b[0m         \u001b[0mLon\u001b[0m\u001b[0;34m.\u001b[0m\u001b[0mappend\u001b[0m\u001b[0;34m(\u001b[0m\u001b[0mlocation\u001b[0m\u001b[0;34m.\u001b[0m\u001b[0mlongitude\u001b[0m\u001b[0;34m)\u001b[0m\u001b[0;34m\u001b[0m\u001b[0;34m\u001b[0m\u001b[0m\n\u001b[1;32m     22\u001b[0m         \u001b[0maddress\u001b[0m\u001b[0;34m.\u001b[0m\u001b[0mappend\u001b[0m\u001b[0;34m(\u001b[0m\u001b[0mlocation\u001b[0m\u001b[0;34m.\u001b[0m\u001b[0maddress\u001b[0m\u001b[0;34m)\u001b[0m\u001b[0;34m\u001b[0m\u001b[0;34m\u001b[0m\u001b[0m\n\u001b[0;32m---> 23\u001b[0;31m         \u001b[0mdistance_to_work\u001b[0m\u001b[0;34m.\u001b[0m\u001b[0mappend\u001b[0m\u001b[0;34m(\u001b[0m\u001b[0mfind_distance\u001b[0m\u001b[0;34m(\u001b[0m\u001b[0mlocation\u001b[0m\u001b[0;34m.\u001b[0m\u001b[0mlatitude\u001b[0m\u001b[0;34m,\u001b[0m\u001b[0mlocation\u001b[0m\u001b[0;34m.\u001b[0m\u001b[0mlongitude\u001b[0m\u001b[0;34m,\u001b[0m\u001b[0mLat0\u001b[0m\u001b[0;34m,\u001b[0m \u001b[0mLon0\u001b[0m\u001b[0;34m)\u001b[0m\u001b[0;34m)\u001b[0m\u001b[0;34m\u001b[0m\u001b[0;34m\u001b[0m\u001b[0m\n\u001b[0m\u001b[1;32m     24\u001b[0m     \u001b[0;32melse\u001b[0m\u001b[0;34m:\u001b[0m\u001b[0;34m\u001b[0m\u001b[0;34m\u001b[0m\u001b[0m\n\u001b[1;32m     25\u001b[0m         \u001b[0mLat\u001b[0m\u001b[0;34m.\u001b[0m\u001b[0mappend\u001b[0m\u001b[0;34m(\u001b[0m\u001b[0;34m'NaN'\u001b[0m\u001b[0;34m)\u001b[0m\u001b[0;34m\u001b[0m\u001b[0;34m\u001b[0m\u001b[0m\n",
            "\u001b[0;31mNameError\u001b[0m: name 'find_distance' is not defined"
          ]
        }
      ]
    },
    {
      "cell_type": "code",
      "metadata": {
        "id": "_uoua87Ct4B_",
        "colab_type": "code",
        "colab": {}
      },
      "source": [
        "# Add lat lon to the data frame\n",
        "st_louis_df['Latitude'] = Lat\n",
        "st_louis_df['Longitude'] = Lon\n",
        "st_louis_df['Address'] = address\n",
        "st_louis_df['miles_to_work'] = distance_to_work\n",
        "st_louis_df.head()"
      ],
      "execution_count": 0,
      "outputs": []
    },
    {
      "cell_type": "code",
      "metadata": {
        "id": "Yrv8-DJft4CB",
        "colab_type": "code",
        "colab": {}
      },
      "source": [
        ""
      ],
      "execution_count": 0,
      "outputs": []
    },
    {
      "cell_type": "code",
      "metadata": {
        "id": "DYZpElo8t4CD",
        "colab_type": "code",
        "colab": {}
      },
      "source": [
        "st_louis_venues = getNearbyVenues(names=st_louis_df['Neighborhood'],\n",
        "                                    latitudes = st_louis_df['Latitude'], longitudes = st_louis_df['Longitude'])"
      ],
      "execution_count": 0,
      "outputs": []
    },
    {
      "cell_type": "code",
      "metadata": {
        "id": "I59V3KNnt4CI",
        "colab_type": "code",
        "colab": {}
      },
      "source": [
        "st_louis_venues.groupby('Neighborhood').count()"
      ],
      "execution_count": 0,
      "outputs": []
    },
    {
      "cell_type": "code",
      "metadata": {
        "id": "4HqKTUUut4CK",
        "colab_type": "code",
        "colab": {}
      },
      "source": [
        "print('There are {} uniques categories.'.format(len(Memphis_venues['Venue Category'].unique())))"
      ],
      "execution_count": 0,
      "outputs": []
    },
    {
      "cell_type": "markdown",
      "metadata": {
        "id": "NH6PeSGNt4CT",
        "colab_type": "text"
      },
      "source": [
        "### Analyze each neighborhood"
      ]
    },
    {
      "cell_type": "code",
      "metadata": {
        "id": "vpA5KCmEt4CU",
        "colab_type": "code",
        "colab": {}
      },
      "source": [
        "# one hot encoding\n",
        "st_louis_onehot = pd.get_dummies(st_louis_venues[['Venue Category']], prefix=\"\", prefix_sep=\"\")\n",
        "\n",
        "# add neighbourhood column back to dataframe\n",
        "st_louis_onehot['Neighborhood'] = st_louis_venues['Neighborhood'] \n",
        "\n",
        "# move neighborhood column to the first column\n",
        "fixed_columns = [st_louis_onehot.columns[-1]] + list(st_louis_onehot.columns[:-1])\n",
        "st_louis_onehot = st_louis_onehot[fixed_columns]\n",
        "\n",
        "st_louis_onehot.head()"
      ],
      "execution_count": 0,
      "outputs": []
    },
    {
      "cell_type": "code",
      "metadata": {
        "id": "KyiSbbzlt4CX",
        "colab_type": "code",
        "colab": {}
      },
      "source": [
        "st_louis_grouped = st_louis_onehot.groupby('Neighborhood').mean().reset_index()\n",
        "st_louis_grouped.head()"
      ],
      "execution_count": 0,
      "outputs": []
    },
    {
      "cell_type": "code",
      "metadata": {
        "id": "Tn7l_pdZt4CZ",
        "colab_type": "code",
        "colab": {}
      },
      "source": [
        "num_top_venues = 5\n",
        "\n",
        "for hood in st_louis_grouped['Neighborhood']:\n",
        "    print(\"----\"+hood+\"----\")\n",
        "    temp = st_louis_grouped[st_louis_grouped['Neighborhood'] == hood].T.reset_index()\n",
        "    temp.columns = ['venue','freq']\n",
        "    temp = temp.iloc[1:]\n",
        "    temp['freq'] = temp['freq'].astype(float)\n",
        "    temp = temp.round({'freq': 2})\n",
        "    print(temp.sort_values('freq', ascending=False).reset_index(drop=True).head(num_top_venues))\n",
        "    print('\\n')"
      ],
      "execution_count": 0,
      "outputs": []
    },
    {
      "cell_type": "code",
      "metadata": {
        "id": "KwlIhUH9t4Cb",
        "colab_type": "code",
        "colab": {}
      },
      "source": [
        "num_top_venues = 10\n",
        "\n",
        "indicators = ['st', 'nd', 'rd']\n",
        "\n",
        "# create columns according to number of top venues\n",
        "columns = ['Neighborhood']\n",
        "for ind in np.arange(num_top_venues):\n",
        "    try:\n",
        "        columns.append('{}{} Most Common Venue'.format(ind+1, indicators[ind]))\n",
        "    except:\n",
        "        columns.append('{}th Most Common Venue'.format(ind+1))\n",
        "\n",
        "# create a new dataframe\n",
        "neighborhoods_venues_sorted = pd.DataFrame(columns=columns)\n",
        "neighborhoods_venues_sorted['Neighborhood'] = st_louis_grouped['Neighborhood']\n",
        "\n",
        "for ind in np.arange(Memphis_grouped.shape[0]):\n",
        "    neighborhoods_venues_sorted.iloc[ind, 1:] = return_most_common_venues(st_louis_grouped.iloc[ind, :], num_top_venues)\n",
        "\n",
        "neighborhoods_venues_sorted.head()"
      ],
      "execution_count": 0,
      "outputs": []
    },
    {
      "cell_type": "code",
      "metadata": {
        "id": "JjENBE3_t4Cd",
        "colab_type": "code",
        "colab": {}
      },
      "source": [
        "# set number of clusters\n",
        "kclusters = 5\n",
        "Memphis_grouped_clustering = st_louis_grouped.drop('Neighborhood', 1)\n",
        "\n",
        "# run k-means clustering\n",
        "kmeans = KMeans(n_clusters=kclusters, random_state=0).fit(Memphis_grouped_clustering)\n",
        "\n",
        "# check cluster labels generated for each row in the dataframe\n",
        "kmeans.labels_"
      ],
      "execution_count": 0,
      "outputs": []
    },
    {
      "cell_type": "code",
      "metadata": {
        "id": "9EXvmHdHt4Cf",
        "colab_type": "code",
        "colab": {}
      },
      "source": [
        "try:\n",
        "    neighborhoods_venues_sorted.drop('Cluster Labels', axis=1)   \n",
        "except:\n",
        "    neighborhoods_venues_sorted.insert(0, 'Cluster Labels', kmeans.labels_) # Uncomment this when run first time\n",
        "\n",
        "st_louis_merged = st_louis_df\n",
        "\n",
        "# merge toronto_grouped with toronto_data to add latitude/longitude for each neighborhood\n",
        "st_louis_merged = st_louis_merged.join(neighborhoods_venues_sorted.set_index('Neighborhood'), on='Neighborhood')\n",
        "\n",
        "#Memphis_merged.head() # check the last columns!\n",
        "\n",
        "# Drop the rows with no cluster labels\n",
        "st_louis_merged.dropna(inplace=True)\n",
        "\n",
        "st_louis_merged"
      ],
      "execution_count": 0,
      "outputs": []
    },
    {
      "cell_type": "code",
      "metadata": {
        "scrolled": true,
        "id": "FXkCv85ht4Ch",
        "colab_type": "code",
        "colab": {}
      },
      "source": [
        "# create map\n",
        "\n",
        "# lat lon for toronto\n",
        "latitude = Lat0\n",
        "longitude = Lon0\n",
        "\n",
        "map_clusters = folium.Map(location=[latitude, longitude], zoom_start=11)\n",
        "\n",
        "\n",
        "# set color scheme for the clusters\n",
        "x = np.arange(kclusters)\n",
        "ys = [i + x + (i*x)**2 for i in range(kclusters)]\n",
        "colors_array = cm.rainbow(np.linspace(0, 1, len(ys)))\n",
        "rainbow = [colors.rgb2hex(i) for i in colors_array]\n",
        "\n",
        "Memphis_merged\n",
        "\n",
        "# add markers to the map\n",
        "#markers_colors = []\n",
        "for lat, lon, poi, cluster, miles in zip(st_louis_merged['Latitude'], st_louis_merged['Longitude'], st_louis_merged['Neighborhood'], st_louis_merged['Cluster Labels'].astype('int'),st_louis_merged['miles_to_work']):\n",
        "    miles = str(round(float(miles),1))\n",
        "    label = folium.Popup(str(poi)  + ' Cluster ' + str(cluster) + \" \" + miles + \" miles\", parse_html=True)\n",
        "    #label = folium.Popup(str(poi))\n",
        "    \n",
        "    #print(label.dtype())\n",
        "    try:\n",
        "        folium.CircleMarker(\n",
        "            [lat, lon],\n",
        "            radius=5,\n",
        "            popup=label,\n",
        "            color=rainbow[cluster-1],\n",
        "            fill=True,\n",
        "            fill_color=rainbow[cluster-1],\n",
        "            fill_opacity=0.7).add_to(map_clusters) \n",
        "    except:\n",
        "        pass\n",
        "       \n",
        "map_clusters"
      ],
      "execution_count": 0,
      "outputs": []
    },
    {
      "cell_type": "code",
      "metadata": {
        "id": "MJQTHxeDt4Ck",
        "colab_type": "code",
        "colab": {}
      },
      "source": [
        "x = 'a'"
      ],
      "execution_count": 0,
      "outputs": []
    },
    {
      "cell_type": "code",
      "metadata": {
        "id": "DrswjMqOt4Cl",
        "colab_type": "code",
        "colab": {}
      },
      "source": [
        "print(x[0])"
      ],
      "execution_count": 0,
      "outputs": []
    },
    {
      "cell_type": "code",
      "metadata": {
        "id": "jTGDwgFkt4Cn",
        "colab_type": "code",
        "colab": {}
      },
      "source": [
        "x = 'ab'"
      ],
      "execution_count": 0,
      "outputs": []
    },
    {
      "cell_type": "code",
      "metadata": {
        "id": "y8S3gc2Lt4Cr",
        "colab_type": "code",
        "colab": {}
      },
      "source": [
        "print(x[0:1+1])"
      ],
      "execution_count": 0,
      "outputs": []
    },
    {
      "cell_type": "code",
      "metadata": {
        "id": "CaksUUREt4Ct",
        "colab_type": "code",
        "colab": {}
      },
      "source": [
        ""
      ],
      "execution_count": 0,
      "outputs": []
    },
    {
      "cell_type": "code",
      "metadata": {
        "id": "cjJOq0mqt4Cv",
        "colab_type": "code",
        "colab": {}
      },
      "source": [
        ""
      ],
      "execution_count": 0,
      "outputs": []
    },
    {
      "cell_type": "code",
      "metadata": {
        "id": "KKxdmKbJt4Cw",
        "colab_type": "code",
        "colab": {}
      },
      "source": [
        ""
      ],
      "execution_count": 0,
      "outputs": []
    },
    {
      "cell_type": "code",
      "metadata": {
        "id": "AbKgvJS4t4Cy",
        "colab_type": "code",
        "colab": {}
      },
      "source": [
        ""
      ],
      "execution_count": 0,
      "outputs": []
    },
    {
      "cell_type": "code",
      "metadata": {
        "id": "2knckjoxt4Cz",
        "colab_type": "code",
        "colab": {}
      },
      "source": [
        ""
      ],
      "execution_count": 0,
      "outputs": []
    },
    {
      "cell_type": "code",
      "metadata": {
        "id": "sfpyoFemt4C0",
        "colab_type": "code",
        "colab": {}
      },
      "source": [
        ""
      ],
      "execution_count": 0,
      "outputs": []
    },
    {
      "cell_type": "code",
      "metadata": {
        "id": "OV4nxK-tt4C2",
        "colab_type": "code",
        "colab": {}
      },
      "source": [
        ""
      ],
      "execution_count": 0,
      "outputs": []
    },
    {
      "cell_type": "code",
      "metadata": {
        "id": "2GIaFeddt4C3",
        "colab_type": "code",
        "colab": {}
      },
      "source": [
        ""
      ],
      "execution_count": 0,
      "outputs": []
    },
    {
      "cell_type": "code",
      "metadata": {
        "id": "j2FSWW_qt4C5",
        "colab_type": "code",
        "colab": {}
      },
      "source": [
        ""
      ],
      "execution_count": 0,
      "outputs": []
    },
    {
      "cell_type": "code",
      "metadata": {
        "id": "H_s856qkt4C8",
        "colab_type": "code",
        "colab": {}
      },
      "source": [
        ""
      ],
      "execution_count": 0,
      "outputs": []
    },
    {
      "cell_type": "code",
      "metadata": {
        "id": "sY6pE9u0t4C-",
        "colab_type": "code",
        "colab": {}
      },
      "source": [
        ""
      ],
      "execution_count": 0,
      "outputs": []
    },
    {
      "cell_type": "code",
      "metadata": {
        "id": "xwFO3Lfut4DC",
        "colab_type": "code",
        "colab": {}
      },
      "source": [
        ""
      ],
      "execution_count": 0,
      "outputs": []
    },
    {
      "cell_type": "code",
      "metadata": {
        "id": "VRnEsZYit4DE",
        "colab_type": "code",
        "colab": {}
      },
      "source": [
        ""
      ],
      "execution_count": 0,
      "outputs": []
    },
    {
      "cell_type": "code",
      "metadata": {
        "id": "JR_04OjBt4DF",
        "colab_type": "code",
        "colab": {}
      },
      "source": [
        ""
      ],
      "execution_count": 0,
      "outputs": []
    },
    {
      "cell_type": "code",
      "metadata": {
        "id": "WUaUC2MZt4DH",
        "colab_type": "code",
        "colab": {}
      },
      "source": [
        ""
      ],
      "execution_count": 0,
      "outputs": []
    },
    {
      "cell_type": "code",
      "metadata": {
        "id": "IvgsdzPXt4DK",
        "colab_type": "code",
        "colab": {}
      },
      "source": [
        ""
      ],
      "execution_count": 0,
      "outputs": []
    },
    {
      "cell_type": "code",
      "metadata": {
        "id": "t8YfVO6vt4DM",
        "colab_type": "code",
        "colab": {}
      },
      "source": [
        ""
      ],
      "execution_count": 0,
      "outputs": []
    },
    {
      "cell_type": "code",
      "metadata": {
        "id": "i8dkS-k1t4DO",
        "colab_type": "code",
        "colab": {}
      },
      "source": [
        ""
      ],
      "execution_count": 0,
      "outputs": []
    },
    {
      "cell_type": "code",
      "metadata": {
        "id": "RO-SXExmt4DP",
        "colab_type": "code",
        "colab": {}
      },
      "source": [
        ""
      ],
      "execution_count": 0,
      "outputs": []
    },
    {
      "cell_type": "code",
      "metadata": {
        "id": "gcNhfL7Ut4DS",
        "colab_type": "code",
        "colab": {}
      },
      "source": [
        ""
      ],
      "execution_count": 0,
      "outputs": []
    },
    {
      "cell_type": "code",
      "metadata": {
        "id": "v7GbR3Oyt4DU",
        "colab_type": "code",
        "colab": {}
      },
      "source": [
        ""
      ],
      "execution_count": 0,
      "outputs": []
    },
    {
      "cell_type": "code",
      "metadata": {
        "id": "p02rap79t4DX",
        "colab_type": "code",
        "colab": {}
      },
      "source": [
        ""
      ],
      "execution_count": 0,
      "outputs": []
    },
    {
      "cell_type": "code",
      "metadata": {
        "id": "R1Bh4JLKt4DY",
        "colab_type": "code",
        "colab": {}
      },
      "source": [
        ""
      ],
      "execution_count": 0,
      "outputs": []
    },
    {
      "cell_type": "code",
      "metadata": {
        "id": "7iiutgzUt4Da",
        "colab_type": "code",
        "colab": {}
      },
      "source": [
        ""
      ],
      "execution_count": 0,
      "outputs": []
    },
    {
      "cell_type": "code",
      "metadata": {
        "id": "rHSMOtAtt4Db",
        "colab_type": "code",
        "colab": {}
      },
      "source": [
        ""
      ],
      "execution_count": 0,
      "outputs": []
    },
    {
      "cell_type": "code",
      "metadata": {
        "id": "a3SfFTUPt4De",
        "colab_type": "code",
        "colab": {}
      },
      "source": [
        ""
      ],
      "execution_count": 0,
      "outputs": []
    },
    {
      "cell_type": "code",
      "metadata": {
        "id": "ZJLPZBfut4Di",
        "colab_type": "code",
        "colab": {}
      },
      "source": [
        ""
      ],
      "execution_count": 0,
      "outputs": []
    },
    {
      "cell_type": "code",
      "metadata": {
        "id": "RBAe1Vayt4Dj",
        "colab_type": "code",
        "colab": {}
      },
      "source": [
        ""
      ],
      "execution_count": 0,
      "outputs": []
    },
    {
      "cell_type": "code",
      "metadata": {
        "id": "3dDO1kjLt4Dl",
        "colab_type": "code",
        "colab": {}
      },
      "source": [
        ""
      ],
      "execution_count": 0,
      "outputs": []
    },
    {
      "cell_type": "code",
      "metadata": {
        "id": "bT3K_Gbkt4Dm",
        "colab_type": "code",
        "colab": {}
      },
      "source": [
        ""
      ],
      "execution_count": 0,
      "outputs": []
    },
    {
      "cell_type": "code",
      "metadata": {
        "id": "K3-t5W3zt4Do",
        "colab_type": "code",
        "colab": {}
      },
      "source": [
        ""
      ],
      "execution_count": 0,
      "outputs": []
    },
    {
      "cell_type": "code",
      "metadata": {
        "id": "kVftIX99t4Ds",
        "colab_type": "code",
        "colab": {}
      },
      "source": [
        ""
      ],
      "execution_count": 0,
      "outputs": []
    },
    {
      "cell_type": "code",
      "metadata": {
        "id": "OIXaCOodt4Du",
        "colab_type": "code",
        "colab": {}
      },
      "source": [
        ""
      ],
      "execution_count": 0,
      "outputs": []
    },
    {
      "cell_type": "code",
      "metadata": {
        "id": "cPk3o5kot4Dx",
        "colab_type": "code",
        "colab": {}
      },
      "source": [
        ""
      ],
      "execution_count": 0,
      "outputs": []
    },
    {
      "cell_type": "code",
      "metadata": {
        "id": "F4hQgUpft4Dz",
        "colab_type": "code",
        "colab": {}
      },
      "source": [
        ""
      ],
      "execution_count": 0,
      "outputs": []
    },
    {
      "cell_type": "code",
      "metadata": {
        "id": "fy59RxYwt4D0",
        "colab_type": "code",
        "colab": {}
      },
      "source": [
        ""
      ],
      "execution_count": 0,
      "outputs": []
    },
    {
      "cell_type": "code",
      "metadata": {
        "id": "lWO-8Hhgt4D7",
        "colab_type": "code",
        "colab": {}
      },
      "source": [
        ""
      ],
      "execution_count": 0,
      "outputs": []
    },
    {
      "cell_type": "code",
      "metadata": {
        "id": "ujK5Hvq5t4D-",
        "colab_type": "code",
        "colab": {}
      },
      "source": [
        ""
      ],
      "execution_count": 0,
      "outputs": []
    },
    {
      "cell_type": "code",
      "metadata": {
        "id": "ET1TLE2At4EB",
        "colab_type": "code",
        "colab": {}
      },
      "source": [
        ""
      ],
      "execution_count": 0,
      "outputs": []
    },
    {
      "cell_type": "code",
      "metadata": {
        "id": "JUYGZYdVt4ED",
        "colab_type": "code",
        "colab": {}
      },
      "source": [
        ""
      ],
      "execution_count": 0,
      "outputs": []
    },
    {
      "cell_type": "code",
      "metadata": {
        "id": "bC9GgM55t4EE",
        "colab_type": "code",
        "colab": {}
      },
      "source": [
        ""
      ],
      "execution_count": 0,
      "outputs": []
    },
    {
      "cell_type": "code",
      "metadata": {
        "id": "cmO0FhCyt4EF",
        "colab_type": "code",
        "colab": {}
      },
      "source": [
        ""
      ],
      "execution_count": 0,
      "outputs": []
    },
    {
      "cell_type": "code",
      "metadata": {
        "id": "DUAm8ODYt4EG",
        "colab_type": "code",
        "colab": {}
      },
      "source": [
        ""
      ],
      "execution_count": 0,
      "outputs": []
    },
    {
      "cell_type": "code",
      "metadata": {
        "id": "ByVZLLjrt4EH",
        "colab_type": "code",
        "colab": {}
      },
      "source": [
        ""
      ],
      "execution_count": 0,
      "outputs": []
    },
    {
      "cell_type": "code",
      "metadata": {
        "id": "1K3eBp-Gt4EJ",
        "colab_type": "code",
        "colab": {}
      },
      "source": [
        ""
      ],
      "execution_count": 0,
      "outputs": []
    },
    {
      "cell_type": "code",
      "metadata": {
        "id": "sH9o2Cflt4EK",
        "colab_type": "code",
        "colab": {}
      },
      "source": [
        ""
      ],
      "execution_count": 0,
      "outputs": []
    },
    {
      "cell_type": "code",
      "metadata": {
        "id": "l2ACiu14t4EL",
        "colab_type": "code",
        "colab": {}
      },
      "source": [
        ""
      ],
      "execution_count": 0,
      "outputs": []
    },
    {
      "cell_type": "code",
      "metadata": {
        "id": "DE4yqamet4EM",
        "colab_type": "code",
        "colab": {}
      },
      "source": [
        ""
      ],
      "execution_count": 0,
      "outputs": []
    },
    {
      "cell_type": "code",
      "metadata": {
        "id": "0uKGhTPmt4EN",
        "colab_type": "code",
        "colab": {}
      },
      "source": [
        ""
      ],
      "execution_count": 0,
      "outputs": []
    },
    {
      "cell_type": "code",
      "metadata": {
        "id": "VhcFGh_0t4EO",
        "colab_type": "code",
        "colab": {}
      },
      "source": [
        ""
      ],
      "execution_count": 0,
      "outputs": []
    },
    {
      "cell_type": "code",
      "metadata": {
        "id": "JrXBc9nft4EP",
        "colab_type": "code",
        "colab": {}
      },
      "source": [
        ""
      ],
      "execution_count": 0,
      "outputs": []
    },
    {
      "cell_type": "code",
      "metadata": {
        "id": "iOLiyiRJt4EP",
        "colab_type": "code",
        "colab": {}
      },
      "source": [
        ""
      ],
      "execution_count": 0,
      "outputs": []
    },
    {
      "cell_type": "code",
      "metadata": {
        "id": "PeFVOkC7t4EQ",
        "colab_type": "code",
        "colab": {}
      },
      "source": [
        ""
      ],
      "execution_count": 0,
      "outputs": []
    },
    {
      "cell_type": "code",
      "metadata": {
        "id": "io_10rnjt4ER",
        "colab_type": "code",
        "colab": {}
      },
      "source": [
        ""
      ],
      "execution_count": 0,
      "outputs": []
    },
    {
      "cell_type": "code",
      "metadata": {
        "id": "FXSzzhknt4ET",
        "colab_type": "code",
        "colab": {}
      },
      "source": [
        ""
      ],
      "execution_count": 0,
      "outputs": []
    },
    {
      "cell_type": "code",
      "metadata": {
        "id": "jDY8_m_Gt4EU",
        "colab_type": "code",
        "colab": {}
      },
      "source": [
        ""
      ],
      "execution_count": 0,
      "outputs": []
    },
    {
      "cell_type": "code",
      "metadata": {
        "id": "KbwkU6Vpt4EV",
        "colab_type": "code",
        "colab": {}
      },
      "source": [
        ""
      ],
      "execution_count": 0,
      "outputs": []
    },
    {
      "cell_type": "code",
      "metadata": {
        "id": "uHFwxgWot4EW",
        "colab_type": "code",
        "colab": {}
      },
      "source": [
        ""
      ],
      "execution_count": 0,
      "outputs": []
    },
    {
      "cell_type": "code",
      "metadata": {
        "id": "kf_7vGMwt4EX",
        "colab_type": "code",
        "colab": {}
      },
      "source": [
        ""
      ],
      "execution_count": 0,
      "outputs": []
    },
    {
      "cell_type": "code",
      "metadata": {
        "id": "f0gde6Mot4EZ",
        "colab_type": "code",
        "colab": {}
      },
      "source": [
        ""
      ],
      "execution_count": 0,
      "outputs": []
    },
    {
      "cell_type": "code",
      "metadata": {
        "id": "PRdWbhV2t4Eb",
        "colab_type": "code",
        "colab": {}
      },
      "source": [
        ""
      ],
      "execution_count": 0,
      "outputs": []
    },
    {
      "cell_type": "code",
      "metadata": {
        "id": "iDoaErRmt4Ec",
        "colab_type": "code",
        "colab": {}
      },
      "source": [
        ""
      ],
      "execution_count": 0,
      "outputs": []
    },
    {
      "cell_type": "code",
      "metadata": {
        "id": "VP1HN09mt4Ed",
        "colab_type": "code",
        "colab": {}
      },
      "source": [
        ""
      ],
      "execution_count": 0,
      "outputs": []
    },
    {
      "cell_type": "code",
      "metadata": {
        "id": "0rpbOhgmt4Ee",
        "colab_type": "code",
        "colab": {}
      },
      "source": [
        ""
      ],
      "execution_count": 0,
      "outputs": []
    },
    {
      "cell_type": "code",
      "metadata": {
        "id": "YbzTaecAt4Eg",
        "colab_type": "code",
        "colab": {}
      },
      "source": [
        ""
      ],
      "execution_count": 0,
      "outputs": []
    },
    {
      "cell_type": "code",
      "metadata": {
        "id": "Im94dUrLt4Eh",
        "colab_type": "code",
        "colab": {}
      },
      "source": [
        ""
      ],
      "execution_count": 0,
      "outputs": []
    },
    {
      "cell_type": "code",
      "metadata": {
        "id": "7qkCmQVvt4Ei",
        "colab_type": "code",
        "colab": {}
      },
      "source": [
        ""
      ],
      "execution_count": 0,
      "outputs": []
    },
    {
      "cell_type": "code",
      "metadata": {
        "id": "nTldDTfIt4Ej",
        "colab_type": "code",
        "colab": {}
      },
      "source": [
        ""
      ],
      "execution_count": 0,
      "outputs": []
    },
    {
      "cell_type": "code",
      "metadata": {
        "id": "aoadiWVJt4Ek",
        "colab_type": "code",
        "colab": {}
      },
      "source": [
        ""
      ],
      "execution_count": 0,
      "outputs": []
    },
    {
      "cell_type": "code",
      "metadata": {
        "id": "ZWh0UPHnt4Em",
        "colab_type": "code",
        "colab": {}
      },
      "source": [
        ""
      ],
      "execution_count": 0,
      "outputs": []
    },
    {
      "cell_type": "code",
      "metadata": {
        "id": "u38hwqeSt4En",
        "colab_type": "code",
        "colab": {}
      },
      "source": [
        ""
      ],
      "execution_count": 0,
      "outputs": []
    },
    {
      "cell_type": "code",
      "metadata": {
        "id": "1mEA2lwot4Et",
        "colab_type": "code",
        "colab": {}
      },
      "source": [
        ""
      ],
      "execution_count": 0,
      "outputs": []
    },
    {
      "cell_type": "code",
      "metadata": {
        "id": "t5kI9Qmnt4Eu",
        "colab_type": "code",
        "colab": {}
      },
      "source": [
        ""
      ],
      "execution_count": 0,
      "outputs": []
    },
    {
      "cell_type": "code",
      "metadata": {
        "id": "ZNTbT5dat4Ew",
        "colab_type": "code",
        "colab": {}
      },
      "source": [
        ""
      ],
      "execution_count": 0,
      "outputs": []
    },
    {
      "cell_type": "code",
      "metadata": {
        "id": "UlWzpcY7t4Ey",
        "colab_type": "code",
        "colab": {}
      },
      "source": [
        ""
      ],
      "execution_count": 0,
      "outputs": []
    },
    {
      "cell_type": "code",
      "metadata": {
        "id": "LE-dB3e4t4Ez",
        "colab_type": "code",
        "colab": {}
      },
      "source": [
        ""
      ],
      "execution_count": 0,
      "outputs": []
    },
    {
      "cell_type": "code",
      "metadata": {
        "id": "0GsM8aM8t4E0",
        "colab_type": "code",
        "colab": {}
      },
      "source": [
        ""
      ],
      "execution_count": 0,
      "outputs": []
    },
    {
      "cell_type": "code",
      "metadata": {
        "id": "6aEg7vCqt4E1",
        "colab_type": "code",
        "colab": {}
      },
      "source": [
        ""
      ],
      "execution_count": 0,
      "outputs": []
    },
    {
      "cell_type": "code",
      "metadata": {
        "id": "Ade8i--Ct4E2",
        "colab_type": "code",
        "colab": {}
      },
      "source": [
        ""
      ],
      "execution_count": 0,
      "outputs": []
    },
    {
      "cell_type": "code",
      "metadata": {
        "id": "DACdYq_It4E3",
        "colab_type": "code",
        "colab": {}
      },
      "source": [
        ""
      ],
      "execution_count": 0,
      "outputs": []
    },
    {
      "cell_type": "code",
      "metadata": {
        "id": "r3unewHOt4E4",
        "colab_type": "code",
        "colab": {}
      },
      "source": [
        ""
      ],
      "execution_count": 0,
      "outputs": []
    },
    {
      "cell_type": "code",
      "metadata": {
        "id": "0IYM5zOwt4E5",
        "colab_type": "code",
        "colab": {}
      },
      "source": [
        ""
      ],
      "execution_count": 0,
      "outputs": []
    },
    {
      "cell_type": "code",
      "metadata": {
        "id": "1Sa2gHGft4E8",
        "colab_type": "code",
        "colab": {}
      },
      "source": [
        ""
      ],
      "execution_count": 0,
      "outputs": []
    },
    {
      "cell_type": "code",
      "metadata": {
        "id": "4py0I1Ibt4E-",
        "colab_type": "code",
        "colab": {}
      },
      "source": [
        ""
      ],
      "execution_count": 0,
      "outputs": []
    },
    {
      "cell_type": "code",
      "metadata": {
        "id": "YZWhR3MBt4FC",
        "colab_type": "code",
        "colab": {}
      },
      "source": [
        ""
      ],
      "execution_count": 0,
      "outputs": []
    },
    {
      "cell_type": "code",
      "metadata": {
        "id": "gGMxb3GOt4FD",
        "colab_type": "code",
        "colab": {}
      },
      "source": [
        ""
      ],
      "execution_count": 0,
      "outputs": []
    },
    {
      "cell_type": "code",
      "metadata": {
        "id": "ryd8qb9Vt4FE",
        "colab_type": "code",
        "colab": {}
      },
      "source": [
        ""
      ],
      "execution_count": 0,
      "outputs": []
    },
    {
      "cell_type": "code",
      "metadata": {
        "id": "_HuW2XpjGl6h",
        "colab_type": "code",
        "colab": {}
      },
      "source": [
        ""
      ],
      "execution_count": 0,
      "outputs": []
    }
  ]
}