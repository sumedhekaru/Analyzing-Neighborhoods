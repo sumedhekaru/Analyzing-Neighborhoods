{
    "nbformat_minor": 1, 
    "cells": [
        {
            "source": "# Final Project - Caursera Data Science\n## Finding the best neighbourhood\nThis notebook is mainly used for Coursera Capstone final project. I live on the west side of the city of Toronto in Canada. I love my current neighborhood, mainly because of all the great amenities and other types of venues that exist in the neighborhood, such as gourmet fast food joints, pharmacies, parks, grad schools and so on. I received a new job offer from a great company on the other side of the city with great career prospects. However given the far distance from my current place I  unfortunately must move. So this notebook will help me to choose the best neighborhood based on all the properties and amandeties around it.", 
            "cell_type": "markdown", 
            "metadata": {
                "collapsed": true
            }
        }, 
        {
            "execution_count": 1, 
            "cell_type": "code", 
            "metadata": {}, 
            "outputs": [], 
            "source": "# Import needed libraries\nimport pandas as pd\nimport numpy as np"
        }, 
        {
            "execution_count": 2, 
            "cell_type": "code", 
            "metadata": {}, 
            "outputs": [
                {
                    "output_type": "stream", 
                    "name": "stdout", 
                    "text": "Hello Capstone Project Course!\n"
                }
            ], 
            "source": "print(\"Hello Capstone Project Course!\")"
        }
    ], 
    "metadata": {
        "kernelspec": {
            "display_name": "Python 3.6", 
            "name": "python3", 
            "language": "python"
        }, 
        "language_info": {
            "mimetype": "text/x-python", 
            "nbconvert_exporter": "python", 
            "version": "3.6.8", 
            "name": "python", 
            "file_extension": ".py", 
            "pygments_lexer": "ipython3", 
            "codemirror_mode": {
                "version": 3, 
                "name": "ipython"
            }
        }
    }, 
    "nbformat": 4
}