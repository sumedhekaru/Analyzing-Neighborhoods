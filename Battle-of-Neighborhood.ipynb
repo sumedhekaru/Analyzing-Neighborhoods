{
    "nbformat_minor": 1, 
    "cells": [
        {
            "source": "# Caursera Capstone Project - Battle of Neighborhood\nThis is the capstone project created to fulfill the requirements of the Data Science Professional Certificate offered by IBM through Coursera. The idea is to use the techniques learned throughout the specialization to solve a real-world problem using data science. ", 
            "cell_type": "markdown", 
            "metadata": {
                "collapsed": true
            }
        }, 
        {
            "source": "## Contents\n### 1. Introduction - Five Ws\n&emsp; 1.1 What is the problem? <br>\n&emsp; 1.2 Where is this? <br>\n&emsp; 1.3 When is this applicable? <br>\n&emsp; 1.4 Why do we do this? <br>\n&emsp; 1.5 Who cares? <br>\n\n### 2. Data Selection and clean up\n", 
            "cell_type": "markdown", 
            "metadata": {}
        }, 
        {
            "source": "## Contents\n### 1. Introduction - Five Ws\n#### &emsp; 1.1 What is the problem?\nI work in downtown Memphis, TN. In general, I live 30 mins away from work, when there is no traffic. However, since I am commuting when most of the people are commuting to there work, there is almost always traffic on the roads. So it is easily 45-60 mins one-way trip. Being optimistic, considering one-way is 45 mins, it is 90 mins for a round trip. For a week with 5 workdays,  it is 7.5 hours, for a month it is 30 hours, for a year it is 16 days. So for a given year, I am wasting full 16 days counting days and nights riding my car wasting my time. \n\n**So the problem is, where I should move to save some time from driving but still have good amenities such as restaurants, cafes, parks, shopping, etc within reachable distance.**\n\n#### &emsp; 1.2 Where is this?\nIt is Memphis, Tennesse, where birds sing and elephants bath, just kidding. But it is definitely is a fantastic place to live. There are tons of things to do around here. The population was roughly 700 k and rising. The job market is good. Most people are friendly. You should have some BBQs around the town, you won't leave Memphis.\n\n#### &emsp; 1.3 When is this applicable?\nI know this is a changing world! The time will change everything. The time of this analysis is August 2019. So don't blame me if you decided to move based on this data analysis in 2050. But the good thing is, I developed the program to pull the latest data. So if you re-run the program in 2050, you should be (may be...) fine? \n\n#### &emsp; 1.4 Why do we do this?\nIt is to primarily to save time. I am spending so much time on the road, 16 full days per year! just to commute.  People say time is money. So it is to save me some money. I am sure if you are in the same boat, following this, you might able to save some money with this. Who doesn't like saving money for next cruise trip? Waight, is someone paying me when I save my own time? Ney.. I will use this saved time to play with my daughters. Not everything is money. I think I have bipolar disorder.\n\n#### &emsp; 1.5 Who cares?\nDo you even here me? It is to save money (really the time). If you are someone who cares about saving money (time), you should read. If you have plenty of those lying around that you don't know what to do, this is not for you. You should spend some money buying a boat and traveling the world instead of reading this. \n", 
            "cell_type": "markdown", 
            "metadata": {}
        }, 
        {
            "source": "## 2. Data Selection and clean up\nObviously, we need data to analyze. This section will gather all the required data and do the clean-up job so that the data are usable. ", 
            "cell_type": "markdown", 
            "metadata": {}
        }, 
        {
            "source": "### 2.1 Load the required libraries.\nI will start by importing some libraries. These libraries are not nessasarry use by this section. But to keep it clean, I will just do that.", 
            "cell_type": "markdown", 
            "metadata": {}
        }, 
        {
            "execution_count": 1, 
            "cell_type": "code", 
            "metadata": {}, 
            "outputs": [
                {
                    "output_type": "stream", 
                    "name": "stdout", 
                    "text": "Beautiful Soup is ready for your service!\n"
                }
            ], 
            "source": "# Install beautiul soup 4 (If not already installed!)\n# This package will be used for web scraping.\ntry:\n    from bs4 import BeautifulSoup as bs\n    print('Beautiful Soup is ready for your service!')\nexcept:\n    !conda install -c anaconda beautifulsoup4 -y\n    from bs4 import BeautifulSoup as bs\n    print('Beautiful Soup is installed and ready for your service!')"
        }, 
        {
            "execution_count": 2, 
            "cell_type": "code", 
            "metadata": {}, 
            "outputs": [
                {
                    "output_type": "stream", 
                    "name": "stdout", 
                    "text": "GeoCorder is ready for your service!\n"
                }
            ], 
            "source": "# Install module to convert an address into latitude and longitude values\ntry:\n    from geopy.geocoders import Nominatim \n    from geopy import distance\n    print('GeoCorder is ready for your service!')\nexcept:\n    !conda install -c conda-forge geopy --yes \n    from geopy.geocoders import Nominatim \n    from geopy import distance\n    print('Geocorder is installed and ready for your service!')\n    "
        }, 
        {
            "execution_count": 3, 
            "cell_type": "code", 
            "metadata": {}, 
            "outputs": [
                {
                    "output_type": "stream", 
                    "name": "stdout", 
                    "text": "Folium is ready for your service!\n"
                }
            ], 
            "source": "# Install Folium - the map rendering library\ntry:\n    import folium\n    print('Folium is ready for your service!')\nexcept:\n    !conda install -c conda-forge folium=0.5.0\n    import folium\n    print('Geocorder is installed and ready for your service!')"
        }, 
        {
            "execution_count": 4, 
            "cell_type": "code", 
            "metadata": {}, 
            "outputs": [], 
            "source": "# import libraries\nimport pandas as pd\nimport requests as rs\nimport numpy as np\n\nimport matplotlib.cm as cm\nimport matplotlib.colors as colors\n\nimport json # library to handle JSON files\nfrom pandas.io.json import json_normalize # tranform JSON file into a pandas dataframe\n"
        }, 
        {
            "source": "### 2.2 Get the required data\nLet's start thinking about data.\n", 
            "cell_type": "markdown", 
            "metadata": {}
        }, 
        {
            "execution_count": 5, 
            "cell_type": "code", 
            "metadata": {}, 
            "outputs": [], 
            "source": "# Following wikipedia page has all the neighborhood data. Let's use Beautiful Soup to get the required data.\nurl = 'https://en.wikipedia.org/wiki/List_of_neighborhoods_in_Memphis,_Tennessee'\nsource = rs.get(url)\nsoup = bs(source.content,'lxml')\n # print(soup.prettify())"
        }, 
        {
            "execution_count": 6, 
            "cell_type": "code", 
            "metadata": {}, 
            "outputs": [
                {
                    "output_type": "stream", 
                    "name": "stdout", 
                    "text": "['Downtown', 'Midtown', 'University District', 'East Memphis', 'North Memphis', 'Northeast', 'South Memphis', 'Southeast', 'East Parkway District', 'See also']\n['Downtown', 'Midtown', 'University District', 'East Memphis', 'North Memphis', 'Northeast', 'South Memphis', 'Southeast', 'East Parkway District']\n"
                }
            ], 
            "source": "tocs = soup.body.findAll('span',{'class' :'toctext' })\n\n# Obtain burrows\nburrow = []\n\nfor item in tocs:\n    burrow.append(item.text)\n\nprint(burrow)\n# Remove last item ('see also')\nburrow = burrow[0:-1]\nprint(burrow)\n    \n    "
        }, 
        {
            "execution_count": 7, 
            "cell_type": "code", 
            "metadata": {}, 
            "outputs": [
                {
                    "execution_count": 7, 
                    "metadata": {}, 
                    "data": {
                        "text/html": "<div>\n<style scoped>\n    .dataframe tbody tr th:only-of-type {\n        vertical-align: middle;\n    }\n\n    .dataframe tbody tr th {\n        vertical-align: top;\n    }\n\n    .dataframe thead th {\n        text-align: right;\n    }\n</style>\n<table border=\"1\" class=\"dataframe\">\n  <thead>\n    <tr style=\"text-align: right;\">\n      <th></th>\n      <th>Burrow</th>\n      <th>Neighborhood</th>\n    </tr>\n  </thead>\n  <tbody>\n    <tr>\n      <th>0</th>\n      <td>Downtown</td>\n      <td>Central Business District</td>\n    </tr>\n    <tr>\n      <th>1</th>\n      <td>Downtown</td>\n      <td>Edge District</td>\n    </tr>\n    <tr>\n      <th>2</th>\n      <td>Downtown</td>\n      <td>Harbor Town</td>\n    </tr>\n    <tr>\n      <th>3</th>\n      <td>Downtown</td>\n      <td>Linden</td>\n    </tr>\n    <tr>\n      <th>4</th>\n      <td>Downtown</td>\n      <td>Medical District</td>\n    </tr>\n    <tr>\n      <th>5</th>\n      <td>Downtown</td>\n      <td>Pinch District</td>\n    </tr>\n    <tr>\n      <th>6</th>\n      <td>Downtown</td>\n      <td>South Forum</td>\n    </tr>\n    <tr>\n      <th>7</th>\n      <td>Downtown</td>\n      <td>South Main Arts District</td>\n    </tr>\n    <tr>\n      <th>8</th>\n      <td>Downtown</td>\n      <td>Speedway Terrace</td>\n    </tr>\n    <tr>\n      <th>9</th>\n      <td>Downtown</td>\n      <td>Uptown/Greenlaw</td>\n    </tr>\n    <tr>\n      <th>10</th>\n      <td>Downtown</td>\n      <td>Victorian Village</td>\n    </tr>\n    <tr>\n      <th>11</th>\n      <td>Downtown</td>\n      <td>Warehouse District</td>\n    </tr>\n    <tr>\n      <th>12</th>\n      <td>Downtown</td>\n      <td>Winchester Park</td>\n    </tr>\n    <tr>\n      <th>13</th>\n      <td>Midtown</td>\n      <td>Annesdale</td>\n    </tr>\n    <tr>\n      <th>14</th>\n      <td>Midtown</td>\n      <td>Belleair</td>\n    </tr>\n    <tr>\n      <th>15</th>\n      <td>Midtown</td>\n      <td>Central Gardens</td>\n    </tr>\n    <tr>\n      <th>16</th>\n      <td>Midtown</td>\n      <td>Chickasaw Gardens</td>\n    </tr>\n    <tr>\n      <th>17</th>\n      <td>Midtown</td>\n      <td>Cooper-Young</td>\n    </tr>\n    <tr>\n      <th>18</th>\n      <td>Midtown</td>\n      <td>Crosstown</td>\n    </tr>\n    <tr>\n      <th>19</th>\n      <td>Midtown</td>\n      <td>Evergreen</td>\n    </tr>\n    <tr>\n      <th>20</th>\n      <td>Midtown</td>\n      <td>Hein Park</td>\n    </tr>\n    <tr>\n      <th>21</th>\n      <td>Midtown</td>\n      <td>Idlewild</td>\n    </tr>\n    <tr>\n      <th>22</th>\n      <td>Midtown</td>\n      <td>Lea's Woods</td>\n    </tr>\n    <tr>\n      <th>23</th>\n      <td>Midtown</td>\n      <td>Lenox</td>\n    </tr>\n    <tr>\n      <th>24</th>\n      <td>Midtown</td>\n      <td>Rozelle</td>\n    </tr>\n    <tr>\n      <th>25</th>\n      <td>Midtown</td>\n      <td>Tucker-Jefferson</td>\n    </tr>\n    <tr>\n      <th>26</th>\n      <td>Midtown</td>\n      <td>Vollintine-Evergreen, including Vollintine Hills</td>\n    </tr>\n    <tr>\n      <th>27</th>\n      <td>University District</td>\n      <td>East Buntyn</td>\n    </tr>\n    <tr>\n      <th>28</th>\n      <td>University District</td>\n      <td>Normal Station</td>\n    </tr>\n    <tr>\n      <th>29</th>\n      <td>University District</td>\n      <td>Joffre</td>\n    </tr>\n    <tr>\n      <th>...</th>\n      <td>...</td>\n      <td>...</td>\n    </tr>\n    <tr>\n      <th>77</th>\n      <td>South Memphis</td>\n      <td>Pine Hill</td>\n    </tr>\n    <tr>\n      <th>78</th>\n      <td>South Memphis</td>\n      <td>Prospect Park</td>\n    </tr>\n    <tr>\n      <th>79</th>\n      <td>South Memphis</td>\n      <td>Riverside</td>\n    </tr>\n    <tr>\n      <th>80</th>\n      <td>South Memphis</td>\n      <td>Ruby Estates</td>\n    </tr>\n    <tr>\n      <th>81</th>\n      <td>South Memphis</td>\n      <td>Southern Heights</td>\n    </tr>\n    <tr>\n      <th>82</th>\n      <td>South Memphis</td>\n      <td>Soulsville</td>\n    </tr>\n    <tr>\n      <th>83</th>\n      <td>South Memphis</td>\n      <td>Walker Homes</td>\n    </tr>\n    <tr>\n      <th>84</th>\n      <td>South Memphis</td>\n      <td>West Junction</td>\n    </tr>\n    <tr>\n      <th>85</th>\n      <td>South Memphis</td>\n      <td>Westwood</td>\n    </tr>\n    <tr>\n      <th>86</th>\n      <td>South Memphis</td>\n      <td>Whitehaven</td>\n    </tr>\n    <tr>\n      <th>87</th>\n      <td>South Memphis</td>\n      <td>Wilbert Heights</td>\n    </tr>\n    <tr>\n      <th>88</th>\n      <td>Southeast</td>\n      <td>Bethel Grove</td>\n    </tr>\n    <tr>\n      <th>89</th>\n      <td>Southeast</td>\n      <td>Capleville</td>\n    </tr>\n    <tr>\n      <th>90</th>\n      <td>Southeast</td>\n      <td>Castalia</td>\n    </tr>\n    <tr>\n      <th>91</th>\n      <td>Southeast</td>\n      <td>Cherokee</td>\n    </tr>\n    <tr>\n      <th>92</th>\n      <td>Southeast</td>\n      <td>Easthaven</td>\n    </tr>\n    <tr>\n      <th>93</th>\n      <td>Southeast</td>\n      <td>Fairlawn</td>\n    </tr>\n    <tr>\n      <th>94</th>\n      <td>Southeast</td>\n      <td>Fox Meadows</td>\n    </tr>\n    <tr>\n      <th>95</th>\n      <td>Southeast</td>\n      <td>Hickory Hill</td>\n    </tr>\n    <tr>\n      <th>96</th>\n      <td>Southeast</td>\n      <td>Magnolia</td>\n    </tr>\n    <tr>\n      <th>97</th>\n      <td>Southeast</td>\n      <td>Oakhaven</td>\n    </tr>\n    <tr>\n      <th>98</th>\n      <td>Southeast</td>\n      <td>Orange Mound</td>\n    </tr>\n    <tr>\n      <th>99</th>\n      <td>Southeast</td>\n      <td>Parkway Village</td>\n    </tr>\n    <tr>\n      <th>100</th>\n      <td>Southeast</td>\n      <td>Riverdale</td>\n    </tr>\n    <tr>\n      <th>101</th>\n      <td>Southeast</td>\n      <td>Southwind</td>\n    </tr>\n    <tr>\n      <th>102</th>\n      <td>East Parkway District</td>\n      <td>Fairgrounds</td>\n    </tr>\n    <tr>\n      <th>103</th>\n      <td>East Parkway District</td>\n      <td>Glenview</td>\n    </tr>\n    <tr>\n      <th>104</th>\n      <td>East Parkway District</td>\n      <td>Lamar Avenue (Highway 78)</td>\n    </tr>\n    <tr>\n      <th>105</th>\n      <td>East Parkway District</td>\n      <td>Poplar Avenue</td>\n    </tr>\n    <tr>\n      <th>106</th>\n      <td>East Parkway District</td>\n      <td>Union Extended</td>\n    </tr>\n  </tbody>\n</table>\n<p>107 rows \u00d7 2 columns</p>\n</div>", 
                        "text/plain": "                    Burrow                                      Neighborhood\n0                 Downtown                         Central Business District\n1                 Downtown                                     Edge District\n2                 Downtown                                       Harbor Town\n3                 Downtown                                            Linden\n4                 Downtown                                  Medical District\n5                 Downtown                                    Pinch District\n6                 Downtown                                       South Forum\n7                 Downtown                          South Main Arts District\n8                 Downtown                                  Speedway Terrace\n9                 Downtown                                   Uptown/Greenlaw\n10                Downtown                                 Victorian Village\n11                Downtown                                Warehouse District\n12                Downtown                                   Winchester Park\n13                 Midtown                                         Annesdale\n14                 Midtown                                          Belleair\n15                 Midtown                                   Central Gardens\n16                 Midtown                                 Chickasaw Gardens\n17                 Midtown                                      Cooper-Young\n18                 Midtown                                         Crosstown\n19                 Midtown                                         Evergreen\n20                 Midtown                                         Hein Park\n21                 Midtown                                          Idlewild\n22                 Midtown                                       Lea's Woods\n23                 Midtown                                             Lenox\n24                 Midtown                                           Rozelle\n25                 Midtown                                  Tucker-Jefferson\n26                 Midtown  Vollintine-Evergreen, including Vollintine Hills\n27     University District                                       East Buntyn\n28     University District                                    Normal Station\n29     University District                                            Joffre\n..                     ...                                               ...\n77           South Memphis                                         Pine Hill\n78           South Memphis                                     Prospect Park\n79           South Memphis                                         Riverside\n80           South Memphis                                      Ruby Estates\n81           South Memphis                                  Southern Heights\n82           South Memphis                                        Soulsville\n83           South Memphis                                      Walker Homes\n84           South Memphis                                     West Junction\n85           South Memphis                                          Westwood\n86           South Memphis                                        Whitehaven\n87           South Memphis                                   Wilbert Heights\n88               Southeast                                      Bethel Grove\n89               Southeast                                        Capleville\n90               Southeast                                          Castalia\n91               Southeast                                          Cherokee\n92               Southeast                                         Easthaven\n93               Southeast                                          Fairlawn\n94               Southeast                                       Fox Meadows\n95               Southeast                                      Hickory Hill\n96               Southeast                                          Magnolia\n97               Southeast                                          Oakhaven\n98               Southeast                                      Orange Mound\n99               Southeast                                   Parkway Village\n100              Southeast                                         Riverdale\n101              Southeast                                         Southwind\n102  East Parkway District                                       Fairgrounds\n103  East Parkway District                                          Glenview\n104  East Parkway District                         Lamar Avenue (Highway 78)\n105  East Parkway District                                     Poplar Avenue\n106  East Parkway District                                    Union Extended\n\n[107 rows x 2 columns]"
                    }, 
                    "output_type": "execute_result"
                }
            ], 
            "source": "contents = soup.body.findAll('ul')\n\n# Create array with burrow and neighborhood data\nneighborhood = []\n\nfor i in range(1,len(burrow)+1):\n    for litag in contents[i].findAll('li'):\n        #print(litag.text)\n        neighborhood.append([burrow[i-1],litag.text])\n\n#print(neighborhood)\n\ndf = pd.DataFrame(neighborhood, columns=['Burrow','Neighborhood'])\ndf"
        }, 
        {
            "execution_count": 9, 
            "cell_type": "code", 
            "metadata": {}, 
            "outputs": [
                {
                    "output_type": "stream", 
                    "name": "stdout", 
                    "text": "35.1389307755102 -90.0281921632653\n1003, Monroe Avenue, Medical District, Memphis, Shelby County, Tennessee, 38104, USA\n"
                }
            ], 
            "source": "# Create a function to reutn the distance from work\ngeolocator = Nominatim(user_agent=\"foursquare_agent\", format_string=\"%s, Memphis TN\" )\n\naddress = '1003 Monroe Ave'\nlocation = geolocator.geocode(address)\nlat0= location.latitude\nlon0 = location.longitude\naddress0 = location.address\nprint(lat0, lon0)\nprint(address0)\n"
        }, 
        {
            "execution_count": 10, 
            "cell_type": "code", 
            "metadata": {}, 
            "outputs": [], 
            "source": "def find_distance(lat,lon):\n    p1 = (lat0,lon0)\n    p2 = (lat,lon)\n    #print(p1,p2)\n    return distance.distance(p1,p2).miles"
        }, 
        {
            "execution_count": 11, 
            "cell_type": "code", 
            "metadata": {}, 
            "outputs": [
                {
                    "output_type": "stream", 
                    "name": "stdout", 
                    "text": ". . . . . . . . . . . . . . . . . . . . . . . . . . . . . . . . . . . . . . . . . . . . . . . . . . . . . . . . . . . . . . . . . . . . . . . . . . . . . . . . . . . . . . . . . . . . . . . . . . . . . . . . . . . "
                }
            ], 
            "source": "\n\nLat = []\nLon =[]\naddress = []\ndistance_to_work = []\n\nfor i in range(df.shape[0]):\n    try:\n        location = geolocator.geocode(df['Neighborhood'][i])\n        print('.', end = ' ')\n    except:\n        location = None\n    \n    if location != None:\n        Lat.append(location.latitude)\n        Lon.append(location.longitude)\n        address.append(location.address)\n        distance_to_work.append(find_distance(location.latitude,location.longitude))\n    else:\n        Lat.append('NaN')\n        Lon.append('NaN')\n        address.append('NaN')\n        distance_to_work.append('NaN')\n        \n"
        }, 
        {
            "execution_count": 12, 
            "cell_type": "code", 
            "metadata": {}, 
            "outputs": [
                {
                    "execution_count": 12, 
                    "metadata": {}, 
                    "data": {
                        "text/html": "<div>\n<style scoped>\n    .dataframe tbody tr th:only-of-type {\n        vertical-align: middle;\n    }\n\n    .dataframe tbody tr th {\n        vertical-align: top;\n    }\n\n    .dataframe thead th {\n        text-align: right;\n    }\n</style>\n<table border=\"1\" class=\"dataframe\">\n  <thead>\n    <tr style=\"text-align: right;\">\n      <th></th>\n      <th>Burrow</th>\n      <th>Neighborhood</th>\n      <th>Latitude</th>\n      <th>Longitude</th>\n      <th>Address</th>\n      <th>miles_to_work</th>\n    </tr>\n  </thead>\n  <tbody>\n    <tr>\n      <th>0</th>\n      <td>Downtown</td>\n      <td>Central Business District</td>\n      <td>NaN</td>\n      <td>NaN</td>\n      <td>NaN</td>\n      <td>NaN</td>\n    </tr>\n    <tr>\n      <th>1</th>\n      <td>Downtown</td>\n      <td>Edge District</td>\n      <td>35.1598</td>\n      <td>-90.0543</td>\n      <td>Harbor Edge Drive, Cotton Row Historic Distric...</td>\n      <td>2.05913</td>\n    </tr>\n    <tr>\n      <th>2</th>\n      <td>Downtown</td>\n      <td>Harbor Town</td>\n      <td>NaN</td>\n      <td>NaN</td>\n      <td>NaN</td>\n      <td>NaN</td>\n    </tr>\n    <tr>\n      <th>3</th>\n      <td>Downtown</td>\n      <td>Linden</td>\n      <td>35.1344</td>\n      <td>-90.0127</td>\n      <td>Linden Avenue, Medical District, Memphis, Shel...</td>\n      <td>0.933456</td>\n    </tr>\n    <tr>\n      <th>4</th>\n      <td>Downtown</td>\n      <td>Medical District</td>\n      <td>35.142</td>\n      <td>-90.0303</td>\n      <td>Medical District, Memphis, Shelby County, Tenn...</td>\n      <td>0.242472</td>\n    </tr>\n    <tr>\n      <th>5</th>\n      <td>Downtown</td>\n      <td>Pinch District</td>\n      <td>NaN</td>\n      <td>NaN</td>\n      <td>NaN</td>\n      <td>NaN</td>\n    </tr>\n    <tr>\n      <th>6</th>\n      <td>Downtown</td>\n      <td>South Forum</td>\n      <td>NaN</td>\n      <td>NaN</td>\n      <td>NaN</td>\n      <td>NaN</td>\n    </tr>\n    <tr>\n      <th>7</th>\n      <td>Downtown</td>\n      <td>South Main Arts District</td>\n      <td>NaN</td>\n      <td>NaN</td>\n      <td>NaN</td>\n      <td>NaN</td>\n    </tr>\n    <tr>\n      <th>8</th>\n      <td>Downtown</td>\n      <td>Speedway Terrace</td>\n      <td>NaN</td>\n      <td>NaN</td>\n      <td>NaN</td>\n      <td>NaN</td>\n    </tr>\n    <tr>\n      <th>9</th>\n      <td>Downtown</td>\n      <td>Uptown/Greenlaw</td>\n      <td>NaN</td>\n      <td>NaN</td>\n      <td>NaN</td>\n      <td>NaN</td>\n    </tr>\n    <tr>\n      <th>10</th>\n      <td>Downtown</td>\n      <td>Victorian Village</td>\n      <td>NaN</td>\n      <td>NaN</td>\n      <td>NaN</td>\n      <td>NaN</td>\n    </tr>\n    <tr>\n      <th>11</th>\n      <td>Downtown</td>\n      <td>Warehouse District</td>\n      <td>NaN</td>\n      <td>NaN</td>\n      <td>NaN</td>\n      <td>NaN</td>\n    </tr>\n    <tr>\n      <th>12</th>\n      <td>Downtown</td>\n      <td>Winchester Park</td>\n      <td>35.1525</td>\n      <td>-90.0362</td>\n      <td>Winchester Park, Medical District, Memphis, Sh...</td>\n      <td>1.04038</td>\n    </tr>\n    <tr>\n      <th>13</th>\n      <td>Midtown</td>\n      <td>Annesdale</td>\n      <td>35.1256</td>\n      <td>-90.0179</td>\n      <td>Annesdale-Snowden, Shelby County, Tennessee, 3...</td>\n      <td>1.08654</td>\n    </tr>\n    <tr>\n      <th>14</th>\n      <td>Midtown</td>\n      <td>Belleair</td>\n      <td>35.141</td>\n      <td>-89.9939</td>\n      <td>Belleair Drive, Memphis, Shelby County, Tennes...</td>\n      <td>1.94903</td>\n    </tr>\n    <tr>\n      <th>15</th>\n      <td>Midtown</td>\n      <td>Central Gardens</td>\n      <td>35.2109</td>\n      <td>-89.9194</td>\n      <td>Austin Peay Highway, Memphis, Shelby County, T...</td>\n      <td>7.91021</td>\n    </tr>\n    <tr>\n      <th>16</th>\n      <td>Midtown</td>\n      <td>Chickasaw Gardens</td>\n      <td>35.1287</td>\n      <td>-89.9629</td>\n      <td>Chickasaw Gardens, Shelby County, Tennessee, 3...</td>\n      <td>3.76607</td>\n    </tr>\n    <tr>\n      <th>17</th>\n      <td>Midtown</td>\n      <td>Cooper-Young</td>\n      <td>NaN</td>\n      <td>NaN</td>\n      <td>NaN</td>\n      <td>NaN</td>\n    </tr>\n    <tr>\n      <th>18</th>\n      <td>Midtown</td>\n      <td>Crosstown</td>\n      <td>35.1524</td>\n      <td>-90.0122</td>\n      <td>Crosstown, Memphis, Shelby County, Tennessee, ...</td>\n      <td>1.29778</td>\n    </tr>\n    <tr>\n      <th>19</th>\n      <td>Midtown</td>\n      <td>Evergreen</td>\n      <td>35.1687</td>\n      <td>-90.0003</td>\n      <td>North Evergreen Street, Memphis, Shelby County...</td>\n      <td>2.59185</td>\n    </tr>\n    <tr>\n      <th>20</th>\n      <td>Midtown</td>\n      <td>Hein Park</td>\n      <td>NaN</td>\n      <td>NaN</td>\n      <td>NaN</td>\n      <td>NaN</td>\n    </tr>\n    <tr>\n      <th>21</th>\n      <td>Midtown</td>\n      <td>Idlewild</td>\n      <td>43.8935</td>\n      <td>-85.7874</td>\n      <td>Memphis, Idlewild, Lake County, Michigan, 4964...</td>\n      <td>644.828</td>\n    </tr>\n    <tr>\n      <th>22</th>\n      <td>Midtown</td>\n      <td>Lea's Woods</td>\n      <td>NaN</td>\n      <td>NaN</td>\n      <td>NaN</td>\n      <td>NaN</td>\n    </tr>\n    <tr>\n      <th>23</th>\n      <td>Midtown</td>\n      <td>Lenox</td>\n      <td>35.1259</td>\n      <td>-89.9901</td>\n      <td>Lenox, Shelby County, Tennessee, 38104, USA</td>\n      <td>2.33672</td>\n    </tr>\n    <tr>\n      <th>24</th>\n      <td>Midtown</td>\n      <td>Rozelle</td>\n      <td>35.1222</td>\n      <td>-90.0064</td>\n      <td>Rozelle Street, Memphis, Shelby County, Tennes...</td>\n      <td>1.68832</td>\n    </tr>\n    <tr>\n      <th>25</th>\n      <td>Midtown</td>\n      <td>Tucker-Jefferson</td>\n      <td>NaN</td>\n      <td>NaN</td>\n      <td>NaN</td>\n      <td>NaN</td>\n    </tr>\n    <tr>\n      <th>26</th>\n      <td>Midtown</td>\n      <td>Vollintine-Evergreen, including Vollintine Hills</td>\n      <td>NaN</td>\n      <td>NaN</td>\n      <td>NaN</td>\n      <td>NaN</td>\n    </tr>\n    <tr>\n      <th>27</th>\n      <td>University District</td>\n      <td>East Buntyn</td>\n      <td>35.1159</td>\n      <td>-89.9718</td>\n      <td>Buntyn, Shelby County, Tennessee, 38114, USA</td>\n      <td>3.56817</td>\n    </tr>\n    <tr>\n      <th>28</th>\n      <td>University District</td>\n      <td>Normal Station</td>\n      <td>35.1162</td>\n      <td>-89.9368</td>\n      <td>Normal, Shelby County, Tennessee, 38152, USA</td>\n      <td>5.41044</td>\n    </tr>\n    <tr>\n      <th>29</th>\n      <td>University District</td>\n      <td>Joffre</td>\n      <td>35.1269</td>\n      <td>-89.9509</td>\n      <td>Joffre Avenue, Memphis, Shelby County, Tenness...</td>\n      <td>4.45731</td>\n    </tr>\n    <tr>\n      <th>...</th>\n      <td>...</td>\n      <td>...</td>\n      <td>...</td>\n      <td>...</td>\n      <td>...</td>\n      <td>...</td>\n    </tr>\n    <tr>\n      <th>77</th>\n      <td>South Memphis</td>\n      <td>Pine Hill</td>\n      <td>35.149</td>\n      <td>-90.0516</td>\n      <td>Memphis, Shelby County, Tennessee, USA</td>\n      <td>1.49833</td>\n    </tr>\n    <tr>\n      <th>78</th>\n      <td>South Memphis</td>\n      <td>Prospect Park</td>\n      <td>NaN</td>\n      <td>NaN</td>\n      <td>NaN</td>\n      <td>NaN</td>\n    </tr>\n    <tr>\n      <th>79</th>\n      <td>South Memphis</td>\n      <td>Riverside</td>\n      <td>35.149</td>\n      <td>-90.0516</td>\n      <td>Memphis, Shelby County, Tennessee, USA</td>\n      <td>1.49833</td>\n    </tr>\n    <tr>\n      <th>80</th>\n      <td>South Memphis</td>\n      <td>Ruby Estates</td>\n      <td>NaN</td>\n      <td>NaN</td>\n      <td>NaN</td>\n      <td>NaN</td>\n    </tr>\n    <tr>\n      <th>81</th>\n      <td>South Memphis</td>\n      <td>Southern Heights</td>\n      <td>NaN</td>\n      <td>NaN</td>\n      <td>NaN</td>\n      <td>NaN</td>\n    </tr>\n    <tr>\n      <th>82</th>\n      <td>South Memphis</td>\n      <td>Soulsville</td>\n      <td>35.1164</td>\n      <td>-90.0321</td>\n      <td>Soulsville Charter School, 1115, College Stree...</td>\n      <td>1.57019</td>\n    </tr>\n    <tr>\n      <th>83</th>\n      <td>South Memphis</td>\n      <td>Walker Homes</td>\n      <td>35.1194</td>\n      <td>-90.0348</td>\n      <td>Walker Avenue, Memphis, Shelby County, Tenness...</td>\n      <td>1.39874</td>\n    </tr>\n    <tr>\n      <th>84</th>\n      <td>South Memphis</td>\n      <td>West Junction</td>\n      <td>35.0673</td>\n      <td>-90.0956</td>\n      <td>West Junction, Memphis, Shelby County, Tenness...</td>\n      <td>6.24241</td>\n    </tr>\n    <tr>\n      <th>85</th>\n      <td>South Memphis</td>\n      <td>Westwood</td>\n      <td>35.0298</td>\n      <td>-90.092</td>\n      <td>Westwood Park, Memphis, Shelby County, Tenness...</td>\n      <td>8.34876</td>\n    </tr>\n    <tr>\n      <th>86</th>\n      <td>South Memphis</td>\n      <td>Whitehaven</td>\n      <td>35.0273</td>\n      <td>-90.0293</td>\n      <td>Whitehaven, Shelby County, Tennessee, 38116, USA</td>\n      <td>7.69465</td>\n    </tr>\n    <tr>\n      <th>87</th>\n      <td>South Memphis</td>\n      <td>Wilbert Heights</td>\n      <td>NaN</td>\n      <td>NaN</td>\n      <td>NaN</td>\n      <td>NaN</td>\n    </tr>\n    <tr>\n      <th>88</th>\n      <td>Southeast</td>\n      <td>Bethel Grove</td>\n      <td>NaN</td>\n      <td>NaN</td>\n      <td>NaN</td>\n      <td>NaN</td>\n    </tr>\n    <tr>\n      <th>89</th>\n      <td>Southeast</td>\n      <td>Capleville</td>\n      <td>35.0206</td>\n      <td>-89.8979</td>\n      <td>Capleville, Shelby County, Tennessee, 38115:38...</td>\n      <td>11.0014</td>\n    </tr>\n    <tr>\n      <th>90</th>\n      <td>Southeast</td>\n      <td>Castalia</td>\n      <td>35.0946</td>\n      <td>-89.9949</td>\n      <td>Castalia Street, Memphis, Shelby County, Tenne...</td>\n      <td>3.5897</td>\n    </tr>\n    <tr>\n      <th>91</th>\n      <td>Southeast</td>\n      <td>Cherokee</td>\n      <td>35.0919</td>\n      <td>-89.9573</td>\n      <td>Cherokee Creek, Memphis, Shelby County, Tennes...</td>\n      <td>5.15797</td>\n    </tr>\n    <tr>\n      <th>92</th>\n      <td>Southeast</td>\n      <td>Easthaven</td>\n      <td>35.016</td>\n      <td>-89.9551</td>\n      <td>Easthaven Church of Christ, Tchulahoma Road, M...</td>\n      <td>9.42981</td>\n    </tr>\n    <tr>\n      <th>93</th>\n      <td>Southeast</td>\n      <td>Fairlawn</td>\n      <td>35.0904</td>\n      <td>-89.9698</td>\n      <td>Fairlawn Church, Pendleton Street, Memphis, Sh...</td>\n      <td>4.70563</td>\n    </tr>\n    <tr>\n      <th>94</th>\n      <td>Southeast</td>\n      <td>Fox Meadows</td>\n      <td>NaN</td>\n      <td>NaN</td>\n      <td>NaN</td>\n      <td>NaN</td>\n    </tr>\n    <tr>\n      <th>95</th>\n      <td>Southeast</td>\n      <td>Hickory Hill</td>\n      <td>NaN</td>\n      <td>NaN</td>\n      <td>NaN</td>\n      <td>NaN</td>\n    </tr>\n    <tr>\n      <th>96</th>\n      <td>Southeast</td>\n      <td>Magnolia</td>\n      <td>35.1086</td>\n      <td>-89.8804</td>\n      <td>Magnolia Grove, Memphis, Shelby County, Tennes...</td>\n      <td>8.62847</td>\n    </tr>\n    <tr>\n      <th>97</th>\n      <td>Southeast</td>\n      <td>Oakhaven</td>\n      <td>35.0427</td>\n      <td>-89.9614</td>\n      <td>Oakhaven Park, Memphis, Shelby County, Tenness...</td>\n      <td>7.63857</td>\n    </tr>\n    <tr>\n      <th>98</th>\n      <td>Southeast</td>\n      <td>Orange Mound</td>\n      <td>35.1103</td>\n      <td>-89.9781</td>\n      <td>Orange Mound Community Garden, Memphis, Shelby...</td>\n      <td>3.45799</td>\n    </tr>\n    <tr>\n      <th>99</th>\n      <td>Southeast</td>\n      <td>Parkway Village</td>\n      <td>35.0643</td>\n      <td>-89.9062</td>\n      <td>Parkway Village, Shelby County, Tennessee, 381...</td>\n      <td>8.61772</td>\n    </tr>\n    <tr>\n      <th>100</th>\n      <td>Southeast</td>\n      <td>Riverdale</td>\n      <td>35.0494</td>\n      <td>-89.8223</td>\n      <td>Riverdale Crossing, Memphis, Shelby County, Te...</td>\n      <td>13.196</td>\n    </tr>\n    <tr>\n      <th>101</th>\n      <td>Southeast</td>\n      <td>Southwind</td>\n      <td>35.052</td>\n      <td>-89.7904</td>\n      <td>Southwind, Shelby County, Tennessee, 38125, USA</td>\n      <td>14.7463</td>\n    </tr>\n    <tr>\n      <th>102</th>\n      <td>East Parkway District</td>\n      <td>Fairgrounds</td>\n      <td>35.1206</td>\n      <td>-89.9803</td>\n      <td>Mid-South Fairgrounds, Early Maxwell Boulevard...</td>\n      <td>2.99328</td>\n    </tr>\n    <tr>\n      <th>103</th>\n      <td>East Parkway District</td>\n      <td>Glenview</td>\n      <td>35.115</td>\n      <td>-90.0022</td>\n      <td>Glenview Park, Memphis, Shelby County, Tenness...</td>\n      <td>2.2083</td>\n    </tr>\n    <tr>\n      <th>104</th>\n      <td>East Parkway District</td>\n      <td>Lamar Avenue (Highway 78)</td>\n      <td>34.9998</td>\n      <td>-89.8823</td>\n      <td>Lamar Avenue, Memphis, Shelby County, Tennesse...</td>\n      <td>12.6629</td>\n    </tr>\n    <tr>\n      <th>105</th>\n      <td>East Parkway District</td>\n      <td>Poplar Avenue</td>\n      <td>35.1488</td>\n      <td>-90.0455</td>\n      <td>Poplar Avenue, Cotton Row Historic District, M...</td>\n      <td>1.19042</td>\n    </tr>\n    <tr>\n      <th>106</th>\n      <td>East Parkway District</td>\n      <td>Union Extended</td>\n      <td>NaN</td>\n      <td>NaN</td>\n      <td>NaN</td>\n      <td>NaN</td>\n    </tr>\n  </tbody>\n</table>\n<p>107 rows \u00d7 6 columns</p>\n</div>", 
                        "text/plain": "                    Burrow                                      Neighborhood  \\\n0                 Downtown                         Central Business District   \n1                 Downtown                                     Edge District   \n2                 Downtown                                       Harbor Town   \n3                 Downtown                                            Linden   \n4                 Downtown                                  Medical District   \n5                 Downtown                                    Pinch District   \n6                 Downtown                                       South Forum   \n7                 Downtown                          South Main Arts District   \n8                 Downtown                                  Speedway Terrace   \n9                 Downtown                                   Uptown/Greenlaw   \n10                Downtown                                 Victorian Village   \n11                Downtown                                Warehouse District   \n12                Downtown                                   Winchester Park   \n13                 Midtown                                         Annesdale   \n14                 Midtown                                          Belleair   \n15                 Midtown                                   Central Gardens   \n16                 Midtown                                 Chickasaw Gardens   \n17                 Midtown                                      Cooper-Young   \n18                 Midtown                                         Crosstown   \n19                 Midtown                                         Evergreen   \n20                 Midtown                                         Hein Park   \n21                 Midtown                                          Idlewild   \n22                 Midtown                                       Lea's Woods   \n23                 Midtown                                             Lenox   \n24                 Midtown                                           Rozelle   \n25                 Midtown                                  Tucker-Jefferson   \n26                 Midtown  Vollintine-Evergreen, including Vollintine Hills   \n27     University District                                       East Buntyn   \n28     University District                                    Normal Station   \n29     University District                                            Joffre   \n..                     ...                                               ...   \n77           South Memphis                                         Pine Hill   \n78           South Memphis                                     Prospect Park   \n79           South Memphis                                         Riverside   \n80           South Memphis                                      Ruby Estates   \n81           South Memphis                                  Southern Heights   \n82           South Memphis                                        Soulsville   \n83           South Memphis                                      Walker Homes   \n84           South Memphis                                     West Junction   \n85           South Memphis                                          Westwood   \n86           South Memphis                                        Whitehaven   \n87           South Memphis                                   Wilbert Heights   \n88               Southeast                                      Bethel Grove   \n89               Southeast                                        Capleville   \n90               Southeast                                          Castalia   \n91               Southeast                                          Cherokee   \n92               Southeast                                         Easthaven   \n93               Southeast                                          Fairlawn   \n94               Southeast                                       Fox Meadows   \n95               Southeast                                      Hickory Hill   \n96               Southeast                                          Magnolia   \n97               Southeast                                          Oakhaven   \n98               Southeast                                      Orange Mound   \n99               Southeast                                   Parkway Village   \n100              Southeast                                         Riverdale   \n101              Southeast                                         Southwind   \n102  East Parkway District                                       Fairgrounds   \n103  East Parkway District                                          Glenview   \n104  East Parkway District                         Lamar Avenue (Highway 78)   \n105  East Parkway District                                     Poplar Avenue   \n106  East Parkway District                                    Union Extended   \n\n    Latitude Longitude                                            Address  \\\n0        NaN       NaN                                                NaN   \n1    35.1598  -90.0543  Harbor Edge Drive, Cotton Row Historic Distric...   \n2        NaN       NaN                                                NaN   \n3    35.1344  -90.0127  Linden Avenue, Medical District, Memphis, Shel...   \n4     35.142  -90.0303  Medical District, Memphis, Shelby County, Tenn...   \n5        NaN       NaN                                                NaN   \n6        NaN       NaN                                                NaN   \n7        NaN       NaN                                                NaN   \n8        NaN       NaN                                                NaN   \n9        NaN       NaN                                                NaN   \n10       NaN       NaN                                                NaN   \n11       NaN       NaN                                                NaN   \n12   35.1525  -90.0362  Winchester Park, Medical District, Memphis, Sh...   \n13   35.1256  -90.0179  Annesdale-Snowden, Shelby County, Tennessee, 3...   \n14    35.141  -89.9939  Belleair Drive, Memphis, Shelby County, Tennes...   \n15   35.2109  -89.9194  Austin Peay Highway, Memphis, Shelby County, T...   \n16   35.1287  -89.9629  Chickasaw Gardens, Shelby County, Tennessee, 3...   \n17       NaN       NaN                                                NaN   \n18   35.1524  -90.0122  Crosstown, Memphis, Shelby County, Tennessee, ...   \n19   35.1687  -90.0003  North Evergreen Street, Memphis, Shelby County...   \n20       NaN       NaN                                                NaN   \n21   43.8935  -85.7874  Memphis, Idlewild, Lake County, Michigan, 4964...   \n22       NaN       NaN                                                NaN   \n23   35.1259  -89.9901        Lenox, Shelby County, Tennessee, 38104, USA   \n24   35.1222  -90.0064  Rozelle Street, Memphis, Shelby County, Tennes...   \n25       NaN       NaN                                                NaN   \n26       NaN       NaN                                                NaN   \n27   35.1159  -89.9718       Buntyn, Shelby County, Tennessee, 38114, USA   \n28   35.1162  -89.9368       Normal, Shelby County, Tennessee, 38152, USA   \n29   35.1269  -89.9509  Joffre Avenue, Memphis, Shelby County, Tenness...   \n..       ...       ...                                                ...   \n77    35.149  -90.0516             Memphis, Shelby County, Tennessee, USA   \n78       NaN       NaN                                                NaN   \n79    35.149  -90.0516             Memphis, Shelby County, Tennessee, USA   \n80       NaN       NaN                                                NaN   \n81       NaN       NaN                                                NaN   \n82   35.1164  -90.0321  Soulsville Charter School, 1115, College Stree...   \n83   35.1194  -90.0348  Walker Avenue, Memphis, Shelby County, Tenness...   \n84   35.0673  -90.0956  West Junction, Memphis, Shelby County, Tenness...   \n85   35.0298   -90.092  Westwood Park, Memphis, Shelby County, Tenness...   \n86   35.0273  -90.0293   Whitehaven, Shelby County, Tennessee, 38116, USA   \n87       NaN       NaN                                                NaN   \n88       NaN       NaN                                                NaN   \n89   35.0206  -89.8979  Capleville, Shelby County, Tennessee, 38115:38...   \n90   35.0946  -89.9949  Castalia Street, Memphis, Shelby County, Tenne...   \n91   35.0919  -89.9573  Cherokee Creek, Memphis, Shelby County, Tennes...   \n92    35.016  -89.9551  Easthaven Church of Christ, Tchulahoma Road, M...   \n93   35.0904  -89.9698  Fairlawn Church, Pendleton Street, Memphis, Sh...   \n94       NaN       NaN                                                NaN   \n95       NaN       NaN                                                NaN   \n96   35.1086  -89.8804  Magnolia Grove, Memphis, Shelby County, Tennes...   \n97   35.0427  -89.9614  Oakhaven Park, Memphis, Shelby County, Tenness...   \n98   35.1103  -89.9781  Orange Mound Community Garden, Memphis, Shelby...   \n99   35.0643  -89.9062  Parkway Village, Shelby County, Tennessee, 381...   \n100  35.0494  -89.8223  Riverdale Crossing, Memphis, Shelby County, Te...   \n101   35.052  -89.7904    Southwind, Shelby County, Tennessee, 38125, USA   \n102  35.1206  -89.9803  Mid-South Fairgrounds, Early Maxwell Boulevard...   \n103   35.115  -90.0022  Glenview Park, Memphis, Shelby County, Tenness...   \n104  34.9998  -89.8823  Lamar Avenue, Memphis, Shelby County, Tennesse...   \n105  35.1488  -90.0455  Poplar Avenue, Cotton Row Historic District, M...   \n106      NaN       NaN                                                NaN   \n\n    miles_to_work  \n0             NaN  \n1         2.05913  \n2             NaN  \n3        0.933456  \n4        0.242472  \n5             NaN  \n6             NaN  \n7             NaN  \n8             NaN  \n9             NaN  \n10            NaN  \n11            NaN  \n12        1.04038  \n13        1.08654  \n14        1.94903  \n15        7.91021  \n16        3.76607  \n17            NaN  \n18        1.29778  \n19        2.59185  \n20            NaN  \n21        644.828  \n22            NaN  \n23        2.33672  \n24        1.68832  \n25            NaN  \n26            NaN  \n27        3.56817  \n28        5.41044  \n29        4.45731  \n..            ...  \n77        1.49833  \n78            NaN  \n79        1.49833  \n80            NaN  \n81            NaN  \n82        1.57019  \n83        1.39874  \n84        6.24241  \n85        8.34876  \n86        7.69465  \n87            NaN  \n88            NaN  \n89        11.0014  \n90         3.5897  \n91        5.15797  \n92        9.42981  \n93        4.70563  \n94            NaN  \n95            NaN  \n96        8.62847  \n97        7.63857  \n98        3.45799  \n99        8.61772  \n100        13.196  \n101       14.7463  \n102       2.99328  \n103        2.2083  \n104       12.6629  \n105       1.19042  \n106           NaN  \n\n[107 rows x 6 columns]"
                    }, 
                    "output_type": "execute_result"
                }
            ], 
            "source": "df['Latitude'] = Lat\ndf['Longitude'] = Lon\ndf['Address'] = address\ndf['miles_to_work'] = distance_to_work\ndf"
        }, 
        {
            "execution_count": null, 
            "cell_type": "code", 
            "metadata": {}, 
            "outputs": [], 
            "source": ""
        }, 
        {
            "execution_count": null, 
            "cell_type": "code", 
            "metadata": {}, 
            "outputs": [], 
            "source": ""
        }, 
        {
            "execution_count": null, 
            "cell_type": "code", 
            "metadata": {}, 
            "outputs": [], 
            "source": ""
        }, 
        {
            "execution_count": null, 
            "cell_type": "code", 
            "metadata": {}, 
            "outputs": [], 
            "source": ""
        }, 
        {
            "execution_count": null, 
            "cell_type": "code", 
            "metadata": {}, 
            "outputs": [], 
            "source": ""
        }, 
        {
            "execution_count": null, 
            "cell_type": "code", 
            "metadata": {}, 
            "outputs": [], 
            "source": ""
        }, 
        {
            "execution_count": null, 
            "cell_type": "code", 
            "metadata": {}, 
            "outputs": [], 
            "source": ""
        }, 
        {
            "execution_count": null, 
            "cell_type": "code", 
            "metadata": {}, 
            "outputs": [], 
            "source": ""
        }, 
        {
            "execution_count": null, 
            "cell_type": "code", 
            "metadata": {}, 
            "outputs": [], 
            "source": ""
        }, 
        {
            "execution_count": null, 
            "cell_type": "code", 
            "metadata": {}, 
            "outputs": [], 
            "source": ""
        }, 
        {
            "execution_count": null, 
            "cell_type": "code", 
            "metadata": {}, 
            "outputs": [], 
            "source": ""
        }, 
        {
            "execution_count": null, 
            "cell_type": "code", 
            "metadata": {}, 
            "outputs": [], 
            "source": ""
        }, 
        {
            "execution_count": null, 
            "cell_type": "code", 
            "metadata": {}, 
            "outputs": [], 
            "source": ""
        }, 
        {
            "execution_count": null, 
            "cell_type": "code", 
            "metadata": {}, 
            "outputs": [], 
            "source": ""
        }, 
        {
            "execution_count": null, 
            "cell_type": "code", 
            "metadata": {}, 
            "outputs": [], 
            "source": ""
        }, 
        {
            "execution_count": null, 
            "cell_type": "code", 
            "metadata": {}, 
            "outputs": [], 
            "source": ""
        }, 
        {
            "execution_count": null, 
            "cell_type": "code", 
            "metadata": {}, 
            "outputs": [], 
            "source": ""
        }, 
        {
            "execution_count": null, 
            "cell_type": "code", 
            "metadata": {}, 
            "outputs": [], 
            "source": ""
        }, 
        {
            "execution_count": null, 
            "cell_type": "code", 
            "metadata": {}, 
            "outputs": [], 
            "source": ""
        }, 
        {
            "execution_count": null, 
            "cell_type": "code", 
            "metadata": {}, 
            "outputs": [], 
            "source": ""
        }, 
        {
            "execution_count": null, 
            "cell_type": "code", 
            "metadata": {}, 
            "outputs": [], 
            "source": ""
        }, 
        {
            "execution_count": null, 
            "cell_type": "code", 
            "metadata": {}, 
            "outputs": [], 
            "source": ""
        }, 
        {
            "execution_count": null, 
            "cell_type": "code", 
            "metadata": {}, 
            "outputs": [], 
            "source": ""
        }, 
        {
            "execution_count": null, 
            "cell_type": "code", 
            "metadata": {}, 
            "outputs": [], 
            "source": ""
        }, 
        {
            "execution_count": null, 
            "cell_type": "code", 
            "metadata": {}, 
            "outputs": [], 
            "source": ""
        }, 
        {
            "execution_count": null, 
            "cell_type": "code", 
            "metadata": {}, 
            "outputs": [], 
            "source": ""
        }, 
        {
            "execution_count": null, 
            "cell_type": "code", 
            "metadata": {}, 
            "outputs": [], 
            "source": ""
        }, 
        {
            "execution_count": null, 
            "cell_type": "code", 
            "metadata": {}, 
            "outputs": [], 
            "source": ""
        }, 
        {
            "execution_count": null, 
            "cell_type": "code", 
            "metadata": {}, 
            "outputs": [], 
            "source": ""
        }, 
        {
            "execution_count": null, 
            "cell_type": "code", 
            "metadata": {}, 
            "outputs": [], 
            "source": ""
        }, 
        {
            "execution_count": null, 
            "cell_type": "code", 
            "metadata": {}, 
            "outputs": [], 
            "source": ""
        }, 
        {
            "execution_count": null, 
            "cell_type": "code", 
            "metadata": {}, 
            "outputs": [], 
            "source": ""
        }, 
        {
            "execution_count": null, 
            "cell_type": "code", 
            "metadata": {}, 
            "outputs": [], 
            "source": ""
        }, 
        {
            "execution_count": null, 
            "cell_type": "code", 
            "metadata": {}, 
            "outputs": [], 
            "source": ""
        }, 
        {
            "execution_count": null, 
            "cell_type": "code", 
            "metadata": {}, 
            "outputs": [], 
            "source": ""
        }, 
        {
            "execution_count": null, 
            "cell_type": "code", 
            "metadata": {}, 
            "outputs": [], 
            "source": ""
        }, 
        {
            "execution_count": null, 
            "cell_type": "code", 
            "metadata": {}, 
            "outputs": [], 
            "source": ""
        }, 
        {
            "execution_count": null, 
            "cell_type": "code", 
            "metadata": {}, 
            "outputs": [], 
            "source": ""
        }, 
        {
            "execution_count": null, 
            "cell_type": "code", 
            "metadata": {}, 
            "outputs": [], 
            "source": ""
        }, 
        {
            "execution_count": null, 
            "cell_type": "code", 
            "metadata": {}, 
            "outputs": [], 
            "source": ""
        }, 
        {
            "execution_count": null, 
            "cell_type": "code", 
            "metadata": {}, 
            "outputs": [], 
            "source": ""
        }, 
        {
            "execution_count": null, 
            "cell_type": "code", 
            "metadata": {}, 
            "outputs": [], 
            "source": ""
        }, 
        {
            "execution_count": null, 
            "cell_type": "code", 
            "metadata": {}, 
            "outputs": [], 
            "source": ""
        }, 
        {
            "execution_count": null, 
            "cell_type": "code", 
            "metadata": {}, 
            "outputs": [], 
            "source": ""
        }, 
        {
            "execution_count": null, 
            "cell_type": "code", 
            "metadata": {}, 
            "outputs": [], 
            "source": ""
        }, 
        {
            "execution_count": null, 
            "cell_type": "code", 
            "metadata": {}, 
            "outputs": [], 
            "source": ""
        }, 
        {
            "execution_count": null, 
            "cell_type": "code", 
            "metadata": {}, 
            "outputs": [], 
            "source": ""
        }, 
        {
            "execution_count": null, 
            "cell_type": "code", 
            "metadata": {}, 
            "outputs": [], 
            "source": ""
        }, 
        {
            "execution_count": null, 
            "cell_type": "code", 
            "metadata": {}, 
            "outputs": [], 
            "source": ""
        }, 
        {
            "execution_count": null, 
            "cell_type": "code", 
            "metadata": {}, 
            "outputs": [], 
            "source": ""
        }, 
        {
            "execution_count": null, 
            "cell_type": "code", 
            "metadata": {}, 
            "outputs": [], 
            "source": ""
        }, 
        {
            "execution_count": null, 
            "cell_type": "code", 
            "metadata": {}, 
            "outputs": [], 
            "source": ""
        }, 
        {
            "execution_count": null, 
            "cell_type": "code", 
            "metadata": {}, 
            "outputs": [], 
            "source": ""
        }, 
        {
            "execution_count": null, 
            "cell_type": "code", 
            "metadata": {}, 
            "outputs": [], 
            "source": ""
        }, 
        {
            "execution_count": null, 
            "cell_type": "code", 
            "metadata": {}, 
            "outputs": [], 
            "source": ""
        }, 
        {
            "execution_count": null, 
            "cell_type": "code", 
            "metadata": {}, 
            "outputs": [], 
            "source": ""
        }, 
        {
            "execution_count": null, 
            "cell_type": "code", 
            "metadata": {}, 
            "outputs": [], 
            "source": ""
        }, 
        {
            "execution_count": null, 
            "cell_type": "code", 
            "metadata": {}, 
            "outputs": [], 
            "source": ""
        }, 
        {
            "execution_count": null, 
            "cell_type": "code", 
            "metadata": {}, 
            "outputs": [], 
            "source": ""
        }, 
        {
            "execution_count": null, 
            "cell_type": "code", 
            "metadata": {}, 
            "outputs": [], 
            "source": ""
        }, 
        {
            "execution_count": null, 
            "cell_type": "code", 
            "metadata": {}, 
            "outputs": [], 
            "source": ""
        }, 
        {
            "execution_count": null, 
            "cell_type": "code", 
            "metadata": {}, 
            "outputs": [], 
            "source": ""
        }, 
        {
            "execution_count": null, 
            "cell_type": "code", 
            "metadata": {}, 
            "outputs": [], 
            "source": ""
        }, 
        {
            "execution_count": null, 
            "cell_type": "code", 
            "metadata": {}, 
            "outputs": [], 
            "source": ""
        }, 
        {
            "execution_count": null, 
            "cell_type": "code", 
            "metadata": {}, 
            "outputs": [], 
            "source": ""
        }, 
        {
            "execution_count": null, 
            "cell_type": "code", 
            "metadata": {}, 
            "outputs": [], 
            "source": ""
        }, 
        {
            "execution_count": null, 
            "cell_type": "code", 
            "metadata": {}, 
            "outputs": [], 
            "source": ""
        }, 
        {
            "execution_count": null, 
            "cell_type": "code", 
            "metadata": {}, 
            "outputs": [], 
            "source": ""
        }, 
        {
            "execution_count": null, 
            "cell_type": "code", 
            "metadata": {}, 
            "outputs": [], 
            "source": ""
        }, 
        {
            "execution_count": null, 
            "cell_type": "code", 
            "metadata": {}, 
            "outputs": [], 
            "source": ""
        }, 
        {
            "execution_count": null, 
            "cell_type": "code", 
            "metadata": {}, 
            "outputs": [], 
            "source": ""
        }, 
        {
            "execution_count": null, 
            "cell_type": "code", 
            "metadata": {}, 
            "outputs": [], 
            "source": ""
        }, 
        {
            "execution_count": null, 
            "cell_type": "code", 
            "metadata": {}, 
            "outputs": [], 
            "source": ""
        }, 
        {
            "execution_count": null, 
            "cell_type": "code", 
            "metadata": {}, 
            "outputs": [], 
            "source": ""
        }, 
        {
            "execution_count": null, 
            "cell_type": "code", 
            "metadata": {}, 
            "outputs": [], 
            "source": ""
        }, 
        {
            "execution_count": null, 
            "cell_type": "code", 
            "metadata": {}, 
            "outputs": [], 
            "source": ""
        }, 
        {
            "execution_count": null, 
            "cell_type": "code", 
            "metadata": {}, 
            "outputs": [], 
            "source": ""
        }, 
        {
            "execution_count": null, 
            "cell_type": "code", 
            "metadata": {}, 
            "outputs": [], 
            "source": ""
        }, 
        {
            "execution_count": null, 
            "cell_type": "code", 
            "metadata": {}, 
            "outputs": [], 
            "source": ""
        }, 
        {
            "execution_count": null, 
            "cell_type": "code", 
            "metadata": {}, 
            "outputs": [], 
            "source": ""
        }, 
        {
            "execution_count": null, 
            "cell_type": "code", 
            "metadata": {}, 
            "outputs": [], 
            "source": ""
        }, 
        {
            "execution_count": null, 
            "cell_type": "code", 
            "metadata": {}, 
            "outputs": [], 
            "source": ""
        }, 
        {
            "execution_count": null, 
            "cell_type": "code", 
            "metadata": {}, 
            "outputs": [], 
            "source": ""
        }, 
        {
            "execution_count": null, 
            "cell_type": "code", 
            "metadata": {}, 
            "outputs": [], 
            "source": ""
        }, 
        {
            "execution_count": null, 
            "cell_type": "code", 
            "metadata": {}, 
            "outputs": [], 
            "source": ""
        }, 
        {
            "execution_count": null, 
            "cell_type": "code", 
            "metadata": {}, 
            "outputs": [], 
            "source": ""
        }, 
        {
            "execution_count": null, 
            "cell_type": "code", 
            "metadata": {}, 
            "outputs": [], 
            "source": ""
        }, 
        {
            "execution_count": null, 
            "cell_type": "code", 
            "metadata": {}, 
            "outputs": [], 
            "source": ""
        }, 
        {
            "execution_count": null, 
            "cell_type": "code", 
            "metadata": {}, 
            "outputs": [], 
            "source": ""
        }, 
        {
            "execution_count": null, 
            "cell_type": "code", 
            "metadata": {}, 
            "outputs": [], 
            "source": ""
        }, 
        {
            "execution_count": null, 
            "cell_type": "code", 
            "metadata": {}, 
            "outputs": [], 
            "source": ""
        }, 
        {
            "execution_count": null, 
            "cell_type": "code", 
            "metadata": {}, 
            "outputs": [], 
            "source": ""
        }, 
        {
            "execution_count": null, 
            "cell_type": "code", 
            "metadata": {}, 
            "outputs": [], 
            "source": ""
        }, 
        {
            "execution_count": null, 
            "cell_type": "code", 
            "metadata": {}, 
            "outputs": [], 
            "source": ""
        }, 
        {
            "execution_count": null, 
            "cell_type": "code", 
            "metadata": {}, 
            "outputs": [], 
            "source": ""
        }, 
        {
            "execution_count": null, 
            "cell_type": "code", 
            "metadata": {}, 
            "outputs": [], 
            "source": ""
        }, 
        {
            "execution_count": null, 
            "cell_type": "code", 
            "metadata": {}, 
            "outputs": [], 
            "source": ""
        }, 
        {
            "execution_count": null, 
            "cell_type": "code", 
            "metadata": {}, 
            "outputs": [], 
            "source": ""
        }, 
        {
            "execution_count": null, 
            "cell_type": "code", 
            "metadata": {}, 
            "outputs": [], 
            "source": ""
        }, 
        {
            "execution_count": null, 
            "cell_type": "code", 
            "metadata": {}, 
            "outputs": [], 
            "source": ""
        }, 
        {
            "execution_count": null, 
            "cell_type": "code", 
            "metadata": {}, 
            "outputs": [], 
            "source": ""
        }, 
        {
            "execution_count": null, 
            "cell_type": "code", 
            "metadata": {}, 
            "outputs": [], 
            "source": ""
        }, 
        {
            "execution_count": null, 
            "cell_type": "code", 
            "metadata": {}, 
            "outputs": [], 
            "source": ""
        }, 
        {
            "execution_count": null, 
            "cell_type": "code", 
            "metadata": {}, 
            "outputs": [], 
            "source": ""
        }, 
        {
            "execution_count": null, 
            "cell_type": "code", 
            "metadata": {}, 
            "outputs": [], 
            "source": ""
        }, 
        {
            "execution_count": null, 
            "cell_type": "code", 
            "metadata": {}, 
            "outputs": [], 
            "source": ""
        }, 
        {
            "execution_count": null, 
            "cell_type": "code", 
            "metadata": {}, 
            "outputs": [], 
            "source": ""
        }, 
        {
            "execution_count": null, 
            "cell_type": "code", 
            "metadata": {}, 
            "outputs": [], 
            "source": ""
        }, 
        {
            "execution_count": null, 
            "cell_type": "code", 
            "metadata": {}, 
            "outputs": [], 
            "source": ""
        }, 
        {
            "execution_count": null, 
            "cell_type": "code", 
            "metadata": {}, 
            "outputs": [], 
            "source": ""
        }, 
        {
            "execution_count": null, 
            "cell_type": "code", 
            "metadata": {}, 
            "outputs": [], 
            "source": ""
        }, 
        {
            "execution_count": null, 
            "cell_type": "code", 
            "metadata": {}, 
            "outputs": [], 
            "source": ""
        }, 
        {
            "execution_count": null, 
            "cell_type": "code", 
            "metadata": {}, 
            "outputs": [], 
            "source": ""
        }, 
        {
            "execution_count": null, 
            "cell_type": "code", 
            "metadata": {}, 
            "outputs": [], 
            "source": ""
        }, 
        {
            "execution_count": null, 
            "cell_type": "code", 
            "metadata": {}, 
            "outputs": [], 
            "source": ""
        }, 
        {
            "execution_count": null, 
            "cell_type": "code", 
            "metadata": {}, 
            "outputs": [], 
            "source": ""
        }, 
        {
            "execution_count": null, 
            "cell_type": "code", 
            "metadata": {}, 
            "outputs": [], 
            "source": ""
        }, 
        {
            "execution_count": null, 
            "cell_type": "code", 
            "metadata": {}, 
            "outputs": [], 
            "source": ""
        }, 
        {
            "execution_count": null, 
            "cell_type": "code", 
            "metadata": {}, 
            "outputs": [], 
            "source": ""
        }, 
        {
            "execution_count": null, 
            "cell_type": "code", 
            "metadata": {}, 
            "outputs": [], 
            "source": ""
        }, 
        {
            "execution_count": null, 
            "cell_type": "code", 
            "metadata": {}, 
            "outputs": [], 
            "source": ""
        }, 
        {
            "execution_count": null, 
            "cell_type": "code", 
            "metadata": {}, 
            "outputs": [], 
            "source": ""
        }, 
        {
            "execution_count": null, 
            "cell_type": "code", 
            "metadata": {}, 
            "outputs": [], 
            "source": ""
        }, 
        {
            "execution_count": null, 
            "cell_type": "code", 
            "metadata": {}, 
            "outputs": [], 
            "source": ""
        }, 
        {
            "execution_count": null, 
            "cell_type": "code", 
            "metadata": {}, 
            "outputs": [], 
            "source": ""
        }, 
        {
            "execution_count": null, 
            "cell_type": "code", 
            "metadata": {}, 
            "outputs": [], 
            "source": ""
        }, 
        {
            "execution_count": null, 
            "cell_type": "code", 
            "metadata": {}, 
            "outputs": [], 
            "source": ""
        }, 
        {
            "execution_count": null, 
            "cell_type": "code", 
            "metadata": {}, 
            "outputs": [], 
            "source": ""
        }, 
        {
            "execution_count": null, 
            "cell_type": "code", 
            "metadata": {}, 
            "outputs": [], 
            "source": ""
        }, 
        {
            "execution_count": null, 
            "cell_type": "code", 
            "metadata": {}, 
            "outputs": [], 
            "source": ""
        }, 
        {
            "execution_count": null, 
            "cell_type": "code", 
            "metadata": {}, 
            "outputs": [], 
            "source": ""
        }
    ], 
    "metadata": {
        "kernelspec": {
            "display_name": "Python 3.6", 
            "name": "python3", 
            "language": "python"
        }, 
        "language_info": {
            "mimetype": "text/x-python", 
            "nbconvert_exporter": "python", 
            "version": "3.6.8", 
            "name": "python", 
            "file_extension": ".py", 
            "pygments_lexer": "ipython3", 
            "codemirror_mode": {
                "version": 3, 
                "name": "ipython"
            }
        }
    }, 
    "nbformat": 4
}