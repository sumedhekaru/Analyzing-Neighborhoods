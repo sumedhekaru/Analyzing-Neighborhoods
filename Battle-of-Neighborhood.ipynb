{
    "nbformat_minor": 1, 
    "cells": [
        {
            "source": "# Caursera Capstone Project - Battle of Neighborhood\nThis is the capstone project created to fulfill the requirements of the Data Science Professional Certificate offered by IBM through Coursera. The idea is to use the techniques learned throughout the specialization to solve a real-world problem using data science. ", 
            "cell_type": "markdown", 
            "metadata": {
                "collapsed": true
            }
        }, 
        {
            "source": "## Contents\n### 1. Introduction - Five Ws\n&emsp; 1.1 What is the problem? <br>\n&emsp; 1.2 Where is this? <br>\n&emsp; 1.3 When is this applicable? <br>\n&emsp; 1.4 Why do we do this? <br>\n&emsp; 1.5 Who cares? <br>\n\n### 2. Data Selection and clean up\n", 
            "cell_type": "markdown", 
            "metadata": {}
        }, 
        {
            "source": "## Contents\n### 1. Introduction - Five Ws\n#### &emsp; 1.1 What is the problem?\nI work in downtown Memphis, TN. In general, I live 30 mins away from work, when there is no traffic. However, since I am commuting when most of the people are commuting to there work, there is almost always traffic on the roads. So it is easily 45-60 mins one-way trip. Being optimistic, considering one-way is 45 mins, it is 90 mins for a round trip. For a week with 5 workdays,  it is 7.5 hours, for a month it is 30 hours, for a year it is 16 days. So for a given year, I am wasting full 16 days counting days and nights riding my car wasting my time. \n\n**So the problem is, where I should move to save some time from driving but still have good amenities such as restaurants, cafes, parks, shopping, etc within reachable distance.**\n\n#### &emsp; 1.2 Where is this?\nIt is Memphis, Tennesse, where birds sing and elephants bath, just kidding. But it is definitely is a fantastic place to live. There are tons of things to do around here. The population was roughly 700 k and rising. The job market is good. Most people are friendly. You should have some BBQs around the town, you won't leave Memphis.\n\n#### &emsp; 1.3 When is this applicable?\nI know this is a changing world! The time will change everything. The time of this analysis is August 2019. So don't blame me if you decided to move based on this data analysis in 2050. But the good thing is, I developed the program to pull the latest data. So if you re-run the program in 2050, you should be (may be...) fine? \n\n#### &emsp; 1.4 Why do we do this?\nIt is to primarily to save time. I am spending so much time on the road, 16 full days per year! just to commute.  People say time is money. So it is to save me some money. I am sure if you are in the same boat, following this, you might able to save some money with this. Who doesn't like saving money for next cruise trip? Waight, is someone paying me when I save my own time? Ney.. I will use this saved time to play with my daughters. Not everything is money. I think I have bipolar disorder.\n\n#### &emsp; 1.5 Who cares?\nDo you even here me? It is to save money (really the time). If you are someone who cares about saving money (time), you should read. If you have plenty of those lying around that you don't know what to do, this is not for you. You should spend some money buying a boat and traveling the world instead of reading this. \n", 
            "cell_type": "markdown", 
            "metadata": {}
        }, 
        {
            "source": "## 2. Data Selection and clean up\nObviously, we need data to analyze. This section will gather all the required data and do the clean-up job so that the data are usable. ", 
            "cell_type": "markdown", 
            "metadata": {}
        }, 
        {
            "source": "### 2.1 Load the required libraries.\nI will start by importing some libraries. These libraries are not nessasarry use by this section. But to keep it clean, I will just do that.", 
            "cell_type": "markdown", 
            "metadata": {}
        }, 
        {
            "execution_count": 1, 
            "cell_type": "code", 
            "metadata": {}, 
            "outputs": [
                {
                    "output_type": "stream", 
                    "name": "stdout", 
                    "text": "Beautiful Soup is ready for your service!\n"
                }
            ], 
            "source": "# Install beautiul soup 4 (If not already installed!)\n# This package will be used for web scraping.\ntry:\n    from bs4 import BeautifulSoup as bs\n    print('Beautiful Soup is ready for your service!')\nexcept:\n    !conda install -c anaconda beautifulsoup4 -y\n    from bs4 import BeautifulSoup as bs\n    print('Beautiful Soup is installed and ready for your service!')"
        }, 
        {
            "execution_count": 2, 
            "cell_type": "code", 
            "metadata": {}, 
            "outputs": [
                {
                    "output_type": "stream", 
                    "name": "stdout", 
                    "text": "GeoCorder is ready for your service!\n"
                }
            ], 
            "source": "# Install module to convert an address into latitude and longitude values\ntry:\n    from geopy.geocoders import Nominatim \n    print('GeoCorder is ready for your service!')\nexcept:\n    !conda install -c conda-forge geopy --yes \n    from geopy.geocoders import Nominatim \n    print('Geocorder is installed and ready for your service!')\n    "
        }, 
        {
            "execution_count": 3, 
            "cell_type": "code", 
            "metadata": {}, 
            "outputs": [], 
            "source": "# import libraries\nimport pandas as pd\nimport requests as rs\nimport numpy as np\n\nimport matplotlib.cm as cm\nimport matplotlib.colors as colors\n"
        }, 
        {
            "source": "### 2.2 Get the required data\nLet's start thinking about data.\n", 
            "cell_type": "markdown", 
            "metadata": {}
        }, 
        {
            "execution_count": 4, 
            "cell_type": "code", 
            "metadata": {}, 
            "outputs": [
                {
                    "output_type": "stream", 
                    "name": "stdout", 
                    "text": "35.1389307755102 -90.0281921632653\n1003, Monroe Avenue, Medical District, Memphis, Shelby County, Tennessee, 38104, USA\n"
                }
            ], 
            "source": "address = '1003 Monroe Ave'\n\ngeolocator = Nominatim(user_agent=\"foursquare_agent\", format_string=\"%s, Memphis TN\" )\nlocation = geolocator.geocode(address)\nlatitude = location.latitude\nlongitude = location.longitude\naddress = location.address\nprint(latitude, longitude)\nprint(address)"
        }, 
        {
            "execution_count": 5, 
            "cell_type": "code", 
            "metadata": {}, 
            "outputs": [], 
            "source": "# Following wikipedia page has all the neighborhood data. Let's use Beautiful Soup to get the required data.\nurl = 'https://en.wikipedia.org/wiki/List_of_neighborhoods_in_Memphis,_Tennessee'\nsource = rs.get(url)\nsoup = bs(source.content,'lxml')\n # print(soup.prettify())"
        }, 
        {
            "execution_count": 6, 
            "cell_type": "code", 
            "metadata": {}, 
            "outputs": [
                {
                    "output_type": "stream", 
                    "name": "stdout", 
                    "text": "['Downtown', 'Midtown', 'University District', 'East Memphis', 'North Memphis', 'Northeast', 'South Memphis', 'Southeast', 'East Parkway District', 'See also']\n['Downtown', 'Midtown', 'University District', 'East Memphis', 'North Memphis', 'Northeast', 'South Memphis', 'Southeast', 'East Parkway District']\n"
                }
            ], 
            "source": "tocs = soup.body.findAll('span',{'class' :'toctext' })\n\n# Obtain burrows\nburrow = []\n\nfor item in tocs:\n    burrow.append(item.text)\n\nprint(burrow)\n# Remove last item ('see also')\nburrow = burrow[0:-1]\nprint(burrow)\n    \n    "
        }, 
        {
            "execution_count": 9, 
            "cell_type": "code", 
            "metadata": {}, 
            "outputs": [
                {
                    "execution_count": 9, 
                    "metadata": {}, 
                    "data": {
                        "text/html": "<div>\n<style scoped>\n    .dataframe tbody tr th:only-of-type {\n        vertical-align: middle;\n    }\n\n    .dataframe tbody tr th {\n        vertical-align: top;\n    }\n\n    .dataframe thead th {\n        text-align: right;\n    }\n</style>\n<table border=\"1\" class=\"dataframe\">\n  <thead>\n    <tr style=\"text-align: right;\">\n      <th></th>\n      <th>Burrow</th>\n      <th>Neighborhood</th>\n    </tr>\n  </thead>\n  <tbody>\n    <tr>\n      <th>0</th>\n      <td>Downtown</td>\n      <td>Central Business District</td>\n    </tr>\n    <tr>\n      <th>1</th>\n      <td>Downtown</td>\n      <td>Edge District</td>\n    </tr>\n    <tr>\n      <th>2</th>\n      <td>Downtown</td>\n      <td>Harbor Town</td>\n    </tr>\n    <tr>\n      <th>3</th>\n      <td>Downtown</td>\n      <td>Linden</td>\n    </tr>\n    <tr>\n      <th>4</th>\n      <td>Downtown</td>\n      <td>Medical District</td>\n    </tr>\n    <tr>\n      <th>5</th>\n      <td>Downtown</td>\n      <td>Pinch District</td>\n    </tr>\n    <tr>\n      <th>6</th>\n      <td>Downtown</td>\n      <td>South Forum</td>\n    </tr>\n    <tr>\n      <th>7</th>\n      <td>Downtown</td>\n      <td>South Main Arts District</td>\n    </tr>\n    <tr>\n      <th>8</th>\n      <td>Downtown</td>\n      <td>Speedway Terrace</td>\n    </tr>\n    <tr>\n      <th>9</th>\n      <td>Downtown</td>\n      <td>Uptown/Greenlaw</td>\n    </tr>\n    <tr>\n      <th>10</th>\n      <td>Downtown</td>\n      <td>Victorian Village</td>\n    </tr>\n    <tr>\n      <th>11</th>\n      <td>Downtown</td>\n      <td>Warehouse District</td>\n    </tr>\n    <tr>\n      <th>12</th>\n      <td>Downtown</td>\n      <td>Winchester Park</td>\n    </tr>\n    <tr>\n      <th>13</th>\n      <td>Midtown</td>\n      <td>Annesdale</td>\n    </tr>\n    <tr>\n      <th>14</th>\n      <td>Midtown</td>\n      <td>Belleair</td>\n    </tr>\n    <tr>\n      <th>15</th>\n      <td>Midtown</td>\n      <td>Central Gardens</td>\n    </tr>\n    <tr>\n      <th>16</th>\n      <td>Midtown</td>\n      <td>Chickasaw Gardens</td>\n    </tr>\n    <tr>\n      <th>17</th>\n      <td>Midtown</td>\n      <td>Cooper-Young</td>\n    </tr>\n    <tr>\n      <th>18</th>\n      <td>Midtown</td>\n      <td>Crosstown</td>\n    </tr>\n    <tr>\n      <th>19</th>\n      <td>Midtown</td>\n      <td>Evergreen</td>\n    </tr>\n    <tr>\n      <th>20</th>\n      <td>Midtown</td>\n      <td>Hein Park</td>\n    </tr>\n    <tr>\n      <th>21</th>\n      <td>Midtown</td>\n      <td>Idlewild</td>\n    </tr>\n    <tr>\n      <th>22</th>\n      <td>Midtown</td>\n      <td>Lea's Woods</td>\n    </tr>\n    <tr>\n      <th>23</th>\n      <td>Midtown</td>\n      <td>Lenox</td>\n    </tr>\n    <tr>\n      <th>24</th>\n      <td>Midtown</td>\n      <td>Rozelle</td>\n    </tr>\n    <tr>\n      <th>25</th>\n      <td>Midtown</td>\n      <td>Tucker-Jefferson</td>\n    </tr>\n    <tr>\n      <th>26</th>\n      <td>Midtown</td>\n      <td>Vollintine-Evergreen, including Vollintine Hills</td>\n    </tr>\n    <tr>\n      <th>27</th>\n      <td>University District</td>\n      <td>East Buntyn</td>\n    </tr>\n    <tr>\n      <th>28</th>\n      <td>University District</td>\n      <td>Normal Station</td>\n    </tr>\n    <tr>\n      <th>29</th>\n      <td>University District</td>\n      <td>Joffre</td>\n    </tr>\n    <tr>\n      <th>...</th>\n      <td>...</td>\n      <td>...</td>\n    </tr>\n    <tr>\n      <th>77</th>\n      <td>South Memphis</td>\n      <td>Pine Hill</td>\n    </tr>\n    <tr>\n      <th>78</th>\n      <td>South Memphis</td>\n      <td>Prospect Park</td>\n    </tr>\n    <tr>\n      <th>79</th>\n      <td>South Memphis</td>\n      <td>Riverside</td>\n    </tr>\n    <tr>\n      <th>80</th>\n      <td>South Memphis</td>\n      <td>Ruby Estates</td>\n    </tr>\n    <tr>\n      <th>81</th>\n      <td>South Memphis</td>\n      <td>Southern Heights</td>\n    </tr>\n    <tr>\n      <th>82</th>\n      <td>South Memphis</td>\n      <td>Soulsville</td>\n    </tr>\n    <tr>\n      <th>83</th>\n      <td>South Memphis</td>\n      <td>Walker Homes</td>\n    </tr>\n    <tr>\n      <th>84</th>\n      <td>South Memphis</td>\n      <td>West Junction</td>\n    </tr>\n    <tr>\n      <th>85</th>\n      <td>South Memphis</td>\n      <td>Westwood</td>\n    </tr>\n    <tr>\n      <th>86</th>\n      <td>South Memphis</td>\n      <td>Whitehaven</td>\n    </tr>\n    <tr>\n      <th>87</th>\n      <td>South Memphis</td>\n      <td>Wilbert Heights</td>\n    </tr>\n    <tr>\n      <th>88</th>\n      <td>Southeast</td>\n      <td>Bethel Grove</td>\n    </tr>\n    <tr>\n      <th>89</th>\n      <td>Southeast</td>\n      <td>Capleville</td>\n    </tr>\n    <tr>\n      <th>90</th>\n      <td>Southeast</td>\n      <td>Castalia</td>\n    </tr>\n    <tr>\n      <th>91</th>\n      <td>Southeast</td>\n      <td>Cherokee</td>\n    </tr>\n    <tr>\n      <th>92</th>\n      <td>Southeast</td>\n      <td>Easthaven</td>\n    </tr>\n    <tr>\n      <th>93</th>\n      <td>Southeast</td>\n      <td>Fairlawn</td>\n    </tr>\n    <tr>\n      <th>94</th>\n      <td>Southeast</td>\n      <td>Fox Meadows</td>\n    </tr>\n    <tr>\n      <th>95</th>\n      <td>Southeast</td>\n      <td>Hickory Hill</td>\n    </tr>\n    <tr>\n      <th>96</th>\n      <td>Southeast</td>\n      <td>Magnolia</td>\n    </tr>\n    <tr>\n      <th>97</th>\n      <td>Southeast</td>\n      <td>Oakhaven</td>\n    </tr>\n    <tr>\n      <th>98</th>\n      <td>Southeast</td>\n      <td>Orange Mound</td>\n    </tr>\n    <tr>\n      <th>99</th>\n      <td>Southeast</td>\n      <td>Parkway Village</td>\n    </tr>\n    <tr>\n      <th>100</th>\n      <td>Southeast</td>\n      <td>Riverdale</td>\n    </tr>\n    <tr>\n      <th>101</th>\n      <td>Southeast</td>\n      <td>Southwind</td>\n    </tr>\n    <tr>\n      <th>102</th>\n      <td>East Parkway District</td>\n      <td>Fairgrounds</td>\n    </tr>\n    <tr>\n      <th>103</th>\n      <td>East Parkway District</td>\n      <td>Glenview</td>\n    </tr>\n    <tr>\n      <th>104</th>\n      <td>East Parkway District</td>\n      <td>Lamar Avenue (Highway 78)</td>\n    </tr>\n    <tr>\n      <th>105</th>\n      <td>East Parkway District</td>\n      <td>Poplar Avenue</td>\n    </tr>\n    <tr>\n      <th>106</th>\n      <td>East Parkway District</td>\n      <td>Union Extended</td>\n    </tr>\n  </tbody>\n</table>\n<p>107 rows \u00d7 2 columns</p>\n</div>", 
                        "text/plain": "                    Burrow                                      Neighborhood\n0                 Downtown                         Central Business District\n1                 Downtown                                     Edge District\n2                 Downtown                                       Harbor Town\n3                 Downtown                                            Linden\n4                 Downtown                                  Medical District\n5                 Downtown                                    Pinch District\n6                 Downtown                                       South Forum\n7                 Downtown                          South Main Arts District\n8                 Downtown                                  Speedway Terrace\n9                 Downtown                                   Uptown/Greenlaw\n10                Downtown                                 Victorian Village\n11                Downtown                                Warehouse District\n12                Downtown                                   Winchester Park\n13                 Midtown                                         Annesdale\n14                 Midtown                                          Belleair\n15                 Midtown                                   Central Gardens\n16                 Midtown                                 Chickasaw Gardens\n17                 Midtown                                      Cooper-Young\n18                 Midtown                                         Crosstown\n19                 Midtown                                         Evergreen\n20                 Midtown                                         Hein Park\n21                 Midtown                                          Idlewild\n22                 Midtown                                       Lea's Woods\n23                 Midtown                                             Lenox\n24                 Midtown                                           Rozelle\n25                 Midtown                                  Tucker-Jefferson\n26                 Midtown  Vollintine-Evergreen, including Vollintine Hills\n27     University District                                       East Buntyn\n28     University District                                    Normal Station\n29     University District                                            Joffre\n..                     ...                                               ...\n77           South Memphis                                         Pine Hill\n78           South Memphis                                     Prospect Park\n79           South Memphis                                         Riverside\n80           South Memphis                                      Ruby Estates\n81           South Memphis                                  Southern Heights\n82           South Memphis                                        Soulsville\n83           South Memphis                                      Walker Homes\n84           South Memphis                                     West Junction\n85           South Memphis                                          Westwood\n86           South Memphis                                        Whitehaven\n87           South Memphis                                   Wilbert Heights\n88               Southeast                                      Bethel Grove\n89               Southeast                                        Capleville\n90               Southeast                                          Castalia\n91               Southeast                                          Cherokee\n92               Southeast                                         Easthaven\n93               Southeast                                          Fairlawn\n94               Southeast                                       Fox Meadows\n95               Southeast                                      Hickory Hill\n96               Southeast                                          Magnolia\n97               Southeast                                          Oakhaven\n98               Southeast                                      Orange Mound\n99               Southeast                                   Parkway Village\n100              Southeast                                         Riverdale\n101              Southeast                                         Southwind\n102  East Parkway District                                       Fairgrounds\n103  East Parkway District                                          Glenview\n104  East Parkway District                         Lamar Avenue (Highway 78)\n105  East Parkway District                                     Poplar Avenue\n106  East Parkway District                                    Union Extended\n\n[107 rows x 2 columns]"
                    }, 
                    "output_type": "execute_result"
                }
            ], 
            "source": "contents = soup.body.findAll('ul')\n\n# Create array with burrow and neighborhood data\nneighborhood = []\n\nfor i in range(1,len(burrow)+1):\n    for litag in contents[i].findAll('li'):\n        #print(litag.text)\n        neighborhood.append([burrow[i-1],litag.text])\n\n#print(neighborhood)\n\ndf = pd.DataFrame(neighborhood, columns=['Burrow','Neighborhood'])\ndf"
        }, 
        {
            "execution_count": 17, 
            "cell_type": "code", 
            "metadata": {}, 
            "outputs": [
                {
                    "output_type": "stream", 
                    "name": "stdout", 
                    "text": "None\nHarbor Edge Drive, Cotton Row Historic District, Memphis, Shelby County, Tennessee, 38103, USA\nHarbor Town Boulevard, Memphis, Shelby County, Tennessee, 38103, USA\nLinden Avenue, Medical District, Memphis, Shelby County, Tennessee, 38104, USA\nMedical District, Memphis, Shelby County, Tennessee, 38163, USA\nNone\nNone\nNone\nSpeedway Terrace Baptist Church, Faxon Avenue, Crosstown, Memphis, Shelby County, Tennessee, 38105, USA\nNone\nNone\nSpaghetti Warehouse, 40, Huling Avenue, Beale Street Historic District, Memphis, Shelby County, Tennessee, 38103, USA\nWinchester Park, Medical District, Memphis, Shelby County, Tennessee, USA\nTennessee Brewery, Tennessee Street, Cotton Row Historic District, Memphis, Shelby County, Tennessee, 38103, USA\nBelleair Drive, Memphis, Shelby County, Tennessee, 38104, USA\nTennessee Brewery, Tennessee Street, Cotton Row Historic District, Memphis, Shelby County, Tennessee, 38103, USA\nChickasaw Gardens, Shelby County, Tennessee, 38111, USA\nNone\nCrosstown, Memphis, Shelby County, Tennessee, 38107, USA\nNorth Evergreen Street, Memphis, Shelby County, Tennessee, 38108, USA\nNone\nNorth Idlewild Street, Crosstown, Memphis, Shelby County, Tennessee, 38104, USA\nNone\nLenox, Shelby County, Tennessee, 38104, USA\nRozelle Street, Memphis, Shelby County, Tennessee, 38114, USA\nNone\nNone\nBuntyn, Shelby County, Tennessee, 38114, USA\nNormal, Shelby County, Tennessee, 38152, USA\nJoffre Avenue, Memphis, Shelby County, Tennessee, 38111, USA\nMessick High School, Spottswood Avenue, Memphis, Shelby County, Tennessee, 38111, USA\nRed Acres Place, Memphis, Shelby County, Tennessee, 38111, USA\nBalmoral Presbyterian Church, Quince Road, Memphis, Shelby County, Tennessee, 38119, USA\nBerryhill Road, Memphis, Shelby County, Tennessee, 38018, USA\nCherry Road, Memphis, Shelby County, Tennessee, 38117, USA\nNone\nFirst Baptist Church of Fisherville, Macon Road, Memphis, Shelby County, Tennessee, 38017, USA\nNone\nHigh Point Terrace, Memphis, Shelby County, Tennessee, 38122, USA\nRiver Oaks, Shelby County, Tennessee, 38120, USA\nSea Isle Park, Memphis, Shelby County, Tennessee, USA\nMemphis, Shelby County, Tennessee, USA\nWhite Station, Shelby County, Tennessee, 38120, USA\nDouglass Park, Memphis, Shelby County, Tennessee, USA\nFrayser, Shelby County, Tennessee, 38127, USA\nHollywood, Shelby County, Tennessee, 38108, USA\nHyde Park Boulevard, Memphis, Shelby County, Tennessee, 38108, USA\nKlondike Park, 1235, Crosstown, Memphis, Shelby County, Tennessee, 38107, USA\nNew Chicago Avenue, Memphis, Shelby County, Tennessee, 38107, USA\nNone\nSmokey Lane, Memphis, Shelby County, Tennessee, 38141, USA\nNone\nNone\nBinghampton, Shelby County, Tennessee, 38112, USA\nNutbush Place, Memphis, Shelby County, Tennessee, 38016, USA\nRaleigh, Shelby County, Tennessee, 38128, USA\nSycamore View Road, Memphis, Shelby County, Tennessee, 38134, USA\nSylvan Heights, Shelby County, Tennessee, 38107, USA\nNone\nBarton Heights Church, South Third Street, Memphis, Shelby County, Tennessee, 38109, USA\nBoxtown Road, Memphis, Shelby County, Tennessee, 38109, USA\nBunker Hill, Shelby County, Tennessee, 38106, USA\nCoro Lake, Tomco Cove, Memphis, Shelby County, Tennessee, 38109, USA\nNone\nDixie Road, Memphis, Shelby County, Tennessee, 38109, USA\nNone\nNone\nNone\nNone\nNone\nNone\nNone\nLakeview Road, Memphis, Shelby County, Tennessee, 38116, USA\nNone\nLongview Drive, Memphis, Shelby County, Tennessee, 38106, USA\nMallory Heights Drive, Memphis, Shelby County, Tennessee, 38109, USA\nNehemiah Way, Memphis, Shelby County, Tennessee, 38109, USA\nMemphis, Shelby County, Tennessee, USA\nProspect Street, Memphis, Shelby County, Tennessee, 38106, USA\nMemphis, Shelby County, Tennessee, USA\nNone\nNone\nSoulsville Charter School, 1115, College Street, Memphis, Shelby County, Tennessee, 38126, USA\nWalker Avenue, Memphis, Shelby County, Tennessee, 38106, USA\nWest Junction, Memphis, Shelby County, Tennessee, 38109, USA\nWestwood Park, Memphis, Shelby County, Tennessee, 38109, USA\nWhitehaven, Shelby County, Tennessee, 38116, USA\nNone\nBethel Avenue, Memphis, Shelby County, Tennessee, 38107, USA\nCapleville, Shelby County, Tennessee, 38115:38118, USA\nCastalia Street, Memphis, Shelby County, Tennessee, 38114, USA\nCherokee Creek, Memphis, Shelby County, Tennessee, 38111, USA\nEasthaven Church of Christ, Tchulahoma Road, Memphis, Shelby County, Tennessee, 38118, United States of America\nFairlawn Church, Pendleton Street, Memphis, Shelby County, Tennessee, 38114, USA\nFox Meadows Road, Memphis, Shelby County, Tennessee, 38115, USA\nHickory Hill Park, Memphis, Shelby County, Tennessee, USA\nMagnolia Grove, Memphis, Shelby County, Tennessee, 38120, USA\nOakhaven Park, Memphis, Shelby County, Tennessee, USA\nOrange Mound Community Garden, Memphis, Shelby County, Tennessee, USA\nParkway Village, Shelby County, Tennessee, 38115:38118, USA\nRiverdale Crossing, Memphis, Shelby County, Tennessee, USA\nSouthwind, Shelby County, Tennessee, 38125, USA\nMid-South Fairgrounds, Early Maxwell Boulevard, Memphis, Shelby County, Tennessee, 38104, USA\nGlenview Park, Memphis, Shelby County, Tennessee, USA\nLamar Avenue, Memphis, Shelby County, Tennessee, 38118, USA\nPoplar Avenue, Cotton Row Historic District, Memphis, Shelby County, Tennessee, 38105, USA\nNone\n"
                }, 
                {
                    "ename": "AttributeError", 
                    "evalue": "'NoneType' object has no attribute 'latitude'", 
                    "traceback": [
                        "\u001b[0;31m---------------------------------------------------------------------------\u001b[0m", 
                        "\u001b[0;31mAttributeError\u001b[0m                            Traceback (most recent call last)", 
                        "\u001b[0;32m<ipython-input-17-c4c510eee689>\u001b[0m in \u001b[0;36m<module>\u001b[0;34m\u001b[0m\n\u001b[1;32m     19\u001b[0m \u001b[0;34m\u001b[0m\u001b[0m\n\u001b[1;32m     20\u001b[0m \u001b[0;34m\u001b[0m\u001b[0m\n\u001b[0;32m---> 21\u001b[0;31m \u001b[0mlatitude\u001b[0m \u001b[0;34m=\u001b[0m \u001b[0mlocation\u001b[0m\u001b[0;34m.\u001b[0m\u001b[0mlatitude\u001b[0m\u001b[0;34m\u001b[0m\u001b[0;34m\u001b[0m\u001b[0m\n\u001b[0m\u001b[1;32m     22\u001b[0m \u001b[0mlongitude\u001b[0m \u001b[0;34m=\u001b[0m \u001b[0mlocation\u001b[0m\u001b[0;34m.\u001b[0m\u001b[0mlongitude\u001b[0m\u001b[0;34m\u001b[0m\u001b[0;34m\u001b[0m\u001b[0m\n\u001b[1;32m     23\u001b[0m \u001b[0maddress\u001b[0m \u001b[0;34m=\u001b[0m \u001b[0mlocation\u001b[0m\u001b[0;34m.\u001b[0m\u001b[0maddress\u001b[0m\u001b[0;34m\u001b[0m\u001b[0;34m\u001b[0m\u001b[0m\n", 
                        "\u001b[0;31mAttributeError\u001b[0m: 'NoneType' object has no attribute 'latitude'"
                    ], 
                    "output_type": "error"
                }
            ], 
            "source": "geolocator = Nominatim(user_agent=\"foursquare_agent\", format_string=\"%s, Memphis, Tennessee\")\n\nLat = []\nLon =[]\naddress = []\n\nfor i in range(df.shape[0]):\n    location = geolocator.geocode(df['Neighborhood'][i])\n    print(location)\n    \n    if location != None:\n        Lat.append(location.latitude)\n        Lon.append(location.longitude)\n        address.append(location.address)\n    else:\n        Lat.append('NaN')\n        Lon.append('NaN')\n        address.append('NaN')\n"
        }, 
        {
            "execution_count": 20, 
            "cell_type": "code", 
            "metadata": {}, 
            "outputs": [
                {
                    "ename": "NameError", 
                    "evalue": "name 'Address' is not defined", 
                    "traceback": [
                        "\u001b[0;31m---------------------------------------------------------------------------\u001b[0m", 
                        "\u001b[0;31mNameError\u001b[0m                                 Traceback (most recent call last)", 
                        "\u001b[0;32m<ipython-input-20-b994d984f530>\u001b[0m in \u001b[0;36m<module>\u001b[0;34m\u001b[0m\n\u001b[1;32m      1\u001b[0m \u001b[0mdf\u001b[0m\u001b[0;34m[\u001b[0m\u001b[0;34m'Latitude'\u001b[0m\u001b[0;34m]\u001b[0m \u001b[0;34m=\u001b[0m \u001b[0mLat\u001b[0m\u001b[0;34m\u001b[0m\u001b[0;34m\u001b[0m\u001b[0m\n\u001b[1;32m      2\u001b[0m \u001b[0mdf\u001b[0m\u001b[0;34m[\u001b[0m\u001b[0;34m'Longitude'\u001b[0m\u001b[0;34m]\u001b[0m \u001b[0;34m=\u001b[0m \u001b[0mLon\u001b[0m\u001b[0;34m\u001b[0m\u001b[0;34m\u001b[0m\u001b[0m\n\u001b[0;32m----> 3\u001b[0;31m \u001b[0mdf\u001b[0m\u001b[0;34m[\u001b[0m\u001b[0;34m'Address'\u001b[0m\u001b[0;34m]\u001b[0m \u001b[0;34m=\u001b[0m \u001b[0mAddress\u001b[0m\u001b[0;34m\u001b[0m\u001b[0;34m\u001b[0m\u001b[0m\n\u001b[0m\u001b[1;32m      4\u001b[0m \u001b[0mdf\u001b[0m\u001b[0;34m.\u001b[0m\u001b[0mhead\u001b[0m\u001b[0;34m(\u001b[0m\u001b[0;34m)\u001b[0m\u001b[0;34m\u001b[0m\u001b[0;34m\u001b[0m\u001b[0m\n", 
                        "\u001b[0;31mNameError\u001b[0m: name 'Address' is not defined"
                    ], 
                    "output_type": "error"
                }
            ], 
            "source": "df['Latitude'] = Lat\ndf['Longitude'] = Lon\ndf['Address'] = Address\ndf.head()"
        }, 
        {
            "execution_count": null, 
            "cell_type": "code", 
            "metadata": {}, 
            "outputs": [], 
            "source": ""
        }, 
        {
            "execution_count": null, 
            "cell_type": "code", 
            "metadata": {}, 
            "outputs": [], 
            "source": ""
        }, 
        {
            "execution_count": null, 
            "cell_type": "code", 
            "metadata": {}, 
            "outputs": [], 
            "source": ""
        }, 
        {
            "execution_count": null, 
            "cell_type": "code", 
            "metadata": {}, 
            "outputs": [], 
            "source": ""
        }, 
        {
            "execution_count": null, 
            "cell_type": "code", 
            "metadata": {}, 
            "outputs": [], 
            "source": ""
        }, 
        {
            "execution_count": null, 
            "cell_type": "code", 
            "metadata": {}, 
            "outputs": [], 
            "source": ""
        }, 
        {
            "execution_count": null, 
            "cell_type": "code", 
            "metadata": {}, 
            "outputs": [], 
            "source": ""
        }, 
        {
            "execution_count": null, 
            "cell_type": "code", 
            "metadata": {}, 
            "outputs": [], 
            "source": ""
        }, 
        {
            "execution_count": null, 
            "cell_type": "code", 
            "metadata": {}, 
            "outputs": [], 
            "source": ""
        }, 
        {
            "execution_count": null, 
            "cell_type": "code", 
            "metadata": {}, 
            "outputs": [], 
            "source": ""
        }, 
        {
            "execution_count": null, 
            "cell_type": "code", 
            "metadata": {}, 
            "outputs": [], 
            "source": ""
        }, 
        {
            "execution_count": null, 
            "cell_type": "code", 
            "metadata": {}, 
            "outputs": [], 
            "source": ""
        }, 
        {
            "execution_count": null, 
            "cell_type": "code", 
            "metadata": {}, 
            "outputs": [], 
            "source": ""
        }, 
        {
            "execution_count": null, 
            "cell_type": "code", 
            "metadata": {}, 
            "outputs": [], 
            "source": ""
        }, 
        {
            "execution_count": null, 
            "cell_type": "code", 
            "metadata": {}, 
            "outputs": [], 
            "source": ""
        }, 
        {
            "execution_count": null, 
            "cell_type": "code", 
            "metadata": {}, 
            "outputs": [], 
            "source": ""
        }, 
        {
            "execution_count": null, 
            "cell_type": "code", 
            "metadata": {}, 
            "outputs": [], 
            "source": ""
        }, 
        {
            "execution_count": null, 
            "cell_type": "code", 
            "metadata": {}, 
            "outputs": [], 
            "source": ""
        }, 
        {
            "execution_count": null, 
            "cell_type": "code", 
            "metadata": {}, 
            "outputs": [], 
            "source": ""
        }, 
        {
            "execution_count": null, 
            "cell_type": "code", 
            "metadata": {}, 
            "outputs": [], 
            "source": ""
        }, 
        {
            "execution_count": null, 
            "cell_type": "code", 
            "metadata": {}, 
            "outputs": [], 
            "source": ""
        }, 
        {
            "execution_count": null, 
            "cell_type": "code", 
            "metadata": {}, 
            "outputs": [], 
            "source": ""
        }, 
        {
            "execution_count": null, 
            "cell_type": "code", 
            "metadata": {}, 
            "outputs": [], 
            "source": ""
        }, 
        {
            "execution_count": null, 
            "cell_type": "code", 
            "metadata": {}, 
            "outputs": [], 
            "source": ""
        }, 
        {
            "execution_count": null, 
            "cell_type": "code", 
            "metadata": {}, 
            "outputs": [], 
            "source": ""
        }, 
        {
            "execution_count": null, 
            "cell_type": "code", 
            "metadata": {}, 
            "outputs": [], 
            "source": ""
        }, 
        {
            "execution_count": null, 
            "cell_type": "code", 
            "metadata": {}, 
            "outputs": [], 
            "source": ""
        }, 
        {
            "execution_count": null, 
            "cell_type": "code", 
            "metadata": {}, 
            "outputs": [], 
            "source": ""
        }, 
        {
            "execution_count": null, 
            "cell_type": "code", 
            "metadata": {}, 
            "outputs": [], 
            "source": ""
        }, 
        {
            "execution_count": null, 
            "cell_type": "code", 
            "metadata": {}, 
            "outputs": [], 
            "source": ""
        }, 
        {
            "execution_count": null, 
            "cell_type": "code", 
            "metadata": {}, 
            "outputs": [], 
            "source": ""
        }, 
        {
            "execution_count": null, 
            "cell_type": "code", 
            "metadata": {}, 
            "outputs": [], 
            "source": ""
        }, 
        {
            "execution_count": null, 
            "cell_type": "code", 
            "metadata": {}, 
            "outputs": [], 
            "source": ""
        }, 
        {
            "execution_count": null, 
            "cell_type": "code", 
            "metadata": {}, 
            "outputs": [], 
            "source": ""
        }, 
        {
            "execution_count": null, 
            "cell_type": "code", 
            "metadata": {}, 
            "outputs": [], 
            "source": ""
        }, 
        {
            "execution_count": null, 
            "cell_type": "code", 
            "metadata": {}, 
            "outputs": [], 
            "source": ""
        }, 
        {
            "execution_count": null, 
            "cell_type": "code", 
            "metadata": {}, 
            "outputs": [], 
            "source": ""
        }, 
        {
            "execution_count": null, 
            "cell_type": "code", 
            "metadata": {}, 
            "outputs": [], 
            "source": ""
        }, 
        {
            "execution_count": null, 
            "cell_type": "code", 
            "metadata": {}, 
            "outputs": [], 
            "source": ""
        }, 
        {
            "execution_count": null, 
            "cell_type": "code", 
            "metadata": {}, 
            "outputs": [], 
            "source": ""
        }, 
        {
            "execution_count": null, 
            "cell_type": "code", 
            "metadata": {}, 
            "outputs": [], 
            "source": ""
        }, 
        {
            "execution_count": null, 
            "cell_type": "code", 
            "metadata": {}, 
            "outputs": [], 
            "source": ""
        }, 
        {
            "execution_count": null, 
            "cell_type": "code", 
            "metadata": {}, 
            "outputs": [], 
            "source": ""
        }, 
        {
            "execution_count": null, 
            "cell_type": "code", 
            "metadata": {}, 
            "outputs": [], 
            "source": ""
        }, 
        {
            "execution_count": null, 
            "cell_type": "code", 
            "metadata": {}, 
            "outputs": [], 
            "source": ""
        }, 
        {
            "execution_count": null, 
            "cell_type": "code", 
            "metadata": {}, 
            "outputs": [], 
            "source": ""
        }, 
        {
            "execution_count": null, 
            "cell_type": "code", 
            "metadata": {}, 
            "outputs": [], 
            "source": ""
        }, 
        {
            "execution_count": null, 
            "cell_type": "code", 
            "metadata": {}, 
            "outputs": [], 
            "source": ""
        }, 
        {
            "execution_count": null, 
            "cell_type": "code", 
            "metadata": {}, 
            "outputs": [], 
            "source": ""
        }, 
        {
            "execution_count": null, 
            "cell_type": "code", 
            "metadata": {}, 
            "outputs": [], 
            "source": ""
        }, 
        {
            "execution_count": null, 
            "cell_type": "code", 
            "metadata": {}, 
            "outputs": [], 
            "source": ""
        }, 
        {
            "execution_count": null, 
            "cell_type": "code", 
            "metadata": {}, 
            "outputs": [], 
            "source": ""
        }, 
        {
            "execution_count": null, 
            "cell_type": "code", 
            "metadata": {}, 
            "outputs": [], 
            "source": ""
        }, 
        {
            "execution_count": null, 
            "cell_type": "code", 
            "metadata": {}, 
            "outputs": [], 
            "source": ""
        }, 
        {
            "execution_count": null, 
            "cell_type": "code", 
            "metadata": {}, 
            "outputs": [], 
            "source": ""
        }, 
        {
            "execution_count": null, 
            "cell_type": "code", 
            "metadata": {}, 
            "outputs": [], 
            "source": ""
        }, 
        {
            "execution_count": null, 
            "cell_type": "code", 
            "metadata": {}, 
            "outputs": [], 
            "source": ""
        }, 
        {
            "execution_count": null, 
            "cell_type": "code", 
            "metadata": {}, 
            "outputs": [], 
            "source": ""
        }, 
        {
            "execution_count": null, 
            "cell_type": "code", 
            "metadata": {}, 
            "outputs": [], 
            "source": ""
        }, 
        {
            "execution_count": null, 
            "cell_type": "code", 
            "metadata": {}, 
            "outputs": [], 
            "source": ""
        }, 
        {
            "execution_count": null, 
            "cell_type": "code", 
            "metadata": {}, 
            "outputs": [], 
            "source": ""
        }, 
        {
            "execution_count": null, 
            "cell_type": "code", 
            "metadata": {}, 
            "outputs": [], 
            "source": ""
        }, 
        {
            "execution_count": null, 
            "cell_type": "code", 
            "metadata": {}, 
            "outputs": [], 
            "source": ""
        }, 
        {
            "execution_count": null, 
            "cell_type": "code", 
            "metadata": {}, 
            "outputs": [], 
            "source": ""
        }, 
        {
            "execution_count": null, 
            "cell_type": "code", 
            "metadata": {}, 
            "outputs": [], 
            "source": ""
        }, 
        {
            "execution_count": null, 
            "cell_type": "code", 
            "metadata": {}, 
            "outputs": [], 
            "source": ""
        }, 
        {
            "execution_count": null, 
            "cell_type": "code", 
            "metadata": {}, 
            "outputs": [], 
            "source": ""
        }, 
        {
            "execution_count": null, 
            "cell_type": "code", 
            "metadata": {}, 
            "outputs": [], 
            "source": ""
        }, 
        {
            "execution_count": null, 
            "cell_type": "code", 
            "metadata": {}, 
            "outputs": [], 
            "source": ""
        }, 
        {
            "execution_count": null, 
            "cell_type": "code", 
            "metadata": {}, 
            "outputs": [], 
            "source": ""
        }, 
        {
            "execution_count": null, 
            "cell_type": "code", 
            "metadata": {}, 
            "outputs": [], 
            "source": ""
        }, 
        {
            "execution_count": null, 
            "cell_type": "code", 
            "metadata": {}, 
            "outputs": [], 
            "source": ""
        }, 
        {
            "execution_count": null, 
            "cell_type": "code", 
            "metadata": {}, 
            "outputs": [], 
            "source": ""
        }, 
        {
            "execution_count": null, 
            "cell_type": "code", 
            "metadata": {}, 
            "outputs": [], 
            "source": ""
        }, 
        {
            "execution_count": null, 
            "cell_type": "code", 
            "metadata": {}, 
            "outputs": [], 
            "source": ""
        }, 
        {
            "execution_count": null, 
            "cell_type": "code", 
            "metadata": {}, 
            "outputs": [], 
            "source": ""
        }, 
        {
            "execution_count": null, 
            "cell_type": "code", 
            "metadata": {}, 
            "outputs": [], 
            "source": ""
        }, 
        {
            "execution_count": null, 
            "cell_type": "code", 
            "metadata": {}, 
            "outputs": [], 
            "source": ""
        }, 
        {
            "execution_count": null, 
            "cell_type": "code", 
            "metadata": {}, 
            "outputs": [], 
            "source": ""
        }, 
        {
            "execution_count": null, 
            "cell_type": "code", 
            "metadata": {}, 
            "outputs": [], 
            "source": ""
        }, 
        {
            "execution_count": null, 
            "cell_type": "code", 
            "metadata": {}, 
            "outputs": [], 
            "source": ""
        }, 
        {
            "execution_count": null, 
            "cell_type": "code", 
            "metadata": {}, 
            "outputs": [], 
            "source": ""
        }, 
        {
            "execution_count": null, 
            "cell_type": "code", 
            "metadata": {}, 
            "outputs": [], 
            "source": ""
        }, 
        {
            "execution_count": null, 
            "cell_type": "code", 
            "metadata": {}, 
            "outputs": [], 
            "source": ""
        }, 
        {
            "execution_count": null, 
            "cell_type": "code", 
            "metadata": {}, 
            "outputs": [], 
            "source": ""
        }, 
        {
            "execution_count": null, 
            "cell_type": "code", 
            "metadata": {}, 
            "outputs": [], 
            "source": ""
        }, 
        {
            "execution_count": null, 
            "cell_type": "code", 
            "metadata": {}, 
            "outputs": [], 
            "source": ""
        }, 
        {
            "execution_count": null, 
            "cell_type": "code", 
            "metadata": {}, 
            "outputs": [], 
            "source": ""
        }, 
        {
            "execution_count": null, 
            "cell_type": "code", 
            "metadata": {}, 
            "outputs": [], 
            "source": ""
        }, 
        {
            "execution_count": null, 
            "cell_type": "code", 
            "metadata": {}, 
            "outputs": [], 
            "source": ""
        }, 
        {
            "execution_count": null, 
            "cell_type": "code", 
            "metadata": {}, 
            "outputs": [], 
            "source": ""
        }, 
        {
            "execution_count": null, 
            "cell_type": "code", 
            "metadata": {}, 
            "outputs": [], 
            "source": ""
        }, 
        {
            "execution_count": null, 
            "cell_type": "code", 
            "metadata": {}, 
            "outputs": [], 
            "source": ""
        }, 
        {
            "execution_count": null, 
            "cell_type": "code", 
            "metadata": {}, 
            "outputs": [], 
            "source": ""
        }, 
        {
            "execution_count": null, 
            "cell_type": "code", 
            "metadata": {}, 
            "outputs": [], 
            "source": ""
        }, 
        {
            "execution_count": null, 
            "cell_type": "code", 
            "metadata": {}, 
            "outputs": [], 
            "source": ""
        }, 
        {
            "execution_count": null, 
            "cell_type": "code", 
            "metadata": {}, 
            "outputs": [], 
            "source": ""
        }, 
        {
            "execution_count": null, 
            "cell_type": "code", 
            "metadata": {}, 
            "outputs": [], 
            "source": ""
        }, 
        {
            "execution_count": null, 
            "cell_type": "code", 
            "metadata": {}, 
            "outputs": [], 
            "source": ""
        }, 
        {
            "execution_count": null, 
            "cell_type": "code", 
            "metadata": {}, 
            "outputs": [], 
            "source": ""
        }, 
        {
            "execution_count": null, 
            "cell_type": "code", 
            "metadata": {}, 
            "outputs": [], 
            "source": ""
        }, 
        {
            "execution_count": null, 
            "cell_type": "code", 
            "metadata": {}, 
            "outputs": [], 
            "source": ""
        }, 
        {
            "execution_count": null, 
            "cell_type": "code", 
            "metadata": {}, 
            "outputs": [], 
            "source": ""
        }, 
        {
            "execution_count": null, 
            "cell_type": "code", 
            "metadata": {}, 
            "outputs": [], 
            "source": ""
        }, 
        {
            "execution_count": null, 
            "cell_type": "code", 
            "metadata": {}, 
            "outputs": [], 
            "source": ""
        }, 
        {
            "execution_count": null, 
            "cell_type": "code", 
            "metadata": {}, 
            "outputs": [], 
            "source": ""
        }, 
        {
            "execution_count": null, 
            "cell_type": "code", 
            "metadata": {}, 
            "outputs": [], 
            "source": ""
        }, 
        {
            "execution_count": null, 
            "cell_type": "code", 
            "metadata": {}, 
            "outputs": [], 
            "source": ""
        }, 
        {
            "execution_count": null, 
            "cell_type": "code", 
            "metadata": {}, 
            "outputs": [], 
            "source": ""
        }, 
        {
            "execution_count": null, 
            "cell_type": "code", 
            "metadata": {}, 
            "outputs": [], 
            "source": ""
        }, 
        {
            "execution_count": null, 
            "cell_type": "code", 
            "metadata": {}, 
            "outputs": [], 
            "source": ""
        }, 
        {
            "execution_count": null, 
            "cell_type": "code", 
            "metadata": {}, 
            "outputs": [], 
            "source": ""
        }, 
        {
            "execution_count": null, 
            "cell_type": "code", 
            "metadata": {}, 
            "outputs": [], 
            "source": ""
        }, 
        {
            "execution_count": null, 
            "cell_type": "code", 
            "metadata": {}, 
            "outputs": [], 
            "source": ""
        }, 
        {
            "execution_count": null, 
            "cell_type": "code", 
            "metadata": {}, 
            "outputs": [], 
            "source": ""
        }, 
        {
            "execution_count": null, 
            "cell_type": "code", 
            "metadata": {}, 
            "outputs": [], 
            "source": ""
        }, 
        {
            "execution_count": null, 
            "cell_type": "code", 
            "metadata": {}, 
            "outputs": [], 
            "source": ""
        }, 
        {
            "execution_count": null, 
            "cell_type": "code", 
            "metadata": {}, 
            "outputs": [], 
            "source": ""
        }, 
        {
            "execution_count": null, 
            "cell_type": "code", 
            "metadata": {}, 
            "outputs": [], 
            "source": ""
        }, 
        {
            "execution_count": null, 
            "cell_type": "code", 
            "metadata": {}, 
            "outputs": [], 
            "source": ""
        }, 
        {
            "execution_count": null, 
            "cell_type": "code", 
            "metadata": {}, 
            "outputs": [], 
            "source": ""
        }, 
        {
            "execution_count": null, 
            "cell_type": "code", 
            "metadata": {}, 
            "outputs": [], 
            "source": ""
        }, 
        {
            "execution_count": null, 
            "cell_type": "code", 
            "metadata": {}, 
            "outputs": [], 
            "source": ""
        }, 
        {
            "execution_count": null, 
            "cell_type": "code", 
            "metadata": {}, 
            "outputs": [], 
            "source": ""
        }, 
        {
            "execution_count": null, 
            "cell_type": "code", 
            "metadata": {}, 
            "outputs": [], 
            "source": ""
        }, 
        {
            "execution_count": null, 
            "cell_type": "code", 
            "metadata": {}, 
            "outputs": [], 
            "source": ""
        }, 
        {
            "execution_count": null, 
            "cell_type": "code", 
            "metadata": {}, 
            "outputs": [], 
            "source": ""
        }, 
        {
            "execution_count": null, 
            "cell_type": "code", 
            "metadata": {}, 
            "outputs": [], 
            "source": ""
        }, 
        {
            "execution_count": null, 
            "cell_type": "code", 
            "metadata": {}, 
            "outputs": [], 
            "source": ""
        }, 
        {
            "execution_count": null, 
            "cell_type": "code", 
            "metadata": {}, 
            "outputs": [], 
            "source": ""
        }, 
        {
            "execution_count": null, 
            "cell_type": "code", 
            "metadata": {}, 
            "outputs": [], 
            "source": ""
        }
    ], 
    "metadata": {
        "kernelspec": {
            "display_name": "Python 3.6", 
            "name": "python3", 
            "language": "python"
        }, 
        "language_info": {
            "mimetype": "text/x-python", 
            "nbconvert_exporter": "python", 
            "version": "3.6.8", 
            "name": "python", 
            "file_extension": ".py", 
            "pygments_lexer": "ipython3", 
            "codemirror_mode": {
                "version": 3, 
                "name": "ipython"
            }
        }
    }, 
    "nbformat": 4
}